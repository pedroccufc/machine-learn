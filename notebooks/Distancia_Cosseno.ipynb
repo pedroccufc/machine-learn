{
 "cells": [
  {
   "cell_type": "markdown",
   "metadata": {},
   "source": [
    "# Distância Cosseno\n",
    "\n",
    "- Referência: https://www.machinelearningplus.com/cosine-similarity/"
   ]
  },
  {
   "cell_type": "code",
   "execution_count": 18,
   "metadata": {},
   "outputs": [],
   "source": [
    "from sklearn.feature_extraction.text import CountVectorizer\n",
    "from sklearn.feature_extraction.text import TfidfVectorizer\n",
    "from sklearn.metrics.pairwise import cosine_distances, cosine_similarity"
   ]
  },
  {
   "cell_type": "code",
   "execution_count": 12,
   "metadata": {},
   "outputs": [
    {
     "data": {
      "text/plain": [
       "['I like football',\n",
       " 'John likes football',\n",
       " 'Mike likes basketball',\n",
       " 'My house is beautiful']"
      ]
     },
     "execution_count": 12,
     "metadata": {},
     "output_type": "execute_result"
    }
   ],
   "source": [
    "docs = [None] * 4\n",
    "docs[0] = 'I like football'\n",
    "docs[1] = 'John likes football'\n",
    "docs[2] = 'Mike likes basketball'\n",
    "docs[3] = 'My house is beautiful'\n",
    "docs"
   ]
  },
  {
   "cell_type": "markdown",
   "metadata": {},
   "source": [
    "# Vetorizador de contagem\n",
    "- Converta uma coleção de documentos de texto em uma matriz de contagens de tokens."
   ]
  },
  {
   "cell_type": "code",
   "execution_count": 13,
   "metadata": {},
   "outputs": [],
   "source": [
    "count_vectorizer = CountVectorizer(stop_words='english')\n",
    "sparse_matrix = count_vectorizer.fit_transform(docs)"
   ]
  },
  {
   "cell_type": "code",
   "execution_count": 14,
   "metadata": {},
   "outputs": [
    {
     "name": "stdout",
     "output_type": "stream",
     "text": [
      "['basketball', 'beautiful', 'football', 'house', 'john', 'like', 'likes', 'mike']\n"
     ]
    }
   ],
   "source": [
    "print(count_vectorizer.get_feature_names())"
   ]
  },
  {
   "cell_type": "code",
   "execution_count": 15,
   "metadata": {},
   "outputs": [
    {
     "data": {
      "text/plain": [
       "array([[0, 0, 1, 0, 0, 1, 0, 0],\n",
       "       [0, 0, 1, 0, 1, 0, 1, 0],\n",
       "       [1, 0, 0, 0, 0, 0, 1, 1],\n",
       "       [0, 1, 0, 1, 0, 0, 0, 0]], dtype=int64)"
      ]
     },
     "execution_count": 15,
     "metadata": {},
     "output_type": "execute_result"
    }
   ],
   "source": [
    "dense_matrix = sparse_matrix.toarray()\n",
    "dense_matrix"
   ]
  },
  {
   "cell_type": "markdown",
   "metadata": {},
   "source": [
    "# Distância Cosseno"
   ]
  },
  {
   "cell_type": "code",
   "execution_count": 17,
   "metadata": {},
   "outputs": [
    {
     "data": {
      "text/plain": [
       "array([[0.        , 0.59175171, 1.        , 1.        ],\n",
       "       [0.59175171, 0.        , 0.66666667, 1.        ],\n",
       "       [1.        , 0.66666667, 0.        , 1.        ],\n",
       "       [1.        , 1.        , 1.        , 0.        ]])"
      ]
     },
     "execution_count": 17,
     "metadata": {},
     "output_type": "execute_result"
    }
   ],
   "source": [
    "cosine_distances(dense_matrix, dense_matrix)"
   ]
  },
  {
   "cell_type": "markdown",
   "metadata": {},
   "source": [
    "# Similaridade Cosseno"
   ]
  },
  {
   "cell_type": "code",
   "execution_count": 19,
   "metadata": {},
   "outputs": [
    {
     "data": {
      "text/plain": [
       "array([[1.        , 0.40824829, 0.        , 0.        ],\n",
       "       [0.40824829, 1.        , 0.33333333, 0.        ],\n",
       "       [0.        , 0.33333333, 1.        , 0.        ],\n",
       "       [0.        , 0.        , 0.        , 1.        ]])"
      ]
     },
     "execution_count": 19,
     "metadata": {},
     "output_type": "execute_result"
    }
   ],
   "source": [
    "cosine_similarity(dense_matrix, dense_matrix)"
   ]
  },
  {
   "cell_type": "markdown",
   "metadata": {},
   "source": [
    "# TF-IDF - Frequência de Term / Freqüência de Documento Inverso\n",
    "- Converta uma coleção de documentos brutos em uma matriz de recursos do TF-IDF.\n",
    "- $ _{t, d, D} = _{t, d} \\times _{t, D} $\n",
    "- Onde t denota os termos; d denota cada documento; D denota a coleção de documentos.\n",
    "- $ _{t, D} = (1 + \\log_{t, d}) \\cdot \\log \\frac{\\vert D \\vert}{t} $"
   ]
  },
  {
   "cell_type": "code",
   "execution_count": 20,
   "metadata": {},
   "outputs": [],
   "source": [
    "tfidf_vectorizer = TfidfVectorizer(stop_words='english')\n",
    "tfidf_sparse_matrix = tfidf_vectorizer.fit_transform(docs)"
   ]
  },
  {
   "cell_type": "code",
   "execution_count": 21,
   "metadata": {},
   "outputs": [
    {
     "data": {
      "text/plain": [
       "(4, 8)"
      ]
     },
     "execution_count": 21,
     "metadata": {},
     "output_type": "execute_result"
    }
   ],
   "source": [
    "tfidf_sparse_matrix.shape"
   ]
  },
  {
   "cell_type": "code",
   "execution_count": 22,
   "metadata": {},
   "outputs": [
    {
     "name": "stdout",
     "output_type": "stream",
     "text": [
      "['basketball', 'beautiful', 'football', 'house', 'john', 'like', 'likes', 'mike']\n"
     ]
    }
   ],
   "source": [
    "print(count_vectorizer.get_feature_names())"
   ]
  },
  {
   "cell_type": "code",
   "execution_count": 24,
   "metadata": {},
   "outputs": [
    {
     "data": {
      "text/plain": [
       "array([[0.    , 0.    , 0.6191, 0.    , 0.    , 0.7853, 0.    , 0.    ],\n",
       "       [0.    , 0.    , 0.5264, 0.    , 0.6677, 0.    , 0.5264, 0.    ],\n",
       "       [0.6176, 0.    , 0.    , 0.    , 0.    , 0.    , 0.4869, 0.6176],\n",
       "       [0.    , 0.7071, 0.    , 0.7071, 0.    , 0.    , 0.    , 0.    ]])"
      ]
     },
     "execution_count": 24,
     "metadata": {},
     "output_type": "execute_result"
    }
   ],
   "source": [
    "tfidf_dense_matrix = tfidf_sparse_matrix.toarray()\n",
    "tfidf_dense_matrix.round(4)"
   ]
  },
  {
   "cell_type": "code",
   "execution_count": 25,
   "metadata": {},
   "outputs": [
    {
     "data": {
      "text/plain": [
       "array([[0.        , 0.67408645, 1.        , 1.        ],\n",
       "       [0.67408645, 0.        , 0.74367516, 1.        ],\n",
       "       [1.        , 0.74367516, 0.        , 1.        ],\n",
       "       [1.        , 1.        , 1.        , 0.        ]])"
      ]
     },
     "execution_count": 25,
     "metadata": {},
     "output_type": "execute_result"
    }
   ],
   "source": [
    "cosine_distances(tfidf_dense_matrix, tfidf_dense_matrix)"
   ]
  },
  {
   "cell_type": "code",
   "execution_count": null,
   "metadata": {},
   "outputs": [],
   "source": []
  }
 ],
 "metadata": {
  "kernelspec": {
   "display_name": "Python 3",
   "language": "python",
   "name": "python3"
  },
  "language_info": {
   "codemirror_mode": {
    "name": "ipython",
    "version": 3
   },
   "file_extension": ".py",
   "mimetype": "text/x-python",
   "name": "python",
   "nbconvert_exporter": "python",
   "pygments_lexer": "ipython3",
   "version": "3.7.3"
  }
 },
 "nbformat": 4,
 "nbformat_minor": 2
}
