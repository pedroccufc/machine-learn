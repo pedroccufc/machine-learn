{
 "cells": [
  {
   "cell_type": "code",
   "execution_count": 1,
   "metadata": {},
   "outputs": [],
   "source": [
    "import numpy as np\n",
    "import pandas as pd\n",
    "from sklearn.impute import SimpleImputer"
   ]
  },
  {
   "cell_type": "code",
   "execution_count": 2,
   "metadata": {},
   "outputs": [],
   "source": [
    "data = pd.read_csv('bank-additional-full.csv', sep=';', na_values=['nonexistent', 'unknown'])"
   ]
  },
  {
   "cell_type": "code",
   "execution_count": 3,
   "metadata": {},
   "outputs": [
    {
     "data": {
      "text/html": [
       "<div>\n",
       "<style scoped>\n",
       "    .dataframe tbody tr th:only-of-type {\n",
       "        vertical-align: middle;\n",
       "    }\n",
       "\n",
       "    .dataframe tbody tr th {\n",
       "        vertical-align: top;\n",
       "    }\n",
       "\n",
       "    .dataframe thead th {\n",
       "        text-align: right;\n",
       "    }\n",
       "</style>\n",
       "<table border=\"1\" class=\"dataframe\">\n",
       "  <thead>\n",
       "    <tr style=\"text-align: right;\">\n",
       "      <th></th>\n",
       "      <th>age</th>\n",
       "      <th>job</th>\n",
       "      <th>marital</th>\n",
       "      <th>education</th>\n",
       "      <th>default</th>\n",
       "      <th>housing</th>\n",
       "      <th>loan</th>\n",
       "      <th>contact</th>\n",
       "      <th>month</th>\n",
       "      <th>day_of_week</th>\n",
       "      <th>...</th>\n",
       "      <th>campaign</th>\n",
       "      <th>pdays</th>\n",
       "      <th>previous</th>\n",
       "      <th>poutcome</th>\n",
       "      <th>emp.var.rate</th>\n",
       "      <th>cons.price.idx</th>\n",
       "      <th>cons.conf.idx</th>\n",
       "      <th>euribor3m</th>\n",
       "      <th>nr.employed</th>\n",
       "      <th>y</th>\n",
       "    </tr>\n",
       "  </thead>\n",
       "  <tbody>\n",
       "    <tr>\n",
       "      <th>0</th>\n",
       "      <td>56</td>\n",
       "      <td>housemaid</td>\n",
       "      <td>married</td>\n",
       "      <td>basic.4y</td>\n",
       "      <td>no</td>\n",
       "      <td>no</td>\n",
       "      <td>no</td>\n",
       "      <td>telephone</td>\n",
       "      <td>may</td>\n",
       "      <td>mon</td>\n",
       "      <td>...</td>\n",
       "      <td>1</td>\n",
       "      <td>999</td>\n",
       "      <td>0</td>\n",
       "      <td>NaN</td>\n",
       "      <td>1.1</td>\n",
       "      <td>93.994</td>\n",
       "      <td>-36.4</td>\n",
       "      <td>4.857</td>\n",
       "      <td>5191.0</td>\n",
       "      <td>no</td>\n",
       "    </tr>\n",
       "    <tr>\n",
       "      <th>1</th>\n",
       "      <td>57</td>\n",
       "      <td>services</td>\n",
       "      <td>married</td>\n",
       "      <td>high.school</td>\n",
       "      <td>NaN</td>\n",
       "      <td>no</td>\n",
       "      <td>no</td>\n",
       "      <td>telephone</td>\n",
       "      <td>may</td>\n",
       "      <td>mon</td>\n",
       "      <td>...</td>\n",
       "      <td>1</td>\n",
       "      <td>999</td>\n",
       "      <td>0</td>\n",
       "      <td>NaN</td>\n",
       "      <td>1.1</td>\n",
       "      <td>93.994</td>\n",
       "      <td>-36.4</td>\n",
       "      <td>4.857</td>\n",
       "      <td>5191.0</td>\n",
       "      <td>no</td>\n",
       "    </tr>\n",
       "    <tr>\n",
       "      <th>2</th>\n",
       "      <td>37</td>\n",
       "      <td>services</td>\n",
       "      <td>married</td>\n",
       "      <td>high.school</td>\n",
       "      <td>no</td>\n",
       "      <td>yes</td>\n",
       "      <td>no</td>\n",
       "      <td>telephone</td>\n",
       "      <td>may</td>\n",
       "      <td>mon</td>\n",
       "      <td>...</td>\n",
       "      <td>1</td>\n",
       "      <td>999</td>\n",
       "      <td>0</td>\n",
       "      <td>NaN</td>\n",
       "      <td>1.1</td>\n",
       "      <td>93.994</td>\n",
       "      <td>-36.4</td>\n",
       "      <td>4.857</td>\n",
       "      <td>5191.0</td>\n",
       "      <td>no</td>\n",
       "    </tr>\n",
       "    <tr>\n",
       "      <th>3</th>\n",
       "      <td>40</td>\n",
       "      <td>admin.</td>\n",
       "      <td>married</td>\n",
       "      <td>basic.6y</td>\n",
       "      <td>no</td>\n",
       "      <td>no</td>\n",
       "      <td>no</td>\n",
       "      <td>telephone</td>\n",
       "      <td>may</td>\n",
       "      <td>mon</td>\n",
       "      <td>...</td>\n",
       "      <td>1</td>\n",
       "      <td>999</td>\n",
       "      <td>0</td>\n",
       "      <td>NaN</td>\n",
       "      <td>1.1</td>\n",
       "      <td>93.994</td>\n",
       "      <td>-36.4</td>\n",
       "      <td>4.857</td>\n",
       "      <td>5191.0</td>\n",
       "      <td>no</td>\n",
       "    </tr>\n",
       "    <tr>\n",
       "      <th>4</th>\n",
       "      <td>56</td>\n",
       "      <td>services</td>\n",
       "      <td>married</td>\n",
       "      <td>high.school</td>\n",
       "      <td>no</td>\n",
       "      <td>no</td>\n",
       "      <td>yes</td>\n",
       "      <td>telephone</td>\n",
       "      <td>may</td>\n",
       "      <td>mon</td>\n",
       "      <td>...</td>\n",
       "      <td>1</td>\n",
       "      <td>999</td>\n",
       "      <td>0</td>\n",
       "      <td>NaN</td>\n",
       "      <td>1.1</td>\n",
       "      <td>93.994</td>\n",
       "      <td>-36.4</td>\n",
       "      <td>4.857</td>\n",
       "      <td>5191.0</td>\n",
       "      <td>no</td>\n",
       "    </tr>\n",
       "  </tbody>\n",
       "</table>\n",
       "<p>5 rows × 21 columns</p>\n",
       "</div>"
      ],
      "text/plain": [
       "   age        job  marital    education default housing loan    contact month  \\\n",
       "0   56  housemaid  married     basic.4y      no      no   no  telephone   may   \n",
       "1   57   services  married  high.school     NaN      no   no  telephone   may   \n",
       "2   37   services  married  high.school      no     yes   no  telephone   may   \n",
       "3   40     admin.  married     basic.6y      no      no   no  telephone   may   \n",
       "4   56   services  married  high.school      no      no  yes  telephone   may   \n",
       "\n",
       "  day_of_week  ...  campaign  pdays  previous  poutcome emp.var.rate  \\\n",
       "0         mon  ...         1    999         0       NaN          1.1   \n",
       "1         mon  ...         1    999         0       NaN          1.1   \n",
       "2         mon  ...         1    999         0       NaN          1.1   \n",
       "3         mon  ...         1    999         0       NaN          1.1   \n",
       "4         mon  ...         1    999         0       NaN          1.1   \n",
       "\n",
       "   cons.price.idx  cons.conf.idx  euribor3m  nr.employed   y  \n",
       "0          93.994          -36.4      4.857       5191.0  no  \n",
       "1          93.994          -36.4      4.857       5191.0  no  \n",
       "2          93.994          -36.4      4.857       5191.0  no  \n",
       "3          93.994          -36.4      4.857       5191.0  no  \n",
       "4          93.994          -36.4      4.857       5191.0  no  \n",
       "\n",
       "[5 rows x 21 columns]"
      ]
     },
     "execution_count": 3,
     "metadata": {},
     "output_type": "execute_result"
    }
   ],
   "source": [
    "data.head()"
   ]
  },
  {
   "cell_type": "code",
   "execution_count": 4,
   "metadata": {},
   "outputs": [
    {
     "data": {
      "text/plain": [
       "(41188, 21)"
      ]
     },
     "execution_count": 4,
     "metadata": {},
     "output_type": "execute_result"
    }
   ],
   "source": [
    "data.shape"
   ]
  },
  {
   "cell_type": "code",
   "execution_count": 5,
   "metadata": {},
   "outputs": [
    {
     "name": "stdout",
     "output_type": "stream",
     "text": [
      "<class 'pandas.core.frame.DataFrame'>\n",
      "RangeIndex: 41188 entries, 0 to 41187\n",
      "Data columns (total 21 columns):\n",
      "age               41188 non-null int64\n",
      "job               40858 non-null object\n",
      "marital           41108 non-null object\n",
      "education         39457 non-null object\n",
      "default           32591 non-null object\n",
      "housing           40198 non-null object\n",
      "loan              40198 non-null object\n",
      "contact           41188 non-null object\n",
      "month             41188 non-null object\n",
      "day_of_week       41188 non-null object\n",
      "duration          41188 non-null int64\n",
      "campaign          41188 non-null int64\n",
      "pdays             41188 non-null int64\n",
      "previous          41188 non-null int64\n",
      "poutcome          5625 non-null object\n",
      "emp.var.rate      41188 non-null float64\n",
      "cons.price.idx    41188 non-null float64\n",
      "cons.conf.idx     41188 non-null float64\n",
      "euribor3m         41188 non-null float64\n",
      "nr.employed       41188 non-null float64\n",
      "y                 41188 non-null object\n",
      "dtypes: float64(5), int64(5), object(11)\n",
      "memory usage: 6.6+ MB\n"
     ]
    }
   ],
   "source": [
    "data.info()"
   ]
  },
  {
   "cell_type": "code",
   "execution_count": 6,
   "metadata": {},
   "outputs": [
    {
     "data": {
      "text/html": [
       "<div>\n",
       "<style scoped>\n",
       "    .dataframe tbody tr th:only-of-type {\n",
       "        vertical-align: middle;\n",
       "    }\n",
       "\n",
       "    .dataframe tbody tr th {\n",
       "        vertical-align: top;\n",
       "    }\n",
       "\n",
       "    .dataframe thead th {\n",
       "        text-align: right;\n",
       "    }\n",
       "</style>\n",
       "<table border=\"1\" class=\"dataframe\">\n",
       "  <thead>\n",
       "    <tr style=\"text-align: right;\">\n",
       "      <th></th>\n",
       "      <th>age</th>\n",
       "      <th>duration</th>\n",
       "      <th>campaign</th>\n",
       "      <th>pdays</th>\n",
       "      <th>previous</th>\n",
       "      <th>emp.var.rate</th>\n",
       "      <th>cons.price.idx</th>\n",
       "      <th>cons.conf.idx</th>\n",
       "      <th>euribor3m</th>\n",
       "      <th>nr.employed</th>\n",
       "    </tr>\n",
       "  </thead>\n",
       "  <tbody>\n",
       "    <tr>\n",
       "      <th>count</th>\n",
       "      <td>41188.00000</td>\n",
       "      <td>41188.000000</td>\n",
       "      <td>41188.000000</td>\n",
       "      <td>41188.000000</td>\n",
       "      <td>41188.000000</td>\n",
       "      <td>41188.000000</td>\n",
       "      <td>41188.000000</td>\n",
       "      <td>41188.000000</td>\n",
       "      <td>41188.000000</td>\n",
       "      <td>41188.000000</td>\n",
       "    </tr>\n",
       "    <tr>\n",
       "      <th>mean</th>\n",
       "      <td>40.02406</td>\n",
       "      <td>258.285010</td>\n",
       "      <td>2.567593</td>\n",
       "      <td>962.475454</td>\n",
       "      <td>0.172963</td>\n",
       "      <td>0.081886</td>\n",
       "      <td>93.575664</td>\n",
       "      <td>-40.502600</td>\n",
       "      <td>3.621291</td>\n",
       "      <td>5167.035911</td>\n",
       "    </tr>\n",
       "    <tr>\n",
       "      <th>std</th>\n",
       "      <td>10.42125</td>\n",
       "      <td>259.279249</td>\n",
       "      <td>2.770014</td>\n",
       "      <td>186.910907</td>\n",
       "      <td>0.494901</td>\n",
       "      <td>1.570960</td>\n",
       "      <td>0.578840</td>\n",
       "      <td>4.628198</td>\n",
       "      <td>1.734447</td>\n",
       "      <td>72.251528</td>\n",
       "    </tr>\n",
       "    <tr>\n",
       "      <th>min</th>\n",
       "      <td>17.00000</td>\n",
       "      <td>0.000000</td>\n",
       "      <td>1.000000</td>\n",
       "      <td>0.000000</td>\n",
       "      <td>0.000000</td>\n",
       "      <td>-3.400000</td>\n",
       "      <td>92.201000</td>\n",
       "      <td>-50.800000</td>\n",
       "      <td>0.634000</td>\n",
       "      <td>4963.600000</td>\n",
       "    </tr>\n",
       "    <tr>\n",
       "      <th>25%</th>\n",
       "      <td>32.00000</td>\n",
       "      <td>102.000000</td>\n",
       "      <td>1.000000</td>\n",
       "      <td>999.000000</td>\n",
       "      <td>0.000000</td>\n",
       "      <td>-1.800000</td>\n",
       "      <td>93.075000</td>\n",
       "      <td>-42.700000</td>\n",
       "      <td>1.344000</td>\n",
       "      <td>5099.100000</td>\n",
       "    </tr>\n",
       "    <tr>\n",
       "      <th>50%</th>\n",
       "      <td>38.00000</td>\n",
       "      <td>180.000000</td>\n",
       "      <td>2.000000</td>\n",
       "      <td>999.000000</td>\n",
       "      <td>0.000000</td>\n",
       "      <td>1.100000</td>\n",
       "      <td>93.749000</td>\n",
       "      <td>-41.800000</td>\n",
       "      <td>4.857000</td>\n",
       "      <td>5191.000000</td>\n",
       "    </tr>\n",
       "    <tr>\n",
       "      <th>75%</th>\n",
       "      <td>47.00000</td>\n",
       "      <td>319.000000</td>\n",
       "      <td>3.000000</td>\n",
       "      <td>999.000000</td>\n",
       "      <td>0.000000</td>\n",
       "      <td>1.400000</td>\n",
       "      <td>93.994000</td>\n",
       "      <td>-36.400000</td>\n",
       "      <td>4.961000</td>\n",
       "      <td>5228.100000</td>\n",
       "    </tr>\n",
       "    <tr>\n",
       "      <th>max</th>\n",
       "      <td>98.00000</td>\n",
       "      <td>4918.000000</td>\n",
       "      <td>56.000000</td>\n",
       "      <td>999.000000</td>\n",
       "      <td>7.000000</td>\n",
       "      <td>1.400000</td>\n",
       "      <td>94.767000</td>\n",
       "      <td>-26.900000</td>\n",
       "      <td>5.045000</td>\n",
       "      <td>5228.100000</td>\n",
       "    </tr>\n",
       "  </tbody>\n",
       "</table>\n",
       "</div>"
      ],
      "text/plain": [
       "               age      duration      campaign         pdays      previous  \\\n",
       "count  41188.00000  41188.000000  41188.000000  41188.000000  41188.000000   \n",
       "mean      40.02406    258.285010      2.567593    962.475454      0.172963   \n",
       "std       10.42125    259.279249      2.770014    186.910907      0.494901   \n",
       "min       17.00000      0.000000      1.000000      0.000000      0.000000   \n",
       "25%       32.00000    102.000000      1.000000    999.000000      0.000000   \n",
       "50%       38.00000    180.000000      2.000000    999.000000      0.000000   \n",
       "75%       47.00000    319.000000      3.000000    999.000000      0.000000   \n",
       "max       98.00000   4918.000000     56.000000    999.000000      7.000000   \n",
       "\n",
       "       emp.var.rate  cons.price.idx  cons.conf.idx     euribor3m   nr.employed  \n",
       "count  41188.000000    41188.000000   41188.000000  41188.000000  41188.000000  \n",
       "mean       0.081886       93.575664     -40.502600      3.621291   5167.035911  \n",
       "std        1.570960        0.578840       4.628198      1.734447     72.251528  \n",
       "min       -3.400000       92.201000     -50.800000      0.634000   4963.600000  \n",
       "25%       -1.800000       93.075000     -42.700000      1.344000   5099.100000  \n",
       "50%        1.100000       93.749000     -41.800000      4.857000   5191.000000  \n",
       "75%        1.400000       93.994000     -36.400000      4.961000   5228.100000  \n",
       "max        1.400000       94.767000     -26.900000      5.045000   5228.100000  "
      ]
     },
     "execution_count": 6,
     "metadata": {},
     "output_type": "execute_result"
    }
   ],
   "source": [
    "data.describe()"
   ]
  },
  {
   "cell_type": "markdown",
   "metadata": {},
   "source": [
    "# Idades"
   ]
  },
  {
   "cell_type": "code",
   "execution_count": 7,
   "metadata": {},
   "outputs": [
    {
     "data": {
      "text/plain": [
       "array([56, 57, 37, 40, 45, 59, 41, 24, 25, 29, 35, 54, 46, 50, 39, 30, 55,\n",
       "       49, 34, 52, 58, 32, 38, 44, 42, 60, 53, 47, 51, 48, 33, 31, 43, 36,\n",
       "       28, 27, 26, 22, 23, 20, 21, 61, 19, 18, 70, 66, 76, 67, 73, 88, 95,\n",
       "       77, 68, 75, 63, 80, 62, 65, 72, 82, 64, 71, 69, 78, 85, 79, 83, 81,\n",
       "       74, 17, 87, 91, 86, 98, 94, 84, 92, 89])"
      ]
     },
     "execution_count": 7,
     "metadata": {},
     "output_type": "execute_result"
    }
   ],
   "source": [
    "data['age'].unique()"
   ]
  },
  {
   "cell_type": "markdown",
   "metadata": {},
   "source": [
    "- Qtd de cada instância"
   ]
  },
  {
   "cell_type": "code",
   "execution_count": 8,
   "metadata": {},
   "outputs": [
    {
     "data": {
      "text/plain": [
       "31    1947\n",
       "32    1846\n",
       "33    1833\n",
       "36    1780\n",
       "35    1759\n",
       "34    1745\n",
       "30    1714\n",
       "37    1475\n",
       "29    1453\n",
       "39    1432\n",
       "38    1407\n",
       "41    1278\n",
       "40    1161\n",
       "42    1142\n",
       "45    1103\n",
       "43    1055\n",
       "46    1030\n",
       "44    1011\n",
       "28    1001\n",
       "48     979\n",
       "47     928\n",
       "50     875\n",
       "27     851\n",
       "49     839\n",
       "52     779\n",
       "51     754\n",
       "53     733\n",
       "56     704\n",
       "26     698\n",
       "54     684\n",
       "      ... \n",
       "65      44\n",
       "19      42\n",
       "76      34\n",
       "69      34\n",
       "72      34\n",
       "73      34\n",
       "68      33\n",
       "74      32\n",
       "80      31\n",
       "18      28\n",
       "78      27\n",
       "67      26\n",
       "75      24\n",
       "88      22\n",
       "77      20\n",
       "81      20\n",
       "82      17\n",
       "83      17\n",
       "85      15\n",
       "79      14\n",
       "86       8\n",
       "84       7\n",
       "17       5\n",
       "92       4\n",
       "98       2\n",
       "89       2\n",
       "91       2\n",
       "87       1\n",
       "94       1\n",
       "95       1\n",
       "Name: age, Length: 78, dtype: int64"
      ]
     },
     "execution_count": 8,
     "metadata": {},
     "output_type": "execute_result"
    }
   ],
   "source": [
    "data['age'].value_counts()"
   ]
  },
  {
   "cell_type": "markdown",
   "metadata": {},
   "source": [
    "- Verificando valores faltantes"
   ]
  },
  {
   "cell_type": "code",
   "execution_count": 9,
   "metadata": {},
   "outputs": [
    {
     "data": {
      "text/plain": [
       "0"
      ]
     },
     "execution_count": 9,
     "metadata": {},
     "output_type": "execute_result"
    }
   ],
   "source": [
    "data['age'].isna().sum()"
   ]
  },
  {
   "cell_type": "markdown",
   "metadata": {},
   "source": [
    "# Cargo de Trabalho"
   ]
  },
  {
   "cell_type": "code",
   "execution_count": 10,
   "metadata": {},
   "outputs": [
    {
     "data": {
      "text/plain": [
       "array(['housemaid', 'services', 'admin.', 'blue-collar', 'technician',\n",
       "       'retired', 'management', 'unemployed', 'self-employed', nan,\n",
       "       'entrepreneur', 'student'], dtype=object)"
      ]
     },
     "execution_count": 10,
     "metadata": {},
     "output_type": "execute_result"
    }
   ],
   "source": [
    "data['job'].unique()"
   ]
  },
  {
   "cell_type": "markdown",
   "metadata": {},
   "source": [
    "- Qtd de cada instância"
   ]
  },
  {
   "cell_type": "code",
   "execution_count": 11,
   "metadata": {},
   "outputs": [
    {
     "data": {
      "text/plain": [
       "admin.           10422\n",
       "blue-collar       9254\n",
       "technician        6743\n",
       "services          3969\n",
       "management        2924\n",
       "retired           1720\n",
       "entrepreneur      1456\n",
       "self-employed     1421\n",
       "housemaid         1060\n",
       "unemployed        1014\n",
       "student            875\n",
       "Name: job, dtype: int64"
      ]
     },
     "execution_count": 11,
     "metadata": {},
     "output_type": "execute_result"
    }
   ],
   "source": [
    "data['job'].value_counts()"
   ]
  },
  {
   "cell_type": "markdown",
   "metadata": {},
   "source": [
    "- Verificando valores nulos"
   ]
  },
  {
   "cell_type": "code",
   "execution_count": 12,
   "metadata": {},
   "outputs": [
    {
     "data": {
      "text/plain": [
       "330"
      ]
     },
     "execution_count": 12,
     "metadata": {},
     "output_type": "execute_result"
    }
   ],
   "source": [
    "data['job'].isna().sum()"
   ]
  },
  {
   "cell_type": "code",
   "execution_count": 13,
   "metadata": {},
   "outputs": [],
   "source": [
    "job_map = {'student':1, 'unemployed':2, 'housemaid':3, 'self-employed':4, 'entrepreneur':5, \n",
    "           'retired':6, 'management':7, 'services':8, 'technician':9, 'blue-collar':10, 'admin.':11}"
   ]
  },
  {
   "cell_type": "code",
   "execution_count": 14,
   "metadata": {},
   "outputs": [],
   "source": [
    "data['job'] = data['job'].map(job_map)"
   ]
  },
  {
   "cell_type": "code",
   "execution_count": 15,
   "metadata": {},
   "outputs": [
    {
     "data": {
      "text/html": [
       "<div>\n",
       "<style scoped>\n",
       "    .dataframe tbody tr th:only-of-type {\n",
       "        vertical-align: middle;\n",
       "    }\n",
       "\n",
       "    .dataframe tbody tr th {\n",
       "        vertical-align: top;\n",
       "    }\n",
       "\n",
       "    .dataframe thead th {\n",
       "        text-align: right;\n",
       "    }\n",
       "</style>\n",
       "<table border=\"1\" class=\"dataframe\">\n",
       "  <thead>\n",
       "    <tr style=\"text-align: right;\">\n",
       "      <th></th>\n",
       "      <th>age</th>\n",
       "      <th>job</th>\n",
       "      <th>marital</th>\n",
       "      <th>education</th>\n",
       "      <th>default</th>\n",
       "      <th>housing</th>\n",
       "      <th>loan</th>\n",
       "      <th>contact</th>\n",
       "      <th>month</th>\n",
       "      <th>day_of_week</th>\n",
       "      <th>...</th>\n",
       "      <th>campaign</th>\n",
       "      <th>pdays</th>\n",
       "      <th>previous</th>\n",
       "      <th>poutcome</th>\n",
       "      <th>emp.var.rate</th>\n",
       "      <th>cons.price.idx</th>\n",
       "      <th>cons.conf.idx</th>\n",
       "      <th>euribor3m</th>\n",
       "      <th>nr.employed</th>\n",
       "      <th>y</th>\n",
       "    </tr>\n",
       "  </thead>\n",
       "  <tbody>\n",
       "    <tr>\n",
       "      <th>0</th>\n",
       "      <td>56</td>\n",
       "      <td>3.0</td>\n",
       "      <td>married</td>\n",
       "      <td>basic.4y</td>\n",
       "      <td>no</td>\n",
       "      <td>no</td>\n",
       "      <td>no</td>\n",
       "      <td>telephone</td>\n",
       "      <td>may</td>\n",
       "      <td>mon</td>\n",
       "      <td>...</td>\n",
       "      <td>1</td>\n",
       "      <td>999</td>\n",
       "      <td>0</td>\n",
       "      <td>NaN</td>\n",
       "      <td>1.1</td>\n",
       "      <td>93.994</td>\n",
       "      <td>-36.4</td>\n",
       "      <td>4.857</td>\n",
       "      <td>5191.0</td>\n",
       "      <td>no</td>\n",
       "    </tr>\n",
       "    <tr>\n",
       "      <th>1</th>\n",
       "      <td>57</td>\n",
       "      <td>8.0</td>\n",
       "      <td>married</td>\n",
       "      <td>high.school</td>\n",
       "      <td>NaN</td>\n",
       "      <td>no</td>\n",
       "      <td>no</td>\n",
       "      <td>telephone</td>\n",
       "      <td>may</td>\n",
       "      <td>mon</td>\n",
       "      <td>...</td>\n",
       "      <td>1</td>\n",
       "      <td>999</td>\n",
       "      <td>0</td>\n",
       "      <td>NaN</td>\n",
       "      <td>1.1</td>\n",
       "      <td>93.994</td>\n",
       "      <td>-36.4</td>\n",
       "      <td>4.857</td>\n",
       "      <td>5191.0</td>\n",
       "      <td>no</td>\n",
       "    </tr>\n",
       "    <tr>\n",
       "      <th>2</th>\n",
       "      <td>37</td>\n",
       "      <td>8.0</td>\n",
       "      <td>married</td>\n",
       "      <td>high.school</td>\n",
       "      <td>no</td>\n",
       "      <td>yes</td>\n",
       "      <td>no</td>\n",
       "      <td>telephone</td>\n",
       "      <td>may</td>\n",
       "      <td>mon</td>\n",
       "      <td>...</td>\n",
       "      <td>1</td>\n",
       "      <td>999</td>\n",
       "      <td>0</td>\n",
       "      <td>NaN</td>\n",
       "      <td>1.1</td>\n",
       "      <td>93.994</td>\n",
       "      <td>-36.4</td>\n",
       "      <td>4.857</td>\n",
       "      <td>5191.0</td>\n",
       "      <td>no</td>\n",
       "    </tr>\n",
       "    <tr>\n",
       "      <th>3</th>\n",
       "      <td>40</td>\n",
       "      <td>11.0</td>\n",
       "      <td>married</td>\n",
       "      <td>basic.6y</td>\n",
       "      <td>no</td>\n",
       "      <td>no</td>\n",
       "      <td>no</td>\n",
       "      <td>telephone</td>\n",
       "      <td>may</td>\n",
       "      <td>mon</td>\n",
       "      <td>...</td>\n",
       "      <td>1</td>\n",
       "      <td>999</td>\n",
       "      <td>0</td>\n",
       "      <td>NaN</td>\n",
       "      <td>1.1</td>\n",
       "      <td>93.994</td>\n",
       "      <td>-36.4</td>\n",
       "      <td>4.857</td>\n",
       "      <td>5191.0</td>\n",
       "      <td>no</td>\n",
       "    </tr>\n",
       "    <tr>\n",
       "      <th>4</th>\n",
       "      <td>56</td>\n",
       "      <td>8.0</td>\n",
       "      <td>married</td>\n",
       "      <td>high.school</td>\n",
       "      <td>no</td>\n",
       "      <td>no</td>\n",
       "      <td>yes</td>\n",
       "      <td>telephone</td>\n",
       "      <td>may</td>\n",
       "      <td>mon</td>\n",
       "      <td>...</td>\n",
       "      <td>1</td>\n",
       "      <td>999</td>\n",
       "      <td>0</td>\n",
       "      <td>NaN</td>\n",
       "      <td>1.1</td>\n",
       "      <td>93.994</td>\n",
       "      <td>-36.4</td>\n",
       "      <td>4.857</td>\n",
       "      <td>5191.0</td>\n",
       "      <td>no</td>\n",
       "    </tr>\n",
       "  </tbody>\n",
       "</table>\n",
       "<p>5 rows × 21 columns</p>\n",
       "</div>"
      ],
      "text/plain": [
       "   age   job  marital    education default housing loan    contact month  \\\n",
       "0   56   3.0  married     basic.4y      no      no   no  telephone   may   \n",
       "1   57   8.0  married  high.school     NaN      no   no  telephone   may   \n",
       "2   37   8.0  married  high.school      no     yes   no  telephone   may   \n",
       "3   40  11.0  married     basic.6y      no      no   no  telephone   may   \n",
       "4   56   8.0  married  high.school      no      no  yes  telephone   may   \n",
       "\n",
       "  day_of_week  ...  campaign  pdays  previous  poutcome emp.var.rate  \\\n",
       "0         mon  ...         1    999         0       NaN          1.1   \n",
       "1         mon  ...         1    999         0       NaN          1.1   \n",
       "2         mon  ...         1    999         0       NaN          1.1   \n",
       "3         mon  ...         1    999         0       NaN          1.1   \n",
       "4         mon  ...         1    999         0       NaN          1.1   \n",
       "\n",
       "   cons.price.idx  cons.conf.idx  euribor3m  nr.employed   y  \n",
       "0          93.994          -36.4      4.857       5191.0  no  \n",
       "1          93.994          -36.4      4.857       5191.0  no  \n",
       "2          93.994          -36.4      4.857       5191.0  no  \n",
       "3          93.994          -36.4      4.857       5191.0  no  \n",
       "4          93.994          -36.4      4.857       5191.0  no  \n",
       "\n",
       "[5 rows x 21 columns]"
      ]
     },
     "execution_count": 15,
     "metadata": {},
     "output_type": "execute_result"
    }
   ],
   "source": [
    "data.head()"
   ]
  },
  {
   "cell_type": "code",
   "execution_count": 16,
   "metadata": {},
   "outputs": [
    {
     "data": {
      "text/plain": [
       "330"
      ]
     },
     "execution_count": 16,
     "metadata": {},
     "output_type": "execute_result"
    }
   ],
   "source": [
    "data['job'].isna().sum()"
   ]
  },
  {
   "cell_type": "markdown",
   "metadata": {},
   "source": [
    "# Estado Civil"
   ]
  },
  {
   "cell_type": "code",
   "execution_count": 17,
   "metadata": {},
   "outputs": [
    {
     "data": {
      "text/plain": [
       "array(['married', 'single', 'divorced', nan], dtype=object)"
      ]
     },
     "execution_count": 17,
     "metadata": {},
     "output_type": "execute_result"
    }
   ],
   "source": [
    "data['marital'].unique()"
   ]
  },
  {
   "cell_type": "markdown",
   "metadata": {},
   "source": [
    "- Qtd de cada instância"
   ]
  },
  {
   "cell_type": "code",
   "execution_count": 18,
   "metadata": {},
   "outputs": [
    {
     "data": {
      "text/plain": [
       "married     24928\n",
       "single      11568\n",
       "divorced     4612\n",
       "Name: marital, dtype: int64"
      ]
     },
     "execution_count": 18,
     "metadata": {},
     "output_type": "execute_result"
    }
   ],
   "source": [
    "data['marital'].value_counts()"
   ]
  },
  {
   "cell_type": "markdown",
   "metadata": {},
   "source": [
    "- Verificando valores nulos"
   ]
  },
  {
   "cell_type": "code",
   "execution_count": 19,
   "metadata": {},
   "outputs": [
    {
     "data": {
      "text/plain": [
       "80"
      ]
     },
     "execution_count": 19,
     "metadata": {},
     "output_type": "execute_result"
    }
   ],
   "source": [
    "data['marital'].isna().sum()"
   ]
  },
  {
   "cell_type": "code",
   "execution_count": 20,
   "metadata": {},
   "outputs": [],
   "source": [
    "marital_map = {'married':3, 'single':2, 'divorced':1}"
   ]
  },
  {
   "cell_type": "code",
   "execution_count": 21,
   "metadata": {},
   "outputs": [],
   "source": [
    "data['marital'] = data['marital'].map(marital_map)"
   ]
  },
  {
   "cell_type": "code",
   "execution_count": 22,
   "metadata": {},
   "outputs": [
    {
     "data": {
      "text/html": [
       "<div>\n",
       "<style scoped>\n",
       "    .dataframe tbody tr th:only-of-type {\n",
       "        vertical-align: middle;\n",
       "    }\n",
       "\n",
       "    .dataframe tbody tr th {\n",
       "        vertical-align: top;\n",
       "    }\n",
       "\n",
       "    .dataframe thead th {\n",
       "        text-align: right;\n",
       "    }\n",
       "</style>\n",
       "<table border=\"1\" class=\"dataframe\">\n",
       "  <thead>\n",
       "    <tr style=\"text-align: right;\">\n",
       "      <th></th>\n",
       "      <th>age</th>\n",
       "      <th>job</th>\n",
       "      <th>marital</th>\n",
       "      <th>education</th>\n",
       "      <th>default</th>\n",
       "      <th>housing</th>\n",
       "      <th>loan</th>\n",
       "      <th>contact</th>\n",
       "      <th>month</th>\n",
       "      <th>day_of_week</th>\n",
       "      <th>...</th>\n",
       "      <th>campaign</th>\n",
       "      <th>pdays</th>\n",
       "      <th>previous</th>\n",
       "      <th>poutcome</th>\n",
       "      <th>emp.var.rate</th>\n",
       "      <th>cons.price.idx</th>\n",
       "      <th>cons.conf.idx</th>\n",
       "      <th>euribor3m</th>\n",
       "      <th>nr.employed</th>\n",
       "      <th>y</th>\n",
       "    </tr>\n",
       "  </thead>\n",
       "  <tbody>\n",
       "    <tr>\n",
       "      <th>0</th>\n",
       "      <td>56</td>\n",
       "      <td>3.0</td>\n",
       "      <td>3.0</td>\n",
       "      <td>basic.4y</td>\n",
       "      <td>no</td>\n",
       "      <td>no</td>\n",
       "      <td>no</td>\n",
       "      <td>telephone</td>\n",
       "      <td>may</td>\n",
       "      <td>mon</td>\n",
       "      <td>...</td>\n",
       "      <td>1</td>\n",
       "      <td>999</td>\n",
       "      <td>0</td>\n",
       "      <td>NaN</td>\n",
       "      <td>1.1</td>\n",
       "      <td>93.994</td>\n",
       "      <td>-36.4</td>\n",
       "      <td>4.857</td>\n",
       "      <td>5191.0</td>\n",
       "      <td>no</td>\n",
       "    </tr>\n",
       "    <tr>\n",
       "      <th>1</th>\n",
       "      <td>57</td>\n",
       "      <td>8.0</td>\n",
       "      <td>3.0</td>\n",
       "      <td>high.school</td>\n",
       "      <td>NaN</td>\n",
       "      <td>no</td>\n",
       "      <td>no</td>\n",
       "      <td>telephone</td>\n",
       "      <td>may</td>\n",
       "      <td>mon</td>\n",
       "      <td>...</td>\n",
       "      <td>1</td>\n",
       "      <td>999</td>\n",
       "      <td>0</td>\n",
       "      <td>NaN</td>\n",
       "      <td>1.1</td>\n",
       "      <td>93.994</td>\n",
       "      <td>-36.4</td>\n",
       "      <td>4.857</td>\n",
       "      <td>5191.0</td>\n",
       "      <td>no</td>\n",
       "    </tr>\n",
       "    <tr>\n",
       "      <th>2</th>\n",
       "      <td>37</td>\n",
       "      <td>8.0</td>\n",
       "      <td>3.0</td>\n",
       "      <td>high.school</td>\n",
       "      <td>no</td>\n",
       "      <td>yes</td>\n",
       "      <td>no</td>\n",
       "      <td>telephone</td>\n",
       "      <td>may</td>\n",
       "      <td>mon</td>\n",
       "      <td>...</td>\n",
       "      <td>1</td>\n",
       "      <td>999</td>\n",
       "      <td>0</td>\n",
       "      <td>NaN</td>\n",
       "      <td>1.1</td>\n",
       "      <td>93.994</td>\n",
       "      <td>-36.4</td>\n",
       "      <td>4.857</td>\n",
       "      <td>5191.0</td>\n",
       "      <td>no</td>\n",
       "    </tr>\n",
       "    <tr>\n",
       "      <th>3</th>\n",
       "      <td>40</td>\n",
       "      <td>11.0</td>\n",
       "      <td>3.0</td>\n",
       "      <td>basic.6y</td>\n",
       "      <td>no</td>\n",
       "      <td>no</td>\n",
       "      <td>no</td>\n",
       "      <td>telephone</td>\n",
       "      <td>may</td>\n",
       "      <td>mon</td>\n",
       "      <td>...</td>\n",
       "      <td>1</td>\n",
       "      <td>999</td>\n",
       "      <td>0</td>\n",
       "      <td>NaN</td>\n",
       "      <td>1.1</td>\n",
       "      <td>93.994</td>\n",
       "      <td>-36.4</td>\n",
       "      <td>4.857</td>\n",
       "      <td>5191.0</td>\n",
       "      <td>no</td>\n",
       "    </tr>\n",
       "    <tr>\n",
       "      <th>4</th>\n",
       "      <td>56</td>\n",
       "      <td>8.0</td>\n",
       "      <td>3.0</td>\n",
       "      <td>high.school</td>\n",
       "      <td>no</td>\n",
       "      <td>no</td>\n",
       "      <td>yes</td>\n",
       "      <td>telephone</td>\n",
       "      <td>may</td>\n",
       "      <td>mon</td>\n",
       "      <td>...</td>\n",
       "      <td>1</td>\n",
       "      <td>999</td>\n",
       "      <td>0</td>\n",
       "      <td>NaN</td>\n",
       "      <td>1.1</td>\n",
       "      <td>93.994</td>\n",
       "      <td>-36.4</td>\n",
       "      <td>4.857</td>\n",
       "      <td>5191.0</td>\n",
       "      <td>no</td>\n",
       "    </tr>\n",
       "  </tbody>\n",
       "</table>\n",
       "<p>5 rows × 21 columns</p>\n",
       "</div>"
      ],
      "text/plain": [
       "   age   job  marital    education default housing loan    contact month  \\\n",
       "0   56   3.0      3.0     basic.4y      no      no   no  telephone   may   \n",
       "1   57   8.0      3.0  high.school     NaN      no   no  telephone   may   \n",
       "2   37   8.0      3.0  high.school      no     yes   no  telephone   may   \n",
       "3   40  11.0      3.0     basic.6y      no      no   no  telephone   may   \n",
       "4   56   8.0      3.0  high.school      no      no  yes  telephone   may   \n",
       "\n",
       "  day_of_week  ...  campaign  pdays  previous  poutcome emp.var.rate  \\\n",
       "0         mon  ...         1    999         0       NaN          1.1   \n",
       "1         mon  ...         1    999         0       NaN          1.1   \n",
       "2         mon  ...         1    999         0       NaN          1.1   \n",
       "3         mon  ...         1    999         0       NaN          1.1   \n",
       "4         mon  ...         1    999         0       NaN          1.1   \n",
       "\n",
       "   cons.price.idx  cons.conf.idx  euribor3m  nr.employed   y  \n",
       "0          93.994          -36.4      4.857       5191.0  no  \n",
       "1          93.994          -36.4      4.857       5191.0  no  \n",
       "2          93.994          -36.4      4.857       5191.0  no  \n",
       "3          93.994          -36.4      4.857       5191.0  no  \n",
       "4          93.994          -36.4      4.857       5191.0  no  \n",
       "\n",
       "[5 rows x 21 columns]"
      ]
     },
     "execution_count": 22,
     "metadata": {},
     "output_type": "execute_result"
    }
   ],
   "source": [
    "data.head()"
   ]
  },
  {
   "cell_type": "code",
   "execution_count": 23,
   "metadata": {},
   "outputs": [
    {
     "data": {
      "text/plain": [
       "80"
      ]
     },
     "execution_count": 23,
     "metadata": {},
     "output_type": "execute_result"
    }
   ],
   "source": [
    "data['marital'].isna().sum()"
   ]
  },
  {
   "cell_type": "markdown",
   "metadata": {},
   "source": [
    "# Escolaridade"
   ]
  },
  {
   "cell_type": "code",
   "execution_count": 24,
   "metadata": {},
   "outputs": [
    {
     "data": {
      "text/plain": [
       "array(['basic.4y', 'high.school', 'basic.6y', 'basic.9y',\n",
       "       'professional.course', nan, 'university.degree', 'illiterate'],\n",
       "      dtype=object)"
      ]
     },
     "execution_count": 24,
     "metadata": {},
     "output_type": "execute_result"
    }
   ],
   "source": [
    "data['education'].unique()"
   ]
  },
  {
   "cell_type": "markdown",
   "metadata": {},
   "source": [
    "- Qtd de cada instâcia"
   ]
  },
  {
   "cell_type": "code",
   "execution_count": 25,
   "metadata": {},
   "outputs": [
    {
     "data": {
      "text/plain": [
       "university.degree      12168\n",
       "high.school             9515\n",
       "basic.9y                6045\n",
       "professional.course     5243\n",
       "basic.4y                4176\n",
       "basic.6y                2292\n",
       "illiterate                18\n",
       "Name: education, dtype: int64"
      ]
     },
     "execution_count": 25,
     "metadata": {},
     "output_type": "execute_result"
    }
   ],
   "source": [
    "data['education'].value_counts()"
   ]
  },
  {
   "cell_type": "markdown",
   "metadata": {},
   "source": [
    "- Verificando valores nulos"
   ]
  },
  {
   "cell_type": "code",
   "execution_count": 26,
   "metadata": {},
   "outputs": [
    {
     "data": {
      "text/plain": [
       "1731"
      ]
     },
     "execution_count": 26,
     "metadata": {},
     "output_type": "execute_result"
    }
   ],
   "source": [
    "data['education'].isna().sum()"
   ]
  },
  {
   "cell_type": "markdown",
   "metadata": {},
   "source": [
    "- Transformando os valores de analfabeto em graduado"
   ]
  },
  {
   "cell_type": "code",
   "execution_count": 27,
   "metadata": {},
   "outputs": [
    {
     "data": {
      "text/plain": [
       "university.degree      12186\n",
       "high.school             9515\n",
       "basic.9y                6045\n",
       "professional.course     5243\n",
       "basic.4y                4176\n",
       "basic.6y                2292\n",
       "Name: education, dtype: int64"
      ]
     },
     "execution_count": 27,
     "metadata": {},
     "output_type": "execute_result"
    }
   ],
   "source": [
    "data['education'].replace('illiterate', 'university.degree', inplace=True)\n",
    "data['education'].value_counts()"
   ]
  },
  {
   "cell_type": "code",
   "execution_count": 28,
   "metadata": {},
   "outputs": [],
   "source": [
    "education_map = {'basic.4y':1, 'basic.6y':2, 'basic.9y':3, 'high.school':4, \n",
    "                 'professional.course':5, 'university.degree':6}"
   ]
  },
  {
   "cell_type": "code",
   "execution_count": 29,
   "metadata": {},
   "outputs": [],
   "source": [
    "data['education'] = data['education'].map(education_map)"
   ]
  },
  {
   "cell_type": "code",
   "execution_count": 30,
   "metadata": {},
   "outputs": [
    {
     "data": {
      "text/html": [
       "<div>\n",
       "<style scoped>\n",
       "    .dataframe tbody tr th:only-of-type {\n",
       "        vertical-align: middle;\n",
       "    }\n",
       "\n",
       "    .dataframe tbody tr th {\n",
       "        vertical-align: top;\n",
       "    }\n",
       "\n",
       "    .dataframe thead th {\n",
       "        text-align: right;\n",
       "    }\n",
       "</style>\n",
       "<table border=\"1\" class=\"dataframe\">\n",
       "  <thead>\n",
       "    <tr style=\"text-align: right;\">\n",
       "      <th></th>\n",
       "      <th>age</th>\n",
       "      <th>job</th>\n",
       "      <th>marital</th>\n",
       "      <th>education</th>\n",
       "      <th>default</th>\n",
       "      <th>housing</th>\n",
       "      <th>loan</th>\n",
       "      <th>contact</th>\n",
       "      <th>month</th>\n",
       "      <th>day_of_week</th>\n",
       "      <th>...</th>\n",
       "      <th>campaign</th>\n",
       "      <th>pdays</th>\n",
       "      <th>previous</th>\n",
       "      <th>poutcome</th>\n",
       "      <th>emp.var.rate</th>\n",
       "      <th>cons.price.idx</th>\n",
       "      <th>cons.conf.idx</th>\n",
       "      <th>euribor3m</th>\n",
       "      <th>nr.employed</th>\n",
       "      <th>y</th>\n",
       "    </tr>\n",
       "  </thead>\n",
       "  <tbody>\n",
       "    <tr>\n",
       "      <th>0</th>\n",
       "      <td>56</td>\n",
       "      <td>3.0</td>\n",
       "      <td>3.0</td>\n",
       "      <td>1.0</td>\n",
       "      <td>no</td>\n",
       "      <td>no</td>\n",
       "      <td>no</td>\n",
       "      <td>telephone</td>\n",
       "      <td>may</td>\n",
       "      <td>mon</td>\n",
       "      <td>...</td>\n",
       "      <td>1</td>\n",
       "      <td>999</td>\n",
       "      <td>0</td>\n",
       "      <td>NaN</td>\n",
       "      <td>1.1</td>\n",
       "      <td>93.994</td>\n",
       "      <td>-36.4</td>\n",
       "      <td>4.857</td>\n",
       "      <td>5191.0</td>\n",
       "      <td>no</td>\n",
       "    </tr>\n",
       "    <tr>\n",
       "      <th>1</th>\n",
       "      <td>57</td>\n",
       "      <td>8.0</td>\n",
       "      <td>3.0</td>\n",
       "      <td>4.0</td>\n",
       "      <td>NaN</td>\n",
       "      <td>no</td>\n",
       "      <td>no</td>\n",
       "      <td>telephone</td>\n",
       "      <td>may</td>\n",
       "      <td>mon</td>\n",
       "      <td>...</td>\n",
       "      <td>1</td>\n",
       "      <td>999</td>\n",
       "      <td>0</td>\n",
       "      <td>NaN</td>\n",
       "      <td>1.1</td>\n",
       "      <td>93.994</td>\n",
       "      <td>-36.4</td>\n",
       "      <td>4.857</td>\n",
       "      <td>5191.0</td>\n",
       "      <td>no</td>\n",
       "    </tr>\n",
       "    <tr>\n",
       "      <th>2</th>\n",
       "      <td>37</td>\n",
       "      <td>8.0</td>\n",
       "      <td>3.0</td>\n",
       "      <td>4.0</td>\n",
       "      <td>no</td>\n",
       "      <td>yes</td>\n",
       "      <td>no</td>\n",
       "      <td>telephone</td>\n",
       "      <td>may</td>\n",
       "      <td>mon</td>\n",
       "      <td>...</td>\n",
       "      <td>1</td>\n",
       "      <td>999</td>\n",
       "      <td>0</td>\n",
       "      <td>NaN</td>\n",
       "      <td>1.1</td>\n",
       "      <td>93.994</td>\n",
       "      <td>-36.4</td>\n",
       "      <td>4.857</td>\n",
       "      <td>5191.0</td>\n",
       "      <td>no</td>\n",
       "    </tr>\n",
       "    <tr>\n",
       "      <th>3</th>\n",
       "      <td>40</td>\n",
       "      <td>11.0</td>\n",
       "      <td>3.0</td>\n",
       "      <td>2.0</td>\n",
       "      <td>no</td>\n",
       "      <td>no</td>\n",
       "      <td>no</td>\n",
       "      <td>telephone</td>\n",
       "      <td>may</td>\n",
       "      <td>mon</td>\n",
       "      <td>...</td>\n",
       "      <td>1</td>\n",
       "      <td>999</td>\n",
       "      <td>0</td>\n",
       "      <td>NaN</td>\n",
       "      <td>1.1</td>\n",
       "      <td>93.994</td>\n",
       "      <td>-36.4</td>\n",
       "      <td>4.857</td>\n",
       "      <td>5191.0</td>\n",
       "      <td>no</td>\n",
       "    </tr>\n",
       "    <tr>\n",
       "      <th>4</th>\n",
       "      <td>56</td>\n",
       "      <td>8.0</td>\n",
       "      <td>3.0</td>\n",
       "      <td>4.0</td>\n",
       "      <td>no</td>\n",
       "      <td>no</td>\n",
       "      <td>yes</td>\n",
       "      <td>telephone</td>\n",
       "      <td>may</td>\n",
       "      <td>mon</td>\n",
       "      <td>...</td>\n",
       "      <td>1</td>\n",
       "      <td>999</td>\n",
       "      <td>0</td>\n",
       "      <td>NaN</td>\n",
       "      <td>1.1</td>\n",
       "      <td>93.994</td>\n",
       "      <td>-36.4</td>\n",
       "      <td>4.857</td>\n",
       "      <td>5191.0</td>\n",
       "      <td>no</td>\n",
       "    </tr>\n",
       "  </tbody>\n",
       "</table>\n",
       "<p>5 rows × 21 columns</p>\n",
       "</div>"
      ],
      "text/plain": [
       "   age   job  marital  education default housing loan    contact month  \\\n",
       "0   56   3.0      3.0        1.0      no      no   no  telephone   may   \n",
       "1   57   8.0      3.0        4.0     NaN      no   no  telephone   may   \n",
       "2   37   8.0      3.0        4.0      no     yes   no  telephone   may   \n",
       "3   40  11.0      3.0        2.0      no      no   no  telephone   may   \n",
       "4   56   8.0      3.0        4.0      no      no  yes  telephone   may   \n",
       "\n",
       "  day_of_week  ...  campaign  pdays  previous  poutcome emp.var.rate  \\\n",
       "0         mon  ...         1    999         0       NaN          1.1   \n",
       "1         mon  ...         1    999         0       NaN          1.1   \n",
       "2         mon  ...         1    999         0       NaN          1.1   \n",
       "3         mon  ...         1    999         0       NaN          1.1   \n",
       "4         mon  ...         1    999         0       NaN          1.1   \n",
       "\n",
       "   cons.price.idx  cons.conf.idx  euribor3m  nr.employed   y  \n",
       "0          93.994          -36.4      4.857       5191.0  no  \n",
       "1          93.994          -36.4      4.857       5191.0  no  \n",
       "2          93.994          -36.4      4.857       5191.0  no  \n",
       "3          93.994          -36.4      4.857       5191.0  no  \n",
       "4          93.994          -36.4      4.857       5191.0  no  \n",
       "\n",
       "[5 rows x 21 columns]"
      ]
     },
     "execution_count": 30,
     "metadata": {},
     "output_type": "execute_result"
    }
   ],
   "source": [
    "data.head()"
   ]
  },
  {
   "cell_type": "code",
   "execution_count": 31,
   "metadata": {},
   "outputs": [
    {
     "data": {
      "text/plain": [
       "1731"
      ]
     },
     "execution_count": 31,
     "metadata": {},
     "output_type": "execute_result"
    }
   ],
   "source": [
    "data['education'].isna().sum()"
   ]
  },
  {
   "cell_type": "markdown",
   "metadata": {},
   "source": [
    "# Default"
   ]
  },
  {
   "cell_type": "code",
   "execution_count": 32,
   "metadata": {},
   "outputs": [
    {
     "data": {
      "text/plain": [
       "array(['no', nan, 'yes'], dtype=object)"
      ]
     },
     "execution_count": 32,
     "metadata": {},
     "output_type": "execute_result"
    }
   ],
   "source": [
    "data['default'].unique()"
   ]
  },
  {
   "cell_type": "markdown",
   "metadata": {},
   "source": [
    "- Qtd de cada instância"
   ]
  },
  {
   "cell_type": "code",
   "execution_count": 33,
   "metadata": {},
   "outputs": [
    {
     "data": {
      "text/plain": [
       "no     32588\n",
       "yes        3\n",
       "Name: default, dtype: int64"
      ]
     },
     "execution_count": 33,
     "metadata": {},
     "output_type": "execute_result"
    }
   ],
   "source": [
    "data['default'].value_counts()"
   ]
  },
  {
   "cell_type": "markdown",
   "metadata": {},
   "source": [
    "- Verificando valores faltantes"
   ]
  },
  {
   "cell_type": "code",
   "execution_count": 34,
   "metadata": {},
   "outputs": [
    {
     "data": {
      "text/plain": [
       "8597"
      ]
     },
     "execution_count": 34,
     "metadata": {},
     "output_type": "execute_result"
    }
   ],
   "source": [
    "data['default'].isna().sum()"
   ]
  },
  {
   "cell_type": "code",
   "execution_count": 35,
   "metadata": {},
   "outputs": [],
   "source": [
    "data.drop('default', axis=1, inplace=True)"
   ]
  },
  {
   "cell_type": "code",
   "execution_count": 36,
   "metadata": {},
   "outputs": [
    {
     "data": {
      "text/html": [
       "<div>\n",
       "<style scoped>\n",
       "    .dataframe tbody tr th:only-of-type {\n",
       "        vertical-align: middle;\n",
       "    }\n",
       "\n",
       "    .dataframe tbody tr th {\n",
       "        vertical-align: top;\n",
       "    }\n",
       "\n",
       "    .dataframe thead th {\n",
       "        text-align: right;\n",
       "    }\n",
       "</style>\n",
       "<table border=\"1\" class=\"dataframe\">\n",
       "  <thead>\n",
       "    <tr style=\"text-align: right;\">\n",
       "      <th></th>\n",
       "      <th>age</th>\n",
       "      <th>job</th>\n",
       "      <th>marital</th>\n",
       "      <th>education</th>\n",
       "      <th>housing</th>\n",
       "      <th>loan</th>\n",
       "      <th>contact</th>\n",
       "      <th>month</th>\n",
       "      <th>day_of_week</th>\n",
       "      <th>duration</th>\n",
       "      <th>campaign</th>\n",
       "      <th>pdays</th>\n",
       "      <th>previous</th>\n",
       "      <th>poutcome</th>\n",
       "      <th>emp.var.rate</th>\n",
       "      <th>cons.price.idx</th>\n",
       "      <th>cons.conf.idx</th>\n",
       "      <th>euribor3m</th>\n",
       "      <th>nr.employed</th>\n",
       "      <th>y</th>\n",
       "    </tr>\n",
       "  </thead>\n",
       "  <tbody>\n",
       "    <tr>\n",
       "      <th>0</th>\n",
       "      <td>56</td>\n",
       "      <td>3.0</td>\n",
       "      <td>3.0</td>\n",
       "      <td>1.0</td>\n",
       "      <td>no</td>\n",
       "      <td>no</td>\n",
       "      <td>telephone</td>\n",
       "      <td>may</td>\n",
       "      <td>mon</td>\n",
       "      <td>261</td>\n",
       "      <td>1</td>\n",
       "      <td>999</td>\n",
       "      <td>0</td>\n",
       "      <td>NaN</td>\n",
       "      <td>1.1</td>\n",
       "      <td>93.994</td>\n",
       "      <td>-36.4</td>\n",
       "      <td>4.857</td>\n",
       "      <td>5191.0</td>\n",
       "      <td>no</td>\n",
       "    </tr>\n",
       "    <tr>\n",
       "      <th>1</th>\n",
       "      <td>57</td>\n",
       "      <td>8.0</td>\n",
       "      <td>3.0</td>\n",
       "      <td>4.0</td>\n",
       "      <td>no</td>\n",
       "      <td>no</td>\n",
       "      <td>telephone</td>\n",
       "      <td>may</td>\n",
       "      <td>mon</td>\n",
       "      <td>149</td>\n",
       "      <td>1</td>\n",
       "      <td>999</td>\n",
       "      <td>0</td>\n",
       "      <td>NaN</td>\n",
       "      <td>1.1</td>\n",
       "      <td>93.994</td>\n",
       "      <td>-36.4</td>\n",
       "      <td>4.857</td>\n",
       "      <td>5191.0</td>\n",
       "      <td>no</td>\n",
       "    </tr>\n",
       "    <tr>\n",
       "      <th>2</th>\n",
       "      <td>37</td>\n",
       "      <td>8.0</td>\n",
       "      <td>3.0</td>\n",
       "      <td>4.0</td>\n",
       "      <td>yes</td>\n",
       "      <td>no</td>\n",
       "      <td>telephone</td>\n",
       "      <td>may</td>\n",
       "      <td>mon</td>\n",
       "      <td>226</td>\n",
       "      <td>1</td>\n",
       "      <td>999</td>\n",
       "      <td>0</td>\n",
       "      <td>NaN</td>\n",
       "      <td>1.1</td>\n",
       "      <td>93.994</td>\n",
       "      <td>-36.4</td>\n",
       "      <td>4.857</td>\n",
       "      <td>5191.0</td>\n",
       "      <td>no</td>\n",
       "    </tr>\n",
       "    <tr>\n",
       "      <th>3</th>\n",
       "      <td>40</td>\n",
       "      <td>11.0</td>\n",
       "      <td>3.0</td>\n",
       "      <td>2.0</td>\n",
       "      <td>no</td>\n",
       "      <td>no</td>\n",
       "      <td>telephone</td>\n",
       "      <td>may</td>\n",
       "      <td>mon</td>\n",
       "      <td>151</td>\n",
       "      <td>1</td>\n",
       "      <td>999</td>\n",
       "      <td>0</td>\n",
       "      <td>NaN</td>\n",
       "      <td>1.1</td>\n",
       "      <td>93.994</td>\n",
       "      <td>-36.4</td>\n",
       "      <td>4.857</td>\n",
       "      <td>5191.0</td>\n",
       "      <td>no</td>\n",
       "    </tr>\n",
       "    <tr>\n",
       "      <th>4</th>\n",
       "      <td>56</td>\n",
       "      <td>8.0</td>\n",
       "      <td>3.0</td>\n",
       "      <td>4.0</td>\n",
       "      <td>no</td>\n",
       "      <td>yes</td>\n",
       "      <td>telephone</td>\n",
       "      <td>may</td>\n",
       "      <td>mon</td>\n",
       "      <td>307</td>\n",
       "      <td>1</td>\n",
       "      <td>999</td>\n",
       "      <td>0</td>\n",
       "      <td>NaN</td>\n",
       "      <td>1.1</td>\n",
       "      <td>93.994</td>\n",
       "      <td>-36.4</td>\n",
       "      <td>4.857</td>\n",
       "      <td>5191.0</td>\n",
       "      <td>no</td>\n",
       "    </tr>\n",
       "  </tbody>\n",
       "</table>\n",
       "</div>"
      ],
      "text/plain": [
       "   age   job  marital  education housing loan    contact month day_of_week  \\\n",
       "0   56   3.0      3.0        1.0      no   no  telephone   may         mon   \n",
       "1   57   8.0      3.0        4.0      no   no  telephone   may         mon   \n",
       "2   37   8.0      3.0        4.0     yes   no  telephone   may         mon   \n",
       "3   40  11.0      3.0        2.0      no   no  telephone   may         mon   \n",
       "4   56   8.0      3.0        4.0      no  yes  telephone   may         mon   \n",
       "\n",
       "   duration  campaign  pdays  previous poutcome  emp.var.rate  cons.price.idx  \\\n",
       "0       261         1    999         0      NaN           1.1          93.994   \n",
       "1       149         1    999         0      NaN           1.1          93.994   \n",
       "2       226         1    999         0      NaN           1.1          93.994   \n",
       "3       151         1    999         0      NaN           1.1          93.994   \n",
       "4       307         1    999         0      NaN           1.1          93.994   \n",
       "\n",
       "   cons.conf.idx  euribor3m  nr.employed   y  \n",
       "0          -36.4      4.857       5191.0  no  \n",
       "1          -36.4      4.857       5191.0  no  \n",
       "2          -36.4      4.857       5191.0  no  \n",
       "3          -36.4      4.857       5191.0  no  \n",
       "4          -36.4      4.857       5191.0  no  "
      ]
     },
     "execution_count": 36,
     "metadata": {},
     "output_type": "execute_result"
    }
   ],
   "source": [
    "data.head()"
   ]
  },
  {
   "cell_type": "code",
   "execution_count": 37,
   "metadata": {},
   "outputs": [
    {
     "data": {
      "text/plain": [
       "(41188, 20)"
      ]
     },
     "execution_count": 37,
     "metadata": {},
     "output_type": "execute_result"
    }
   ],
   "source": [
    "data.shape"
   ]
  },
  {
   "cell_type": "markdown",
   "metadata": {},
   "source": [
    "# Tem empréstimo à habitação?"
   ]
  },
  {
   "cell_type": "code",
   "execution_count": 38,
   "metadata": {},
   "outputs": [
    {
     "data": {
      "text/plain": [
       "array(['no', 'yes', nan], dtype=object)"
      ]
     },
     "execution_count": 38,
     "metadata": {},
     "output_type": "execute_result"
    }
   ],
   "source": [
    "data['housing'].unique()"
   ]
  },
  {
   "cell_type": "markdown",
   "metadata": {},
   "source": [
    "- Qtd de cada instância"
   ]
  },
  {
   "cell_type": "code",
   "execution_count": 39,
   "metadata": {},
   "outputs": [
    {
     "data": {
      "text/plain": [
       "yes    21576\n",
       "no     18622\n",
       "Name: housing, dtype: int64"
      ]
     },
     "execution_count": 39,
     "metadata": {},
     "output_type": "execute_result"
    }
   ],
   "source": [
    "data['housing'].value_counts()"
   ]
  },
  {
   "cell_type": "markdown",
   "metadata": {},
   "source": [
    "- Verificando valores faltantes"
   ]
  },
  {
   "cell_type": "code",
   "execution_count": 40,
   "metadata": {},
   "outputs": [
    {
     "data": {
      "text/plain": [
       "990"
      ]
     },
     "execution_count": 40,
     "metadata": {},
     "output_type": "execute_result"
    }
   ],
   "source": [
    "data['housing'].isna().sum()"
   ]
  },
  {
   "cell_type": "code",
   "execution_count": 41,
   "metadata": {},
   "outputs": [],
   "source": [
    "housing_map = {'yes':1, 'no':0}"
   ]
  },
  {
   "cell_type": "code",
   "execution_count": 42,
   "metadata": {},
   "outputs": [],
   "source": [
    "data['housing'] = data['housing'].map(housing_map)"
   ]
  },
  {
   "cell_type": "code",
   "execution_count": 43,
   "metadata": {},
   "outputs": [
    {
     "data": {
      "text/html": [
       "<div>\n",
       "<style scoped>\n",
       "    .dataframe tbody tr th:only-of-type {\n",
       "        vertical-align: middle;\n",
       "    }\n",
       "\n",
       "    .dataframe tbody tr th {\n",
       "        vertical-align: top;\n",
       "    }\n",
       "\n",
       "    .dataframe thead th {\n",
       "        text-align: right;\n",
       "    }\n",
       "</style>\n",
       "<table border=\"1\" class=\"dataframe\">\n",
       "  <thead>\n",
       "    <tr style=\"text-align: right;\">\n",
       "      <th></th>\n",
       "      <th>age</th>\n",
       "      <th>job</th>\n",
       "      <th>marital</th>\n",
       "      <th>education</th>\n",
       "      <th>housing</th>\n",
       "      <th>loan</th>\n",
       "      <th>contact</th>\n",
       "      <th>month</th>\n",
       "      <th>day_of_week</th>\n",
       "      <th>duration</th>\n",
       "      <th>campaign</th>\n",
       "      <th>pdays</th>\n",
       "      <th>previous</th>\n",
       "      <th>poutcome</th>\n",
       "      <th>emp.var.rate</th>\n",
       "      <th>cons.price.idx</th>\n",
       "      <th>cons.conf.idx</th>\n",
       "      <th>euribor3m</th>\n",
       "      <th>nr.employed</th>\n",
       "      <th>y</th>\n",
       "    </tr>\n",
       "  </thead>\n",
       "  <tbody>\n",
       "    <tr>\n",
       "      <th>0</th>\n",
       "      <td>56</td>\n",
       "      <td>3.0</td>\n",
       "      <td>3.0</td>\n",
       "      <td>1.0</td>\n",
       "      <td>0.0</td>\n",
       "      <td>no</td>\n",
       "      <td>telephone</td>\n",
       "      <td>may</td>\n",
       "      <td>mon</td>\n",
       "      <td>261</td>\n",
       "      <td>1</td>\n",
       "      <td>999</td>\n",
       "      <td>0</td>\n",
       "      <td>NaN</td>\n",
       "      <td>1.1</td>\n",
       "      <td>93.994</td>\n",
       "      <td>-36.4</td>\n",
       "      <td>4.857</td>\n",
       "      <td>5191.0</td>\n",
       "      <td>no</td>\n",
       "    </tr>\n",
       "    <tr>\n",
       "      <th>1</th>\n",
       "      <td>57</td>\n",
       "      <td>8.0</td>\n",
       "      <td>3.0</td>\n",
       "      <td>4.0</td>\n",
       "      <td>0.0</td>\n",
       "      <td>no</td>\n",
       "      <td>telephone</td>\n",
       "      <td>may</td>\n",
       "      <td>mon</td>\n",
       "      <td>149</td>\n",
       "      <td>1</td>\n",
       "      <td>999</td>\n",
       "      <td>0</td>\n",
       "      <td>NaN</td>\n",
       "      <td>1.1</td>\n",
       "      <td>93.994</td>\n",
       "      <td>-36.4</td>\n",
       "      <td>4.857</td>\n",
       "      <td>5191.0</td>\n",
       "      <td>no</td>\n",
       "    </tr>\n",
       "    <tr>\n",
       "      <th>2</th>\n",
       "      <td>37</td>\n",
       "      <td>8.0</td>\n",
       "      <td>3.0</td>\n",
       "      <td>4.0</td>\n",
       "      <td>1.0</td>\n",
       "      <td>no</td>\n",
       "      <td>telephone</td>\n",
       "      <td>may</td>\n",
       "      <td>mon</td>\n",
       "      <td>226</td>\n",
       "      <td>1</td>\n",
       "      <td>999</td>\n",
       "      <td>0</td>\n",
       "      <td>NaN</td>\n",
       "      <td>1.1</td>\n",
       "      <td>93.994</td>\n",
       "      <td>-36.4</td>\n",
       "      <td>4.857</td>\n",
       "      <td>5191.0</td>\n",
       "      <td>no</td>\n",
       "    </tr>\n",
       "    <tr>\n",
       "      <th>3</th>\n",
       "      <td>40</td>\n",
       "      <td>11.0</td>\n",
       "      <td>3.0</td>\n",
       "      <td>2.0</td>\n",
       "      <td>0.0</td>\n",
       "      <td>no</td>\n",
       "      <td>telephone</td>\n",
       "      <td>may</td>\n",
       "      <td>mon</td>\n",
       "      <td>151</td>\n",
       "      <td>1</td>\n",
       "      <td>999</td>\n",
       "      <td>0</td>\n",
       "      <td>NaN</td>\n",
       "      <td>1.1</td>\n",
       "      <td>93.994</td>\n",
       "      <td>-36.4</td>\n",
       "      <td>4.857</td>\n",
       "      <td>5191.0</td>\n",
       "      <td>no</td>\n",
       "    </tr>\n",
       "    <tr>\n",
       "      <th>4</th>\n",
       "      <td>56</td>\n",
       "      <td>8.0</td>\n",
       "      <td>3.0</td>\n",
       "      <td>4.0</td>\n",
       "      <td>0.0</td>\n",
       "      <td>yes</td>\n",
       "      <td>telephone</td>\n",
       "      <td>may</td>\n",
       "      <td>mon</td>\n",
       "      <td>307</td>\n",
       "      <td>1</td>\n",
       "      <td>999</td>\n",
       "      <td>0</td>\n",
       "      <td>NaN</td>\n",
       "      <td>1.1</td>\n",
       "      <td>93.994</td>\n",
       "      <td>-36.4</td>\n",
       "      <td>4.857</td>\n",
       "      <td>5191.0</td>\n",
       "      <td>no</td>\n",
       "    </tr>\n",
       "  </tbody>\n",
       "</table>\n",
       "</div>"
      ],
      "text/plain": [
       "   age   job  marital  education  housing loan    contact month day_of_week  \\\n",
       "0   56   3.0      3.0        1.0      0.0   no  telephone   may         mon   \n",
       "1   57   8.0      3.0        4.0      0.0   no  telephone   may         mon   \n",
       "2   37   8.0      3.0        4.0      1.0   no  telephone   may         mon   \n",
       "3   40  11.0      3.0        2.0      0.0   no  telephone   may         mon   \n",
       "4   56   8.0      3.0        4.0      0.0  yes  telephone   may         mon   \n",
       "\n",
       "   duration  campaign  pdays  previous poutcome  emp.var.rate  cons.price.idx  \\\n",
       "0       261         1    999         0      NaN           1.1          93.994   \n",
       "1       149         1    999         0      NaN           1.1          93.994   \n",
       "2       226         1    999         0      NaN           1.1          93.994   \n",
       "3       151         1    999         0      NaN           1.1          93.994   \n",
       "4       307         1    999         0      NaN           1.1          93.994   \n",
       "\n",
       "   cons.conf.idx  euribor3m  nr.employed   y  \n",
       "0          -36.4      4.857       5191.0  no  \n",
       "1          -36.4      4.857       5191.0  no  \n",
       "2          -36.4      4.857       5191.0  no  \n",
       "3          -36.4      4.857       5191.0  no  \n",
       "4          -36.4      4.857       5191.0  no  "
      ]
     },
     "execution_count": 43,
     "metadata": {},
     "output_type": "execute_result"
    }
   ],
   "source": [
    "data.head()"
   ]
  },
  {
   "cell_type": "code",
   "execution_count": 44,
   "metadata": {},
   "outputs": [
    {
     "data": {
      "text/plain": [
       "990"
      ]
     },
     "execution_count": 44,
     "metadata": {},
     "output_type": "execute_result"
    }
   ],
   "source": [
    "data['housing'].isna().sum()"
   ]
  },
  {
   "cell_type": "markdown",
   "metadata": {},
   "source": [
    "# Tem empréstimo pessoal?"
   ]
  },
  {
   "cell_type": "code",
   "execution_count": 45,
   "metadata": {},
   "outputs": [
    {
     "data": {
      "text/plain": [
       "array(['no', 'yes', nan], dtype=object)"
      ]
     },
     "execution_count": 45,
     "metadata": {},
     "output_type": "execute_result"
    }
   ],
   "source": [
    "data['loan'].unique()"
   ]
  },
  {
   "cell_type": "markdown",
   "metadata": {},
   "source": [
    "- Qtd de cada instância"
   ]
  },
  {
   "cell_type": "code",
   "execution_count": 46,
   "metadata": {},
   "outputs": [
    {
     "data": {
      "text/plain": [
       "no     33950\n",
       "yes     6248\n",
       "Name: loan, dtype: int64"
      ]
     },
     "execution_count": 46,
     "metadata": {},
     "output_type": "execute_result"
    }
   ],
   "source": [
    "data['loan'].value_counts()"
   ]
  },
  {
   "cell_type": "markdown",
   "metadata": {},
   "source": [
    "- Verificando valores faltantes"
   ]
  },
  {
   "cell_type": "code",
   "execution_count": 47,
   "metadata": {},
   "outputs": [
    {
     "data": {
      "text/plain": [
       "990"
      ]
     },
     "execution_count": 47,
     "metadata": {},
     "output_type": "execute_result"
    }
   ],
   "source": [
    "data['loan'].isna().sum()"
   ]
  },
  {
   "cell_type": "code",
   "execution_count": 48,
   "metadata": {},
   "outputs": [],
   "source": [
    "loan_map = {'yes':1, 'no':0}"
   ]
  },
  {
   "cell_type": "code",
   "execution_count": 49,
   "metadata": {},
   "outputs": [],
   "source": [
    "data['loan'] = data['loan'].map(loan_map)"
   ]
  },
  {
   "cell_type": "code",
   "execution_count": 50,
   "metadata": {},
   "outputs": [
    {
     "data": {
      "text/html": [
       "<div>\n",
       "<style scoped>\n",
       "    .dataframe tbody tr th:only-of-type {\n",
       "        vertical-align: middle;\n",
       "    }\n",
       "\n",
       "    .dataframe tbody tr th {\n",
       "        vertical-align: top;\n",
       "    }\n",
       "\n",
       "    .dataframe thead th {\n",
       "        text-align: right;\n",
       "    }\n",
       "</style>\n",
       "<table border=\"1\" class=\"dataframe\">\n",
       "  <thead>\n",
       "    <tr style=\"text-align: right;\">\n",
       "      <th></th>\n",
       "      <th>age</th>\n",
       "      <th>job</th>\n",
       "      <th>marital</th>\n",
       "      <th>education</th>\n",
       "      <th>housing</th>\n",
       "      <th>loan</th>\n",
       "      <th>contact</th>\n",
       "      <th>month</th>\n",
       "      <th>day_of_week</th>\n",
       "      <th>duration</th>\n",
       "      <th>campaign</th>\n",
       "      <th>pdays</th>\n",
       "      <th>previous</th>\n",
       "      <th>poutcome</th>\n",
       "      <th>emp.var.rate</th>\n",
       "      <th>cons.price.idx</th>\n",
       "      <th>cons.conf.idx</th>\n",
       "      <th>euribor3m</th>\n",
       "      <th>nr.employed</th>\n",
       "      <th>y</th>\n",
       "    </tr>\n",
       "  </thead>\n",
       "  <tbody>\n",
       "    <tr>\n",
       "      <th>0</th>\n",
       "      <td>56</td>\n",
       "      <td>3.0</td>\n",
       "      <td>3.0</td>\n",
       "      <td>1.0</td>\n",
       "      <td>0.0</td>\n",
       "      <td>0.0</td>\n",
       "      <td>telephone</td>\n",
       "      <td>may</td>\n",
       "      <td>mon</td>\n",
       "      <td>261</td>\n",
       "      <td>1</td>\n",
       "      <td>999</td>\n",
       "      <td>0</td>\n",
       "      <td>NaN</td>\n",
       "      <td>1.1</td>\n",
       "      <td>93.994</td>\n",
       "      <td>-36.4</td>\n",
       "      <td>4.857</td>\n",
       "      <td>5191.0</td>\n",
       "      <td>no</td>\n",
       "    </tr>\n",
       "    <tr>\n",
       "      <th>1</th>\n",
       "      <td>57</td>\n",
       "      <td>8.0</td>\n",
       "      <td>3.0</td>\n",
       "      <td>4.0</td>\n",
       "      <td>0.0</td>\n",
       "      <td>0.0</td>\n",
       "      <td>telephone</td>\n",
       "      <td>may</td>\n",
       "      <td>mon</td>\n",
       "      <td>149</td>\n",
       "      <td>1</td>\n",
       "      <td>999</td>\n",
       "      <td>0</td>\n",
       "      <td>NaN</td>\n",
       "      <td>1.1</td>\n",
       "      <td>93.994</td>\n",
       "      <td>-36.4</td>\n",
       "      <td>4.857</td>\n",
       "      <td>5191.0</td>\n",
       "      <td>no</td>\n",
       "    </tr>\n",
       "    <tr>\n",
       "      <th>2</th>\n",
       "      <td>37</td>\n",
       "      <td>8.0</td>\n",
       "      <td>3.0</td>\n",
       "      <td>4.0</td>\n",
       "      <td>1.0</td>\n",
       "      <td>0.0</td>\n",
       "      <td>telephone</td>\n",
       "      <td>may</td>\n",
       "      <td>mon</td>\n",
       "      <td>226</td>\n",
       "      <td>1</td>\n",
       "      <td>999</td>\n",
       "      <td>0</td>\n",
       "      <td>NaN</td>\n",
       "      <td>1.1</td>\n",
       "      <td>93.994</td>\n",
       "      <td>-36.4</td>\n",
       "      <td>4.857</td>\n",
       "      <td>5191.0</td>\n",
       "      <td>no</td>\n",
       "    </tr>\n",
       "    <tr>\n",
       "      <th>3</th>\n",
       "      <td>40</td>\n",
       "      <td>11.0</td>\n",
       "      <td>3.0</td>\n",
       "      <td>2.0</td>\n",
       "      <td>0.0</td>\n",
       "      <td>0.0</td>\n",
       "      <td>telephone</td>\n",
       "      <td>may</td>\n",
       "      <td>mon</td>\n",
       "      <td>151</td>\n",
       "      <td>1</td>\n",
       "      <td>999</td>\n",
       "      <td>0</td>\n",
       "      <td>NaN</td>\n",
       "      <td>1.1</td>\n",
       "      <td>93.994</td>\n",
       "      <td>-36.4</td>\n",
       "      <td>4.857</td>\n",
       "      <td>5191.0</td>\n",
       "      <td>no</td>\n",
       "    </tr>\n",
       "    <tr>\n",
       "      <th>4</th>\n",
       "      <td>56</td>\n",
       "      <td>8.0</td>\n",
       "      <td>3.0</td>\n",
       "      <td>4.0</td>\n",
       "      <td>0.0</td>\n",
       "      <td>1.0</td>\n",
       "      <td>telephone</td>\n",
       "      <td>may</td>\n",
       "      <td>mon</td>\n",
       "      <td>307</td>\n",
       "      <td>1</td>\n",
       "      <td>999</td>\n",
       "      <td>0</td>\n",
       "      <td>NaN</td>\n",
       "      <td>1.1</td>\n",
       "      <td>93.994</td>\n",
       "      <td>-36.4</td>\n",
       "      <td>4.857</td>\n",
       "      <td>5191.0</td>\n",
       "      <td>no</td>\n",
       "    </tr>\n",
       "  </tbody>\n",
       "</table>\n",
       "</div>"
      ],
      "text/plain": [
       "   age   job  marital  education  housing  loan    contact month day_of_week  \\\n",
       "0   56   3.0      3.0        1.0      0.0   0.0  telephone   may         mon   \n",
       "1   57   8.0      3.0        4.0      0.0   0.0  telephone   may         mon   \n",
       "2   37   8.0      3.0        4.0      1.0   0.0  telephone   may         mon   \n",
       "3   40  11.0      3.0        2.0      0.0   0.0  telephone   may         mon   \n",
       "4   56   8.0      3.0        4.0      0.0   1.0  telephone   may         mon   \n",
       "\n",
       "   duration  campaign  pdays  previous poutcome  emp.var.rate  cons.price.idx  \\\n",
       "0       261         1    999         0      NaN           1.1          93.994   \n",
       "1       149         1    999         0      NaN           1.1          93.994   \n",
       "2       226         1    999         0      NaN           1.1          93.994   \n",
       "3       151         1    999         0      NaN           1.1          93.994   \n",
       "4       307         1    999         0      NaN           1.1          93.994   \n",
       "\n",
       "   cons.conf.idx  euribor3m  nr.employed   y  \n",
       "0          -36.4      4.857       5191.0  no  \n",
       "1          -36.4      4.857       5191.0  no  \n",
       "2          -36.4      4.857       5191.0  no  \n",
       "3          -36.4      4.857       5191.0  no  \n",
       "4          -36.4      4.857       5191.0  no  "
      ]
     },
     "execution_count": 50,
     "metadata": {},
     "output_type": "execute_result"
    }
   ],
   "source": [
    "data.head()"
   ]
  },
  {
   "cell_type": "code",
   "execution_count": 51,
   "metadata": {},
   "outputs": [
    {
     "data": {
      "text/plain": [
       "990"
      ]
     },
     "execution_count": 51,
     "metadata": {},
     "output_type": "execute_result"
    }
   ],
   "source": [
    "data['loan'].isna().sum()"
   ]
  },
  {
   "cell_type": "markdown",
   "metadata": {},
   "source": [
    "# Forma de contato"
   ]
  },
  {
   "cell_type": "code",
   "execution_count": 52,
   "metadata": {},
   "outputs": [
    {
     "data": {
      "text/plain": [
       "array(['telephone', 'cellular'], dtype=object)"
      ]
     },
     "execution_count": 52,
     "metadata": {},
     "output_type": "execute_result"
    }
   ],
   "source": [
    "data['contact'].unique()"
   ]
  },
  {
   "cell_type": "markdown",
   "metadata": {},
   "source": [
    "- Qtd de cada instância"
   ]
  },
  {
   "cell_type": "code",
   "execution_count": 53,
   "metadata": {},
   "outputs": [
    {
     "data": {
      "text/plain": [
       "cellular     26144\n",
       "telephone    15044\n",
       "Name: contact, dtype: int64"
      ]
     },
     "execution_count": 53,
     "metadata": {},
     "output_type": "execute_result"
    }
   ],
   "source": [
    "data['contact'].value_counts()"
   ]
  },
  {
   "cell_type": "markdown",
   "metadata": {},
   "source": [
    "- Verificando valores faltantes"
   ]
  },
  {
   "cell_type": "code",
   "execution_count": 54,
   "metadata": {},
   "outputs": [
    {
     "data": {
      "text/plain": [
       "0"
      ]
     },
     "execution_count": 54,
     "metadata": {},
     "output_type": "execute_result"
    }
   ],
   "source": [
    "data['contact'].isna().sum()"
   ]
  },
  {
   "cell_type": "code",
   "execution_count": 55,
   "metadata": {},
   "outputs": [],
   "source": [
    "contact_map = {'telephone':1, 'cellular':2}"
   ]
  },
  {
   "cell_type": "code",
   "execution_count": 56,
   "metadata": {},
   "outputs": [],
   "source": [
    "data['contact'] = data['contact'].map(contact_map)"
   ]
  },
  {
   "cell_type": "code",
   "execution_count": 57,
   "metadata": {},
   "outputs": [
    {
     "data": {
      "text/html": [
       "<div>\n",
       "<style scoped>\n",
       "    .dataframe tbody tr th:only-of-type {\n",
       "        vertical-align: middle;\n",
       "    }\n",
       "\n",
       "    .dataframe tbody tr th {\n",
       "        vertical-align: top;\n",
       "    }\n",
       "\n",
       "    .dataframe thead th {\n",
       "        text-align: right;\n",
       "    }\n",
       "</style>\n",
       "<table border=\"1\" class=\"dataframe\">\n",
       "  <thead>\n",
       "    <tr style=\"text-align: right;\">\n",
       "      <th></th>\n",
       "      <th>age</th>\n",
       "      <th>job</th>\n",
       "      <th>marital</th>\n",
       "      <th>education</th>\n",
       "      <th>housing</th>\n",
       "      <th>loan</th>\n",
       "      <th>contact</th>\n",
       "      <th>month</th>\n",
       "      <th>day_of_week</th>\n",
       "      <th>duration</th>\n",
       "      <th>campaign</th>\n",
       "      <th>pdays</th>\n",
       "      <th>previous</th>\n",
       "      <th>poutcome</th>\n",
       "      <th>emp.var.rate</th>\n",
       "      <th>cons.price.idx</th>\n",
       "      <th>cons.conf.idx</th>\n",
       "      <th>euribor3m</th>\n",
       "      <th>nr.employed</th>\n",
       "      <th>y</th>\n",
       "    </tr>\n",
       "  </thead>\n",
       "  <tbody>\n",
       "    <tr>\n",
       "      <th>0</th>\n",
       "      <td>56</td>\n",
       "      <td>3.0</td>\n",
       "      <td>3.0</td>\n",
       "      <td>1.0</td>\n",
       "      <td>0.0</td>\n",
       "      <td>0.0</td>\n",
       "      <td>1</td>\n",
       "      <td>may</td>\n",
       "      <td>mon</td>\n",
       "      <td>261</td>\n",
       "      <td>1</td>\n",
       "      <td>999</td>\n",
       "      <td>0</td>\n",
       "      <td>NaN</td>\n",
       "      <td>1.1</td>\n",
       "      <td>93.994</td>\n",
       "      <td>-36.4</td>\n",
       "      <td>4.857</td>\n",
       "      <td>5191.0</td>\n",
       "      <td>no</td>\n",
       "    </tr>\n",
       "    <tr>\n",
       "      <th>1</th>\n",
       "      <td>57</td>\n",
       "      <td>8.0</td>\n",
       "      <td>3.0</td>\n",
       "      <td>4.0</td>\n",
       "      <td>0.0</td>\n",
       "      <td>0.0</td>\n",
       "      <td>1</td>\n",
       "      <td>may</td>\n",
       "      <td>mon</td>\n",
       "      <td>149</td>\n",
       "      <td>1</td>\n",
       "      <td>999</td>\n",
       "      <td>0</td>\n",
       "      <td>NaN</td>\n",
       "      <td>1.1</td>\n",
       "      <td>93.994</td>\n",
       "      <td>-36.4</td>\n",
       "      <td>4.857</td>\n",
       "      <td>5191.0</td>\n",
       "      <td>no</td>\n",
       "    </tr>\n",
       "    <tr>\n",
       "      <th>2</th>\n",
       "      <td>37</td>\n",
       "      <td>8.0</td>\n",
       "      <td>3.0</td>\n",
       "      <td>4.0</td>\n",
       "      <td>1.0</td>\n",
       "      <td>0.0</td>\n",
       "      <td>1</td>\n",
       "      <td>may</td>\n",
       "      <td>mon</td>\n",
       "      <td>226</td>\n",
       "      <td>1</td>\n",
       "      <td>999</td>\n",
       "      <td>0</td>\n",
       "      <td>NaN</td>\n",
       "      <td>1.1</td>\n",
       "      <td>93.994</td>\n",
       "      <td>-36.4</td>\n",
       "      <td>4.857</td>\n",
       "      <td>5191.0</td>\n",
       "      <td>no</td>\n",
       "    </tr>\n",
       "    <tr>\n",
       "      <th>3</th>\n",
       "      <td>40</td>\n",
       "      <td>11.0</td>\n",
       "      <td>3.0</td>\n",
       "      <td>2.0</td>\n",
       "      <td>0.0</td>\n",
       "      <td>0.0</td>\n",
       "      <td>1</td>\n",
       "      <td>may</td>\n",
       "      <td>mon</td>\n",
       "      <td>151</td>\n",
       "      <td>1</td>\n",
       "      <td>999</td>\n",
       "      <td>0</td>\n",
       "      <td>NaN</td>\n",
       "      <td>1.1</td>\n",
       "      <td>93.994</td>\n",
       "      <td>-36.4</td>\n",
       "      <td>4.857</td>\n",
       "      <td>5191.0</td>\n",
       "      <td>no</td>\n",
       "    </tr>\n",
       "    <tr>\n",
       "      <th>4</th>\n",
       "      <td>56</td>\n",
       "      <td>8.0</td>\n",
       "      <td>3.0</td>\n",
       "      <td>4.0</td>\n",
       "      <td>0.0</td>\n",
       "      <td>1.0</td>\n",
       "      <td>1</td>\n",
       "      <td>may</td>\n",
       "      <td>mon</td>\n",
       "      <td>307</td>\n",
       "      <td>1</td>\n",
       "      <td>999</td>\n",
       "      <td>0</td>\n",
       "      <td>NaN</td>\n",
       "      <td>1.1</td>\n",
       "      <td>93.994</td>\n",
       "      <td>-36.4</td>\n",
       "      <td>4.857</td>\n",
       "      <td>5191.0</td>\n",
       "      <td>no</td>\n",
       "    </tr>\n",
       "  </tbody>\n",
       "</table>\n",
       "</div>"
      ],
      "text/plain": [
       "   age   job  marital  education  housing  loan  contact month day_of_week  \\\n",
       "0   56   3.0      3.0        1.0      0.0   0.0        1   may         mon   \n",
       "1   57   8.0      3.0        4.0      0.0   0.0        1   may         mon   \n",
       "2   37   8.0      3.0        4.0      1.0   0.0        1   may         mon   \n",
       "3   40  11.0      3.0        2.0      0.0   0.0        1   may         mon   \n",
       "4   56   8.0      3.0        4.0      0.0   1.0        1   may         mon   \n",
       "\n",
       "   duration  campaign  pdays  previous poutcome  emp.var.rate  cons.price.idx  \\\n",
       "0       261         1    999         0      NaN           1.1          93.994   \n",
       "1       149         1    999         0      NaN           1.1          93.994   \n",
       "2       226         1    999         0      NaN           1.1          93.994   \n",
       "3       151         1    999         0      NaN           1.1          93.994   \n",
       "4       307         1    999         0      NaN           1.1          93.994   \n",
       "\n",
       "   cons.conf.idx  euribor3m  nr.employed   y  \n",
       "0          -36.4      4.857       5191.0  no  \n",
       "1          -36.4      4.857       5191.0  no  \n",
       "2          -36.4      4.857       5191.0  no  \n",
       "3          -36.4      4.857       5191.0  no  \n",
       "4          -36.4      4.857       5191.0  no  "
      ]
     },
     "execution_count": 57,
     "metadata": {},
     "output_type": "execute_result"
    }
   ],
   "source": [
    "data.head()"
   ]
  },
  {
   "cell_type": "code",
   "execution_count": 58,
   "metadata": {},
   "outputs": [
    {
     "data": {
      "text/plain": [
       "0"
      ]
     },
     "execution_count": 58,
     "metadata": {},
     "output_type": "execute_result"
    }
   ],
   "source": [
    "data['contact'].isna().sum()"
   ]
  },
  {
   "cell_type": "markdown",
   "metadata": {},
   "source": [
    "# Último contato do ano"
   ]
  },
  {
   "cell_type": "code",
   "execution_count": 59,
   "metadata": {},
   "outputs": [
    {
     "data": {
      "text/plain": [
       "array(['may', 'jun', 'jul', 'aug', 'oct', 'nov', 'dec', 'mar', 'apr',\n",
       "       'sep'], dtype=object)"
      ]
     },
     "execution_count": 59,
     "metadata": {},
     "output_type": "execute_result"
    }
   ],
   "source": [
    "data['month'].unique()"
   ]
  },
  {
   "cell_type": "markdown",
   "metadata": {},
   "source": [
    "- Qtd de cada instância"
   ]
  },
  {
   "cell_type": "code",
   "execution_count": 60,
   "metadata": {},
   "outputs": [
    {
     "data": {
      "text/plain": [
       "may    13769\n",
       "jul     7174\n",
       "aug     6178\n",
       "jun     5318\n",
       "nov     4101\n",
       "apr     2632\n",
       "oct      718\n",
       "sep      570\n",
       "mar      546\n",
       "dec      182\n",
       "Name: month, dtype: int64"
      ]
     },
     "execution_count": 60,
     "metadata": {},
     "output_type": "execute_result"
    }
   ],
   "source": [
    "data['month'].value_counts()"
   ]
  },
  {
   "cell_type": "markdown",
   "metadata": {},
   "source": [
    "- Verificando valores faltantes"
   ]
  },
  {
   "cell_type": "code",
   "execution_count": 61,
   "metadata": {},
   "outputs": [
    {
     "data": {
      "text/plain": [
       "0"
      ]
     },
     "execution_count": 61,
     "metadata": {},
     "output_type": "execute_result"
    }
   ],
   "source": [
    "data['month'].isna().sum()"
   ]
  },
  {
   "cell_type": "code",
   "execution_count": 62,
   "metadata": {},
   "outputs": [],
   "source": [
    "month_map = {'mar':3, 'apr':4, 'may':5, 'jun':6, 'jul':7, 'aug':8, 'sep':9, 'oct':10, 'nov':11, 'dec':12}"
   ]
  },
  {
   "cell_type": "code",
   "execution_count": 63,
   "metadata": {},
   "outputs": [],
   "source": [
    "data['month'] = data['month'].map(month_map)"
   ]
  },
  {
   "cell_type": "code",
   "execution_count": 64,
   "metadata": {},
   "outputs": [
    {
     "data": {
      "text/html": [
       "<div>\n",
       "<style scoped>\n",
       "    .dataframe tbody tr th:only-of-type {\n",
       "        vertical-align: middle;\n",
       "    }\n",
       "\n",
       "    .dataframe tbody tr th {\n",
       "        vertical-align: top;\n",
       "    }\n",
       "\n",
       "    .dataframe thead th {\n",
       "        text-align: right;\n",
       "    }\n",
       "</style>\n",
       "<table border=\"1\" class=\"dataframe\">\n",
       "  <thead>\n",
       "    <tr style=\"text-align: right;\">\n",
       "      <th></th>\n",
       "      <th>age</th>\n",
       "      <th>job</th>\n",
       "      <th>marital</th>\n",
       "      <th>education</th>\n",
       "      <th>housing</th>\n",
       "      <th>loan</th>\n",
       "      <th>contact</th>\n",
       "      <th>month</th>\n",
       "      <th>day_of_week</th>\n",
       "      <th>duration</th>\n",
       "      <th>campaign</th>\n",
       "      <th>pdays</th>\n",
       "      <th>previous</th>\n",
       "      <th>poutcome</th>\n",
       "      <th>emp.var.rate</th>\n",
       "      <th>cons.price.idx</th>\n",
       "      <th>cons.conf.idx</th>\n",
       "      <th>euribor3m</th>\n",
       "      <th>nr.employed</th>\n",
       "      <th>y</th>\n",
       "    </tr>\n",
       "  </thead>\n",
       "  <tbody>\n",
       "    <tr>\n",
       "      <th>0</th>\n",
       "      <td>56</td>\n",
       "      <td>3.0</td>\n",
       "      <td>3.0</td>\n",
       "      <td>1.0</td>\n",
       "      <td>0.0</td>\n",
       "      <td>0.0</td>\n",
       "      <td>1</td>\n",
       "      <td>5</td>\n",
       "      <td>mon</td>\n",
       "      <td>261</td>\n",
       "      <td>1</td>\n",
       "      <td>999</td>\n",
       "      <td>0</td>\n",
       "      <td>NaN</td>\n",
       "      <td>1.1</td>\n",
       "      <td>93.994</td>\n",
       "      <td>-36.4</td>\n",
       "      <td>4.857</td>\n",
       "      <td>5191.0</td>\n",
       "      <td>no</td>\n",
       "    </tr>\n",
       "    <tr>\n",
       "      <th>1</th>\n",
       "      <td>57</td>\n",
       "      <td>8.0</td>\n",
       "      <td>3.0</td>\n",
       "      <td>4.0</td>\n",
       "      <td>0.0</td>\n",
       "      <td>0.0</td>\n",
       "      <td>1</td>\n",
       "      <td>5</td>\n",
       "      <td>mon</td>\n",
       "      <td>149</td>\n",
       "      <td>1</td>\n",
       "      <td>999</td>\n",
       "      <td>0</td>\n",
       "      <td>NaN</td>\n",
       "      <td>1.1</td>\n",
       "      <td>93.994</td>\n",
       "      <td>-36.4</td>\n",
       "      <td>4.857</td>\n",
       "      <td>5191.0</td>\n",
       "      <td>no</td>\n",
       "    </tr>\n",
       "    <tr>\n",
       "      <th>2</th>\n",
       "      <td>37</td>\n",
       "      <td>8.0</td>\n",
       "      <td>3.0</td>\n",
       "      <td>4.0</td>\n",
       "      <td>1.0</td>\n",
       "      <td>0.0</td>\n",
       "      <td>1</td>\n",
       "      <td>5</td>\n",
       "      <td>mon</td>\n",
       "      <td>226</td>\n",
       "      <td>1</td>\n",
       "      <td>999</td>\n",
       "      <td>0</td>\n",
       "      <td>NaN</td>\n",
       "      <td>1.1</td>\n",
       "      <td>93.994</td>\n",
       "      <td>-36.4</td>\n",
       "      <td>4.857</td>\n",
       "      <td>5191.0</td>\n",
       "      <td>no</td>\n",
       "    </tr>\n",
       "    <tr>\n",
       "      <th>3</th>\n",
       "      <td>40</td>\n",
       "      <td>11.0</td>\n",
       "      <td>3.0</td>\n",
       "      <td>2.0</td>\n",
       "      <td>0.0</td>\n",
       "      <td>0.0</td>\n",
       "      <td>1</td>\n",
       "      <td>5</td>\n",
       "      <td>mon</td>\n",
       "      <td>151</td>\n",
       "      <td>1</td>\n",
       "      <td>999</td>\n",
       "      <td>0</td>\n",
       "      <td>NaN</td>\n",
       "      <td>1.1</td>\n",
       "      <td>93.994</td>\n",
       "      <td>-36.4</td>\n",
       "      <td>4.857</td>\n",
       "      <td>5191.0</td>\n",
       "      <td>no</td>\n",
       "    </tr>\n",
       "    <tr>\n",
       "      <th>4</th>\n",
       "      <td>56</td>\n",
       "      <td>8.0</td>\n",
       "      <td>3.0</td>\n",
       "      <td>4.0</td>\n",
       "      <td>0.0</td>\n",
       "      <td>1.0</td>\n",
       "      <td>1</td>\n",
       "      <td>5</td>\n",
       "      <td>mon</td>\n",
       "      <td>307</td>\n",
       "      <td>1</td>\n",
       "      <td>999</td>\n",
       "      <td>0</td>\n",
       "      <td>NaN</td>\n",
       "      <td>1.1</td>\n",
       "      <td>93.994</td>\n",
       "      <td>-36.4</td>\n",
       "      <td>4.857</td>\n",
       "      <td>5191.0</td>\n",
       "      <td>no</td>\n",
       "    </tr>\n",
       "  </tbody>\n",
       "</table>\n",
       "</div>"
      ],
      "text/plain": [
       "   age   job  marital  education  housing  loan  contact  month day_of_week  \\\n",
       "0   56   3.0      3.0        1.0      0.0   0.0        1      5         mon   \n",
       "1   57   8.0      3.0        4.0      0.0   0.0        1      5         mon   \n",
       "2   37   8.0      3.0        4.0      1.0   0.0        1      5         mon   \n",
       "3   40  11.0      3.0        2.0      0.0   0.0        1      5         mon   \n",
       "4   56   8.0      3.0        4.0      0.0   1.0        1      5         mon   \n",
       "\n",
       "   duration  campaign  pdays  previous poutcome  emp.var.rate  cons.price.idx  \\\n",
       "0       261         1    999         0      NaN           1.1          93.994   \n",
       "1       149         1    999         0      NaN           1.1          93.994   \n",
       "2       226         1    999         0      NaN           1.1          93.994   \n",
       "3       151         1    999         0      NaN           1.1          93.994   \n",
       "4       307         1    999         0      NaN           1.1          93.994   \n",
       "\n",
       "   cons.conf.idx  euribor3m  nr.employed   y  \n",
       "0          -36.4      4.857       5191.0  no  \n",
       "1          -36.4      4.857       5191.0  no  \n",
       "2          -36.4      4.857       5191.0  no  \n",
       "3          -36.4      4.857       5191.0  no  \n",
       "4          -36.4      4.857       5191.0  no  "
      ]
     },
     "execution_count": 64,
     "metadata": {},
     "output_type": "execute_result"
    }
   ],
   "source": [
    "data.head()"
   ]
  },
  {
   "cell_type": "code",
   "execution_count": 65,
   "metadata": {},
   "outputs": [
    {
     "data": {
      "text/plain": [
       "0"
      ]
     },
     "execution_count": 65,
     "metadata": {},
     "output_type": "execute_result"
    }
   ],
   "source": [
    "data['month'].isna().sum()"
   ]
  },
  {
   "cell_type": "markdown",
   "metadata": {},
   "source": [
    "# Último contato da semana"
   ]
  },
  {
   "cell_type": "code",
   "execution_count": 66,
   "metadata": {},
   "outputs": [
    {
     "data": {
      "text/plain": [
       "array(['mon', 'tue', 'wed', 'thu', 'fri'], dtype=object)"
      ]
     },
     "execution_count": 66,
     "metadata": {},
     "output_type": "execute_result"
    }
   ],
   "source": [
    "data['day_of_week'].unique()"
   ]
  },
  {
   "cell_type": "markdown",
   "metadata": {},
   "source": [
    "- Qtd de cada instância"
   ]
  },
  {
   "cell_type": "code",
   "execution_count": 67,
   "metadata": {},
   "outputs": [
    {
     "data": {
      "text/plain": [
       "thu    8623\n",
       "mon    8514\n",
       "wed    8134\n",
       "tue    8090\n",
       "fri    7827\n",
       "Name: day_of_week, dtype: int64"
      ]
     },
     "execution_count": 67,
     "metadata": {},
     "output_type": "execute_result"
    }
   ],
   "source": [
    "data['day_of_week'].value_counts()"
   ]
  },
  {
   "cell_type": "markdown",
   "metadata": {},
   "source": [
    "- Verificando valores faltantes"
   ]
  },
  {
   "cell_type": "code",
   "execution_count": 68,
   "metadata": {},
   "outputs": [
    {
     "data": {
      "text/plain": [
       "0"
      ]
     },
     "execution_count": 68,
     "metadata": {},
     "output_type": "execute_result"
    }
   ],
   "source": [
    "data['day_of_week'].isna().sum()"
   ]
  },
  {
   "cell_type": "code",
   "execution_count": 69,
   "metadata": {},
   "outputs": [],
   "source": [
    "day_of_week_map = {'mon':2, 'tue':3, 'wed':4, 'thu':5, 'fri':6}"
   ]
  },
  {
   "cell_type": "code",
   "execution_count": 70,
   "metadata": {},
   "outputs": [],
   "source": [
    "data['day_of_week'] = data['day_of_week'].map(day_of_week_map)"
   ]
  },
  {
   "cell_type": "code",
   "execution_count": 71,
   "metadata": {},
   "outputs": [
    {
     "data": {
      "text/html": [
       "<div>\n",
       "<style scoped>\n",
       "    .dataframe tbody tr th:only-of-type {\n",
       "        vertical-align: middle;\n",
       "    }\n",
       "\n",
       "    .dataframe tbody tr th {\n",
       "        vertical-align: top;\n",
       "    }\n",
       "\n",
       "    .dataframe thead th {\n",
       "        text-align: right;\n",
       "    }\n",
       "</style>\n",
       "<table border=\"1\" class=\"dataframe\">\n",
       "  <thead>\n",
       "    <tr style=\"text-align: right;\">\n",
       "      <th></th>\n",
       "      <th>age</th>\n",
       "      <th>job</th>\n",
       "      <th>marital</th>\n",
       "      <th>education</th>\n",
       "      <th>housing</th>\n",
       "      <th>loan</th>\n",
       "      <th>contact</th>\n",
       "      <th>month</th>\n",
       "      <th>day_of_week</th>\n",
       "      <th>duration</th>\n",
       "      <th>campaign</th>\n",
       "      <th>pdays</th>\n",
       "      <th>previous</th>\n",
       "      <th>poutcome</th>\n",
       "      <th>emp.var.rate</th>\n",
       "      <th>cons.price.idx</th>\n",
       "      <th>cons.conf.idx</th>\n",
       "      <th>euribor3m</th>\n",
       "      <th>nr.employed</th>\n",
       "      <th>y</th>\n",
       "    </tr>\n",
       "  </thead>\n",
       "  <tbody>\n",
       "    <tr>\n",
       "      <th>0</th>\n",
       "      <td>56</td>\n",
       "      <td>3.0</td>\n",
       "      <td>3.0</td>\n",
       "      <td>1.0</td>\n",
       "      <td>0.0</td>\n",
       "      <td>0.0</td>\n",
       "      <td>1</td>\n",
       "      <td>5</td>\n",
       "      <td>2</td>\n",
       "      <td>261</td>\n",
       "      <td>1</td>\n",
       "      <td>999</td>\n",
       "      <td>0</td>\n",
       "      <td>NaN</td>\n",
       "      <td>1.1</td>\n",
       "      <td>93.994</td>\n",
       "      <td>-36.4</td>\n",
       "      <td>4.857</td>\n",
       "      <td>5191.0</td>\n",
       "      <td>no</td>\n",
       "    </tr>\n",
       "    <tr>\n",
       "      <th>1</th>\n",
       "      <td>57</td>\n",
       "      <td>8.0</td>\n",
       "      <td>3.0</td>\n",
       "      <td>4.0</td>\n",
       "      <td>0.0</td>\n",
       "      <td>0.0</td>\n",
       "      <td>1</td>\n",
       "      <td>5</td>\n",
       "      <td>2</td>\n",
       "      <td>149</td>\n",
       "      <td>1</td>\n",
       "      <td>999</td>\n",
       "      <td>0</td>\n",
       "      <td>NaN</td>\n",
       "      <td>1.1</td>\n",
       "      <td>93.994</td>\n",
       "      <td>-36.4</td>\n",
       "      <td>4.857</td>\n",
       "      <td>5191.0</td>\n",
       "      <td>no</td>\n",
       "    </tr>\n",
       "    <tr>\n",
       "      <th>2</th>\n",
       "      <td>37</td>\n",
       "      <td>8.0</td>\n",
       "      <td>3.0</td>\n",
       "      <td>4.0</td>\n",
       "      <td>1.0</td>\n",
       "      <td>0.0</td>\n",
       "      <td>1</td>\n",
       "      <td>5</td>\n",
       "      <td>2</td>\n",
       "      <td>226</td>\n",
       "      <td>1</td>\n",
       "      <td>999</td>\n",
       "      <td>0</td>\n",
       "      <td>NaN</td>\n",
       "      <td>1.1</td>\n",
       "      <td>93.994</td>\n",
       "      <td>-36.4</td>\n",
       "      <td>4.857</td>\n",
       "      <td>5191.0</td>\n",
       "      <td>no</td>\n",
       "    </tr>\n",
       "    <tr>\n",
       "      <th>3</th>\n",
       "      <td>40</td>\n",
       "      <td>11.0</td>\n",
       "      <td>3.0</td>\n",
       "      <td>2.0</td>\n",
       "      <td>0.0</td>\n",
       "      <td>0.0</td>\n",
       "      <td>1</td>\n",
       "      <td>5</td>\n",
       "      <td>2</td>\n",
       "      <td>151</td>\n",
       "      <td>1</td>\n",
       "      <td>999</td>\n",
       "      <td>0</td>\n",
       "      <td>NaN</td>\n",
       "      <td>1.1</td>\n",
       "      <td>93.994</td>\n",
       "      <td>-36.4</td>\n",
       "      <td>4.857</td>\n",
       "      <td>5191.0</td>\n",
       "      <td>no</td>\n",
       "    </tr>\n",
       "    <tr>\n",
       "      <th>4</th>\n",
       "      <td>56</td>\n",
       "      <td>8.0</td>\n",
       "      <td>3.0</td>\n",
       "      <td>4.0</td>\n",
       "      <td>0.0</td>\n",
       "      <td>1.0</td>\n",
       "      <td>1</td>\n",
       "      <td>5</td>\n",
       "      <td>2</td>\n",
       "      <td>307</td>\n",
       "      <td>1</td>\n",
       "      <td>999</td>\n",
       "      <td>0</td>\n",
       "      <td>NaN</td>\n",
       "      <td>1.1</td>\n",
       "      <td>93.994</td>\n",
       "      <td>-36.4</td>\n",
       "      <td>4.857</td>\n",
       "      <td>5191.0</td>\n",
       "      <td>no</td>\n",
       "    </tr>\n",
       "  </tbody>\n",
       "</table>\n",
       "</div>"
      ],
      "text/plain": [
       "   age   job  marital  education  housing  loan  contact  month  day_of_week  \\\n",
       "0   56   3.0      3.0        1.0      0.0   0.0        1      5            2   \n",
       "1   57   8.0      3.0        4.0      0.0   0.0        1      5            2   \n",
       "2   37   8.0      3.0        4.0      1.0   0.0        1      5            2   \n",
       "3   40  11.0      3.0        2.0      0.0   0.0        1      5            2   \n",
       "4   56   8.0      3.0        4.0      0.0   1.0        1      5            2   \n",
       "\n",
       "   duration  campaign  pdays  previous poutcome  emp.var.rate  cons.price.idx  \\\n",
       "0       261         1    999         0      NaN           1.1          93.994   \n",
       "1       149         1    999         0      NaN           1.1          93.994   \n",
       "2       226         1    999         0      NaN           1.1          93.994   \n",
       "3       151         1    999         0      NaN           1.1          93.994   \n",
       "4       307         1    999         0      NaN           1.1          93.994   \n",
       "\n",
       "   cons.conf.idx  euribor3m  nr.employed   y  \n",
       "0          -36.4      4.857       5191.0  no  \n",
       "1          -36.4      4.857       5191.0  no  \n",
       "2          -36.4      4.857       5191.0  no  \n",
       "3          -36.4      4.857       5191.0  no  \n",
       "4          -36.4      4.857       5191.0  no  "
      ]
     },
     "execution_count": 71,
     "metadata": {},
     "output_type": "execute_result"
    }
   ],
   "source": [
    "data.head()"
   ]
  },
  {
   "cell_type": "code",
   "execution_count": 72,
   "metadata": {},
   "outputs": [
    {
     "data": {
      "text/plain": [
       "0"
      ]
     },
     "execution_count": 72,
     "metadata": {},
     "output_type": "execute_result"
    }
   ],
   "source": [
    "data['day_of_week'].isna().sum()"
   ]
  },
  {
   "cell_type": "markdown",
   "metadata": {},
   "source": [
    "# Tempo do último contato"
   ]
  },
  {
   "cell_type": "code",
   "execution_count": 73,
   "metadata": {},
   "outputs": [
    {
     "data": {
      "text/plain": [
       "array([ 261,  149,  226, ..., 1246, 1556, 1868])"
      ]
     },
     "execution_count": 73,
     "metadata": {},
     "output_type": "execute_result"
    }
   ],
   "source": [
    "data['duration'].unique()"
   ]
  },
  {
   "cell_type": "markdown",
   "metadata": {},
   "source": [
    "- Qtd de cada instância"
   ]
  },
  {
   "cell_type": "code",
   "execution_count": 74,
   "metadata": {},
   "outputs": [
    {
     "data": {
      "text/plain": [
       "85      170\n",
       "90      170\n",
       "136     168\n",
       "73      167\n",
       "124     164\n",
       "87      162\n",
       "72      161\n",
       "104     161\n",
       "111     160\n",
       "106     159\n",
       "109     158\n",
       "97      158\n",
       "122     157\n",
       "135     156\n",
       "92      156\n",
       "114     156\n",
       "139     155\n",
       "96      155\n",
       "119     155\n",
       "82      154\n",
       "89      153\n",
       "76      153\n",
       "71      152\n",
       "126     152\n",
       "125     152\n",
       "93      151\n",
       "107     150\n",
       "88      150\n",
       "83      149\n",
       "123     149\n",
       "       ... \n",
       "2184      1\n",
       "1395      1\n",
       "1555      1\n",
       "1556      1\n",
       "1447      1\n",
       "1492      1\n",
       "3509      1\n",
       "1460      1\n",
       "1364      1\n",
       "1300      1\n",
       "3078      1\n",
       "1095      1\n",
       "1191      1\n",
       "1255      1\n",
       "1287      1\n",
       "3366      1\n",
       "1479      1\n",
       "2035      1\n",
       "1575      1\n",
       "1767      1\n",
       "1236      1\n",
       "3253      1\n",
       "2089      1\n",
       "1204      1\n",
       "1140      1\n",
       "1108      1\n",
       "980       1\n",
       "4918      1\n",
       "2453      1\n",
       "2015      1\n",
       "Name: duration, Length: 1544, dtype: int64"
      ]
     },
     "execution_count": 74,
     "metadata": {},
     "output_type": "execute_result"
    }
   ],
   "source": [
    "data['duration'].value_counts()"
   ]
  },
  {
   "cell_type": "markdown",
   "metadata": {},
   "source": [
    "- Verificando valores faltantes"
   ]
  },
  {
   "cell_type": "code",
   "execution_count": 75,
   "metadata": {},
   "outputs": [
    {
     "data": {
      "text/plain": [
       "0"
      ]
     },
     "execution_count": 75,
     "metadata": {},
     "output_type": "execute_result"
    }
   ],
   "source": [
    "data['duration'].isna().sum()"
   ]
  },
  {
   "cell_type": "markdown",
   "metadata": {},
   "source": [
    "# Num. de contatos realizados por cliente"
   ]
  },
  {
   "cell_type": "code",
   "execution_count": 76,
   "metadata": {},
   "outputs": [
    {
     "data": {
      "text/plain": [
       "array([ 1,  2,  3,  4,  5,  6,  7,  8,  9, 10, 11, 12, 13, 19, 18, 23, 14,\n",
       "       22, 25, 16, 17, 15, 20, 56, 39, 35, 42, 28, 26, 27, 32, 21, 24, 29,\n",
       "       31, 30, 41, 37, 40, 33, 34, 43])"
      ]
     },
     "execution_count": 76,
     "metadata": {},
     "output_type": "execute_result"
    }
   ],
   "source": [
    "data['campaign'].unique()"
   ]
  },
  {
   "cell_type": "markdown",
   "metadata": {},
   "source": [
    "- Qtd de cada instância"
   ]
  },
  {
   "cell_type": "code",
   "execution_count": 77,
   "metadata": {},
   "outputs": [
    {
     "data": {
      "text/plain": [
       "1     17642\n",
       "2     10570\n",
       "3      5341\n",
       "4      2651\n",
       "5      1599\n",
       "6       979\n",
       "7       629\n",
       "8       400\n",
       "9       283\n",
       "10      225\n",
       "11      177\n",
       "12      125\n",
       "13       92\n",
       "14       69\n",
       "17       58\n",
       "15       51\n",
       "16       51\n",
       "18       33\n",
       "20       30\n",
       "19       26\n",
       "21       24\n",
       "22       17\n",
       "23       16\n",
       "24       15\n",
       "27       11\n",
       "29       10\n",
       "25        8\n",
       "26        8\n",
       "28        8\n",
       "30        7\n",
       "31        7\n",
       "35        5\n",
       "33        4\n",
       "32        4\n",
       "34        3\n",
       "40        2\n",
       "42        2\n",
       "43        2\n",
       "37        1\n",
       "39        1\n",
       "41        1\n",
       "56        1\n",
       "Name: campaign, dtype: int64"
      ]
     },
     "execution_count": 77,
     "metadata": {},
     "output_type": "execute_result"
    }
   ],
   "source": [
    "data['campaign'].value_counts()"
   ]
  },
  {
   "cell_type": "markdown",
   "metadata": {},
   "source": [
    "- Verificando valores faltantes"
   ]
  },
  {
   "cell_type": "code",
   "execution_count": 78,
   "metadata": {},
   "outputs": [
    {
     "data": {
      "text/plain": [
       "0"
      ]
     },
     "execution_count": 78,
     "metadata": {},
     "output_type": "execute_result"
    }
   ],
   "source": [
    "data['campaign'].isna().sum()"
   ]
  },
  {
   "cell_type": "markdown",
   "metadata": {},
   "source": [
    "# Qtd de dias antes do último contato da campanha anterior"
   ]
  },
  {
   "cell_type": "code",
   "execution_count": 79,
   "metadata": {},
   "outputs": [
    {
     "data": {
      "text/plain": [
       "array([999,   6,   4,   3,   5,   1,   0,  10,   7,   8,   9,  11,   2,\n",
       "        12,  13,  14,  15,  16,  21,  17,  18,  22,  25,  26,  19,  27,\n",
       "        20])"
      ]
     },
     "execution_count": 79,
     "metadata": {},
     "output_type": "execute_result"
    }
   ],
   "source": [
    "data['pdays'].unique()"
   ]
  },
  {
   "cell_type": "markdown",
   "metadata": {},
   "source": [
    "- Qtd de cada instância"
   ]
  },
  {
   "cell_type": "code",
   "execution_count": 80,
   "metadata": {},
   "outputs": [
    {
     "data": {
      "text/plain": [
       "999    39673\n",
       "3        439\n",
       "6        412\n",
       "4        118\n",
       "9         64\n",
       "2         61\n",
       "7         60\n",
       "12        58\n",
       "10        52\n",
       "5         46\n",
       "13        36\n",
       "11        28\n",
       "1         26\n",
       "15        24\n",
       "14        20\n",
       "8         18\n",
       "0         15\n",
       "16        11\n",
       "17         8\n",
       "18         7\n",
       "19         3\n",
       "22         3\n",
       "21         2\n",
       "26         1\n",
       "20         1\n",
       "25         1\n",
       "27         1\n",
       "Name: pdays, dtype: int64"
      ]
     },
     "execution_count": 80,
     "metadata": {},
     "output_type": "execute_result"
    }
   ],
   "source": [
    "data['pdays'].value_counts()"
   ]
  },
  {
   "cell_type": "markdown",
   "metadata": {},
   "source": [
    "- Verificando valores faltantes"
   ]
  },
  {
   "cell_type": "code",
   "execution_count": 81,
   "metadata": {},
   "outputs": [
    {
     "data": {
      "text/plain": [
       "0"
      ]
     },
     "execution_count": 81,
     "metadata": {},
     "output_type": "execute_result"
    }
   ],
   "source": [
    "data['pdays'].isna().sum()"
   ]
  },
  {
   "cell_type": "markdown",
   "metadata": {},
   "source": [
    "# Num. de contatos realizados antes dessa campanha"
   ]
  },
  {
   "cell_type": "code",
   "execution_count": 82,
   "metadata": {},
   "outputs": [
    {
     "data": {
      "text/plain": [
       "array([0, 1, 2, 3, 4, 5, 6, 7])"
      ]
     },
     "execution_count": 82,
     "metadata": {},
     "output_type": "execute_result"
    }
   ],
   "source": [
    "data['previous'].unique()"
   ]
  },
  {
   "cell_type": "markdown",
   "metadata": {},
   "source": [
    "- Qtd de cada instância"
   ]
  },
  {
   "cell_type": "code",
   "execution_count": 83,
   "metadata": {},
   "outputs": [
    {
     "data": {
      "text/plain": [
       "0    35563\n",
       "1     4561\n",
       "2      754\n",
       "3      216\n",
       "4       70\n",
       "5       18\n",
       "6        5\n",
       "7        1\n",
       "Name: previous, dtype: int64"
      ]
     },
     "execution_count": 83,
     "metadata": {},
     "output_type": "execute_result"
    }
   ],
   "source": [
    "data['previous'].value_counts()"
   ]
  },
  {
   "cell_type": "markdown",
   "metadata": {},
   "source": [
    "- Verificando valores faltantes"
   ]
  },
  {
   "cell_type": "code",
   "execution_count": 84,
   "metadata": {},
   "outputs": [
    {
     "data": {
      "text/plain": [
       "0"
      ]
     },
     "execution_count": 84,
     "metadata": {},
     "output_type": "execute_result"
    }
   ],
   "source": [
    "data['previous'].isna().sum()"
   ]
  },
  {
   "cell_type": "markdown",
   "metadata": {},
   "source": [
    "# Resultado da campanha anterior de marketing"
   ]
  },
  {
   "cell_type": "code",
   "execution_count": 85,
   "metadata": {},
   "outputs": [
    {
     "data": {
      "text/plain": [
       "array([nan, 'failure', 'success'], dtype=object)"
      ]
     },
     "execution_count": 85,
     "metadata": {},
     "output_type": "execute_result"
    }
   ],
   "source": [
    "data['poutcome'].unique()"
   ]
  },
  {
   "cell_type": "markdown",
   "metadata": {},
   "source": [
    "- Qtd de cada instância"
   ]
  },
  {
   "cell_type": "code",
   "execution_count": 86,
   "metadata": {},
   "outputs": [
    {
     "data": {
      "text/plain": [
       "failure    4252\n",
       "success    1373\n",
       "Name: poutcome, dtype: int64"
      ]
     },
     "execution_count": 86,
     "metadata": {},
     "output_type": "execute_result"
    }
   ],
   "source": [
    "data['poutcome'].value_counts()"
   ]
  },
  {
   "cell_type": "markdown",
   "metadata": {},
   "source": [
    "- Verificando valores faltantes"
   ]
  },
  {
   "cell_type": "code",
   "execution_count": 87,
   "metadata": {},
   "outputs": [
    {
     "data": {
      "text/plain": [
       "35563"
      ]
     },
     "execution_count": 87,
     "metadata": {},
     "output_type": "execute_result"
    }
   ],
   "source": [
    "data['poutcome'].isna().sum()"
   ]
  },
  {
   "cell_type": "markdown",
   "metadata": {},
   "source": [
    "- Removendo coluna com muitos atributos nulos"
   ]
  },
  {
   "cell_type": "code",
   "execution_count": 88,
   "metadata": {},
   "outputs": [],
   "source": [
    "data.drop('poutcome', axis=1, inplace=True)"
   ]
  },
  {
   "cell_type": "code",
   "execution_count": 89,
   "metadata": {},
   "outputs": [
    {
     "data": {
      "text/html": [
       "<div>\n",
       "<style scoped>\n",
       "    .dataframe tbody tr th:only-of-type {\n",
       "        vertical-align: middle;\n",
       "    }\n",
       "\n",
       "    .dataframe tbody tr th {\n",
       "        vertical-align: top;\n",
       "    }\n",
       "\n",
       "    .dataframe thead th {\n",
       "        text-align: right;\n",
       "    }\n",
       "</style>\n",
       "<table border=\"1\" class=\"dataframe\">\n",
       "  <thead>\n",
       "    <tr style=\"text-align: right;\">\n",
       "      <th></th>\n",
       "      <th>age</th>\n",
       "      <th>job</th>\n",
       "      <th>marital</th>\n",
       "      <th>education</th>\n",
       "      <th>housing</th>\n",
       "      <th>loan</th>\n",
       "      <th>contact</th>\n",
       "      <th>month</th>\n",
       "      <th>day_of_week</th>\n",
       "      <th>duration</th>\n",
       "      <th>campaign</th>\n",
       "      <th>pdays</th>\n",
       "      <th>previous</th>\n",
       "      <th>emp.var.rate</th>\n",
       "      <th>cons.price.idx</th>\n",
       "      <th>cons.conf.idx</th>\n",
       "      <th>euribor3m</th>\n",
       "      <th>nr.employed</th>\n",
       "      <th>y</th>\n",
       "    </tr>\n",
       "  </thead>\n",
       "  <tbody>\n",
       "    <tr>\n",
       "      <th>0</th>\n",
       "      <td>56</td>\n",
       "      <td>3.0</td>\n",
       "      <td>3.0</td>\n",
       "      <td>1.0</td>\n",
       "      <td>0.0</td>\n",
       "      <td>0.0</td>\n",
       "      <td>1</td>\n",
       "      <td>5</td>\n",
       "      <td>2</td>\n",
       "      <td>261</td>\n",
       "      <td>1</td>\n",
       "      <td>999</td>\n",
       "      <td>0</td>\n",
       "      <td>1.1</td>\n",
       "      <td>93.994</td>\n",
       "      <td>-36.4</td>\n",
       "      <td>4.857</td>\n",
       "      <td>5191.0</td>\n",
       "      <td>no</td>\n",
       "    </tr>\n",
       "    <tr>\n",
       "      <th>1</th>\n",
       "      <td>57</td>\n",
       "      <td>8.0</td>\n",
       "      <td>3.0</td>\n",
       "      <td>4.0</td>\n",
       "      <td>0.0</td>\n",
       "      <td>0.0</td>\n",
       "      <td>1</td>\n",
       "      <td>5</td>\n",
       "      <td>2</td>\n",
       "      <td>149</td>\n",
       "      <td>1</td>\n",
       "      <td>999</td>\n",
       "      <td>0</td>\n",
       "      <td>1.1</td>\n",
       "      <td>93.994</td>\n",
       "      <td>-36.4</td>\n",
       "      <td>4.857</td>\n",
       "      <td>5191.0</td>\n",
       "      <td>no</td>\n",
       "    </tr>\n",
       "    <tr>\n",
       "      <th>2</th>\n",
       "      <td>37</td>\n",
       "      <td>8.0</td>\n",
       "      <td>3.0</td>\n",
       "      <td>4.0</td>\n",
       "      <td>1.0</td>\n",
       "      <td>0.0</td>\n",
       "      <td>1</td>\n",
       "      <td>5</td>\n",
       "      <td>2</td>\n",
       "      <td>226</td>\n",
       "      <td>1</td>\n",
       "      <td>999</td>\n",
       "      <td>0</td>\n",
       "      <td>1.1</td>\n",
       "      <td>93.994</td>\n",
       "      <td>-36.4</td>\n",
       "      <td>4.857</td>\n",
       "      <td>5191.0</td>\n",
       "      <td>no</td>\n",
       "    </tr>\n",
       "    <tr>\n",
       "      <th>3</th>\n",
       "      <td>40</td>\n",
       "      <td>11.0</td>\n",
       "      <td>3.0</td>\n",
       "      <td>2.0</td>\n",
       "      <td>0.0</td>\n",
       "      <td>0.0</td>\n",
       "      <td>1</td>\n",
       "      <td>5</td>\n",
       "      <td>2</td>\n",
       "      <td>151</td>\n",
       "      <td>1</td>\n",
       "      <td>999</td>\n",
       "      <td>0</td>\n",
       "      <td>1.1</td>\n",
       "      <td>93.994</td>\n",
       "      <td>-36.4</td>\n",
       "      <td>4.857</td>\n",
       "      <td>5191.0</td>\n",
       "      <td>no</td>\n",
       "    </tr>\n",
       "    <tr>\n",
       "      <th>4</th>\n",
       "      <td>56</td>\n",
       "      <td>8.0</td>\n",
       "      <td>3.0</td>\n",
       "      <td>4.0</td>\n",
       "      <td>0.0</td>\n",
       "      <td>1.0</td>\n",
       "      <td>1</td>\n",
       "      <td>5</td>\n",
       "      <td>2</td>\n",
       "      <td>307</td>\n",
       "      <td>1</td>\n",
       "      <td>999</td>\n",
       "      <td>0</td>\n",
       "      <td>1.1</td>\n",
       "      <td>93.994</td>\n",
       "      <td>-36.4</td>\n",
       "      <td>4.857</td>\n",
       "      <td>5191.0</td>\n",
       "      <td>no</td>\n",
       "    </tr>\n",
       "  </tbody>\n",
       "</table>\n",
       "</div>"
      ],
      "text/plain": [
       "   age   job  marital  education  housing  loan  contact  month  day_of_week  \\\n",
       "0   56   3.0      3.0        1.0      0.0   0.0        1      5            2   \n",
       "1   57   8.0      3.0        4.0      0.0   0.0        1      5            2   \n",
       "2   37   8.0      3.0        4.0      1.0   0.0        1      5            2   \n",
       "3   40  11.0      3.0        2.0      0.0   0.0        1      5            2   \n",
       "4   56   8.0      3.0        4.0      0.0   1.0        1      5            2   \n",
       "\n",
       "   duration  campaign  pdays  previous  emp.var.rate  cons.price.idx  \\\n",
       "0       261         1    999         0           1.1          93.994   \n",
       "1       149         1    999         0           1.1          93.994   \n",
       "2       226         1    999         0           1.1          93.994   \n",
       "3       151         1    999         0           1.1          93.994   \n",
       "4       307         1    999         0           1.1          93.994   \n",
       "\n",
       "   cons.conf.idx  euribor3m  nr.employed   y  \n",
       "0          -36.4      4.857       5191.0  no  \n",
       "1          -36.4      4.857       5191.0  no  \n",
       "2          -36.4      4.857       5191.0  no  \n",
       "3          -36.4      4.857       5191.0  no  \n",
       "4          -36.4      4.857       5191.0  no  "
      ]
     },
     "execution_count": 89,
     "metadata": {},
     "output_type": "execute_result"
    }
   ],
   "source": [
    "data.head()"
   ]
  },
  {
   "cell_type": "code",
   "execution_count": 90,
   "metadata": {},
   "outputs": [
    {
     "data": {
      "text/plain": [
       "(41188, 19)"
      ]
     },
     "execution_count": 90,
     "metadata": {},
     "output_type": "execute_result"
    }
   ],
   "source": [
    "data.shape"
   ]
  },
  {
   "cell_type": "markdown",
   "metadata": {},
   "source": [
    "# Taxa de variação de emprego - Indicador trimestral"
   ]
  },
  {
   "cell_type": "code",
   "execution_count": 91,
   "metadata": {},
   "outputs": [
    {
     "data": {
      "text/plain": [
       "array([ 1.1,  1.4, -0.1, -0.2, -1.8, -2.9, -3.4, -3. , -1.7, -1.1])"
      ]
     },
     "execution_count": 91,
     "metadata": {},
     "output_type": "execute_result"
    }
   ],
   "source": [
    "data['emp.var.rate'].unique()"
   ]
  },
  {
   "cell_type": "markdown",
   "metadata": {},
   "source": [
    "- Qtd de cada instância"
   ]
  },
  {
   "cell_type": "code",
   "execution_count": 92,
   "metadata": {},
   "outputs": [
    {
     "data": {
      "text/plain": [
       " 1.4    16234\n",
       "-1.8     9184\n",
       " 1.1     7763\n",
       "-0.1     3683\n",
       "-2.9     1663\n",
       "-3.4     1071\n",
       "-1.7      773\n",
       "-1.1      635\n",
       "-3.0      172\n",
       "-0.2       10\n",
       "Name: emp.var.rate, dtype: int64"
      ]
     },
     "execution_count": 92,
     "metadata": {},
     "output_type": "execute_result"
    }
   ],
   "source": [
    "data['emp.var.rate'].value_counts()"
   ]
  },
  {
   "cell_type": "markdown",
   "metadata": {},
   "source": [
    "- Verificando valores faltantes"
   ]
  },
  {
   "cell_type": "code",
   "execution_count": 93,
   "metadata": {},
   "outputs": [
    {
     "data": {
      "text/plain": [
       "0"
      ]
     },
     "execution_count": 93,
     "metadata": {},
     "output_type": "execute_result"
    }
   ],
   "source": [
    "data['emp.var.rate'].isna().sum()"
   ]
  },
  {
   "cell_type": "markdown",
   "metadata": {},
   "source": [
    "# Indice de preços ao consumidor - Indicador mensal"
   ]
  },
  {
   "cell_type": "code",
   "execution_count": 94,
   "metadata": {},
   "outputs": [
    {
     "data": {
      "text/plain": [
       "array([93.994, 94.465, 93.918, 93.444, 93.798, 93.2  , 92.756, 92.843,\n",
       "       93.075, 92.893, 92.963, 92.469, 92.201, 92.379, 92.431, 92.649,\n",
       "       92.713, 93.369, 93.749, 93.876, 94.055, 94.215, 94.027, 94.199,\n",
       "       94.601, 94.767])"
      ]
     },
     "execution_count": 94,
     "metadata": {},
     "output_type": "execute_result"
    }
   ],
   "source": [
    "data['cons.price.idx'].unique()"
   ]
  },
  {
   "cell_type": "markdown",
   "metadata": {},
   "source": [
    "- Qtd de cada instância"
   ]
  },
  {
   "cell_type": "code",
   "execution_count": 95,
   "metadata": {},
   "outputs": [
    {
     "data": {
      "text/plain": [
       "93.994    7763\n",
       "93.918    6685\n",
       "92.893    5794\n",
       "93.444    5175\n",
       "94.465    4374\n",
       "93.200    3616\n",
       "93.075    2458\n",
       "92.201     770\n",
       "92.963     715\n",
       "92.431     447\n",
       "92.649     357\n",
       "94.215     311\n",
       "94.199     303\n",
       "92.843     282\n",
       "92.379     267\n",
       "93.369     264\n",
       "94.027     233\n",
       "94.055     229\n",
       "93.876     212\n",
       "94.601     204\n",
       "92.469     178\n",
       "93.749     174\n",
       "92.713     172\n",
       "94.767     128\n",
       "93.798      67\n",
       "92.756      10\n",
       "Name: cons.price.idx, dtype: int64"
      ]
     },
     "execution_count": 95,
     "metadata": {},
     "output_type": "execute_result"
    }
   ],
   "source": [
    "data['cons.price.idx'].value_counts()"
   ]
  },
  {
   "cell_type": "markdown",
   "metadata": {},
   "source": [
    "- Verificando valores faltantes"
   ]
  },
  {
   "cell_type": "code",
   "execution_count": 96,
   "metadata": {},
   "outputs": [
    {
     "data": {
      "text/plain": [
       "0"
      ]
     },
     "execution_count": 96,
     "metadata": {},
     "output_type": "execute_result"
    }
   ],
   "source": [
    "data['cons.price.idx'].isna().sum()"
   ]
  },
  {
   "cell_type": "markdown",
   "metadata": {},
   "source": [
    "# Indice de confiança do consumidor - Indicador mensal"
   ]
  },
  {
   "cell_type": "code",
   "execution_count": 97,
   "metadata": {},
   "outputs": [
    {
     "data": {
      "text/plain": [
       "array([-36.4, -41.8, -42.7, -36.1, -40.4, -42. , -45.9, -50. , -47.1,\n",
       "       -46.2, -40.8, -33.6, -31.4, -29.8, -26.9, -30.1, -33. , -34.8,\n",
       "       -34.6, -40. , -39.8, -40.3, -38.3, -37.5, -49.5, -50.8])"
      ]
     },
     "execution_count": 97,
     "metadata": {},
     "output_type": "execute_result"
    }
   ],
   "source": [
    "data['cons.conf.idx'].unique()"
   ]
  },
  {
   "cell_type": "markdown",
   "metadata": {},
   "source": [
    "- Qtd de cada instância"
   ]
  },
  {
   "cell_type": "code",
   "execution_count": 98,
   "metadata": {},
   "outputs": [
    {
     "data": {
      "text/plain": [
       "-36.4    7763\n",
       "-42.7    6685\n",
       "-46.2    5794\n",
       "-36.1    5175\n",
       "-41.8    4374\n",
       "-42.0    3616\n",
       "-47.1    2458\n",
       "-31.4     770\n",
       "-40.8     715\n",
       "-26.9     447\n",
       "-30.1     357\n",
       "-40.3     311\n",
       "-37.5     303\n",
       "-50.0     282\n",
       "-29.8     267\n",
       "-34.8     264\n",
       "-38.3     233\n",
       "-39.8     229\n",
       "-40.0     212\n",
       "-49.5     204\n",
       "-33.6     178\n",
       "-34.6     174\n",
       "-33.0     172\n",
       "-50.8     128\n",
       "-40.4      67\n",
       "-45.9      10\n",
       "Name: cons.conf.idx, dtype: int64"
      ]
     },
     "execution_count": 98,
     "metadata": {},
     "output_type": "execute_result"
    }
   ],
   "source": [
    "data['cons.conf.idx'].value_counts()"
   ]
  },
  {
   "cell_type": "markdown",
   "metadata": {},
   "source": [
    "- Verificando valores faltantes"
   ]
  },
  {
   "cell_type": "code",
   "execution_count": 99,
   "metadata": {},
   "outputs": [
    {
     "data": {
      "text/plain": [
       "0"
      ]
     },
     "execution_count": 99,
     "metadata": {},
     "output_type": "execute_result"
    }
   ],
   "source": [
    "data['cons.conf.idx'].isna().sum()"
   ]
  },
  {
   "cell_type": "markdown",
   "metadata": {},
   "source": [
    "# Euribor 3 meses\n",
    "- Euribor é a junção das palavras Euro Interbank Offered Rate. As taxas Euribor baseiam-se na média das taxas de juros praticadas em empréstimos interbancários em euros por cerca 25/40 bancos proeminentes europeus (o painel de Bancos). Para a determinação das taxas Euribor são excluídos 15 por cento tanto das percentagens mais altas como das percentagens mais baixas relatadas. Todos os dias úteis, às 11:00 horas Hora Central Europeia, as taxas de juro Euribor são divulgadas e transmitidas a todas as partes participantes e imprensa."
   ]
  },
  {
   "cell_type": "code",
   "execution_count": 100,
   "metadata": {},
   "outputs": [
    {
     "data": {
      "text/plain": [
       "array([4.857, 4.856, 4.855, 4.859, 4.86 , 4.858, 4.864, 4.865, 4.866,\n",
       "       4.967, 4.961, 4.959, 4.958, 4.96 , 4.962, 4.955, 4.947, 4.956,\n",
       "       4.966, 4.963, 4.957, 4.968, 4.97 , 4.965, 4.964, 5.045, 5.   ,\n",
       "       4.936, 4.921, 4.918, 4.912, 4.827, 4.794, 4.76 , 4.733, 4.7  ,\n",
       "       4.663, 4.592, 4.474, 4.406, 4.343, 4.286, 4.245, 4.223, 4.191,\n",
       "       4.153, 4.12 , 4.076, 4.021, 3.901, 3.879, 3.853, 3.816, 3.743,\n",
       "       3.669, 3.563, 3.488, 3.428, 3.329, 3.282, 3.053, 1.811, 1.799,\n",
       "       1.778, 1.757, 1.726, 1.703, 1.687, 1.663, 1.65 , 1.64 , 1.629,\n",
       "       1.614, 1.602, 1.584, 1.574, 1.56 , 1.556, 1.548, 1.538, 1.531,\n",
       "       1.52 , 1.51 , 1.498, 1.483, 1.479, 1.466, 1.453, 1.445, 1.435,\n",
       "       1.423, 1.415, 1.41 , 1.405, 1.406, 1.4  , 1.392, 1.384, 1.372,\n",
       "       1.365, 1.354, 1.344, 1.334, 1.327, 1.313, 1.299, 1.291, 1.281,\n",
       "       1.266, 1.25 , 1.244, 1.259, 1.264, 1.27 , 1.262, 1.26 , 1.268,\n",
       "       1.286, 1.252, 1.235, 1.224, 1.215, 1.206, 1.099, 1.085, 1.072,\n",
       "       1.059, 1.048, 1.044, 1.029, 1.018, 1.007, 0.996, 0.979, 0.969,\n",
       "       0.944, 0.937, 0.933, 0.927, 0.921, 0.914, 0.908, 0.903, 0.899,\n",
       "       0.884, 0.883, 0.881, 0.879, 0.873, 0.869, 0.861, 0.859, 0.854,\n",
       "       0.851, 0.849, 0.843, 0.838, 0.834, 0.829, 0.825, 0.821, 0.819,\n",
       "       0.813, 0.809, 0.803, 0.797, 0.788, 0.781, 0.778, 0.773, 0.771,\n",
       "       0.77 , 0.768, 0.766, 0.762, 0.755, 0.749, 0.743, 0.741, 0.739,\n",
       "       0.75 , 0.753, 0.754, 0.752, 0.744, 0.74 , 0.742, 0.737, 0.735,\n",
       "       0.733, 0.73 , 0.731, 0.728, 0.724, 0.722, 0.72 , 0.719, 0.716,\n",
       "       0.715, 0.714, 0.718, 0.721, 0.717, 0.712, 0.71 , 0.709, 0.708,\n",
       "       0.706, 0.707, 0.7  , 0.655, 0.654, 0.653, 0.652, 0.651, 0.65 ,\n",
       "       0.649, 0.646, 0.644, 0.643, 0.639, 0.637, 0.635, 0.636, 0.634,\n",
       "       0.638, 0.64 , 0.642, 0.645, 0.659, 0.663, 0.668, 0.672, 0.677,\n",
       "       0.682, 0.683, 0.684, 0.685, 0.688, 0.69 , 0.692, 0.695, 0.697,\n",
       "       0.699, 0.701, 0.702, 0.704, 0.711, 0.713, 0.723, 0.727, 0.729,\n",
       "       0.732, 0.748, 0.761, 0.767, 0.782, 0.79 , 0.793, 0.802, 0.81 ,\n",
       "       0.822, 0.827, 0.835, 0.84 , 0.846, 0.87 , 0.876, 0.885, 0.889,\n",
       "       0.893, 0.896, 0.898, 0.9  , 0.904, 0.905, 0.895, 0.894, 0.891,\n",
       "       0.89 , 0.888, 0.886, 0.882, 0.88 , 0.878, 0.877, 0.942, 0.953,\n",
       "       0.956, 0.959, 0.965, 0.972, 0.977, 0.982, 0.985, 0.987, 0.993,\n",
       "       1.   , 1.008, 1.016, 1.025, 1.032, 1.037, 1.043, 1.045, 1.047,\n",
       "       1.05 , 1.049, 1.046, 1.041, 1.04 , 1.039, 1.035, 1.03 , 1.031,\n",
       "       1.028])"
      ]
     },
     "execution_count": 100,
     "metadata": {},
     "output_type": "execute_result"
    }
   ],
   "source": [
    "data['euribor3m'].unique()"
   ]
  },
  {
   "cell_type": "markdown",
   "metadata": {},
   "source": [
    "- Qtd de cada instância"
   ]
  },
  {
   "cell_type": "code",
   "execution_count": 101,
   "metadata": {},
   "outputs": [
    {
     "data": {
      "text/plain": [
       "4.857    2868\n",
       "4.962    2613\n",
       "4.963    2487\n",
       "4.961    1902\n",
       "4.856    1210\n",
       "4.964    1175\n",
       "1.405    1169\n",
       "4.965    1071\n",
       "4.864    1044\n",
       "4.960    1013\n",
       "4.968     992\n",
       "4.959     895\n",
       "4.860     892\n",
       "4.855     840\n",
       "4.076     822\n",
       "1.266     820\n",
       "4.859     788\n",
       "4.120     756\n",
       "4.858     733\n",
       "4.153     690\n",
       "4.021     676\n",
       "4.967     643\n",
       "1.281     637\n",
       "4.966     622\n",
       "4.191     610\n",
       "1.250     587\n",
       "4.958     581\n",
       "1.291     544\n",
       "1.327     538\n",
       "4.957     537\n",
       "         ... \n",
       "0.914       3\n",
       "4.474       3\n",
       "1.018       3\n",
       "1.007       3\n",
       "1.778       3\n",
       "0.927       2\n",
       "4.733       2\n",
       "3.879       2\n",
       "0.749       2\n",
       "0.953       2\n",
       "0.937       2\n",
       "0.921       2\n",
       "3.563       2\n",
       "0.969       1\n",
       "3.329       1\n",
       "1.047       1\n",
       "3.743       1\n",
       "3.428       1\n",
       "3.901       1\n",
       "1.574       1\n",
       "3.488       1\n",
       "3.853       1\n",
       "3.669       1\n",
       "3.053       1\n",
       "3.816       1\n",
       "1.045       1\n",
       "0.956       1\n",
       "0.933       1\n",
       "3.282       1\n",
       "0.996       1\n",
       "Name: euribor3m, Length: 316, dtype: int64"
      ]
     },
     "execution_count": 101,
     "metadata": {},
     "output_type": "execute_result"
    }
   ],
   "source": [
    "data['euribor3m'].value_counts()"
   ]
  },
  {
   "cell_type": "markdown",
   "metadata": {},
   "source": [
    "- Verificando valores faltantes"
   ]
  },
  {
   "cell_type": "code",
   "execution_count": 102,
   "metadata": {},
   "outputs": [
    {
     "data": {
      "text/plain": [
       "0"
      ]
     },
     "execution_count": 102,
     "metadata": {},
     "output_type": "execute_result"
    }
   ],
   "source": [
    "data['euribor3m'].isna().sum()"
   ]
  },
  {
   "cell_type": "markdown",
   "metadata": {},
   "source": [
    "# Num. de empregados - Indicador trimestral"
   ]
  },
  {
   "cell_type": "code",
   "execution_count": 103,
   "metadata": {},
   "outputs": [
    {
     "data": {
      "text/plain": [
       "array([5191. , 5228.1, 5195.8, 5176.3, 5099.1, 5076.2, 5017.5, 5023.5,\n",
       "       5008.7, 4991.6, 4963.6])"
      ]
     },
     "execution_count": 103,
     "metadata": {},
     "output_type": "execute_result"
    }
   ],
   "source": [
    "data['nr.employed'].unique()"
   ]
  },
  {
   "cell_type": "markdown",
   "metadata": {},
   "source": [
    "- Qtd de cada instância"
   ]
  },
  {
   "cell_type": "code",
   "execution_count": 104,
   "metadata": {},
   "outputs": [
    {
     "data": {
      "text/plain": [
       "5228.1    16234\n",
       "5099.1     8534\n",
       "5191.0     7763\n",
       "5195.8     3683\n",
       "5076.2     1663\n",
       "5017.5     1071\n",
       "4991.6      773\n",
       "5008.7      650\n",
       "4963.6      635\n",
       "5023.5      172\n",
       "5176.3       10\n",
       "Name: nr.employed, dtype: int64"
      ]
     },
     "execution_count": 104,
     "metadata": {},
     "output_type": "execute_result"
    }
   ],
   "source": [
    "data['nr.employed'].value_counts()"
   ]
  },
  {
   "cell_type": "markdown",
   "metadata": {},
   "source": [
    "- Verificando valores faltantes"
   ]
  },
  {
   "cell_type": "code",
   "execution_count": 105,
   "metadata": {},
   "outputs": [
    {
     "data": {
      "text/plain": [
       "0"
      ]
     },
     "execution_count": 105,
     "metadata": {},
     "output_type": "execute_result"
    }
   ],
   "source": [
    "data['nr.employed'].isna().sum()"
   ]
  },
  {
   "cell_type": "markdown",
   "metadata": {},
   "source": [
    "# O cliente assinou depósito à prazo?"
   ]
  },
  {
   "cell_type": "code",
   "execution_count": 106,
   "metadata": {},
   "outputs": [
    {
     "data": {
      "text/plain": [
       "array(['no', 'yes'], dtype=object)"
      ]
     },
     "execution_count": 106,
     "metadata": {},
     "output_type": "execute_result"
    }
   ],
   "source": [
    "data['y'].unique()"
   ]
  },
  {
   "cell_type": "markdown",
   "metadata": {},
   "source": [
    "- Qtd de cada instância"
   ]
  },
  {
   "cell_type": "code",
   "execution_count": 107,
   "metadata": {},
   "outputs": [
    {
     "data": {
      "text/plain": [
       "no     36548\n",
       "yes     4640\n",
       "Name: y, dtype: int64"
      ]
     },
     "execution_count": 107,
     "metadata": {},
     "output_type": "execute_result"
    }
   ],
   "source": [
    "data['y'].value_counts()"
   ]
  },
  {
   "cell_type": "markdown",
   "metadata": {},
   "source": [
    "- Verificando valores faltantes"
   ]
  },
  {
   "cell_type": "code",
   "execution_count": 108,
   "metadata": {},
   "outputs": [
    {
     "data": {
      "text/plain": [
       "0"
      ]
     },
     "execution_count": 108,
     "metadata": {},
     "output_type": "execute_result"
    }
   ],
   "source": [
    "data['y'].isna().sum()"
   ]
  },
  {
   "cell_type": "code",
   "execution_count": 109,
   "metadata": {},
   "outputs": [],
   "source": [
    "y_map = {'yes':1, 'no':0}"
   ]
  },
  {
   "cell_type": "code",
   "execution_count": 110,
   "metadata": {},
   "outputs": [],
   "source": [
    "data['y'] = data['y'].map(y_map)"
   ]
  },
  {
   "cell_type": "code",
   "execution_count": 111,
   "metadata": {},
   "outputs": [
    {
     "data": {
      "text/html": [
       "<div>\n",
       "<style scoped>\n",
       "    .dataframe tbody tr th:only-of-type {\n",
       "        vertical-align: middle;\n",
       "    }\n",
       "\n",
       "    .dataframe tbody tr th {\n",
       "        vertical-align: top;\n",
       "    }\n",
       "\n",
       "    .dataframe thead th {\n",
       "        text-align: right;\n",
       "    }\n",
       "</style>\n",
       "<table border=\"1\" class=\"dataframe\">\n",
       "  <thead>\n",
       "    <tr style=\"text-align: right;\">\n",
       "      <th></th>\n",
       "      <th>age</th>\n",
       "      <th>job</th>\n",
       "      <th>marital</th>\n",
       "      <th>education</th>\n",
       "      <th>housing</th>\n",
       "      <th>loan</th>\n",
       "      <th>contact</th>\n",
       "      <th>month</th>\n",
       "      <th>day_of_week</th>\n",
       "      <th>duration</th>\n",
       "      <th>campaign</th>\n",
       "      <th>pdays</th>\n",
       "      <th>previous</th>\n",
       "      <th>emp.var.rate</th>\n",
       "      <th>cons.price.idx</th>\n",
       "      <th>cons.conf.idx</th>\n",
       "      <th>euribor3m</th>\n",
       "      <th>nr.employed</th>\n",
       "      <th>y</th>\n",
       "    </tr>\n",
       "  </thead>\n",
       "  <tbody>\n",
       "    <tr>\n",
       "      <th>0</th>\n",
       "      <td>56</td>\n",
       "      <td>3.0</td>\n",
       "      <td>3.0</td>\n",
       "      <td>1.0</td>\n",
       "      <td>0.0</td>\n",
       "      <td>0.0</td>\n",
       "      <td>1</td>\n",
       "      <td>5</td>\n",
       "      <td>2</td>\n",
       "      <td>261</td>\n",
       "      <td>1</td>\n",
       "      <td>999</td>\n",
       "      <td>0</td>\n",
       "      <td>1.1</td>\n",
       "      <td>93.994</td>\n",
       "      <td>-36.4</td>\n",
       "      <td>4.857</td>\n",
       "      <td>5191.0</td>\n",
       "      <td>0</td>\n",
       "    </tr>\n",
       "    <tr>\n",
       "      <th>1</th>\n",
       "      <td>57</td>\n",
       "      <td>8.0</td>\n",
       "      <td>3.0</td>\n",
       "      <td>4.0</td>\n",
       "      <td>0.0</td>\n",
       "      <td>0.0</td>\n",
       "      <td>1</td>\n",
       "      <td>5</td>\n",
       "      <td>2</td>\n",
       "      <td>149</td>\n",
       "      <td>1</td>\n",
       "      <td>999</td>\n",
       "      <td>0</td>\n",
       "      <td>1.1</td>\n",
       "      <td>93.994</td>\n",
       "      <td>-36.4</td>\n",
       "      <td>4.857</td>\n",
       "      <td>5191.0</td>\n",
       "      <td>0</td>\n",
       "    </tr>\n",
       "    <tr>\n",
       "      <th>2</th>\n",
       "      <td>37</td>\n",
       "      <td>8.0</td>\n",
       "      <td>3.0</td>\n",
       "      <td>4.0</td>\n",
       "      <td>1.0</td>\n",
       "      <td>0.0</td>\n",
       "      <td>1</td>\n",
       "      <td>5</td>\n",
       "      <td>2</td>\n",
       "      <td>226</td>\n",
       "      <td>1</td>\n",
       "      <td>999</td>\n",
       "      <td>0</td>\n",
       "      <td>1.1</td>\n",
       "      <td>93.994</td>\n",
       "      <td>-36.4</td>\n",
       "      <td>4.857</td>\n",
       "      <td>5191.0</td>\n",
       "      <td>0</td>\n",
       "    </tr>\n",
       "    <tr>\n",
       "      <th>3</th>\n",
       "      <td>40</td>\n",
       "      <td>11.0</td>\n",
       "      <td>3.0</td>\n",
       "      <td>2.0</td>\n",
       "      <td>0.0</td>\n",
       "      <td>0.0</td>\n",
       "      <td>1</td>\n",
       "      <td>5</td>\n",
       "      <td>2</td>\n",
       "      <td>151</td>\n",
       "      <td>1</td>\n",
       "      <td>999</td>\n",
       "      <td>0</td>\n",
       "      <td>1.1</td>\n",
       "      <td>93.994</td>\n",
       "      <td>-36.4</td>\n",
       "      <td>4.857</td>\n",
       "      <td>5191.0</td>\n",
       "      <td>0</td>\n",
       "    </tr>\n",
       "    <tr>\n",
       "      <th>4</th>\n",
       "      <td>56</td>\n",
       "      <td>8.0</td>\n",
       "      <td>3.0</td>\n",
       "      <td>4.0</td>\n",
       "      <td>0.0</td>\n",
       "      <td>1.0</td>\n",
       "      <td>1</td>\n",
       "      <td>5</td>\n",
       "      <td>2</td>\n",
       "      <td>307</td>\n",
       "      <td>1</td>\n",
       "      <td>999</td>\n",
       "      <td>0</td>\n",
       "      <td>1.1</td>\n",
       "      <td>93.994</td>\n",
       "      <td>-36.4</td>\n",
       "      <td>4.857</td>\n",
       "      <td>5191.0</td>\n",
       "      <td>0</td>\n",
       "    </tr>\n",
       "  </tbody>\n",
       "</table>\n",
       "</div>"
      ],
      "text/plain": [
       "   age   job  marital  education  housing  loan  contact  month  day_of_week  \\\n",
       "0   56   3.0      3.0        1.0      0.0   0.0        1      5            2   \n",
       "1   57   8.0      3.0        4.0      0.0   0.0        1      5            2   \n",
       "2   37   8.0      3.0        4.0      1.0   0.0        1      5            2   \n",
       "3   40  11.0      3.0        2.0      0.0   0.0        1      5            2   \n",
       "4   56   8.0      3.0        4.0      0.0   1.0        1      5            2   \n",
       "\n",
       "   duration  campaign  pdays  previous  emp.var.rate  cons.price.idx  \\\n",
       "0       261         1    999         0           1.1          93.994   \n",
       "1       149         1    999         0           1.1          93.994   \n",
       "2       226         1    999         0           1.1          93.994   \n",
       "3       151         1    999         0           1.1          93.994   \n",
       "4       307         1    999         0           1.1          93.994   \n",
       "\n",
       "   cons.conf.idx  euribor3m  nr.employed  y  \n",
       "0          -36.4      4.857       5191.0  0  \n",
       "1          -36.4      4.857       5191.0  0  \n",
       "2          -36.4      4.857       5191.0  0  \n",
       "3          -36.4      4.857       5191.0  0  \n",
       "4          -36.4      4.857       5191.0  0  "
      ]
     },
     "execution_count": 111,
     "metadata": {},
     "output_type": "execute_result"
    }
   ],
   "source": [
    "data.head()"
   ]
  },
  {
   "cell_type": "markdown",
   "metadata": {},
   "source": [
    "# Tratando os dados categóricos"
   ]
  },
  {
   "cell_type": "code",
   "execution_count": 112,
   "metadata": {},
   "outputs": [],
   "source": [
    "from sklearn.impute import SimpleImputer"
   ]
  },
  {
   "cell_type": "code",
   "execution_count": 113,
   "metadata": {},
   "outputs": [],
   "source": [
    "imputer = SimpleImputer(missing_values=np.nan, strategy='most_frequent')\n",
    "df = imputer.fit_transform(data)"
   ]
  },
  {
   "cell_type": "code",
   "execution_count": 114,
   "metadata": {},
   "outputs": [],
   "source": [
    "data_ = pd.DataFrame(df, columns=data.columns)"
   ]
  },
  {
   "cell_type": "code",
   "execution_count": 115,
   "metadata": {},
   "outputs": [
    {
     "data": {
      "text/html": [
       "<div>\n",
       "<style scoped>\n",
       "    .dataframe tbody tr th:only-of-type {\n",
       "        vertical-align: middle;\n",
       "    }\n",
       "\n",
       "    .dataframe tbody tr th {\n",
       "        vertical-align: top;\n",
       "    }\n",
       "\n",
       "    .dataframe thead th {\n",
       "        text-align: right;\n",
       "    }\n",
       "</style>\n",
       "<table border=\"1\" class=\"dataframe\">\n",
       "  <thead>\n",
       "    <tr style=\"text-align: right;\">\n",
       "      <th></th>\n",
       "      <th>age</th>\n",
       "      <th>job</th>\n",
       "      <th>marital</th>\n",
       "      <th>education</th>\n",
       "      <th>housing</th>\n",
       "      <th>loan</th>\n",
       "      <th>contact</th>\n",
       "      <th>month</th>\n",
       "      <th>day_of_week</th>\n",
       "      <th>duration</th>\n",
       "      <th>campaign</th>\n",
       "      <th>pdays</th>\n",
       "      <th>previous</th>\n",
       "      <th>emp.var.rate</th>\n",
       "      <th>cons.price.idx</th>\n",
       "      <th>cons.conf.idx</th>\n",
       "      <th>euribor3m</th>\n",
       "      <th>nr.employed</th>\n",
       "      <th>y</th>\n",
       "    </tr>\n",
       "  </thead>\n",
       "  <tbody>\n",
       "    <tr>\n",
       "      <th>0</th>\n",
       "      <td>56.0</td>\n",
       "      <td>3.0</td>\n",
       "      <td>3.0</td>\n",
       "      <td>1.0</td>\n",
       "      <td>0.0</td>\n",
       "      <td>0.0</td>\n",
       "      <td>1.0</td>\n",
       "      <td>5.0</td>\n",
       "      <td>2.0</td>\n",
       "      <td>261.0</td>\n",
       "      <td>1.0</td>\n",
       "      <td>999.0</td>\n",
       "      <td>0.0</td>\n",
       "      <td>1.1</td>\n",
       "      <td>93.994</td>\n",
       "      <td>-36.4</td>\n",
       "      <td>4.857</td>\n",
       "      <td>5191.0</td>\n",
       "      <td>0.0</td>\n",
       "    </tr>\n",
       "    <tr>\n",
       "      <th>1</th>\n",
       "      <td>57.0</td>\n",
       "      <td>8.0</td>\n",
       "      <td>3.0</td>\n",
       "      <td>4.0</td>\n",
       "      <td>0.0</td>\n",
       "      <td>0.0</td>\n",
       "      <td>1.0</td>\n",
       "      <td>5.0</td>\n",
       "      <td>2.0</td>\n",
       "      <td>149.0</td>\n",
       "      <td>1.0</td>\n",
       "      <td>999.0</td>\n",
       "      <td>0.0</td>\n",
       "      <td>1.1</td>\n",
       "      <td>93.994</td>\n",
       "      <td>-36.4</td>\n",
       "      <td>4.857</td>\n",
       "      <td>5191.0</td>\n",
       "      <td>0.0</td>\n",
       "    </tr>\n",
       "    <tr>\n",
       "      <th>2</th>\n",
       "      <td>37.0</td>\n",
       "      <td>8.0</td>\n",
       "      <td>3.0</td>\n",
       "      <td>4.0</td>\n",
       "      <td>1.0</td>\n",
       "      <td>0.0</td>\n",
       "      <td>1.0</td>\n",
       "      <td>5.0</td>\n",
       "      <td>2.0</td>\n",
       "      <td>226.0</td>\n",
       "      <td>1.0</td>\n",
       "      <td>999.0</td>\n",
       "      <td>0.0</td>\n",
       "      <td>1.1</td>\n",
       "      <td>93.994</td>\n",
       "      <td>-36.4</td>\n",
       "      <td>4.857</td>\n",
       "      <td>5191.0</td>\n",
       "      <td>0.0</td>\n",
       "    </tr>\n",
       "    <tr>\n",
       "      <th>3</th>\n",
       "      <td>40.0</td>\n",
       "      <td>11.0</td>\n",
       "      <td>3.0</td>\n",
       "      <td>2.0</td>\n",
       "      <td>0.0</td>\n",
       "      <td>0.0</td>\n",
       "      <td>1.0</td>\n",
       "      <td>5.0</td>\n",
       "      <td>2.0</td>\n",
       "      <td>151.0</td>\n",
       "      <td>1.0</td>\n",
       "      <td>999.0</td>\n",
       "      <td>0.0</td>\n",
       "      <td>1.1</td>\n",
       "      <td>93.994</td>\n",
       "      <td>-36.4</td>\n",
       "      <td>4.857</td>\n",
       "      <td>5191.0</td>\n",
       "      <td>0.0</td>\n",
       "    </tr>\n",
       "    <tr>\n",
       "      <th>4</th>\n",
       "      <td>56.0</td>\n",
       "      <td>8.0</td>\n",
       "      <td>3.0</td>\n",
       "      <td>4.0</td>\n",
       "      <td>0.0</td>\n",
       "      <td>1.0</td>\n",
       "      <td>1.0</td>\n",
       "      <td>5.0</td>\n",
       "      <td>2.0</td>\n",
       "      <td>307.0</td>\n",
       "      <td>1.0</td>\n",
       "      <td>999.0</td>\n",
       "      <td>0.0</td>\n",
       "      <td>1.1</td>\n",
       "      <td>93.994</td>\n",
       "      <td>-36.4</td>\n",
       "      <td>4.857</td>\n",
       "      <td>5191.0</td>\n",
       "      <td>0.0</td>\n",
       "    </tr>\n",
       "  </tbody>\n",
       "</table>\n",
       "</div>"
      ],
      "text/plain": [
       "    age   job  marital  education  housing  loan  contact  month  day_of_week  \\\n",
       "0  56.0   3.0      3.0        1.0      0.0   0.0      1.0    5.0          2.0   \n",
       "1  57.0   8.0      3.0        4.0      0.0   0.0      1.0    5.0          2.0   \n",
       "2  37.0   8.0      3.0        4.0      1.0   0.0      1.0    5.0          2.0   \n",
       "3  40.0  11.0      3.0        2.0      0.0   0.0      1.0    5.0          2.0   \n",
       "4  56.0   8.0      3.0        4.0      0.0   1.0      1.0    5.0          2.0   \n",
       "\n",
       "   duration  campaign  pdays  previous  emp.var.rate  cons.price.idx  \\\n",
       "0     261.0       1.0  999.0       0.0           1.1          93.994   \n",
       "1     149.0       1.0  999.0       0.0           1.1          93.994   \n",
       "2     226.0       1.0  999.0       0.0           1.1          93.994   \n",
       "3     151.0       1.0  999.0       0.0           1.1          93.994   \n",
       "4     307.0       1.0  999.0       0.0           1.1          93.994   \n",
       "\n",
       "   cons.conf.idx  euribor3m  nr.employed    y  \n",
       "0          -36.4      4.857       5191.0  0.0  \n",
       "1          -36.4      4.857       5191.0  0.0  \n",
       "2          -36.4      4.857       5191.0  0.0  \n",
       "3          -36.4      4.857       5191.0  0.0  \n",
       "4          -36.4      4.857       5191.0  0.0  "
      ]
     },
     "execution_count": 115,
     "metadata": {},
     "output_type": "execute_result"
    }
   ],
   "source": [
    "data_.head()"
   ]
  },
  {
   "cell_type": "markdown",
   "metadata": {},
   "source": [
    "# Mostrando gráficos"
   ]
  },
  {
   "cell_type": "code",
   "execution_count": 116,
   "metadata": {},
   "outputs": [],
   "source": [
    "import matplotlib.pyplot as plt\n",
    "import seaborn as sbn"
   ]
  },
  {
   "cell_type": "code",
   "execution_count": 117,
   "metadata": {},
   "outputs": [
    {
     "data": {
      "image/png": "[encoded data removed]",
      "text/plain": [
       "<Figure size 1440x1440 with 20 Axes>"
      ]
     },
     "metadata": {
      "needs_background": "light"
     },
     "output_type": "display_data"
    }
   ],
   "source": [
    "data_.hist(bins=50, figsize=(20,20));"
   ]
  },
  {
   "cell_type": "code",
   "execution_count": 118,
   "metadata": {},
   "outputs": [
    {
     "data": {
      "text/html": [
       "<style  type=\"text/css\" >\n",
       "    #T_a4fa7f9e_753c_11e9_bea1_832ff6bcdf91row0_col0 {\n",
       "            background-color:  #023858;\n",
       "            color:  #f1f1f1;\n",
       "        }    #T_a4fa7f9e_753c_11e9_bea1_832ff6bcdf91row0_col1 {\n",
       "            background-color:  #fff7fb;\n",
       "            color:  #000000;\n",
       "        }    #T_a4fa7f9e_753c_11e9_bea1_832ff6bcdf91row0_col2 {\n",
       "            background-color:  #d9d8ea;\n",
       "            color:  #000000;\n",
       "        }    #T_a4fa7f9e_753c_11e9_bea1_832ff6bcdf91row0_col3 {\n",
       "            background-color:  #fff7fb;\n",
       "            color:  #000000;\n",
       "        }    #T_a4fa7f9e_753c_11e9_bea1_832ff6bcdf91row0_col4 {\n",
       "            background-color:  #f5eef6;\n",
       "            color:  #000000;\n",
       "        }    #T_a4fa7f9e_753c_11e9_bea1_832ff6bcdf91row0_col5 {\n",
       "            background-color:  #fef6fb;\n",
       "            color:  #000000;\n",
       "        }    #T_a4fa7f9e_753c_11e9_bea1_832ff6bcdf91row0_col6 {\n",
       "            background-color:  #a8bedc;\n",
       "            color:  #000000;\n",
       "        }    #T_a4fa7f9e_753c_11e9_bea1_832ff6bcdf91row0_col7 {\n",
       "            background-color:  #dcdaeb;\n",
       "            color:  #000000;\n",
       "        }    #T_a4fa7f9e_753c_11e9_bea1_832ff6bcdf91row0_col8 {\n",
       "            background-color:  #fff7fb;\n",
       "            color:  #000000;\n",
       "        }    #T_a4fa7f9e_753c_11e9_bea1_832ff6bcdf91row0_col9 {\n",
       "            background-color:  #f5eff6;\n",
       "            color:  #000000;\n",
       "        }    #T_a4fa7f9e_753c_11e9_bea1_832ff6bcdf91row0_col10 {\n",
       "            background-color:  #f4edf6;\n",
       "            color:  #000000;\n",
       "        }    #T_a4fa7f9e_753c_11e9_bea1_832ff6bcdf91row0_col11 {\n",
       "            background-color:  #afc1dd;\n",
       "            color:  #000000;\n",
       "        }    #T_a4fa7f9e_753c_11e9_bea1_832ff6bcdf91row0_col12 {\n",
       "            background-color:  #a2bcda;\n",
       "            color:  #000000;\n",
       "        }    #T_a4fa7f9e_753c_11e9_bea1_832ff6bcdf91row0_col13 {\n",
       "            background-color:  #c1cae2;\n",
       "            color:  #000000;\n",
       "        }    #T_a4fa7f9e_753c_11e9_bea1_832ff6bcdf91row0_col14 {\n",
       "            background-color:  #a7bddb;\n",
       "            color:  #000000;\n",
       "        }    #T_a4fa7f9e_753c_11e9_bea1_832ff6bcdf91row0_col15 {\n",
       "            background-color:  #bfc9e1;\n",
       "            color:  #000000;\n",
       "        }    #T_a4fa7f9e_753c_11e9_bea1_832ff6bcdf91row0_col16 {\n",
       "            background-color:  #b9c6e0;\n",
       "            color:  #000000;\n",
       "        }    #T_a4fa7f9e_753c_11e9_bea1_832ff6bcdf91row0_col17 {\n",
       "            background-color:  #b8c6e0;\n",
       "            color:  #000000;\n",
       "        }    #T_a4fa7f9e_753c_11e9_bea1_832ff6bcdf91row0_col18 {\n",
       "            background-color:  #c5cce3;\n",
       "            color:  #000000;\n",
       "        }    #T_a4fa7f9e_753c_11e9_bea1_832ff6bcdf91row1_col0 {\n",
       "            background-color:  #f7f0f7;\n",
       "            color:  #000000;\n",
       "        }    #T_a4fa7f9e_753c_11e9_bea1_832ff6bcdf91row1_col1 {\n",
       "            background-color:  #023858;\n",
       "            color:  #f1f1f1;\n",
       "        }    #T_a4fa7f9e_753c_11e9_bea1_832ff6bcdf91row1_col2 {\n",
       "            background-color:  #f0eaf4;\n",
       "            color:  #000000;\n",
       "        }    #T_a4fa7f9e_753c_11e9_bea1_832ff6bcdf91row1_col3 {\n",
       "            background-color:  #e6e2ef;\n",
       "            color:  #000000;\n",
       "        }    #T_a4fa7f9e_753c_11e9_bea1_832ff6bcdf91row1_col4 {\n",
       "            background-color:  #f5eef6;\n",
       "            color:  #000000;\n",
       "        }    #T_a4fa7f9e_753c_11e9_bea1_832ff6bcdf91row1_col5 {\n",
       "            background-color:  #fbf4f9;\n",
       "            color:  #000000;\n",
       "        }    #T_a4fa7f9e_753c_11e9_bea1_832ff6bcdf91row1_col6 {\n",
       "            background-color:  #a9bfdc;\n",
       "            color:  #000000;\n",
       "        }    #T_a4fa7f9e_753c_11e9_bea1_832ff6bcdf91row1_col7 {\n",
       "            background-color:  #f2ecf5;\n",
       "            color:  #000000;\n",
       "        }    #T_a4fa7f9e_753c_11e9_bea1_832ff6bcdf91row1_col8 {\n",
       "            background-color:  #fbf4f9;\n",
       "            color:  #000000;\n",
       "        }    #T_a4fa7f9e_753c_11e9_bea1_832ff6bcdf91row1_col9 {\n",
       "            background-color:  #f6eff7;\n",
       "            color:  #000000;\n",
       "        }    #T_a4fa7f9e_753c_11e9_bea1_832ff6bcdf91row1_col10 {\n",
       "            background-color:  #f2ecf5;\n",
       "            color:  #000000;\n",
       "        }    #T_a4fa7f9e_753c_11e9_bea1_832ff6bcdf91row1_col11 {\n",
       "            background-color:  #9ab8d8;\n",
       "            color:  #000000;\n",
       "        }    #T_a4fa7f9e_753c_11e9_bea1_832ff6bcdf91row1_col12 {\n",
       "            background-color:  #b4c4df;\n",
       "            color:  #000000;\n",
       "        }    #T_a4fa7f9e_753c_11e9_bea1_832ff6bcdf91row1_col13 {\n",
       "            background-color:  #adc1dd;\n",
       "            color:  #000000;\n",
       "        }    #T_a4fa7f9e_753c_11e9_bea1_832ff6bcdf91row1_col14 {\n",
       "            background-color:  #9fbad9;\n",
       "            color:  #000000;\n",
       "        }    #T_a4fa7f9e_753c_11e9_bea1_832ff6bcdf91row1_col15 {\n",
       "            background-color:  #e1dfed;\n",
       "            color:  #000000;\n",
       "        }    #T_a4fa7f9e_753c_11e9_bea1_832ff6bcdf91row1_col16 {\n",
       "            background-color:  #abbfdc;\n",
       "            color:  #000000;\n",
       "        }    #T_a4fa7f9e_753c_11e9_bea1_832ff6bcdf91row1_col17 {\n",
       "            background-color:  #9ebad9;\n",
       "            color:  #000000;\n",
       "        }    #T_a4fa7f9e_753c_11e9_bea1_832ff6bcdf91row1_col18 {\n",
       "            background-color:  #d7d6e9;\n",
       "            color:  #000000;\n",
       "        }    #T_a4fa7f9e_753c_11e9_bea1_832ff6bcdf91row2_col0 {\n",
       "            background-color:  #d4d4e8;\n",
       "            color:  #000000;\n",
       "        }    #T_a4fa7f9e_753c_11e9_bea1_832ff6bcdf91row2_col1 {\n",
       "            background-color:  #f2ecf5;\n",
       "            color:  #000000;\n",
       "        }    #T_a4fa7f9e_753c_11e9_bea1_832ff6bcdf91row2_col2 {\n",
       "            background-color:  #023858;\n",
       "            color:  #f1f1f1;\n",
       "        }    #T_a4fa7f9e_753c_11e9_bea1_832ff6bcdf91row2_col3 {\n",
       "            background-color:  #fbf3f9;\n",
       "            color:  #000000;\n",
       "        }    #T_a4fa7f9e_753c_11e9_bea1_832ff6bcdf91row2_col4 {\n",
       "            background-color:  #f5eff6;\n",
       "            color:  #000000;\n",
       "        }    #T_a4fa7f9e_753c_11e9_bea1_832ff6bcdf91row2_col5 {\n",
       "            background-color:  #fdf5fa;\n",
       "            color:  #000000;\n",
       "        }    #T_a4fa7f9e_753c_11e9_bea1_832ff6bcdf91row2_col6 {\n",
       "            background-color:  #b0c2de;\n",
       "            color:  #000000;\n",
       "        }    #T_a4fa7f9e_753c_11e9_bea1_832ff6bcdf91row2_col7 {\n",
       "            background-color:  #eae6f1;\n",
       "            color:  #000000;\n",
       "        }    #T_a4fa7f9e_753c_11e9_bea1_832ff6bcdf91row2_col8 {\n",
       "            background-color:  #fcf4fa;\n",
       "            color:  #000000;\n",
       "        }    #T_a4fa7f9e_753c_11e9_bea1_832ff6bcdf91row2_col9 {\n",
       "            background-color:  #f5eef6;\n",
       "            color:  #000000;\n",
       "        }    #T_a4fa7f9e_753c_11e9_bea1_832ff6bcdf91row2_col10 {\n",
       "            background-color:  #f4eef6;\n",
       "            color:  #000000;\n",
       "        }    #T_a4fa7f9e_753c_11e9_bea1_832ff6bcdf91row2_col11 {\n",
       "            background-color:  #a4bcda;\n",
       "            color:  #000000;\n",
       "        }    #T_a4fa7f9e_753c_11e9_bea1_832ff6bcdf91row2_col12 {\n",
       "            background-color:  #adc1dd;\n",
       "            color:  #000000;\n",
       "        }    #T_a4fa7f9e_753c_11e9_bea1_832ff6bcdf91row2_col13 {\n",
       "            background-color:  #b5c4df;\n",
       "            color:  #000000;\n",
       "        }    #T_a4fa7f9e_753c_11e9_bea1_832ff6bcdf91row2_col14 {\n",
       "            background-color:  #a2bcda;\n",
       "            color:  #000000;\n",
       "        }    #T_a4fa7f9e_753c_11e9_bea1_832ff6bcdf91row2_col15 {\n",
       "            background-color:  #d2d3e7;\n",
       "            color:  #000000;\n",
       "        }    #T_a4fa7f9e_753c_11e9_bea1_832ff6bcdf91row2_col16 {\n",
       "            background-color:  #afc1dd;\n",
       "            color:  #000000;\n",
       "        }    #T_a4fa7f9e_753c_11e9_bea1_832ff6bcdf91row2_col17 {\n",
       "            background-color:  #a9bfdc;\n",
       "            color:  #000000;\n",
       "        }    #T_a4fa7f9e_753c_11e9_bea1_832ff6bcdf91row2_col18 {\n",
       "            background-color:  #d2d2e7;\n",
       "            color:  #000000;\n",
       "        }    #T_a4fa7f9e_753c_11e9_bea1_832ff6bcdf91row3_col0 {\n",
       "            background-color:  #fff7fb;\n",
       "            color:  #000000;\n",
       "        }    #T_a4fa7f9e_753c_11e9_bea1_832ff6bcdf91row3_col1 {\n",
       "            background-color:  #efe9f3;\n",
       "            color:  #000000;\n",
       "        }    #T_a4fa7f9e_753c_11e9_bea1_832ff6bcdf91row3_col2 {\n",
       "            background-color:  #fff7fb;\n",
       "            color:  #000000;\n",
       "        }    #T_a4fa7f9e_753c_11e9_bea1_832ff6bcdf91row3_col3 {\n",
       "            background-color:  #023858;\n",
       "            color:  #f1f1f1;\n",
       "        }    #T_a4fa7f9e_753c_11e9_bea1_832ff6bcdf91row3_col4 {\n",
       "            background-color:  #f2ecf5;\n",
       "            color:  #000000;\n",
       "        }    #T_a4fa7f9e_753c_11e9_bea1_832ff6bcdf91row3_col5 {\n",
       "            background-color:  #fcf4fa;\n",
       "            color:  #000000;\n",
       "        }    #T_a4fa7f9e_753c_11e9_bea1_832ff6bcdf91row3_col6 {\n",
       "            background-color:  #8cb3d5;\n",
       "            color:  #000000;\n",
       "        }    #T_a4fa7f9e_753c_11e9_bea1_832ff6bcdf91row3_col7 {\n",
       "            background-color:  #d3d4e7;\n",
       "            color:  #000000;\n",
       "        }    #T_a4fa7f9e_753c_11e9_bea1_832ff6bcdf91row3_col8 {\n",
       "            background-color:  #fbf4f9;\n",
       "            color:  #000000;\n",
       "        }    #T_a4fa7f9e_753c_11e9_bea1_832ff6bcdf91row3_col9 {\n",
       "            background-color:  #f7f0f7;\n",
       "            color:  #000000;\n",
       "        }    #T_a4fa7f9e_753c_11e9_bea1_832ff6bcdf91row3_col10 {\n",
       "            background-color:  #f4eef6;\n",
       "            color:  #000000;\n",
       "        }    #T_a4fa7f9e_753c_11e9_bea1_832ff6bcdf91row3_col11 {\n",
       "            background-color:  #b1c2de;\n",
       "            color:  #000000;\n",
       "        }    #T_a4fa7f9e_753c_11e9_bea1_832ff6bcdf91row3_col12 {\n",
       "            background-color:  #9ebad9;\n",
       "            color:  #000000;\n",
       "        }    #T_a4fa7f9e_753c_11e9_bea1_832ff6bcdf91row3_col13 {\n",
       "            background-color:  #cccfe5;\n",
       "            color:  #000000;\n",
       "        }    #T_a4fa7f9e_753c_11e9_bea1_832ff6bcdf91row3_col14 {\n",
       "            background-color:  #b9c6e0;\n",
       "            color:  #000000;\n",
       "        }    #T_a4fa7f9e_753c_11e9_bea1_832ff6bcdf91row3_col15 {\n",
       "            background-color:  #ced0e6;\n",
       "            color:  #000000;\n",
       "        }    #T_a4fa7f9e_753c_11e9_bea1_832ff6bcdf91row3_col16 {\n",
       "            background-color:  #c5cce3;\n",
       "            color:  #000000;\n",
       "        }    #T_a4fa7f9e_753c_11e9_bea1_832ff6bcdf91row3_col17 {\n",
       "            background-color:  #bdc8e1;\n",
       "            color:  #000000;\n",
       "        }    #T_a4fa7f9e_753c_11e9_bea1_832ff6bcdf91row3_col18 {\n",
       "            background-color:  #bfc9e1;\n",
       "            color:  #000000;\n",
       "        }    #T_a4fa7f9e_753c_11e9_bea1_832ff6bcdf91row4_col0 {\n",
       "            background-color:  #ebe6f2;\n",
       "            color:  #000000;\n",
       "        }    #T_a4fa7f9e_753c_11e9_bea1_832ff6bcdf91row4_col1 {\n",
       "            background-color:  #f3edf5;\n",
       "            color:  #000000;\n",
       "        }    #T_a4fa7f9e_753c_11e9_bea1_832ff6bcdf91row4_col2 {\n",
       "            background-color:  #f1ebf4;\n",
       "            color:  #000000;\n",
       "        }    #T_a4fa7f9e_753c_11e9_bea1_832ff6bcdf91row4_col3 {\n",
       "            background-color:  #e7e3f0;\n",
       "            color:  #000000;\n",
       "        }    #T_a4fa7f9e_753c_11e9_bea1_832ff6bcdf91row4_col4 {\n",
       "            background-color:  #023858;\n",
       "            color:  #f1f1f1;\n",
       "        }    #T_a4fa7f9e_753c_11e9_bea1_832ff6bcdf91row4_col5 {\n",
       "            background-color:  #f8f1f8;\n",
       "            color:  #000000;\n",
       "        }    #T_a4fa7f9e_753c_11e9_bea1_832ff6bcdf91row4_col6 {\n",
       "            background-color:  #94b6d7;\n",
       "            color:  #000000;\n",
       "        }    #T_a4fa7f9e_753c_11e9_bea1_832ff6bcdf91row4_col7 {\n",
       "            background-color:  #e5e1ef;\n",
       "            color:  #000000;\n",
       "        }    #T_a4fa7f9e_753c_11e9_bea1_832ff6bcdf91row4_col8 {\n",
       "            background-color:  #fef6fa;\n",
       "            color:  #000000;\n",
       "        }    #T_a4fa7f9e_753c_11e9_bea1_832ff6bcdf91row4_col9 {\n",
       "            background-color:  #f6eff7;\n",
       "            color:  #000000;\n",
       "        }    #T_a4fa7f9e_753c_11e9_bea1_832ff6bcdf91row4_col10 {\n",
       "            background-color:  #f5eff6;\n",
       "            color:  #000000;\n",
       "        }    #T_a4fa7f9e_753c_11e9_bea1_832ff6bcdf91row4_col11 {\n",
       "            background-color:  #a9bfdc;\n",
       "            color:  #000000;\n",
       "        }    #T_a4fa7f9e_753c_11e9_bea1_832ff6bcdf91row4_col12 {\n",
       "            background-color:  #a2bcda;\n",
       "            color:  #000000;\n",
       "        }    #T_a4fa7f9e_753c_11e9_bea1_832ff6bcdf91row4_col13 {\n",
       "            background-color:  #ced0e6;\n",
       "            color:  #000000;\n",
       "        }    #T_a4fa7f9e_753c_11e9_bea1_832ff6bcdf91row4_col14 {\n",
       "            background-color:  #b8c6e0;\n",
       "            color:  #000000;\n",
       "        }    #T_a4fa7f9e_753c_11e9_bea1_832ff6bcdf91row4_col15 {\n",
       "            background-color:  #e1dfed;\n",
       "            color:  #000000;\n",
       "        }    #T_a4fa7f9e_753c_11e9_bea1_832ff6bcdf91row4_col16 {\n",
       "            background-color:  #c9cee4;\n",
       "            color:  #000000;\n",
       "        }    #T_a4fa7f9e_753c_11e9_bea1_832ff6bcdf91row4_col17 {\n",
       "            background-color:  #bfc9e1;\n",
       "            color:  #000000;\n",
       "        }    #T_a4fa7f9e_753c_11e9_bea1_832ff6bcdf91row4_col18 {\n",
       "            background-color:  #c9cee4;\n",
       "            color:  #000000;\n",
       "        }    #T_a4fa7f9e_753c_11e9_bea1_832ff6bcdf91row5_col0 {\n",
       "            background-color:  #ede7f2;\n",
       "            color:  #000000;\n",
       "        }    #T_a4fa7f9e_753c_11e9_bea1_832ff6bcdf91row5_col1 {\n",
       "            background-color:  #f1ebf4;\n",
       "            color:  #000000;\n",
       "        }    #T_a4fa7f9e_753c_11e9_bea1_832ff6bcdf91row5_col2 {\n",
       "            background-color:  #efe9f3;\n",
       "            color:  #000000;\n",
       "        }    #T_a4fa7f9e_753c_11e9_bea1_832ff6bcdf91row5_col3 {\n",
       "            background-color:  #e9e5f1;\n",
       "            color:  #000000;\n",
       "        }    #T_a4fa7f9e_753c_11e9_bea1_832ff6bcdf91row5_col4 {\n",
       "            background-color:  #f0eaf4;\n",
       "            color:  #000000;\n",
       "        }    #T_a4fa7f9e_753c_11e9_bea1_832ff6bcdf91row5_col5 {\n",
       "            background-color:  #023858;\n",
       "            color:  #f1f1f1;\n",
       "        }    #T_a4fa7f9e_753c_11e9_bea1_832ff6bcdf91row5_col6 {\n",
       "            background-color:  #a4bcda;\n",
       "            color:  #000000;\n",
       "        }    #T_a4fa7f9e_753c_11e9_bea1_832ff6bcdf91row5_col7 {\n",
       "            background-color:  #ebe6f2;\n",
       "            color:  #000000;\n",
       "        }    #T_a4fa7f9e_753c_11e9_bea1_832ff6bcdf91row5_col8 {\n",
       "            background-color:  #fcf4fa;\n",
       "            color:  #000000;\n",
       "        }    #T_a4fa7f9e_753c_11e9_bea1_832ff6bcdf91row5_col9 {\n",
       "            background-color:  #f5eef6;\n",
       "            color:  #000000;\n",
       "        }    #T_a4fa7f9e_753c_11e9_bea1_832ff6bcdf91row5_col10 {\n",
       "            background-color:  #f3edf5;\n",
       "            color:  #000000;\n",
       "        }    #T_a4fa7f9e_753c_11e9_bea1_832ff6bcdf91row5_col11 {\n",
       "            background-color:  #a8bedc;\n",
       "            color:  #000000;\n",
       "        }    #T_a4fa7f9e_753c_11e9_bea1_832ff6bcdf91row5_col12 {\n",
       "            background-color:  #a8bedc;\n",
       "            color:  #000000;\n",
       "        }    #T_a4fa7f9e_753c_11e9_bea1_832ff6bcdf91row5_col13 {\n",
       "            background-color:  #c1cae2;\n",
       "            color:  #000000;\n",
       "        }    #T_a4fa7f9e_753c_11e9_bea1_832ff6bcdf91row5_col14 {\n",
       "            background-color:  #a8bedc;\n",
       "            color:  #000000;\n",
       "        }    #T_a4fa7f9e_753c_11e9_bea1_832ff6bcdf91row5_col15 {\n",
       "            background-color:  #dedcec;\n",
       "            color:  #000000;\n",
       "        }    #T_a4fa7f9e_753c_11e9_bea1_832ff6bcdf91row5_col16 {\n",
       "            background-color:  #bcc7e1;\n",
       "            color:  #000000;\n",
       "        }    #T_a4fa7f9e_753c_11e9_bea1_832ff6bcdf91row5_col17 {\n",
       "            background-color:  #b3c3de;\n",
       "            color:  #000000;\n",
       "        }    #T_a4fa7f9e_753c_11e9_bea1_832ff6bcdf91row5_col18 {\n",
       "            background-color:  #cdd0e5;\n",
       "            color:  #000000;\n",
       "        }    #T_a4fa7f9e_753c_11e9_bea1_832ff6bcdf91row6_col0 {\n",
       "            background-color:  #ede7f2;\n",
       "            color:  #000000;\n",
       "        }    #T_a4fa7f9e_753c_11e9_bea1_832ff6bcdf91row6_col1 {\n",
       "            background-color:  #f4edf6;\n",
       "            color:  #000000;\n",
       "        }    #T_a4fa7f9e_753c_11e9_bea1_832ff6bcdf91row6_col2 {\n",
       "            background-color:  #f5eff6;\n",
       "            color:  #000000;\n",
       "        }    #T_a4fa7f9e_753c_11e9_bea1_832ff6bcdf91row6_col3 {\n",
       "            background-color:  #d6d6e9;\n",
       "            color:  #000000;\n",
       "        }    #T_a4fa7f9e_753c_11e9_bea1_832ff6bcdf91row6_col4 {\n",
       "            background-color:  #e8e4f0;\n",
       "            color:  #000000;\n",
       "        }    #T_a4fa7f9e_753c_11e9_bea1_832ff6bcdf91row6_col5 {\n",
       "            background-color:  #fbf4f9;\n",
       "            color:  #000000;\n",
       "        }    #T_a4fa7f9e_753c_11e9_bea1_832ff6bcdf91row6_col6 {\n",
       "            background-color:  #023858;\n",
       "            color:  #f1f1f1;\n",
       "        }    #T_a4fa7f9e_753c_11e9_bea1_832ff6bcdf91row6_col7 {\n",
       "            background-color:  #97b7d7;\n",
       "            color:  #000000;\n",
       "        }    #T_a4fa7f9e_753c_11e9_bea1_832ff6bcdf91row6_col8 {\n",
       "            background-color:  #fff7fb;\n",
       "            color:  #000000;\n",
       "        }    #T_a4fa7f9e_753c_11e9_bea1_832ff6bcdf91row6_col9 {\n",
       "            background-color:  #f1ebf5;\n",
       "            color:  #000000;\n",
       "        }    #T_a4fa7f9e_753c_11e9_bea1_832ff6bcdf91row6_col10 {\n",
       "            background-color:  #fff7fb;\n",
       "            color:  #000000;\n",
       "        }    #T_a4fa7f9e_753c_11e9_bea1_832ff6bcdf91row6_col11 {\n",
       "            background-color:  #c1cae2;\n",
       "            color:  #000000;\n",
       "        }    #T_a4fa7f9e_753c_11e9_bea1_832ff6bcdf91row6_col12 {\n",
       "            background-color:  #71a8ce;\n",
       "            color:  #000000;\n",
       "        }    #T_a4fa7f9e_753c_11e9_bea1_832ff6bcdf91row6_col13 {\n",
       "            background-color:  #fdf5fa;\n",
       "            color:  #000000;\n",
       "        }    #T_a4fa7f9e_753c_11e9_bea1_832ff6bcdf91row6_col14 {\n",
       "            background-color:  #fff7fb;\n",
       "            color:  #000000;\n",
       "        }    #T_a4fa7f9e_753c_11e9_bea1_832ff6bcdf91row6_col15 {\n",
       "            background-color:  #fff7fb;\n",
       "            color:  #000000;\n",
       "        }    #T_a4fa7f9e_753c_11e9_bea1_832ff6bcdf91row6_col16 {\n",
       "            background-color:  #faf2f8;\n",
       "            color:  #000000;\n",
       "        }    #T_a4fa7f9e_753c_11e9_bea1_832ff6bcdf91row6_col17 {\n",
       "            background-color:  #e6e2ef;\n",
       "            color:  #000000;\n",
       "        }    #T_a4fa7f9e_753c_11e9_bea1_832ff6bcdf91row6_col18 {\n",
       "            background-color:  #a8bedc;\n",
       "            color:  #000000;\n",
       "        }    #T_a4fa7f9e_753c_11e9_bea1_832ff6bcdf91row7_col0 {\n",
       "            background-color:  #dcdaeb;\n",
       "            color:  #000000;\n",
       "        }    #T_a4fa7f9e_753c_11e9_bea1_832ff6bcdf91row7_col1 {\n",
       "            background-color:  #faf2f8;\n",
       "            color:  #000000;\n",
       "        }    #T_a4fa7f9e_753c_11e9_bea1_832ff6bcdf91row7_col2 {\n",
       "            background-color:  #efe9f3;\n",
       "            color:  #000000;\n",
       "        }    #T_a4fa7f9e_753c_11e9_bea1_832ff6bcdf91row7_col3 {\n",
       "            background-color:  #d2d3e7;\n",
       "            color:  #000000;\n",
       "        }    #T_a4fa7f9e_753c_11e9_bea1_832ff6bcdf91row7_col4 {\n",
       "            background-color:  #f0eaf4;\n",
       "            color:  #000000;\n",
       "        }    #T_a4fa7f9e_753c_11e9_bea1_832ff6bcdf91row7_col5 {\n",
       "            background-color:  #fdf5fa;\n",
       "            color:  #000000;\n",
       "        }    #T_a4fa7f9e_753c_11e9_bea1_832ff6bcdf91row7_col6 {\n",
       "            background-color:  #4e9ac6;\n",
       "            color:  #000000;\n",
       "        }    #T_a4fa7f9e_753c_11e9_bea1_832ff6bcdf91row7_col7 {\n",
       "            background-color:  #023858;\n",
       "            color:  #f1f1f1;\n",
       "        }    #T_a4fa7f9e_753c_11e9_bea1_832ff6bcdf91row7_col8 {\n",
       "            background-color:  #fdf5fa;\n",
       "            color:  #000000;\n",
       "        }    #T_a4fa7f9e_753c_11e9_bea1_832ff6bcdf91row7_col9 {\n",
       "            background-color:  #f8f1f8;\n",
       "            color:  #000000;\n",
       "        }    #T_a4fa7f9e_753c_11e9_bea1_832ff6bcdf91row7_col10 {\n",
       "            background-color:  #f8f1f8;\n",
       "            color:  #000000;\n",
       "        }    #T_a4fa7f9e_753c_11e9_bea1_832ff6bcdf91row7_col11 {\n",
       "            background-color:  #b9c6e0;\n",
       "            color:  #000000;\n",
       "        }    #T_a4fa7f9e_753c_11e9_bea1_832ff6bcdf91row7_col12 {\n",
       "            background-color:  #97b7d7;\n",
       "            color:  #000000;\n",
       "        }    #T_a4fa7f9e_753c_11e9_bea1_832ff6bcdf91row7_col13 {\n",
       "            background-color:  #b3c3de;\n",
       "            color:  #000000;\n",
       "        }    #T_a4fa7f9e_753c_11e9_bea1_832ff6bcdf91row7_col14 {\n",
       "            background-color:  #c8cde4;\n",
       "            color:  #000000;\n",
       "        }    #T_a4fa7f9e_753c_11e9_bea1_832ff6bcdf91row7_col15 {\n",
       "            background-color:  #97b7d7;\n",
       "            color:  #000000;\n",
       "        }    #T_a4fa7f9e_753c_11e9_bea1_832ff6bcdf91row7_col16 {\n",
       "            background-color:  #93b5d6;\n",
       "            color:  #000000;\n",
       "        }    #T_a4fa7f9e_753c_11e9_bea1_832ff6bcdf91row7_col17 {\n",
       "            background-color:  #93b5d6;\n",
       "            color:  #000000;\n",
       "        }    #T_a4fa7f9e_753c_11e9_bea1_832ff6bcdf91row7_col18 {\n",
       "            background-color:  #c2cbe2;\n",
       "            color:  #000000;\n",
       "        }    #T_a4fa7f9e_753c_11e9_bea1_832ff6bcdf91row8_col0 {\n",
       "            background-color:  #eee8f3;\n",
       "            color:  #000000;\n",
       "        }    #T_a4fa7f9e_753c_11e9_bea1_832ff6bcdf91row8_col1 {\n",
       "            background-color:  #f2ecf5;\n",
       "            color:  #000000;\n",
       "        }    #T_a4fa7f9e_753c_11e9_bea1_832ff6bcdf91row8_col2 {\n",
       "            background-color:  #efe9f3;\n",
       "            color:  #000000;\n",
       "        }    #T_a4fa7f9e_753c_11e9_bea1_832ff6bcdf91row8_col3 {\n",
       "            background-color:  #eae6f1;\n",
       "            color:  #000000;\n",
       "        }    #T_a4fa7f9e_753c_11e9_bea1_832ff6bcdf91row8_col4 {\n",
       "            background-color:  #f5eff6;\n",
       "            color:  #000000;\n",
       "        }    #T_a4fa7f9e_753c_11e9_bea1_832ff6bcdf91row8_col5 {\n",
       "            background-color:  #fdf5fa;\n",
       "            color:  #000000;\n",
       "        }    #T_a4fa7f9e_753c_11e9_bea1_832ff6bcdf91row8_col6 {\n",
       "            background-color:  #acc0dd;\n",
       "            color:  #000000;\n",
       "        }    #T_a4fa7f9e_753c_11e9_bea1_832ff6bcdf91row8_col7 {\n",
       "            background-color:  #ede7f2;\n",
       "            color:  #000000;\n",
       "        }    #T_a4fa7f9e_753c_11e9_bea1_832ff6bcdf91row8_col8 {\n",
       "            background-color:  #023858;\n",
       "            color:  #f1f1f1;\n",
       "        }    #T_a4fa7f9e_753c_11e9_bea1_832ff6bcdf91row8_col9 {\n",
       "            background-color:  #f4edf6;\n",
       "            color:  #000000;\n",
       "        }    #T_a4fa7f9e_753c_11e9_bea1_832ff6bcdf91row8_col10 {\n",
       "            background-color:  #f2ecf5;\n",
       "            color:  #000000;\n",
       "        }    #T_a4fa7f9e_753c_11e9_bea1_832ff6bcdf91row8_col11 {\n",
       "            background-color:  #a7bddb;\n",
       "            color:  #000000;\n",
       "        }    #T_a4fa7f9e_753c_11e9_bea1_832ff6bcdf91row8_col12 {\n",
       "            background-color:  #a7bddb;\n",
       "            color:  #000000;\n",
       "        }    #T_a4fa7f9e_753c_11e9_bea1_832ff6bcdf91row8_col13 {\n",
       "            background-color:  #c2cbe2;\n",
       "            color:  #000000;\n",
       "        }    #T_a4fa7f9e_753c_11e9_bea1_832ff6bcdf91row8_col14 {\n",
       "            background-color:  #a8bedc;\n",
       "            color:  #000000;\n",
       "        }    #T_a4fa7f9e_753c_11e9_bea1_832ff6bcdf91row8_col15 {\n",
       "            background-color:  #dbdaeb;\n",
       "            color:  #000000;\n",
       "        }    #T_a4fa7f9e_753c_11e9_bea1_832ff6bcdf91row8_col16 {\n",
       "            background-color:  #bcc7e1;\n",
       "            color:  #000000;\n",
       "        }    #T_a4fa7f9e_753c_11e9_bea1_832ff6bcdf91row8_col17 {\n",
       "            background-color:  #b4c4df;\n",
       "            color:  #000000;\n",
       "        }    #T_a4fa7f9e_753c_11e9_bea1_832ff6bcdf91row8_col18 {\n",
       "            background-color:  #cacee5;\n",
       "            color:  #000000;\n",
       "        }    #T_a4fa7f9e_753c_11e9_bea1_832ff6bcdf91row9_col0 {\n",
       "            background-color:  #ebe6f2;\n",
       "            color:  #000000;\n",
       "        }    #T_a4fa7f9e_753c_11e9_bea1_832ff6bcdf91row9_col1 {\n",
       "            background-color:  #f4edf6;\n",
       "            color:  #000000;\n",
       "        }    #T_a4fa7f9e_753c_11e9_bea1_832ff6bcdf91row9_col2 {\n",
       "            background-color:  #efe9f3;\n",
       "            color:  #000000;\n",
       "        }    #T_a4fa7f9e_753c_11e9_bea1_832ff6bcdf91row9_col3 {\n",
       "            background-color:  #ede8f3;\n",
       "            color:  #000000;\n",
       "        }    #T_a4fa7f9e_753c_11e9_bea1_832ff6bcdf91row9_col4 {\n",
       "            background-color:  #f5eff6;\n",
       "            color:  #000000;\n",
       "        }    #T_a4fa7f9e_753c_11e9_bea1_832ff6bcdf91row9_col5 {\n",
       "            background-color:  #fdf5fa;\n",
       "            color:  #000000;\n",
       "        }    #T_a4fa7f9e_753c_11e9_bea1_832ff6bcdf91row9_col6 {\n",
       "            background-color:  #a1bbda;\n",
       "            color:  #000000;\n",
       "        }    #T_a4fa7f9e_753c_11e9_bea1_832ff6bcdf91row9_col7 {\n",
       "            background-color:  #eee8f3;\n",
       "            color:  #000000;\n",
       "        }    #T_a4fa7f9e_753c_11e9_bea1_832ff6bcdf91row9_col8 {\n",
       "            background-color:  #fbf3f9;\n",
       "            color:  #000000;\n",
       "        }    #T_a4fa7f9e_753c_11e9_bea1_832ff6bcdf91row9_col9 {\n",
       "            background-color:  #023858;\n",
       "            color:  #f1f1f1;\n",
       "        }    #T_a4fa7f9e_753c_11e9_bea1_832ff6bcdf91row9_col10 {\n",
       "            background-color:  #fef6fb;\n",
       "            color:  #000000;\n",
       "        }    #T_a4fa7f9e_753c_11e9_bea1_832ff6bcdf91row9_col11 {\n",
       "            background-color:  #b1c2de;\n",
       "            color:  #000000;\n",
       "        }    #T_a4fa7f9e_753c_11e9_bea1_832ff6bcdf91row9_col12 {\n",
       "            background-color:  #a2bcda;\n",
       "            color:  #000000;\n",
       "        }    #T_a4fa7f9e_753c_11e9_bea1_832ff6bcdf91row9_col13 {\n",
       "            background-color:  #c8cde4;\n",
       "            color:  #000000;\n",
       "        }    #T_a4fa7f9e_753c_11e9_bea1_832ff6bcdf91row9_col14 {\n",
       "            background-color:  #a7bddb;\n",
       "            color:  #000000;\n",
       "        }    #T_a4fa7f9e_753c_11e9_bea1_832ff6bcdf91row9_col15 {\n",
       "            background-color:  #dddbec;\n",
       "            color:  #000000;\n",
       "        }    #T_a4fa7f9e_753c_11e9_bea1_832ff6bcdf91row9_col16 {\n",
       "            background-color:  #c2cbe2;\n",
       "            color:  #000000;\n",
       "        }    #T_a4fa7f9e_753c_11e9_bea1_832ff6bcdf91row9_col17 {\n",
       "            background-color:  #bfc9e1;\n",
       "            color:  #000000;\n",
       "        }    #T_a4fa7f9e_753c_11e9_bea1_832ff6bcdf91row9_col18 {\n",
       "            background-color:  #569dc8;\n",
       "            color:  #000000;\n",
       "        }    #T_a4fa7f9e_753c_11e9_bea1_832ff6bcdf91row10_col0 {\n",
       "            background-color:  #eae6f1;\n",
       "            color:  #000000;\n",
       "        }    #T_a4fa7f9e_753c_11e9_bea1_832ff6bcdf91row10_col1 {\n",
       "            background-color:  #f1ebf4;\n",
       "            color:  #000000;\n",
       "        }    #T_a4fa7f9e_753c_11e9_bea1_832ff6bcdf91row10_col2 {\n",
       "            background-color:  #f0eaf4;\n",
       "            color:  #000000;\n",
       "        }    #T_a4fa7f9e_753c_11e9_bea1_832ff6bcdf91row10_col3 {\n",
       "            background-color:  #ebe6f2;\n",
       "            color:  #000000;\n",
       "        }    #T_a4fa7f9e_753c_11e9_bea1_832ff6bcdf91row10_col4 {\n",
       "            background-color:  #f6eff7;\n",
       "            color:  #000000;\n",
       "        }    #T_a4fa7f9e_753c_11e9_bea1_832ff6bcdf91row10_col5 {\n",
       "            background-color:  #fdf5fa;\n",
       "            color:  #000000;\n",
       "        }    #T_a4fa7f9e_753c_11e9_bea1_832ff6bcdf91row10_col6 {\n",
       "            background-color:  #b8c6e0;\n",
       "            color:  #000000;\n",
       "        }    #T_a4fa7f9e_753c_11e9_bea1_832ff6bcdf91row10_col7 {\n",
       "            background-color:  #f0eaf4;\n",
       "            color:  #000000;\n",
       "        }    #T_a4fa7f9e_753c_11e9_bea1_832ff6bcdf91row10_col8 {\n",
       "            background-color:  #faf3f9;\n",
       "            color:  #000000;\n",
       "        }    #T_a4fa7f9e_753c_11e9_bea1_832ff6bcdf91row10_col9 {\n",
       "            background-color:  #fff7fb;\n",
       "            color:  #000000;\n",
       "        }    #T_a4fa7f9e_753c_11e9_bea1_832ff6bcdf91row10_col10 {\n",
       "            background-color:  #023858;\n",
       "            color:  #f1f1f1;\n",
       "        }    #T_a4fa7f9e_753c_11e9_bea1_832ff6bcdf91row10_col11 {\n",
       "            background-color:  #9ab8d8;\n",
       "            color:  #000000;\n",
       "        }    #T_a4fa7f9e_753c_11e9_bea1_832ff6bcdf91row10_col12 {\n",
       "            background-color:  #b9c6e0;\n",
       "            color:  #000000;\n",
       "        }    #T_a4fa7f9e_753c_11e9_bea1_832ff6bcdf91row10_col13 {\n",
       "            background-color:  #9cb9d9;\n",
       "            color:  #000000;\n",
       "        }    #T_a4fa7f9e_753c_11e9_bea1_832ff6bcdf91row10_col14 {\n",
       "            background-color:  #88b1d4;\n",
       "            color:  #000000;\n",
       "        }    #T_a4fa7f9e_753c_11e9_bea1_832ff6bcdf91row10_col15 {\n",
       "            background-color:  #dedcec;\n",
       "            color:  #000000;\n",
       "        }    #T_a4fa7f9e_753c_11e9_bea1_832ff6bcdf91row10_col16 {\n",
       "            background-color:  #9ab8d8;\n",
       "            color:  #000000;\n",
       "        }    #T_a4fa7f9e_753c_11e9_bea1_832ff6bcdf91row10_col17 {\n",
       "            background-color:  #8fb4d6;\n",
       "            color:  #000000;\n",
       "        }    #T_a4fa7f9e_753c_11e9_bea1_832ff6bcdf91row10_col18 {\n",
       "            background-color:  #d9d8ea;\n",
       "            color:  #000000;\n",
       "        }    #T_a4fa7f9e_753c_11e9_bea1_832ff6bcdf91row11_col0 {\n",
       "            background-color:  #f0eaf4;\n",
       "            color:  #000000;\n",
       "        }    #T_a4fa7f9e_753c_11e9_bea1_832ff6bcdf91row11_col1 {\n",
       "            background-color:  #eae6f1;\n",
       "            color:  #000000;\n",
       "        }    #T_a4fa7f9e_753c_11e9_bea1_832ff6bcdf91row11_col2 {\n",
       "            background-color:  #ede8f3;\n",
       "            color:  #000000;\n",
       "        }    #T_a4fa7f9e_753c_11e9_bea1_832ff6bcdf91row11_col3 {\n",
       "            background-color:  #f1ebf5;\n",
       "            color:  #000000;\n",
       "        }    #T_a4fa7f9e_753c_11e9_bea1_832ff6bcdf91row11_col4 {\n",
       "            background-color:  #f6eff7;\n",
       "            color:  #000000;\n",
       "        }    #T_a4fa7f9e_753c_11e9_bea1_832ff6bcdf91row11_col5 {\n",
       "            background-color:  #fdf5fa;\n",
       "            color:  #000000;\n",
       "        }    #T_a4fa7f9e_753c_11e9_bea1_832ff6bcdf91row11_col6 {\n",
       "            background-color:  #c0c9e2;\n",
       "            color:  #000000;\n",
       "        }    #T_a4fa7f9e_753c_11e9_bea1_832ff6bcdf91row11_col7 {\n",
       "            background-color:  #f6eff7;\n",
       "            color:  #000000;\n",
       "        }    #T_a4fa7f9e_753c_11e9_bea1_832ff6bcdf91row11_col8 {\n",
       "            background-color:  #fbf4f9;\n",
       "            color:  #000000;\n",
       "        }    #T_a4fa7f9e_753c_11e9_bea1_832ff6bcdf91row11_col9 {\n",
       "            background-color:  #fcf4fa;\n",
       "            color:  #000000;\n",
       "        }    #T_a4fa7f9e_753c_11e9_bea1_832ff6bcdf91row11_col10 {\n",
       "            background-color:  #ede7f2;\n",
       "            color:  #000000;\n",
       "        }    #T_a4fa7f9e_753c_11e9_bea1_832ff6bcdf91row11_col11 {\n",
       "            background-color:  #023858;\n",
       "            color:  #f1f1f1;\n",
       "        }    #T_a4fa7f9e_753c_11e9_bea1_832ff6bcdf91row11_col12 {\n",
       "            background-color:  #fff7fb;\n",
       "            color:  #000000;\n",
       "        }    #T_a4fa7f9e_753c_11e9_bea1_832ff6bcdf91row11_col13 {\n",
       "            background-color:  #79abd0;\n",
       "            color:  #000000;\n",
       "        }    #T_a4fa7f9e_753c_11e9_bea1_832ff6bcdf91row11_col14 {\n",
       "            background-color:  #94b6d7;\n",
       "            color:  #000000;\n",
       "        }    #T_a4fa7f9e_753c_11e9_bea1_832ff6bcdf91row11_col15 {\n",
       "            background-color:  #ece7f2;\n",
       "            color:  #000000;\n",
       "        }    #T_a4fa7f9e_753c_11e9_bea1_832ff6bcdf91row11_col16 {\n",
       "            background-color:  #6ba5cd;\n",
       "            color:  #000000;\n",
       "        }    #T_a4fa7f9e_753c_11e9_bea1_832ff6bcdf91row11_col17 {\n",
       "            background-color:  #4a98c5;\n",
       "            color:  #000000;\n",
       "        }    #T_a4fa7f9e_753c_11e9_bea1_832ff6bcdf91row11_col18 {\n",
       "            background-color:  #fcf4fa;\n",
       "            color:  #000000;\n",
       "        }    #T_a4fa7f9e_753c_11e9_bea1_832ff6bcdf91row12_col0 {\n",
       "            background-color:  #e7e3f0;\n",
       "            color:  #000000;\n",
       "        }    #T_a4fa7f9e_753c_11e9_bea1_832ff6bcdf91row12_col1 {\n",
       "            background-color:  #faf3f9;\n",
       "            color:  #000000;\n",
       "        }    #T_a4fa7f9e_753c_11e9_bea1_832ff6bcdf91row12_col2 {\n",
       "            background-color:  #f3edf5;\n",
       "            color:  #000000;\n",
       "        }    #T_a4fa7f9e_753c_11e9_bea1_832ff6bcdf91row12_col3 {\n",
       "            background-color:  #e3e0ee;\n",
       "            color:  #000000;\n",
       "        }    #T_a4fa7f9e_753c_11e9_bea1_832ff6bcdf91row12_col4 {\n",
       "            background-color:  #f1ebf5;\n",
       "            color:  #000000;\n",
       "        }    #T_a4fa7f9e_753c_11e9_bea1_832ff6bcdf91row12_col5 {\n",
       "            background-color:  #fef6fa;\n",
       "            color:  #000000;\n",
       "        }    #T_a4fa7f9e_753c_11e9_bea1_832ff6bcdf91row12_col6 {\n",
       "            background-color:  #71a8ce;\n",
       "            color:  #000000;\n",
       "        }    #T_a4fa7f9e_753c_11e9_bea1_832ff6bcdf91row12_col7 {\n",
       "            background-color:  #dfddec;\n",
       "            color:  #000000;\n",
       "        }    #T_a4fa7f9e_753c_11e9_bea1_832ff6bcdf91row12_col8 {\n",
       "            background-color:  #fcf4fa;\n",
       "            color:  #000000;\n",
       "        }    #T_a4fa7f9e_753c_11e9_bea1_832ff6bcdf91row12_col9 {\n",
       "            background-color:  #f2ecf5;\n",
       "            color:  #000000;\n",
       "        }    #T_a4fa7f9e_753c_11e9_bea1_832ff6bcdf91row12_col10 {\n",
       "            background-color:  #fff7fb;\n",
       "            color:  #000000;\n",
       "        }    #T_a4fa7f9e_753c_11e9_bea1_832ff6bcdf91row12_col11 {\n",
       "            background-color:  #fff7fb;\n",
       "            color:  #000000;\n",
       "        }    #T_a4fa7f9e_753c_11e9_bea1_832ff6bcdf91row12_col12 {\n",
       "            background-color:  #023858;\n",
       "            color:  #f1f1f1;\n",
       "        }    #T_a4fa7f9e_753c_11e9_bea1_832ff6bcdf91row12_col13 {\n",
       "            background-color:  #fff7fb;\n",
       "            color:  #000000;\n",
       "        }    #T_a4fa7f9e_753c_11e9_bea1_832ff6bcdf91row12_col14 {\n",
       "            background-color:  #d2d2e7;\n",
       "            color:  #000000;\n",
       "        }    #T_a4fa7f9e_753c_11e9_bea1_832ff6bcdf91row12_col15 {\n",
       "            background-color:  #e4e1ef;\n",
       "            color:  #000000;\n",
       "        }    #T_a4fa7f9e_753c_11e9_bea1_832ff6bcdf91row12_col16 {\n",
       "            background-color:  #fff7fb;\n",
       "            color:  #000000;\n",
       "        }    #T_a4fa7f9e_753c_11e9_bea1_832ff6bcdf91row12_col17 {\n",
       "            background-color:  #fff7fb;\n",
       "            color:  #000000;\n",
       "        }    #T_a4fa7f9e_753c_11e9_bea1_832ff6bcdf91row12_col18 {\n",
       "            background-color:  #8fb4d6;\n",
       "            color:  #000000;\n",
       "        }    #T_a4fa7f9e_753c_11e9_bea1_832ff6bcdf91row13_col0 {\n",
       "            background-color:  #ebe6f2;\n",
       "            color:  #000000;\n",
       "        }    #T_a4fa7f9e_753c_11e9_bea1_832ff6bcdf91row13_col1 {\n",
       "            background-color:  #e5e1ef;\n",
       "            color:  #000000;\n",
       "        }    #T_a4fa7f9e_753c_11e9_bea1_832ff6bcdf91row13_col2 {\n",
       "            background-color:  #e7e3f0;\n",
       "            color:  #000000;\n",
       "        }    #T_a4fa7f9e_753c_11e9_bea1_832ff6bcdf91row13_col3 {\n",
       "            background-color:  #f2ecf5;\n",
       "            color:  #000000;\n",
       "        }    #T_a4fa7f9e_753c_11e9_bea1_832ff6bcdf91row13_col4 {\n",
       "            background-color:  #fdf5fa;\n",
       "            color:  #000000;\n",
       "        }    #T_a4fa7f9e_753c_11e9_bea1_832ff6bcdf91row13_col5 {\n",
       "            background-color:  #fdf5fa;\n",
       "            color:  #000000;\n",
       "        }    #T_a4fa7f9e_753c_11e9_bea1_832ff6bcdf91row13_col6 {\n",
       "            background-color:  #ede7f2;\n",
       "            color:  #000000;\n",
       "        }    #T_a4fa7f9e_753c_11e9_bea1_832ff6bcdf91row13_col7 {\n",
       "            background-color:  #e0dded;\n",
       "            color:  #000000;\n",
       "        }    #T_a4fa7f9e_753c_11e9_bea1_832ff6bcdf91row13_col8 {\n",
       "            background-color:  #fdf5fa;\n",
       "            color:  #000000;\n",
       "        }    #T_a4fa7f9e_753c_11e9_bea1_832ff6bcdf91row13_col9 {\n",
       "            background-color:  #f9f2f8;\n",
       "            color:  #000000;\n",
       "        }    #T_a4fa7f9e_753c_11e9_bea1_832ff6bcdf91row13_col10 {\n",
       "            background-color:  #d9d8ea;\n",
       "            color:  #000000;\n",
       "        }    #T_a4fa7f9e_753c_11e9_bea1_832ff6bcdf91row13_col11 {\n",
       "            background-color:  #60a1ca;\n",
       "            color:  #000000;\n",
       "        }    #T_a4fa7f9e_753c_11e9_bea1_832ff6bcdf91row13_col12 {\n",
       "            background-color:  #f0eaf4;\n",
       "            color:  #000000;\n",
       "        }    #T_a4fa7f9e_753c_11e9_bea1_832ff6bcdf91row13_col13 {\n",
       "            background-color:  #023858;\n",
       "            color:  #f1f1f1;\n",
       "        }    #T_a4fa7f9e_753c_11e9_bea1_832ff6bcdf91row13_col14 {\n",
       "            background-color:  #045d92;\n",
       "            color:  #f1f1f1;\n",
       "        }    #T_a4fa7f9e_753c_11e9_bea1_832ff6bcdf91row13_col15 {\n",
       "            background-color:  #acc0dd;\n",
       "            color:  #000000;\n",
       "        }    #T_a4fa7f9e_753c_11e9_bea1_832ff6bcdf91row13_col16 {\n",
       "            background-color:  #023c5f;\n",
       "            color:  #f1f1f1;\n",
       "        }    #T_a4fa7f9e_753c_11e9_bea1_832ff6bcdf91row13_col17 {\n",
       "            background-color:  #034871;\n",
       "            color:  #f1f1f1;\n",
       "        }    #T_a4fa7f9e_753c_11e9_bea1_832ff6bcdf91row13_col18 {\n",
       "            background-color:  #f9f2f8;\n",
       "            color:  #000000;\n",
       "        }    #T_a4fa7f9e_753c_11e9_bea1_832ff6bcdf91row14_col0 {\n",
       "            background-color:  #ebe6f2;\n",
       "            color:  #000000;\n",
       "        }    #T_a4fa7f9e_753c_11e9_bea1_832ff6bcdf91row14_col1 {\n",
       "            background-color:  #eee9f3;\n",
       "            color:  #000000;\n",
       "        }    #T_a4fa7f9e_753c_11e9_bea1_832ff6bcdf91row14_col2 {\n",
       "            background-color:  #ece7f2;\n",
       "            color:  #000000;\n",
       "        }    #T_a4fa7f9e_753c_11e9_bea1_832ff6bcdf91row14_col3 {\n",
       "            background-color:  #f7f0f7;\n",
       "            color:  #000000;\n",
       "        }    #T_a4fa7f9e_753c_11e9_bea1_832ff6bcdf91row14_col4 {\n",
       "            background-color:  #fff7fb;\n",
       "            color:  #000000;\n",
       "        }    #T_a4fa7f9e_753c_11e9_bea1_832ff6bcdf91row14_col5 {\n",
       "            background-color:  #fef6fb;\n",
       "            color:  #000000;\n",
       "        }    #T_a4fa7f9e_753c_11e9_bea1_832ff6bcdf91row14_col6 {\n",
       "            background-color:  #fff7fb;\n",
       "            color:  #000000;\n",
       "        }    #T_a4fa7f9e_753c_11e9_bea1_832ff6bcdf91row14_col7 {\n",
       "            background-color:  #fff7fb;\n",
       "            color:  #000000;\n",
       "        }    #T_a4fa7f9e_753c_11e9_bea1_832ff6bcdf91row14_col8 {\n",
       "            background-color:  #fdf5fa;\n",
       "            color:  #000000;\n",
       "        }    #T_a4fa7f9e_753c_11e9_bea1_832ff6bcdf91row14_col9 {\n",
       "            background-color:  #f4eef6;\n",
       "            color:  #000000;\n",
       "        }    #T_a4fa7f9e_753c_11e9_bea1_832ff6bcdf91row14_col10 {\n",
       "            background-color:  #dddbec;\n",
       "            color:  #000000;\n",
       "        }    #T_a4fa7f9e_753c_11e9_bea1_832ff6bcdf91row14_col11 {\n",
       "            background-color:  #94b6d7;\n",
       "            color:  #000000;\n",
       "        }    #T_a4fa7f9e_753c_11e9_bea1_832ff6bcdf91row14_col12 {\n",
       "            background-color:  #d2d3e7;\n",
       "            color:  #000000;\n",
       "        }    #T_a4fa7f9e_753c_11e9_bea1_832ff6bcdf91row14_col13 {\n",
       "            background-color:  #046096;\n",
       "            color:  #f1f1f1;\n",
       "        }    #T_a4fa7f9e_753c_11e9_bea1_832ff6bcdf91row14_col14 {\n",
       "            background-color:  #023858;\n",
       "            color:  #f1f1f1;\n",
       "        }    #T_a4fa7f9e_753c_11e9_bea1_832ff6bcdf91row14_col15 {\n",
       "            background-color:  #d1d2e6;\n",
       "            color:  #000000;\n",
       "        }    #T_a4fa7f9e_753c_11e9_bea1_832ff6bcdf91row14_col16 {\n",
       "            background-color:  #0569a5;\n",
       "            color:  #f1f1f1;\n",
       "        }    #T_a4fa7f9e_753c_11e9_bea1_832ff6bcdf91row14_col17 {\n",
       "            background-color:  #2081b9;\n",
       "            color:  #000000;\n",
       "        }    #T_a4fa7f9e_753c_11e9_bea1_832ff6bcdf91row14_col18 {\n",
       "            background-color:  #e4e1ef;\n",
       "            color:  #000000;\n",
       "        }    #T_a4fa7f9e_753c_11e9_bea1_832ff6bcdf91row15_col0 {\n",
       "            background-color:  #d2d2e7;\n",
       "            color:  #000000;\n",
       "        }    #T_a4fa7f9e_753c_11e9_bea1_832ff6bcdf91row15_col1 {\n",
       "            background-color:  #f7f0f7;\n",
       "            color:  #000000;\n",
       "        }    #T_a4fa7f9e_753c_11e9_bea1_832ff6bcdf91row15_col2 {\n",
       "            background-color:  #e7e3f0;\n",
       "            color:  #000000;\n",
       "        }    #T_a4fa7f9e_753c_11e9_bea1_832ff6bcdf91row15_col3 {\n",
       "            background-color:  #dedcec;\n",
       "            color:  #000000;\n",
       "        }    #T_a4fa7f9e_753c_11e9_bea1_832ff6bcdf91row15_col4 {\n",
       "            background-color:  #f9f2f8;\n",
       "            color:  #000000;\n",
       "        }    #T_a4fa7f9e_753c_11e9_bea1_832ff6bcdf91row15_col5 {\n",
       "            background-color:  #fff7fb;\n",
       "            color:  #000000;\n",
       "        }    #T_a4fa7f9e_753c_11e9_bea1_832ff6bcdf91row15_col6 {\n",
       "            background-color:  #d9d8ea;\n",
       "            color:  #000000;\n",
       "        }    #T_a4fa7f9e_753c_11e9_bea1_832ff6bcdf91row15_col7 {\n",
       "            background-color:  #abbfdc;\n",
       "            color:  #000000;\n",
       "        }    #T_a4fa7f9e_753c_11e9_bea1_832ff6bcdf91row15_col8 {\n",
       "            background-color:  #fdf5fa;\n",
       "            color:  #000000;\n",
       "        }    #T_a4fa7f9e_753c_11e9_bea1_832ff6bcdf91row15_col9 {\n",
       "            background-color:  #f6eff7;\n",
       "            color:  #000000;\n",
       "        }    #T_a4fa7f9e_753c_11e9_bea1_832ff6bcdf91row15_col10 {\n",
       "            background-color:  #f6eff7;\n",
       "            color:  #000000;\n",
       "        }    #T_a4fa7f9e_753c_11e9_bea1_832ff6bcdf91row15_col11 {\n",
       "            background-color:  #bbc7e0;\n",
       "            color:  #000000;\n",
       "        }    #T_a4fa7f9e_753c_11e9_bea1_832ff6bcdf91row15_col12 {\n",
       "            background-color:  #b3c3de;\n",
       "            color:  #000000;\n",
       "        }    #T_a4fa7f9e_753c_11e9_bea1_832ff6bcdf91row15_col13 {\n",
       "            background-color:  #8eb3d5;\n",
       "            color:  #000000;\n",
       "        }    #T_a4fa7f9e_753c_11e9_bea1_832ff6bcdf91row15_col14 {\n",
       "            background-color:  #99b8d8;\n",
       "            color:  #000000;\n",
       "        }    #T_a4fa7f9e_753c_11e9_bea1_832ff6bcdf91row15_col15 {\n",
       "            background-color:  #023858;\n",
       "            color:  #f1f1f1;\n",
       "        }    #T_a4fa7f9e_753c_11e9_bea1_832ff6bcdf91row15_col16 {\n",
       "            background-color:  #73a9cf;\n",
       "            color:  #000000;\n",
       "        }    #T_a4fa7f9e_753c_11e9_bea1_832ff6bcdf91row15_col17 {\n",
       "            background-color:  #9cb9d9;\n",
       "            color:  #000000;\n",
       "        }    #T_a4fa7f9e_753c_11e9_bea1_832ff6bcdf91row15_col18 {\n",
       "            background-color:  #bfc9e1;\n",
       "            color:  #000000;\n",
       "        }    #T_a4fa7f9e_753c_11e9_bea1_832ff6bcdf91row16_col0 {\n",
       "            background-color:  #e9e5f1;\n",
       "            color:  #000000;\n",
       "        }    #T_a4fa7f9e_753c_11e9_bea1_832ff6bcdf91row16_col1 {\n",
       "            background-color:  #e7e3f0;\n",
       "            color:  #000000;\n",
       "        }    #T_a4fa7f9e_753c_11e9_bea1_832ff6bcdf91row16_col2 {\n",
       "            background-color:  #e6e2ef;\n",
       "            color:  #000000;\n",
       "        }    #T_a4fa7f9e_753c_11e9_bea1_832ff6bcdf91row16_col3 {\n",
       "            background-color:  #f1ebf4;\n",
       "            color:  #000000;\n",
       "        }    #T_a4fa7f9e_753c_11e9_bea1_832ff6bcdf91row16_col4 {\n",
       "            background-color:  #fdf5fa;\n",
       "            color:  #000000;\n",
       "        }    #T_a4fa7f9e_753c_11e9_bea1_832ff6bcdf91row16_col5 {\n",
       "            background-color:  #fdf5fa;\n",
       "            color:  #000000;\n",
       "        }    #T_a4fa7f9e_753c_11e9_bea1_832ff6bcdf91row16_col6 {\n",
       "            background-color:  #ede8f3;\n",
       "            color:  #000000;\n",
       "        }    #T_a4fa7f9e_753c_11e9_bea1_832ff6bcdf91row16_col7 {\n",
       "            background-color:  #c9cee4;\n",
       "            color:  #000000;\n",
       "        }    #T_a4fa7f9e_753c_11e9_bea1_832ff6bcdf91row16_col8 {\n",
       "            background-color:  #fdf5fa;\n",
       "            color:  #000000;\n",
       "        }    #T_a4fa7f9e_753c_11e9_bea1_832ff6bcdf91row16_col9 {\n",
       "            background-color:  #faf2f8;\n",
       "            color:  #000000;\n",
       "        }    #T_a4fa7f9e_753c_11e9_bea1_832ff6bcdf91row16_col10 {\n",
       "            background-color:  #dcdaeb;\n",
       "            color:  #000000;\n",
       "        }    #T_a4fa7f9e_753c_11e9_bea1_832ff6bcdf91row16_col11 {\n",
       "            background-color:  #589ec8;\n",
       "            color:  #000000;\n",
       "        }    #T_a4fa7f9e_753c_11e9_bea1_832ff6bcdf91row16_col12 {\n",
       "            background-color:  #f2ecf5;\n",
       "            color:  #000000;\n",
       "        }    #T_a4fa7f9e_753c_11e9_bea1_832ff6bcdf91row16_col13 {\n",
       "            background-color:  #023d60;\n",
       "            color:  #f1f1f1;\n",
       "        }    #T_a4fa7f9e_753c_11e9_bea1_832ff6bcdf91row16_col14 {\n",
       "            background-color:  #0567a1;\n",
       "            color:  #f1f1f1;\n",
       "        }    #T_a4fa7f9e_753c_11e9_bea1_832ff6bcdf91row16_col15 {\n",
       "            background-color:  #93b5d6;\n",
       "            color:  #000000;\n",
       "        }    #T_a4fa7f9e_753c_11e9_bea1_832ff6bcdf91row16_col16 {\n",
       "            background-color:  #023858;\n",
       "            color:  #f1f1f1;\n",
       "        }    #T_a4fa7f9e_753c_11e9_bea1_832ff6bcdf91row16_col17 {\n",
       "            background-color:  #034267;\n",
       "            color:  #f1f1f1;\n",
       "        }    #T_a4fa7f9e_753c_11e9_bea1_832ff6bcdf91row16_col18 {\n",
       "            background-color:  #faf3f9;\n",
       "            color:  #000000;\n",
       "        }    #T_a4fa7f9e_753c_11e9_bea1_832ff6bcdf91row17_col0 {\n",
       "            background-color:  #eee8f3;\n",
       "            color:  #000000;\n",
       "        }    #T_a4fa7f9e_753c_11e9_bea1_832ff6bcdf91row17_col1 {\n",
       "            background-color:  #e3e0ee;\n",
       "            color:  #000000;\n",
       "        }    #T_a4fa7f9e_753c_11e9_bea1_832ff6bcdf91row17_col2 {\n",
       "            background-color:  #e7e3f0;\n",
       "            color:  #000000;\n",
       "        }    #T_a4fa7f9e_753c_11e9_bea1_832ff6bcdf91row17_col3 {\n",
       "            background-color:  #f1ebf4;\n",
       "            color:  #000000;\n",
       "        }    #T_a4fa7f9e_753c_11e9_bea1_832ff6bcdf91row17_col4 {\n",
       "            background-color:  #fbf3f9;\n",
       "            color:  #000000;\n",
       "        }    #T_a4fa7f9e_753c_11e9_bea1_832ff6bcdf91row17_col5 {\n",
       "            background-color:  #fdf5fa;\n",
       "            color:  #000000;\n",
       "        }    #T_a4fa7f9e_753c_11e9_bea1_832ff6bcdf91row17_col6 {\n",
       "            background-color:  #dbdaeb;\n",
       "            color:  #000000;\n",
       "        }    #T_a4fa7f9e_753c_11e9_bea1_832ff6bcdf91row17_col7 {\n",
       "            background-color:  #d2d2e7;\n",
       "            color:  #000000;\n",
       "        }    #T_a4fa7f9e_753c_11e9_bea1_832ff6bcdf91row17_col8 {\n",
       "            background-color:  #fdf5fa;\n",
       "            color:  #000000;\n",
       "        }    #T_a4fa7f9e_753c_11e9_bea1_832ff6bcdf91row17_col9 {\n",
       "            background-color:  #fbf4f9;\n",
       "            color:  #000000;\n",
       "        }    #T_a4fa7f9e_753c_11e9_bea1_832ff6bcdf91row17_col10 {\n",
       "            background-color:  #dad9ea;\n",
       "            color:  #000000;\n",
       "        }    #T_a4fa7f9e_753c_11e9_bea1_832ff6bcdf91row17_col11 {\n",
       "            background-color:  #4094c3;\n",
       "            color:  #000000;\n",
       "        }    #T_a4fa7f9e_753c_11e9_bea1_832ff6bcdf91row17_col12 {\n",
       "            background-color:  #f7f0f7;\n",
       "            color:  #000000;\n",
       "        }    #T_a4fa7f9e_753c_11e9_bea1_832ff6bcdf91row17_col13 {\n",
       "            background-color:  #034973;\n",
       "            color:  #f1f1f1;\n",
       "        }    #T_a4fa7f9e_753c_11e9_bea1_832ff6bcdf91row17_col14 {\n",
       "            background-color:  #187cb6;\n",
       "            color:  #000000;\n",
       "        }    #T_a4fa7f9e_753c_11e9_bea1_832ff6bcdf91row17_col15 {\n",
       "            background-color:  #c5cce3;\n",
       "            color:  #000000;\n",
       "        }    #T_a4fa7f9e_753c_11e9_bea1_832ff6bcdf91row17_col16 {\n",
       "            background-color:  #034267;\n",
       "            color:  #f1f1f1;\n",
       "        }    #T_a4fa7f9e_753c_11e9_bea1_832ff6bcdf91row17_col17 {\n",
       "            background-color:  #023858;\n",
       "            color:  #f1f1f1;\n",
       "        }    #T_a4fa7f9e_753c_11e9_bea1_832ff6bcdf91row17_col18 {\n",
       "            background-color:  #fff7fb;\n",
       "            color:  #000000;\n",
       "        }    #T_a4fa7f9e_753c_11e9_bea1_832ff6bcdf91row18_col0 {\n",
       "            background-color:  #e5e1ef;\n",
       "            color:  #000000;\n",
       "        }    #T_a4fa7f9e_753c_11e9_bea1_832ff6bcdf91row18_col1 {\n",
       "            background-color:  #fbf3f9;\n",
       "            color:  #000000;\n",
       "        }    #T_a4fa7f9e_753c_11e9_bea1_832ff6bcdf91row18_col2 {\n",
       "            background-color:  #f2ecf5;\n",
       "            color:  #000000;\n",
       "        }    #T_a4fa7f9e_753c_11e9_bea1_832ff6bcdf91row18_col3 {\n",
       "            background-color:  #e0deed;\n",
       "            color:  #000000;\n",
       "        }    #T_a4fa7f9e_753c_11e9_bea1_832ff6bcdf91row18_col4 {\n",
       "            background-color:  #f3edf5;\n",
       "            color:  #000000;\n",
       "        }    #T_a4fa7f9e_753c_11e9_bea1_832ff6bcdf91row18_col5 {\n",
       "            background-color:  #fef6fa;\n",
       "            color:  #000000;\n",
       "        }    #T_a4fa7f9e_753c_11e9_bea1_832ff6bcdf91row18_col6 {\n",
       "            background-color:  #83afd3;\n",
       "            color:  #000000;\n",
       "        }    #T_a4fa7f9e_753c_11e9_bea1_832ff6bcdf91row18_col7 {\n",
       "            background-color:  #e4e1ef;\n",
       "            color:  #000000;\n",
       "        }    #T_a4fa7f9e_753c_11e9_bea1_832ff6bcdf91row18_col8 {\n",
       "            background-color:  #fbf3f9;\n",
       "            color:  #000000;\n",
       "        }    #T_a4fa7f9e_753c_11e9_bea1_832ff6bcdf91row18_col9 {\n",
       "            background-color:  #8bb2d4;\n",
       "            color:  #000000;\n",
       "        }    #T_a4fa7f9e_753c_11e9_bea1_832ff6bcdf91row18_col10 {\n",
       "            background-color:  #fdf5fa;\n",
       "            color:  #000000;\n",
       "        }    #T_a4fa7f9e_753c_11e9_bea1_832ff6bcdf91row18_col11 {\n",
       "            background-color:  #e3e0ee;\n",
       "            color:  #000000;\n",
       "        }    #T_a4fa7f9e_753c_11e9_bea1_832ff6bcdf91row18_col12 {\n",
       "            background-color:  #6da6cd;\n",
       "            color:  #000000;\n",
       "        }    #T_a4fa7f9e_753c_11e9_bea1_832ff6bcdf91row18_col13 {\n",
       "            background-color:  #f2ecf5;\n",
       "            color:  #000000;\n",
       "        }    #T_a4fa7f9e_753c_11e9_bea1_832ff6bcdf91row18_col14 {\n",
       "            background-color:  #c4cbe3;\n",
       "            color:  #000000;\n",
       "        }    #T_a4fa7f9e_753c_11e9_bea1_832ff6bcdf91row18_col15 {\n",
       "            background-color:  #d2d2e7;\n",
       "            color:  #000000;\n",
       "        }    #T_a4fa7f9e_753c_11e9_bea1_832ff6bcdf91row18_col16 {\n",
       "            background-color:  #f0eaf4;\n",
       "            color:  #000000;\n",
       "        }    #T_a4fa7f9e_753c_11e9_bea1_832ff6bcdf91row18_col17 {\n",
       "            background-color:  #f0eaf4;\n",
       "            color:  #000000;\n",
       "        }    #T_a4fa7f9e_753c_11e9_bea1_832ff6bcdf91row18_col18 {\n",
       "            background-color:  #023858;\n",
       "            color:  #f1f1f1;\n",
       "        }</style><table id=\"T_a4fa7f9e_753c_11e9_bea1_832ff6bcdf91\" ><thead>    <tr>        <th class=\"blank level0\" ></th>        <th class=\"col_heading level0 col0\" >age</th>        <th class=\"col_heading level0 col1\" >job</th>        <th class=\"col_heading level0 col2\" >marital</th>        <th class=\"col_heading level0 col3\" >education</th>        <th class=\"col_heading level0 col4\" >housing</th>        <th class=\"col_heading level0 col5\" >loan</th>        <th class=\"col_heading level0 col6\" >contact</th>        <th class=\"col_heading level0 col7\" >month</th>        <th class=\"col_heading level0 col8\" >day_of_week</th>        <th class=\"col_heading level0 col9\" >duration</th>        <th class=\"col_heading level0 col10\" >campaign</th>        <th class=\"col_heading level0 col11\" >pdays</th>        <th class=\"col_heading level0 col12\" >previous</th>        <th class=\"col_heading level0 col13\" >emp.var.rate</th>        <th class=\"col_heading level0 col14\" >cons.price.idx</th>        <th class=\"col_heading level0 col15\" >cons.conf.idx</th>        <th class=\"col_heading level0 col16\" >euribor3m</th>        <th class=\"col_heading level0 col17\" >nr.employed</th>        <th class=\"col_heading level0 col18\" >y</th>    </tr></thead><tbody>\n",
       "                <tr>\n",
       "                        <th id=\"T_a4fa7f9e_753c_11e9_bea1_832ff6bcdf91level0_row0\" class=\"row_heading level0 row0\" >age</th>\n",
       "                        <td id=\"T_a4fa7f9e_753c_11e9_bea1_832ff6bcdf91row0_col0\" class=\"data row0 col0\" >1</td>\n",
       "                        <td id=\"T_a4fa7f9e_753c_11e9_bea1_832ff6bcdf91row0_col1\" class=\"data row0 col1\" >-0.091</td>\n",
       "                        <td id=\"T_a4fa7f9e_753c_11e9_bea1_832ff6bcdf91row0_col2\" class=\"data row0 col2\" >0.12</td>\n",
       "                        <td id=\"T_a4fa7f9e_753c_11e9_bea1_832ff6bcdf91row0_col3\" class=\"data row0 col3\" >-0.15</td>\n",
       "                        <td id=\"T_a4fa7f9e_753c_11e9_bea1_832ff6bcdf91row0_col4\" class=\"data row0 col4\" >-0.0018</td>\n",
       "                        <td id=\"T_a4fa7f9e_753c_11e9_bea1_832ff6bcdf91row0_col5\" class=\"data row0 col5\" >-0.0072</td>\n",
       "                        <td id=\"T_a4fa7f9e_753c_11e9_bea1_832ff6bcdf91row0_col6\" class=\"data row0 col6\" >-0.007</td>\n",
       "                        <td id=\"T_a4fa7f9e_753c_11e9_bea1_832ff6bcdf91row0_col7\" class=\"data row0 col7\" >0.077</td>\n",
       "                        <td id=\"T_a4fa7f9e_753c_11e9_bea1_832ff6bcdf91row0_col8\" class=\"data row0 col8\" >-0.018</td>\n",
       "                        <td id=\"T_a4fa7f9e_753c_11e9_bea1_832ff6bcdf91row0_col9\" class=\"data row0 col9\" >-0.00087</td>\n",
       "                        <td id=\"T_a4fa7f9e_753c_11e9_bea1_832ff6bcdf91row0_col10\" class=\"data row0 col10\" >0.0046</td>\n",
       "                        <td id=\"T_a4fa7f9e_753c_11e9_bea1_832ff6bcdf91row0_col11\" class=\"data row0 col11\" >-0.034</td>\n",
       "                        <td id=\"T_a4fa7f9e_753c_11e9_bea1_832ff6bcdf91row0_col12\" class=\"data row0 col12\" >0.024</td>\n",
       "                        <td id=\"T_a4fa7f9e_753c_11e9_bea1_832ff6bcdf91row0_col13\" class=\"data row0 col13\" >-0.00037</td>\n",
       "                        <td id=\"T_a4fa7f9e_753c_11e9_bea1_832ff6bcdf91row0_col14\" class=\"data row0 col14\" >0.00086</td>\n",
       "                        <td id=\"T_a4fa7f9e_753c_11e9_bea1_832ff6bcdf91row0_col15\" class=\"data row0 col15\" >0.13</td>\n",
       "                        <td id=\"T_a4fa7f9e_753c_11e9_bea1_832ff6bcdf91row0_col16\" class=\"data row0 col16\" >0.011</td>\n",
       "                        <td id=\"T_a4fa7f9e_753c_11e9_bea1_832ff6bcdf91row0_col17\" class=\"data row0 col17\" >-0.018</td>\n",
       "                        <td id=\"T_a4fa7f9e_753c_11e9_bea1_832ff6bcdf91row0_col18\" class=\"data row0 col18\" >0.03</td>\n",
       "            </tr>\n",
       "            <tr>\n",
       "                        <th id=\"T_a4fa7f9e_753c_11e9_bea1_832ff6bcdf91level0_row1\" class=\"row_heading level0 row1\" >job</th>\n",
       "                        <td id=\"T_a4fa7f9e_753c_11e9_bea1_832ff6bcdf91row1_col0\" class=\"data row1 col0\" >-0.091</td>\n",
       "                        <td id=\"T_a4fa7f9e_753c_11e9_bea1_832ff6bcdf91row1_col1\" class=\"data row1 col1\" >1</td>\n",
       "                        <td id=\"T_a4fa7f9e_753c_11e9_bea1_832ff6bcdf91row1_col2\" class=\"data row1 col2\" >-8.6e-06</td>\n",
       "                        <td id=\"T_a4fa7f9e_753c_11e9_bea1_832ff6bcdf91row1_col3\" class=\"data row1 col3\" >0.028</td>\n",
       "                        <td id=\"T_a4fa7f9e_753c_11e9_bea1_832ff6bcdf91row1_col4\" class=\"data row1 col4\" >-0.0032</td>\n",
       "                        <td id=\"T_a4fa7f9e_753c_11e9_bea1_832ff6bcdf91row1_col5\" class=\"data row1 col5\" >0.012</td>\n",
       "                        <td id=\"T_a4fa7f9e_753c_11e9_bea1_832ff6bcdf91row1_col6\" class=\"data row1 col6\" >-0.0075</td>\n",
       "                        <td id=\"T_a4fa7f9e_753c_11e9_bea1_832ff6bcdf91row1_col7\" class=\"data row1 col7\" >-0.049</td>\n",
       "                        <td id=\"T_a4fa7f9e_753c_11e9_bea1_832ff6bcdf91row1_col8\" class=\"data row1 col8\" >0.0052</td>\n",
       "                        <td id=\"T_a4fa7f9e_753c_11e9_bea1_832ff6bcdf91row1_col9\" class=\"data row1 col9\" >-0.0089</td>\n",
       "                        <td id=\"T_a4fa7f9e_753c_11e9_bea1_832ff6bcdf91row1_col10\" class=\"data row1 col10\" >0.015</td>\n",
       "                        <td id=\"T_a4fa7f9e_753c_11e9_bea1_832ff6bcdf91row1_col11\" class=\"data row1 col11\" >0.057</td>\n",
       "                        <td id=\"T_a4fa7f9e_753c_11e9_bea1_832ff6bcdf91row1_col12\" class=\"data row1 col12\" >-0.056</td>\n",
       "                        <td id=\"T_a4fa7f9e_753c_11e9_bea1_832ff6bcdf91row1_col13\" class=\"data row1 col13\" >0.081</td>\n",
       "                        <td id=\"T_a4fa7f9e_753c_11e9_bea1_832ff6bcdf91row1_col14\" class=\"data row1 col14\" >0.03</td>\n",
       "                        <td id=\"T_a4fa7f9e_753c_11e9_bea1_832ff6bcdf91row1_col15\" class=\"data row1 col15\" >-0.033</td>\n",
       "                        <td id=\"T_a4fa7f9e_753c_11e9_bea1_832ff6bcdf91row1_col16\" class=\"data row1 col16\" >0.073</td>\n",
       "                        <td id=\"T_a4fa7f9e_753c_11e9_bea1_832ff6bcdf91row1_col17\" class=\"data row1 col17\" >0.093</td>\n",
       "                        <td id=\"T_a4fa7f9e_753c_11e9_bea1_832ff6bcdf91row1_col18\" class=\"data row1 col18\" >-0.058</td>\n",
       "            </tr>\n",
       "            <tr>\n",
       "                        <th id=\"T_a4fa7f9e_753c_11e9_bea1_832ff6bcdf91level0_row2\" class=\"row_heading level0 row2\" >marital</th>\n",
       "                        <td id=\"T_a4fa7f9e_753c_11e9_bea1_832ff6bcdf91row2_col0\" class=\"data row2 col0\" >0.12</td>\n",
       "                        <td id=\"T_a4fa7f9e_753c_11e9_bea1_832ff6bcdf91row2_col1\" class=\"data row2 col1\" >-8.6e-06</td>\n",
       "                        <td id=\"T_a4fa7f9e_753c_11e9_bea1_832ff6bcdf91row2_col2\" class=\"data row2 col2\" >1</td>\n",
       "                        <td id=\"T_a4fa7f9e_753c_11e9_bea1_832ff6bcdf91row2_col3\" class=\"data row2 col3\" >-0.12</td>\n",
       "                        <td id=\"T_a4fa7f9e_753c_11e9_bea1_832ff6bcdf91row2_col4\" class=\"data row2 col4\" >-0.0085</td>\n",
       "                        <td id=\"T_a4fa7f9e_753c_11e9_bea1_832ff6bcdf91row2_col5\" class=\"data row2 col5\" >0.0016</td>\n",
       "                        <td id=\"T_a4fa7f9e_753c_11e9_bea1_832ff6bcdf91row2_col6\" class=\"data row2 col6\" >-0.044</td>\n",
       "                        <td id=\"T_a4fa7f9e_753c_11e9_bea1_832ff6bcdf91row2_col7\" class=\"data row2 col7\" >0.0025</td>\n",
       "                        <td id=\"T_a4fa7f9e_753c_11e9_bea1_832ff6bcdf91row2_col8\" class=\"data row2 col8\" >0.0043</td>\n",
       "                        <td id=\"T_a4fa7f9e_753c_11e9_bea1_832ff6bcdf91row2_col9\" class=\"data row2 col9\" >0.00054</td>\n",
       "                        <td id=\"T_a4fa7f9e_753c_11e9_bea1_832ff6bcdf91row2_col10\" class=\"data row2 col10\" >-0.0004</td>\n",
       "                        <td id=\"T_a4fa7f9e_753c_11e9_bea1_832ff6bcdf91row2_col11\" class=\"data row2 col11\" >0.017</td>\n",
       "                        <td id=\"T_a4fa7f9e_753c_11e9_bea1_832ff6bcdf91row2_col12\" class=\"data row2 col12\" >-0.029</td>\n",
       "                        <td id=\"T_a4fa7f9e_753c_11e9_bea1_832ff6bcdf91row2_col13\" class=\"data row2 col13\" >0.048</td>\n",
       "                        <td id=\"T_a4fa7f9e_753c_11e9_bea1_832ff6bcdf91row2_col14\" class=\"data row2 col14\" >0.024</td>\n",
       "                        <td id=\"T_a4fa7f9e_753c_11e9_bea1_832ff6bcdf91row2_col15\" class=\"data row2 col15\" >0.051</td>\n",
       "                        <td id=\"T_a4fa7f9e_753c_11e9_bea1_832ff6bcdf91row2_col16\" class=\"data row2 col16\" >0.054</td>\n",
       "                        <td id=\"T_a4fa7f9e_753c_11e9_bea1_832ff6bcdf91row2_col17\" class=\"data row2 col17\" >0.05</td>\n",
       "                        <td id=\"T_a4fa7f9e_753c_11e9_bea1_832ff6bcdf91row2_col18\" class=\"data row2 col18\" >-0.026</td>\n",
       "            </tr>\n",
       "            <tr>\n",
       "                        <th id=\"T_a4fa7f9e_753c_11e9_bea1_832ff6bcdf91level0_row3\" class=\"row_heading level0 row3\" >education</th>\n",
       "                        <td id=\"T_a4fa7f9e_753c_11e9_bea1_832ff6bcdf91row3_col0\" class=\"data row3 col0\" >-0.15</td>\n",
       "                        <td id=\"T_a4fa7f9e_753c_11e9_bea1_832ff6bcdf91row3_col1\" class=\"data row3 col1\" >0.028</td>\n",
       "                        <td id=\"T_a4fa7f9e_753c_11e9_bea1_832ff6bcdf91row3_col2\" class=\"data row3 col2\" >-0.12</td>\n",
       "                        <td id=\"T_a4fa7f9e_753c_11e9_bea1_832ff6bcdf91row3_col3\" class=\"data row3 col3\" >1</td>\n",
       "                        <td id=\"T_a4fa7f9e_753c_11e9_bea1_832ff6bcdf91row3_col4\" class=\"data row3 col4\" >0.016</td>\n",
       "                        <td id=\"T_a4fa7f9e_753c_11e9_bea1_832ff6bcdf91row3_col5\" class=\"data row3 col5\" >0.0092</td>\n",
       "                        <td id=\"T_a4fa7f9e_753c_11e9_bea1_832ff6bcdf91row3_col6\" class=\"data row3 col6\" >0.11</td>\n",
       "                        <td id=\"T_a4fa7f9e_753c_11e9_bea1_832ff6bcdf91row3_col7\" class=\"data row3 col7\" >0.12</td>\n",
       "                        <td id=\"T_a4fa7f9e_753c_11e9_bea1_832ff6bcdf91row3_col8\" class=\"data row3 col8\" >0.005</td>\n",
       "                        <td id=\"T_a4fa7f9e_753c_11e9_bea1_832ff6bcdf91row3_col9\" class=\"data row3 col9\" >-0.015</td>\n",
       "                        <td id=\"T_a4fa7f9e_753c_11e9_bea1_832ff6bcdf91row3_col10\" class=\"data row3 col10\" >-0.00033</td>\n",
       "                        <td id=\"T_a4fa7f9e_753c_11e9_bea1_832ff6bcdf91row3_col11\" class=\"data row3 col11\" >-0.044</td>\n",
       "                        <td id=\"T_a4fa7f9e_753c_11e9_bea1_832ff6bcdf91row3_col12\" class=\"data row3 col12\" >0.039</td>\n",
       "                        <td id=\"T_a4fa7f9e_753c_11e9_bea1_832ff6bcdf91row3_col13\" class=\"data row3 col13\" >-0.048</td>\n",
       "                        <td id=\"T_a4fa7f9e_753c_11e9_bea1_832ff6bcdf91row3_col14\" class=\"data row3 col14\" >-0.087</td>\n",
       "                        <td id=\"T_a4fa7f9e_753c_11e9_bea1_832ff6bcdf91row3_col15\" class=\"data row3 col15\" >0.069</td>\n",
       "                        <td id=\"T_a4fa7f9e_753c_11e9_bea1_832ff6bcdf91row3_col16\" class=\"data row3 col16\" >-0.04</td>\n",
       "                        <td id=\"T_a4fa7f9e_753c_11e9_bea1_832ff6bcdf91row3_col17\" class=\"data row3 col17\" >-0.042</td>\n",
       "                        <td id=\"T_a4fa7f9e_753c_11e9_bea1_832ff6bcdf91row3_col18\" class=\"data row3 col18\" >0.056</td>\n",
       "            </tr>\n",
       "            <tr>\n",
       "                        <th id=\"T_a4fa7f9e_753c_11e9_bea1_832ff6bcdf91level0_row4\" class=\"row_heading level0 row4\" >housing</th>\n",
       "                        <td id=\"T_a4fa7f9e_753c_11e9_bea1_832ff6bcdf91row4_col0\" class=\"data row4 col0\" >-0.0018</td>\n",
       "                        <td id=\"T_a4fa7f9e_753c_11e9_bea1_832ff6bcdf91row4_col1\" class=\"data row4 col1\" >-0.0032</td>\n",
       "                        <td id=\"T_a4fa7f9e_753c_11e9_bea1_832ff6bcdf91row4_col2\" class=\"data row4 col2\" >-0.0085</td>\n",
       "                        <td id=\"T_a4fa7f9e_753c_11e9_bea1_832ff6bcdf91row4_col3\" class=\"data row4 col3\" >0.016</td>\n",
       "                        <td id=\"T_a4fa7f9e_753c_11e9_bea1_832ff6bcdf91row4_col4\" class=\"data row4 col4\" >1</td>\n",
       "                        <td id=\"T_a4fa7f9e_753c_11e9_bea1_832ff6bcdf91row4_col5\" class=\"data row4 col5\" >0.036</td>\n",
       "                        <td id=\"T_a4fa7f9e_753c_11e9_bea1_832ff6bcdf91row4_col6\" class=\"data row4 col6\" >0.078</td>\n",
       "                        <td id=\"T_a4fa7f9e_753c_11e9_bea1_832ff6bcdf91row4_col7\" class=\"data row4 col7\" >0.03</td>\n",
       "                        <td id=\"T_a4fa7f9e_753c_11e9_bea1_832ff6bcdf91row4_col8\" class=\"data row4 col8\" >-0.0085</td>\n",
       "                        <td id=\"T_a4fa7f9e_753c_11e9_bea1_832ff6bcdf91row4_col9\" class=\"data row4 col9\" >-0.0083</td>\n",
       "                        <td id=\"T_a4fa7f9e_753c_11e9_bea1_832ff6bcdf91row4_col10\" class=\"data row4 col10\" >-0.011</td>\n",
       "                        <td id=\"T_a4fa7f9e_753c_11e9_bea1_832ff6bcdf91row4_col11\" class=\"data row4 col11\" >-0.01</td>\n",
       "                        <td id=\"T_a4fa7f9e_753c_11e9_bea1_832ff6bcdf91row4_col12\" class=\"data row4 col12\" >0.022</td>\n",
       "                        <td id=\"T_a4fa7f9e_753c_11e9_bea1_832ff6bcdf91row4_col13\" class=\"data row4 col13\" >-0.059</td>\n",
       "                        <td id=\"T_a4fa7f9e_753c_11e9_bea1_832ff6bcdf91row4_col14\" class=\"data row4 col14\" >-0.077</td>\n",
       "                        <td id=\"T_a4fa7f9e_753c_11e9_bea1_832ff6bcdf91row4_col15\" class=\"data row4 col15\" >-0.032</td>\n",
       "                        <td id=\"T_a4fa7f9e_753c_11e9_bea1_832ff6bcdf91row4_col16\" class=\"data row4 col16\" >-0.058</td>\n",
       "                        <td id=\"T_a4fa7f9e_753c_11e9_bea1_832ff6bcdf91row4_col17\" class=\"data row4 col17\" >-0.046</td>\n",
       "                        <td id=\"T_a4fa7f9e_753c_11e9_bea1_832ff6bcdf91row4_col18\" class=\"data row4 col18\" >0.011</td>\n",
       "            </tr>\n",
       "            <tr>\n",
       "                        <th id=\"T_a4fa7f9e_753c_11e9_bea1_832ff6bcdf91level0_row5\" class=\"row_heading level0 row5\" >loan</th>\n",
       "                        <td id=\"T_a4fa7f9e_753c_11e9_bea1_832ff6bcdf91row5_col0\" class=\"data row5 col0\" >-0.0072</td>\n",
       "                        <td id=\"T_a4fa7f9e_753c_11e9_bea1_832ff6bcdf91row5_col1\" class=\"data row5 col1\" >0.012</td>\n",
       "                        <td id=\"T_a4fa7f9e_753c_11e9_bea1_832ff6bcdf91row5_col2\" class=\"data row5 col2\" >0.0016</td>\n",
       "                        <td id=\"T_a4fa7f9e_753c_11e9_bea1_832ff6bcdf91row5_col3\" class=\"data row5 col3\" >0.0092</td>\n",
       "                        <td id=\"T_a4fa7f9e_753c_11e9_bea1_832ff6bcdf91row5_col4\" class=\"data row5 col4\" >0.036</td>\n",
       "                        <td id=\"T_a4fa7f9e_753c_11e9_bea1_832ff6bcdf91row5_col5\" class=\"data row5 col5\" >1</td>\n",
       "                        <td id=\"T_a4fa7f9e_753c_11e9_bea1_832ff6bcdf91row5_col6\" class=\"data row5 col6\" >0.013</td>\n",
       "                        <td id=\"T_a4fa7f9e_753c_11e9_bea1_832ff6bcdf91row5_col7\" class=\"data row5 col7\" >-0.0017</td>\n",
       "                        <td id=\"T_a4fa7f9e_753c_11e9_bea1_832ff6bcdf91row5_col8\" class=\"data row5 col8\" >0.0018</td>\n",
       "                        <td id=\"T_a4fa7f9e_753c_11e9_bea1_832ff6bcdf91row5_col9\" class=\"data row5 col9\" >0.00012</td>\n",
       "                        <td id=\"T_a4fa7f9e_753c_11e9_bea1_832ff6bcdf91row5_col10\" class=\"data row5 col10\" >0.0053</td>\n",
       "                        <td id=\"T_a4fa7f9e_753c_11e9_bea1_832ff6bcdf91row5_col11\" class=\"data row5 col11\" >-8.6e-05</td>\n",
       "                        <td id=\"T_a4fa7f9e_753c_11e9_bea1_832ff6bcdf91row5_col12\" class=\"data row5 col12\" >-0.0021</td>\n",
       "                        <td id=\"T_a4fa7f9e_753c_11e9_bea1_832ff6bcdf91row5_col13\" class=\"data row5 col13\" >0.0012</td>\n",
       "                        <td id=\"T_a4fa7f9e_753c_11e9_bea1_832ff6bcdf91row5_col14\" class=\"data row5 col14\" >-0.0059</td>\n",
       "                        <td id=\"T_a4fa7f9e_753c_11e9_bea1_832ff6bcdf91row5_col15\" class=\"data row5 col15\" >-0.014</td>\n",
       "                        <td id=\"T_a4fa7f9e_753c_11e9_bea1_832ff6bcdf91row5_col16\" class=\"data row5 col16\" >-0.00049</td>\n",
       "                        <td id=\"T_a4fa7f9e_753c_11e9_bea1_832ff6bcdf91row5_col17\" class=\"data row5 col17\" >0.0042</td>\n",
       "                        <td id=\"T_a4fa7f9e_753c_11e9_bea1_832ff6bcdf91row5_col18\" class=\"data row5 col18\" >-0.0045</td>\n",
       "            </tr>\n",
       "            <tr>\n",
       "                        <th id=\"T_a4fa7f9e_753c_11e9_bea1_832ff6bcdf91level0_row6\" class=\"row_heading level0 row6\" >contact</th>\n",
       "                        <td id=\"T_a4fa7f9e_753c_11e9_bea1_832ff6bcdf91row6_col0\" class=\"data row6 col0\" >-0.007</td>\n",
       "                        <td id=\"T_a4fa7f9e_753c_11e9_bea1_832ff6bcdf91row6_col1\" class=\"data row6 col1\" >-0.0075</td>\n",
       "                        <td id=\"T_a4fa7f9e_753c_11e9_bea1_832ff6bcdf91row6_col2\" class=\"data row6 col2\" >-0.044</td>\n",
       "                        <td id=\"T_a4fa7f9e_753c_11e9_bea1_832ff6bcdf91row6_col3\" class=\"data row6 col3\" >0.11</td>\n",
       "                        <td id=\"T_a4fa7f9e_753c_11e9_bea1_832ff6bcdf91row6_col4\" class=\"data row6 col4\" >0.078</td>\n",
       "                        <td id=\"T_a4fa7f9e_753c_11e9_bea1_832ff6bcdf91row6_col5\" class=\"data row6 col5\" >0.013</td>\n",
       "                        <td id=\"T_a4fa7f9e_753c_11e9_bea1_832ff6bcdf91row6_col6\" class=\"data row6 col6\" >1</td>\n",
       "                        <td id=\"T_a4fa7f9e_753c_11e9_bea1_832ff6bcdf91row6_col7\" class=\"data row6 col7\" >0.32</td>\n",
       "                        <td id=\"T_a4fa7f9e_753c_11e9_bea1_832ff6bcdf91row6_col8\" class=\"data row6 col8\" >-0.02</td>\n",
       "                        <td id=\"T_a4fa7f9e_753c_11e9_bea1_832ff6bcdf91row6_col9\" class=\"data row6 col9\" >0.027</td>\n",
       "                        <td id=\"T_a4fa7f9e_753c_11e9_bea1_832ff6bcdf91row6_col10\" class=\"data row6 col10\" >-0.077</td>\n",
       "                        <td id=\"T_a4fa7f9e_753c_11e9_bea1_832ff6bcdf91row6_col11\" class=\"data row6 col11\" >-0.12</td>\n",
       "                        <td id=\"T_a4fa7f9e_753c_11e9_bea1_832ff6bcdf91row6_col12\" class=\"data row6 col12\" >0.21</td>\n",
       "                        <td id=\"T_a4fa7f9e_753c_11e9_bea1_832ff6bcdf91row6_col13\" class=\"data row6 col13\" >-0.39</td>\n",
       "                        <td id=\"T_a4fa7f9e_753c_11e9_bea1_832ff6bcdf91row6_col14\" class=\"data row6 col14\" >-0.59</td>\n",
       "                        <td id=\"T_a4fa7f9e_753c_11e9_bea1_832ff6bcdf91row6_col15\" class=\"data row6 col15\" >-0.25</td>\n",
       "                        <td id=\"T_a4fa7f9e_753c_11e9_bea1_832ff6bcdf91row6_col16\" class=\"data row6 col16\" >-0.4</td>\n",
       "                        <td id=\"T_a4fa7f9e_753c_11e9_bea1_832ff6bcdf91row6_col17\" class=\"data row6 col17\" >-0.27</td>\n",
       "                        <td id=\"T_a4fa7f9e_753c_11e9_bea1_832ff6bcdf91row6_col18\" class=\"data row6 col18\" >0.14</td>\n",
       "            </tr>\n",
       "            <tr>\n",
       "                        <th id=\"T_a4fa7f9e_753c_11e9_bea1_832ff6bcdf91level0_row7\" class=\"row_heading level0 row7\" >month</th>\n",
       "                        <td id=\"T_a4fa7f9e_753c_11e9_bea1_832ff6bcdf91row7_col0\" class=\"data row7 col0\" >0.077</td>\n",
       "                        <td id=\"T_a4fa7f9e_753c_11e9_bea1_832ff6bcdf91row7_col1\" class=\"data row7 col1\" >-0.049</td>\n",
       "                        <td id=\"T_a4fa7f9e_753c_11e9_bea1_832ff6bcdf91row7_col2\" class=\"data row7 col2\" >0.0025</td>\n",
       "                        <td id=\"T_a4fa7f9e_753c_11e9_bea1_832ff6bcdf91row7_col3\" class=\"data row7 col3\" >0.12</td>\n",
       "                        <td id=\"T_a4fa7f9e_753c_11e9_bea1_832ff6bcdf91row7_col4\" class=\"data row7 col4\" >0.03</td>\n",
       "                        <td id=\"T_a4fa7f9e_753c_11e9_bea1_832ff6bcdf91row7_col5\" class=\"data row7 col5\" >-0.0017</td>\n",
       "                        <td id=\"T_a4fa7f9e_753c_11e9_bea1_832ff6bcdf91row7_col6\" class=\"data row7 col6\" >0.32</td>\n",
       "                        <td id=\"T_a4fa7f9e_753c_11e9_bea1_832ff6bcdf91row7_col7\" class=\"data row7 col7\" >1</td>\n",
       "                        <td id=\"T_a4fa7f9e_753c_11e9_bea1_832ff6bcdf91row7_col8\" class=\"data row7 col8\" >-0.007</td>\n",
       "                        <td id=\"T_a4fa7f9e_753c_11e9_bea1_832ff6bcdf91row7_col9\" class=\"data row7 col9\" >-0.019</td>\n",
       "                        <td id=\"T_a4fa7f9e_753c_11e9_bea1_832ff6bcdf91row7_col10\" class=\"data row7 col10\" >-0.031</td>\n",
       "                        <td id=\"T_a4fa7f9e_753c_11e9_bea1_832ff6bcdf91row7_col11\" class=\"data row7 col11\" >-0.08</td>\n",
       "                        <td id=\"T_a4fa7f9e_753c_11e9_bea1_832ff6bcdf91row7_col12\" class=\"data row7 col12\" >0.064</td>\n",
       "                        <td id=\"T_a4fa7f9e_753c_11e9_bea1_832ff6bcdf91row7_col13\" class=\"data row7 col13\" >0.059</td>\n",
       "                        <td id=\"T_a4fa7f9e_753c_11e9_bea1_832ff6bcdf91row7_col14\" class=\"data row7 col14\" >-0.15</td>\n",
       "                        <td id=\"T_a4fa7f9e_753c_11e9_bea1_832ff6bcdf91row7_col15\" class=\"data row7 col15\" >0.26</td>\n",
       "                        <td id=\"T_a4fa7f9e_753c_11e9_bea1_832ff6bcdf91row7_col16\" class=\"data row7 col16\" >0.16</td>\n",
       "                        <td id=\"T_a4fa7f9e_753c_11e9_bea1_832ff6bcdf91row7_col17\" class=\"data row7 col17\" >0.13</td>\n",
       "                        <td id=\"T_a4fa7f9e_753c_11e9_bea1_832ff6bcdf91row7_col18\" class=\"data row7 col18\" >0.037</td>\n",
       "            </tr>\n",
       "            <tr>\n",
       "                        <th id=\"T_a4fa7f9e_753c_11e9_bea1_832ff6bcdf91level0_row8\" class=\"row_heading level0 row8\" >day_of_week</th>\n",
       "                        <td id=\"T_a4fa7f9e_753c_11e9_bea1_832ff6bcdf91row8_col0\" class=\"data row8 col0\" >-0.018</td>\n",
       "                        <td id=\"T_a4fa7f9e_753c_11e9_bea1_832ff6bcdf91row8_col1\" class=\"data row8 col1\" >0.0052</td>\n",
       "                        <td id=\"T_a4fa7f9e_753c_11e9_bea1_832ff6bcdf91row8_col2\" class=\"data row8 col2\" >0.0043</td>\n",
       "                        <td id=\"T_a4fa7f9e_753c_11e9_bea1_832ff6bcdf91row8_col3\" class=\"data row8 col3\" >0.005</td>\n",
       "                        <td id=\"T_a4fa7f9e_753c_11e9_bea1_832ff6bcdf91row8_col4\" class=\"data row8 col4\" >-0.0085</td>\n",
       "                        <td id=\"T_a4fa7f9e_753c_11e9_bea1_832ff6bcdf91row8_col5\" class=\"data row8 col5\" >0.0018</td>\n",
       "                        <td id=\"T_a4fa7f9e_753c_11e9_bea1_832ff6bcdf91row8_col6\" class=\"data row8 col6\" >-0.02</td>\n",
       "                        <td id=\"T_a4fa7f9e_753c_11e9_bea1_832ff6bcdf91row8_col7\" class=\"data row8 col7\" >-0.007</td>\n",
       "                        <td id=\"T_a4fa7f9e_753c_11e9_bea1_832ff6bcdf91row8_col8\" class=\"data row8 col8\" >1</td>\n",
       "                        <td id=\"T_a4fa7f9e_753c_11e9_bea1_832ff6bcdf91row8_col9\" class=\"data row8 col9\" >0.011</td>\n",
       "                        <td id=\"T_a4fa7f9e_753c_11e9_bea1_832ff6bcdf91row8_col10\" class=\"data row8 col10\" >0.015</td>\n",
       "                        <td id=\"T_a4fa7f9e_753c_11e9_bea1_832ff6bcdf91row8_col11\" class=\"data row8 col11\" >0.0068</td>\n",
       "                        <td id=\"T_a4fa7f9e_753c_11e9_bea1_832ff6bcdf91row8_col12\" class=\"data row8 col12\" >0.004</td>\n",
       "                        <td id=\"T_a4fa7f9e_753c_11e9_bea1_832ff6bcdf91row8_col13\" class=\"data row8 col13\" >-0.0044</td>\n",
       "                        <td id=\"T_a4fa7f9e_753c_11e9_bea1_832ff6bcdf91row8_col14\" class=\"data row8 col14\" >-0.0046</td>\n",
       "                        <td id=\"T_a4fa7f9e_753c_11e9_bea1_832ff6bcdf91row8_col15\" class=\"data row8 col15\" >-9.9e-05</td>\n",
       "                        <td id=\"T_a4fa7f9e_753c_11e9_bea1_832ff6bcdf91row8_col16\" class=\"data row8 col16\" >-0.0056</td>\n",
       "                        <td id=\"T_a4fa7f9e_753c_11e9_bea1_832ff6bcdf91row8_col17\" class=\"data row8 col17\" >-0.00073</td>\n",
       "                        <td id=\"T_a4fa7f9e_753c_11e9_bea1_832ff6bcdf91row8_col18\" class=\"data row8 col18\" >0.01</td>\n",
       "            </tr>\n",
       "            <tr>\n",
       "                        <th id=\"T_a4fa7f9e_753c_11e9_bea1_832ff6bcdf91level0_row9\" class=\"row_heading level0 row9\" >duration</th>\n",
       "                        <td id=\"T_a4fa7f9e_753c_11e9_bea1_832ff6bcdf91row9_col0\" class=\"data row9 col0\" >-0.00087</td>\n",
       "                        <td id=\"T_a4fa7f9e_753c_11e9_bea1_832ff6bcdf91row9_col1\" class=\"data row9 col1\" >-0.0089</td>\n",
       "                        <td id=\"T_a4fa7f9e_753c_11e9_bea1_832ff6bcdf91row9_col2\" class=\"data row9 col2\" >0.00054</td>\n",
       "                        <td id=\"T_a4fa7f9e_753c_11e9_bea1_832ff6bcdf91row9_col3\" class=\"data row9 col3\" >-0.015</td>\n",
       "                        <td id=\"T_a4fa7f9e_753c_11e9_bea1_832ff6bcdf91row9_col4\" class=\"data row9 col4\" >-0.0083</td>\n",
       "                        <td id=\"T_a4fa7f9e_753c_11e9_bea1_832ff6bcdf91row9_col5\" class=\"data row9 col5\" >0.00012</td>\n",
       "                        <td id=\"T_a4fa7f9e_753c_11e9_bea1_832ff6bcdf91row9_col6\" class=\"data row9 col6\" >0.027</td>\n",
       "                        <td id=\"T_a4fa7f9e_753c_11e9_bea1_832ff6bcdf91row9_col7\" class=\"data row9 col7\" >-0.019</td>\n",
       "                        <td id=\"T_a4fa7f9e_753c_11e9_bea1_832ff6bcdf91row9_col8\" class=\"data row9 col8\" >0.011</td>\n",
       "                        <td id=\"T_a4fa7f9e_753c_11e9_bea1_832ff6bcdf91row9_col9\" class=\"data row9 col9\" >1</td>\n",
       "                        <td id=\"T_a4fa7f9e_753c_11e9_bea1_832ff6bcdf91row9_col10\" class=\"data row9 col10\" >-0.072</td>\n",
       "                        <td id=\"T_a4fa7f9e_753c_11e9_bea1_832ff6bcdf91row9_col11\" class=\"data row9 col11\" >-0.048</td>\n",
       "                        <td id=\"T_a4fa7f9e_753c_11e9_bea1_832ff6bcdf91row9_col12\" class=\"data row9 col12\" >0.021</td>\n",
       "                        <td id=\"T_a4fa7f9e_753c_11e9_bea1_832ff6bcdf91row9_col13\" class=\"data row9 col13\" >-0.028</td>\n",
       "                        <td id=\"T_a4fa7f9e_753c_11e9_bea1_832ff6bcdf91row9_col14\" class=\"data row9 col14\" >0.0053</td>\n",
       "                        <td id=\"T_a4fa7f9e_753c_11e9_bea1_832ff6bcdf91row9_col15\" class=\"data row9 col15\" >-0.0082</td>\n",
       "                        <td id=\"T_a4fa7f9e_753c_11e9_bea1_832ff6bcdf91row9_col16\" class=\"data row9 col16\" >-0.033</td>\n",
       "                        <td id=\"T_a4fa7f9e_753c_11e9_bea1_832ff6bcdf91row9_col17\" class=\"data row9 col17\" >-0.045</td>\n",
       "                        <td id=\"T_a4fa7f9e_753c_11e9_bea1_832ff6bcdf91row9_col18\" class=\"data row9 col18\" >0.41</td>\n",
       "            </tr>\n",
       "            <tr>\n",
       "                        <th id=\"T_a4fa7f9e_753c_11e9_bea1_832ff6bcdf91level0_row10\" class=\"row_heading level0 row10\" >campaign</th>\n",
       "                        <td id=\"T_a4fa7f9e_753c_11e9_bea1_832ff6bcdf91row10_col0\" class=\"data row10 col0\" >0.0046</td>\n",
       "                        <td id=\"T_a4fa7f9e_753c_11e9_bea1_832ff6bcdf91row10_col1\" class=\"data row10 col1\" >0.015</td>\n",
       "                        <td id=\"T_a4fa7f9e_753c_11e9_bea1_832ff6bcdf91row10_col2\" class=\"data row10 col2\" >-0.0004</td>\n",
       "                        <td id=\"T_a4fa7f9e_753c_11e9_bea1_832ff6bcdf91row10_col3\" class=\"data row10 col3\" >-0.00033</td>\n",
       "                        <td id=\"T_a4fa7f9e_753c_11e9_bea1_832ff6bcdf91row10_col4\" class=\"data row10 col4\" >-0.011</td>\n",
       "                        <td id=\"T_a4fa7f9e_753c_11e9_bea1_832ff6bcdf91row10_col5\" class=\"data row10 col5\" >0.0053</td>\n",
       "                        <td id=\"T_a4fa7f9e_753c_11e9_bea1_832ff6bcdf91row10_col6\" class=\"data row10 col6\" >-0.077</td>\n",
       "                        <td id=\"T_a4fa7f9e_753c_11e9_bea1_832ff6bcdf91row10_col7\" class=\"data row10 col7\" >-0.031</td>\n",
       "                        <td id=\"T_a4fa7f9e_753c_11e9_bea1_832ff6bcdf91row10_col8\" class=\"data row10 col8\" >0.015</td>\n",
       "                        <td id=\"T_a4fa7f9e_753c_11e9_bea1_832ff6bcdf91row10_col9\" class=\"data row10 col9\" >-0.072</td>\n",
       "                        <td id=\"T_a4fa7f9e_753c_11e9_bea1_832ff6bcdf91row10_col10\" class=\"data row10 col10\" >1</td>\n",
       "                        <td id=\"T_a4fa7f9e_753c_11e9_bea1_832ff6bcdf91row10_col11\" class=\"data row10 col11\" >0.053</td>\n",
       "                        <td id=\"T_a4fa7f9e_753c_11e9_bea1_832ff6bcdf91row10_col12\" class=\"data row10 col12\" >-0.079</td>\n",
       "                        <td id=\"T_a4fa7f9e_753c_11e9_bea1_832ff6bcdf91row10_col13\" class=\"data row10 col13\" >0.15</td>\n",
       "                        <td id=\"T_a4fa7f9e_753c_11e9_bea1_832ff6bcdf91row10_col14\" class=\"data row10 col14\" >0.13</td>\n",
       "                        <td id=\"T_a4fa7f9e_753c_11e9_bea1_832ff6bcdf91row10_col15\" class=\"data row10 col15\" >-0.014</td>\n",
       "                        <td id=\"T_a4fa7f9e_753c_11e9_bea1_832ff6bcdf91row10_col16\" class=\"data row10 col16\" >0.14</td>\n",
       "                        <td id=\"T_a4fa7f9e_753c_11e9_bea1_832ff6bcdf91row10_col17\" class=\"data row10 col17\" >0.14</td>\n",
       "                        <td id=\"T_a4fa7f9e_753c_11e9_bea1_832ff6bcdf91row10_col18\" class=\"data row10 col18\" >-0.066</td>\n",
       "            </tr>\n",
       "            <tr>\n",
       "                        <th id=\"T_a4fa7f9e_753c_11e9_bea1_832ff6bcdf91level0_row11\" class=\"row_heading level0 row11\" >pdays</th>\n",
       "                        <td id=\"T_a4fa7f9e_753c_11e9_bea1_832ff6bcdf91row11_col0\" class=\"data row11 col0\" >-0.034</td>\n",
       "                        <td id=\"T_a4fa7f9e_753c_11e9_bea1_832ff6bcdf91row11_col1\" class=\"data row11 col1\" >0.057</td>\n",
       "                        <td id=\"T_a4fa7f9e_753c_11e9_bea1_832ff6bcdf91row11_col2\" class=\"data row11 col2\" >0.017</td>\n",
       "                        <td id=\"T_a4fa7f9e_753c_11e9_bea1_832ff6bcdf91row11_col3\" class=\"data row11 col3\" >-0.044</td>\n",
       "                        <td id=\"T_a4fa7f9e_753c_11e9_bea1_832ff6bcdf91row11_col4\" class=\"data row11 col4\" >-0.01</td>\n",
       "                        <td id=\"T_a4fa7f9e_753c_11e9_bea1_832ff6bcdf91row11_col5\" class=\"data row11 col5\" >-8.6e-05</td>\n",
       "                        <td id=\"T_a4fa7f9e_753c_11e9_bea1_832ff6bcdf91row11_col6\" class=\"data row11 col6\" >-0.12</td>\n",
       "                        <td id=\"T_a4fa7f9e_753c_11e9_bea1_832ff6bcdf91row11_col7\" class=\"data row11 col7\" >-0.08</td>\n",
       "                        <td id=\"T_a4fa7f9e_753c_11e9_bea1_832ff6bcdf91row11_col8\" class=\"data row11 col8\" >0.0068</td>\n",
       "                        <td id=\"T_a4fa7f9e_753c_11e9_bea1_832ff6bcdf91row11_col9\" class=\"data row11 col9\" >-0.048</td>\n",
       "                        <td id=\"T_a4fa7f9e_753c_11e9_bea1_832ff6bcdf91row11_col10\" class=\"data row11 col10\" >0.053</td>\n",
       "                        <td id=\"T_a4fa7f9e_753c_11e9_bea1_832ff6bcdf91row11_col11\" class=\"data row11 col11\" >1</td>\n",
       "                        <td id=\"T_a4fa7f9e_753c_11e9_bea1_832ff6bcdf91row11_col12\" class=\"data row11 col12\" >-0.59</td>\n",
       "                        <td id=\"T_a4fa7f9e_753c_11e9_bea1_832ff6bcdf91row11_col13\" class=\"data row11 col13\" >0.27</td>\n",
       "                        <td id=\"T_a4fa7f9e_753c_11e9_bea1_832ff6bcdf91row11_col14\" class=\"data row11 col14\" >0.079</td>\n",
       "                        <td id=\"T_a4fa7f9e_753c_11e9_bea1_832ff6bcdf91row11_col15\" class=\"data row11 col15\" >-0.091</td>\n",
       "                        <td id=\"T_a4fa7f9e_753c_11e9_bea1_832ff6bcdf91row11_col16\" class=\"data row11 col16\" >0.3</td>\n",
       "                        <td id=\"T_a4fa7f9e_753c_11e9_bea1_832ff6bcdf91row11_col17\" class=\"data row11 col17\" >0.37</td>\n",
       "                        <td id=\"T_a4fa7f9e_753c_11e9_bea1_832ff6bcdf91row11_col18\" class=\"data row11 col18\" >-0.32</td>\n",
       "            </tr>\n",
       "            <tr>\n",
       "                        <th id=\"T_a4fa7f9e_753c_11e9_bea1_832ff6bcdf91level0_row12\" class=\"row_heading level0 row12\" >previous</th>\n",
       "                        <td id=\"T_a4fa7f9e_753c_11e9_bea1_832ff6bcdf91row12_col0\" class=\"data row12 col0\" >0.024</td>\n",
       "                        <td id=\"T_a4fa7f9e_753c_11e9_bea1_832ff6bcdf91row12_col1\" class=\"data row12 col1\" >-0.056</td>\n",
       "                        <td id=\"T_a4fa7f9e_753c_11e9_bea1_832ff6bcdf91row12_col2\" class=\"data row12 col2\" >-0.029</td>\n",
       "                        <td id=\"T_a4fa7f9e_753c_11e9_bea1_832ff6bcdf91row12_col3\" class=\"data row12 col3\" >0.039</td>\n",
       "                        <td id=\"T_a4fa7f9e_753c_11e9_bea1_832ff6bcdf91row12_col4\" class=\"data row12 col4\" >0.022</td>\n",
       "                        <td id=\"T_a4fa7f9e_753c_11e9_bea1_832ff6bcdf91row12_col5\" class=\"data row12 col5\" >-0.0021</td>\n",
       "                        <td id=\"T_a4fa7f9e_753c_11e9_bea1_832ff6bcdf91row12_col6\" class=\"data row12 col6\" >0.21</td>\n",
       "                        <td id=\"T_a4fa7f9e_753c_11e9_bea1_832ff6bcdf91row12_col7\" class=\"data row12 col7\" >0.064</td>\n",
       "                        <td id=\"T_a4fa7f9e_753c_11e9_bea1_832ff6bcdf91row12_col8\" class=\"data row12 col8\" >0.004</td>\n",
       "                        <td id=\"T_a4fa7f9e_753c_11e9_bea1_832ff6bcdf91row12_col9\" class=\"data row12 col9\" >0.021</td>\n",
       "                        <td id=\"T_a4fa7f9e_753c_11e9_bea1_832ff6bcdf91row12_col10\" class=\"data row12 col10\" >-0.079</td>\n",
       "                        <td id=\"T_a4fa7f9e_753c_11e9_bea1_832ff6bcdf91row12_col11\" class=\"data row12 col11\" >-0.59</td>\n",
       "                        <td id=\"T_a4fa7f9e_753c_11e9_bea1_832ff6bcdf91row12_col12\" class=\"data row12 col12\" >1</td>\n",
       "                        <td id=\"T_a4fa7f9e_753c_11e9_bea1_832ff6bcdf91row12_col13\" class=\"data row12 col13\" >-0.42</td>\n",
       "                        <td id=\"T_a4fa7f9e_753c_11e9_bea1_832ff6bcdf91row12_col14\" class=\"data row12 col14\" >-0.2</td>\n",
       "                        <td id=\"T_a4fa7f9e_753c_11e9_bea1_832ff6bcdf91row12_col15\" class=\"data row12 col15\" >-0.051</td>\n",
       "                        <td id=\"T_a4fa7f9e_753c_11e9_bea1_832ff6bcdf91row12_col16\" class=\"data row12 col16\" >-0.45</td>\n",
       "                        <td id=\"T_a4fa7f9e_753c_11e9_bea1_832ff6bcdf91row12_col17\" class=\"data row12 col17\" >-0.5</td>\n",
       "                        <td id=\"T_a4fa7f9e_753c_11e9_bea1_832ff6bcdf91row12_col18\" class=\"data row12 col18\" >0.23</td>\n",
       "            </tr>\n",
       "            <tr>\n",
       "                        <th id=\"T_a4fa7f9e_753c_11e9_bea1_832ff6bcdf91level0_row13\" class=\"row_heading level0 row13\" >emp.var.rate</th>\n",
       "                        <td id=\"T_a4fa7f9e_753c_11e9_bea1_832ff6bcdf91row13_col0\" class=\"data row13 col0\" >-0.00037</td>\n",
       "                        <td id=\"T_a4fa7f9e_753c_11e9_bea1_832ff6bcdf91row13_col1\" class=\"data row13 col1\" >0.081</td>\n",
       "                        <td id=\"T_a4fa7f9e_753c_11e9_bea1_832ff6bcdf91row13_col2\" class=\"data row13 col2\" >0.048</td>\n",
       "                        <td id=\"T_a4fa7f9e_753c_11e9_bea1_832ff6bcdf91row13_col3\" class=\"data row13 col3\" >-0.048</td>\n",
       "                        <td id=\"T_a4fa7f9e_753c_11e9_bea1_832ff6bcdf91row13_col4\" class=\"data row13 col4\" >-0.059</td>\n",
       "                        <td id=\"T_a4fa7f9e_753c_11e9_bea1_832ff6bcdf91row13_col5\" class=\"data row13 col5\" >0.0012</td>\n",
       "                        <td id=\"T_a4fa7f9e_753c_11e9_bea1_832ff6bcdf91row13_col6\" class=\"data row13 col6\" >-0.39</td>\n",
       "                        <td id=\"T_a4fa7f9e_753c_11e9_bea1_832ff6bcdf91row13_col7\" class=\"data row13 col7\" >0.059</td>\n",
       "                        <td id=\"T_a4fa7f9e_753c_11e9_bea1_832ff6bcdf91row13_col8\" class=\"data row13 col8\" >-0.0044</td>\n",
       "                        <td id=\"T_a4fa7f9e_753c_11e9_bea1_832ff6bcdf91row13_col9\" class=\"data row13 col9\" >-0.028</td>\n",
       "                        <td id=\"T_a4fa7f9e_753c_11e9_bea1_832ff6bcdf91row13_col10\" class=\"data row13 col10\" >0.15</td>\n",
       "                        <td id=\"T_a4fa7f9e_753c_11e9_bea1_832ff6bcdf91row13_col11\" class=\"data row13 col11\" >0.27</td>\n",
       "                        <td id=\"T_a4fa7f9e_753c_11e9_bea1_832ff6bcdf91row13_col12\" class=\"data row13 col12\" >-0.42</td>\n",
       "                        <td id=\"T_a4fa7f9e_753c_11e9_bea1_832ff6bcdf91row13_col13\" class=\"data row13 col13\" >1</td>\n",
       "                        <td id=\"T_a4fa7f9e_753c_11e9_bea1_832ff6bcdf91row13_col14\" class=\"data row13 col14\" >0.78</td>\n",
       "                        <td id=\"T_a4fa7f9e_753c_11e9_bea1_832ff6bcdf91row13_col15\" class=\"data row13 col15\" >0.2</td>\n",
       "                        <td id=\"T_a4fa7f9e_753c_11e9_bea1_832ff6bcdf91row13_col16\" class=\"data row13 col16\" >0.97</td>\n",
       "                        <td id=\"T_a4fa7f9e_753c_11e9_bea1_832ff6bcdf91row13_col17\" class=\"data row13 col17\" >0.91</td>\n",
       "                        <td id=\"T_a4fa7f9e_753c_11e9_bea1_832ff6bcdf91row13_col18\" class=\"data row13 col18\" >-0.3</td>\n",
       "            </tr>\n",
       "            <tr>\n",
       "                        <th id=\"T_a4fa7f9e_753c_11e9_bea1_832ff6bcdf91level0_row14\" class=\"row_heading level0 row14\" >cons.price.idx</th>\n",
       "                        <td id=\"T_a4fa7f9e_753c_11e9_bea1_832ff6bcdf91row14_col0\" class=\"data row14 col0\" >0.00086</td>\n",
       "                        <td id=\"T_a4fa7f9e_753c_11e9_bea1_832ff6bcdf91row14_col1\" class=\"data row14 col1\" >0.03</td>\n",
       "                        <td id=\"T_a4fa7f9e_753c_11e9_bea1_832ff6bcdf91row14_col2\" class=\"data row14 col2\" >0.024</td>\n",
       "                        <td id=\"T_a4fa7f9e_753c_11e9_bea1_832ff6bcdf91row14_col3\" class=\"data row14 col3\" >-0.087</td>\n",
       "                        <td id=\"T_a4fa7f9e_753c_11e9_bea1_832ff6bcdf91row14_col4\" class=\"data row14 col4\" >-0.077</td>\n",
       "                        <td id=\"T_a4fa7f9e_753c_11e9_bea1_832ff6bcdf91row14_col5\" class=\"data row14 col5\" >-0.0059</td>\n",
       "                        <td id=\"T_a4fa7f9e_753c_11e9_bea1_832ff6bcdf91row14_col6\" class=\"data row14 col6\" >-0.59</td>\n",
       "                        <td id=\"T_a4fa7f9e_753c_11e9_bea1_832ff6bcdf91row14_col7\" class=\"data row14 col7\" >-0.15</td>\n",
       "                        <td id=\"T_a4fa7f9e_753c_11e9_bea1_832ff6bcdf91row14_col8\" class=\"data row14 col8\" >-0.0046</td>\n",
       "                        <td id=\"T_a4fa7f9e_753c_11e9_bea1_832ff6bcdf91row14_col9\" class=\"data row14 col9\" >0.0053</td>\n",
       "                        <td id=\"T_a4fa7f9e_753c_11e9_bea1_832ff6bcdf91row14_col10\" class=\"data row14 col10\" >0.13</td>\n",
       "                        <td id=\"T_a4fa7f9e_753c_11e9_bea1_832ff6bcdf91row14_col11\" class=\"data row14 col11\" >0.079</td>\n",
       "                        <td id=\"T_a4fa7f9e_753c_11e9_bea1_832ff6bcdf91row14_col12\" class=\"data row14 col12\" >-0.2</td>\n",
       "                        <td id=\"T_a4fa7f9e_753c_11e9_bea1_832ff6bcdf91row14_col13\" class=\"data row14 col13\" >0.78</td>\n",
       "                        <td id=\"T_a4fa7f9e_753c_11e9_bea1_832ff6bcdf91row14_col14\" class=\"data row14 col14\" >1</td>\n",
       "                        <td id=\"T_a4fa7f9e_753c_11e9_bea1_832ff6bcdf91row14_col15\" class=\"data row14 col15\" >0.059</td>\n",
       "                        <td id=\"T_a4fa7f9e_753c_11e9_bea1_832ff6bcdf91row14_col16\" class=\"data row14 col16\" >0.69</td>\n",
       "                        <td id=\"T_a4fa7f9e_753c_11e9_bea1_832ff6bcdf91row14_col17\" class=\"data row14 col17\" >0.52</td>\n",
       "                        <td id=\"T_a4fa7f9e_753c_11e9_bea1_832ff6bcdf91row14_col18\" class=\"data row14 col18\" >-0.14</td>\n",
       "            </tr>\n",
       "            <tr>\n",
       "                        <th id=\"T_a4fa7f9e_753c_11e9_bea1_832ff6bcdf91level0_row15\" class=\"row_heading level0 row15\" >cons.conf.idx</th>\n",
       "                        <td id=\"T_a4fa7f9e_753c_11e9_bea1_832ff6bcdf91row15_col0\" class=\"data row15 col0\" >0.13</td>\n",
       "                        <td id=\"T_a4fa7f9e_753c_11e9_bea1_832ff6bcdf91row15_col1\" class=\"data row15 col1\" >-0.033</td>\n",
       "                        <td id=\"T_a4fa7f9e_753c_11e9_bea1_832ff6bcdf91row15_col2\" class=\"data row15 col2\" >0.051</td>\n",
       "                        <td id=\"T_a4fa7f9e_753c_11e9_bea1_832ff6bcdf91row15_col3\" class=\"data row15 col3\" >0.069</td>\n",
       "                        <td id=\"T_a4fa7f9e_753c_11e9_bea1_832ff6bcdf91row15_col4\" class=\"data row15 col4\" >-0.032</td>\n",
       "                        <td id=\"T_a4fa7f9e_753c_11e9_bea1_832ff6bcdf91row15_col5\" class=\"data row15 col5\" >-0.014</td>\n",
       "                        <td id=\"T_a4fa7f9e_753c_11e9_bea1_832ff6bcdf91row15_col6\" class=\"data row15 col6\" >-0.25</td>\n",
       "                        <td id=\"T_a4fa7f9e_753c_11e9_bea1_832ff6bcdf91row15_col7\" class=\"data row15 col7\" >0.26</td>\n",
       "                        <td id=\"T_a4fa7f9e_753c_11e9_bea1_832ff6bcdf91row15_col8\" class=\"data row15 col8\" >-9.9e-05</td>\n",
       "                        <td id=\"T_a4fa7f9e_753c_11e9_bea1_832ff6bcdf91row15_col9\" class=\"data row15 col9\" >-0.0082</td>\n",
       "                        <td id=\"T_a4fa7f9e_753c_11e9_bea1_832ff6bcdf91row15_col10\" class=\"data row15 col10\" >-0.014</td>\n",
       "                        <td id=\"T_a4fa7f9e_753c_11e9_bea1_832ff6bcdf91row15_col11\" class=\"data row15 col11\" >-0.091</td>\n",
       "                        <td id=\"T_a4fa7f9e_753c_11e9_bea1_832ff6bcdf91row15_col12\" class=\"data row15 col12\" >-0.051</td>\n",
       "                        <td id=\"T_a4fa7f9e_753c_11e9_bea1_832ff6bcdf91row15_col13\" class=\"data row15 col13\" >0.2</td>\n",
       "                        <td id=\"T_a4fa7f9e_753c_11e9_bea1_832ff6bcdf91row15_col14\" class=\"data row15 col14\" >0.059</td>\n",
       "                        <td id=\"T_a4fa7f9e_753c_11e9_bea1_832ff6bcdf91row15_col15\" class=\"data row15 col15\" >1</td>\n",
       "                        <td id=\"T_a4fa7f9e_753c_11e9_bea1_832ff6bcdf91row15_col16\" class=\"data row15 col16\" >0.28</td>\n",
       "                        <td id=\"T_a4fa7f9e_753c_11e9_bea1_832ff6bcdf91row15_col17\" class=\"data row15 col17\" >0.1</td>\n",
       "                        <td id=\"T_a4fa7f9e_753c_11e9_bea1_832ff6bcdf91row15_col18\" class=\"data row15 col18\" >0.055</td>\n",
       "            </tr>\n",
       "            <tr>\n",
       "                        <th id=\"T_a4fa7f9e_753c_11e9_bea1_832ff6bcdf91level0_row16\" class=\"row_heading level0 row16\" >euribor3m</th>\n",
       "                        <td id=\"T_a4fa7f9e_753c_11e9_bea1_832ff6bcdf91row16_col0\" class=\"data row16 col0\" >0.011</td>\n",
       "                        <td id=\"T_a4fa7f9e_753c_11e9_bea1_832ff6bcdf91row16_col1\" class=\"data row16 col1\" >0.073</td>\n",
       "                        <td id=\"T_a4fa7f9e_753c_11e9_bea1_832ff6bcdf91row16_col2\" class=\"data row16 col2\" >0.054</td>\n",
       "                        <td id=\"T_a4fa7f9e_753c_11e9_bea1_832ff6bcdf91row16_col3\" class=\"data row16 col3\" >-0.04</td>\n",
       "                        <td id=\"T_a4fa7f9e_753c_11e9_bea1_832ff6bcdf91row16_col4\" class=\"data row16 col4\" >-0.058</td>\n",
       "                        <td id=\"T_a4fa7f9e_753c_11e9_bea1_832ff6bcdf91row16_col5\" class=\"data row16 col5\" >-0.00049</td>\n",
       "                        <td id=\"T_a4fa7f9e_753c_11e9_bea1_832ff6bcdf91row16_col6\" class=\"data row16 col6\" >-0.4</td>\n",
       "                        <td id=\"T_a4fa7f9e_753c_11e9_bea1_832ff6bcdf91row16_col7\" class=\"data row16 col7\" >0.16</td>\n",
       "                        <td id=\"T_a4fa7f9e_753c_11e9_bea1_832ff6bcdf91row16_col8\" class=\"data row16 col8\" >-0.0056</td>\n",
       "                        <td id=\"T_a4fa7f9e_753c_11e9_bea1_832ff6bcdf91row16_col9\" class=\"data row16 col9\" >-0.033</td>\n",
       "                        <td id=\"T_a4fa7f9e_753c_11e9_bea1_832ff6bcdf91row16_col10\" class=\"data row16 col10\" >0.14</td>\n",
       "                        <td id=\"T_a4fa7f9e_753c_11e9_bea1_832ff6bcdf91row16_col11\" class=\"data row16 col11\" >0.3</td>\n",
       "                        <td id=\"T_a4fa7f9e_753c_11e9_bea1_832ff6bcdf91row16_col12\" class=\"data row16 col12\" >-0.45</td>\n",
       "                        <td id=\"T_a4fa7f9e_753c_11e9_bea1_832ff6bcdf91row16_col13\" class=\"data row16 col13\" >0.97</td>\n",
       "                        <td id=\"T_a4fa7f9e_753c_11e9_bea1_832ff6bcdf91row16_col14\" class=\"data row16 col14\" >0.69</td>\n",
       "                        <td id=\"T_a4fa7f9e_753c_11e9_bea1_832ff6bcdf91row16_col15\" class=\"data row16 col15\" >0.28</td>\n",
       "                        <td id=\"T_a4fa7f9e_753c_11e9_bea1_832ff6bcdf91row16_col16\" class=\"data row16 col16\" >1</td>\n",
       "                        <td id=\"T_a4fa7f9e_753c_11e9_bea1_832ff6bcdf91row16_col17\" class=\"data row16 col17\" >0.95</td>\n",
       "                        <td id=\"T_a4fa7f9e_753c_11e9_bea1_832ff6bcdf91row16_col18\" class=\"data row16 col18\" >-0.31</td>\n",
       "            </tr>\n",
       "            <tr>\n",
       "                        <th id=\"T_a4fa7f9e_753c_11e9_bea1_832ff6bcdf91level0_row17\" class=\"row_heading level0 row17\" >nr.employed</th>\n",
       "                        <td id=\"T_a4fa7f9e_753c_11e9_bea1_832ff6bcdf91row17_col0\" class=\"data row17 col0\" >-0.018</td>\n",
       "                        <td id=\"T_a4fa7f9e_753c_11e9_bea1_832ff6bcdf91row17_col1\" class=\"data row17 col1\" >0.093</td>\n",
       "                        <td id=\"T_a4fa7f9e_753c_11e9_bea1_832ff6bcdf91row17_col2\" class=\"data row17 col2\" >0.05</td>\n",
       "                        <td id=\"T_a4fa7f9e_753c_11e9_bea1_832ff6bcdf91row17_col3\" class=\"data row17 col3\" >-0.042</td>\n",
       "                        <td id=\"T_a4fa7f9e_753c_11e9_bea1_832ff6bcdf91row17_col4\" class=\"data row17 col4\" >-0.046</td>\n",
       "                        <td id=\"T_a4fa7f9e_753c_11e9_bea1_832ff6bcdf91row17_col5\" class=\"data row17 col5\" >0.0042</td>\n",
       "                        <td id=\"T_a4fa7f9e_753c_11e9_bea1_832ff6bcdf91row17_col6\" class=\"data row17 col6\" >-0.27</td>\n",
       "                        <td id=\"T_a4fa7f9e_753c_11e9_bea1_832ff6bcdf91row17_col7\" class=\"data row17 col7\" >0.13</td>\n",
       "                        <td id=\"T_a4fa7f9e_753c_11e9_bea1_832ff6bcdf91row17_col8\" class=\"data row17 col8\" >-0.00073</td>\n",
       "                        <td id=\"T_a4fa7f9e_753c_11e9_bea1_832ff6bcdf91row17_col9\" class=\"data row17 col9\" >-0.045</td>\n",
       "                        <td id=\"T_a4fa7f9e_753c_11e9_bea1_832ff6bcdf91row17_col10\" class=\"data row17 col10\" >0.14</td>\n",
       "                        <td id=\"T_a4fa7f9e_753c_11e9_bea1_832ff6bcdf91row17_col11\" class=\"data row17 col11\" >0.37</td>\n",
       "                        <td id=\"T_a4fa7f9e_753c_11e9_bea1_832ff6bcdf91row17_col12\" class=\"data row17 col12\" >-0.5</td>\n",
       "                        <td id=\"T_a4fa7f9e_753c_11e9_bea1_832ff6bcdf91row17_col13\" class=\"data row17 col13\" >0.91</td>\n",
       "                        <td id=\"T_a4fa7f9e_753c_11e9_bea1_832ff6bcdf91row17_col14\" class=\"data row17 col14\" >0.52</td>\n",
       "                        <td id=\"T_a4fa7f9e_753c_11e9_bea1_832ff6bcdf91row17_col15\" class=\"data row17 col15\" >0.1</td>\n",
       "                        <td id=\"T_a4fa7f9e_753c_11e9_bea1_832ff6bcdf91row17_col16\" class=\"data row17 col16\" >0.95</td>\n",
       "                        <td id=\"T_a4fa7f9e_753c_11e9_bea1_832ff6bcdf91row17_col17\" class=\"data row17 col17\" >1</td>\n",
       "                        <td id=\"T_a4fa7f9e_753c_11e9_bea1_832ff6bcdf91row17_col18\" class=\"data row17 col18\" >-0.35</td>\n",
       "            </tr>\n",
       "            <tr>\n",
       "                        <th id=\"T_a4fa7f9e_753c_11e9_bea1_832ff6bcdf91level0_row18\" class=\"row_heading level0 row18\" >y</th>\n",
       "                        <td id=\"T_a4fa7f9e_753c_11e9_bea1_832ff6bcdf91row18_col0\" class=\"data row18 col0\" >0.03</td>\n",
       "                        <td id=\"T_a4fa7f9e_753c_11e9_bea1_832ff6bcdf91row18_col1\" class=\"data row18 col1\" >-0.058</td>\n",
       "                        <td id=\"T_a4fa7f9e_753c_11e9_bea1_832ff6bcdf91row18_col2\" class=\"data row18 col2\" >-0.026</td>\n",
       "                        <td id=\"T_a4fa7f9e_753c_11e9_bea1_832ff6bcdf91row18_col3\" class=\"data row18 col3\" >0.056</td>\n",
       "                        <td id=\"T_a4fa7f9e_753c_11e9_bea1_832ff6bcdf91row18_col4\" class=\"data row18 col4\" >0.011</td>\n",
       "                        <td id=\"T_a4fa7f9e_753c_11e9_bea1_832ff6bcdf91row18_col5\" class=\"data row18 col5\" >-0.0045</td>\n",
       "                        <td id=\"T_a4fa7f9e_753c_11e9_bea1_832ff6bcdf91row18_col6\" class=\"data row18 col6\" >0.14</td>\n",
       "                        <td id=\"T_a4fa7f9e_753c_11e9_bea1_832ff6bcdf91row18_col7\" class=\"data row18 col7\" >0.037</td>\n",
       "                        <td id=\"T_a4fa7f9e_753c_11e9_bea1_832ff6bcdf91row18_col8\" class=\"data row18 col8\" >0.01</td>\n",
       "                        <td id=\"T_a4fa7f9e_753c_11e9_bea1_832ff6bcdf91row18_col9\" class=\"data row18 col9\" >0.41</td>\n",
       "                        <td id=\"T_a4fa7f9e_753c_11e9_bea1_832ff6bcdf91row18_col10\" class=\"data row18 col10\" >-0.066</td>\n",
       "                        <td id=\"T_a4fa7f9e_753c_11e9_bea1_832ff6bcdf91row18_col11\" class=\"data row18 col11\" >-0.32</td>\n",
       "                        <td id=\"T_a4fa7f9e_753c_11e9_bea1_832ff6bcdf91row18_col12\" class=\"data row18 col12\" >0.23</td>\n",
       "                        <td id=\"T_a4fa7f9e_753c_11e9_bea1_832ff6bcdf91row18_col13\" class=\"data row18 col13\" >-0.3</td>\n",
       "                        <td id=\"T_a4fa7f9e_753c_11e9_bea1_832ff6bcdf91row18_col14\" class=\"data row18 col14\" >-0.14</td>\n",
       "                        <td id=\"T_a4fa7f9e_753c_11e9_bea1_832ff6bcdf91row18_col15\" class=\"data row18 col15\" >0.055</td>\n",
       "                        <td id=\"T_a4fa7f9e_753c_11e9_bea1_832ff6bcdf91row18_col16\" class=\"data row18 col16\" >-0.31</td>\n",
       "                        <td id=\"T_a4fa7f9e_753c_11e9_bea1_832ff6bcdf91row18_col17\" class=\"data row18 col17\" >-0.35</td>\n",
       "                        <td id=\"T_a4fa7f9e_753c_11e9_bea1_832ff6bcdf91row18_col18\" class=\"data row18 col18\" >1</td>\n",
       "            </tr>\n",
       "    </tbody></table>"
      ],
      "text/plain": [
       "<pandas.io.formats.style.Styler at 0x7feb5947d828>"
      ]
     },
     "execution_count": 118,
     "metadata": {},
     "output_type": "execute_result"
    }
   ],
   "source": [
    "data_.corr().style.background_gradient(cmap='PuBu').set_precision(2)"
   ]
  },
  {
   "cell_type": "code",
   "execution_count": null,
   "metadata": {},
   "outputs": [],
   "source": []
  },
  {
   "cell_type": "markdown",
   "metadata": {},
   "source": [
    "# O que falta?\n",
    "- Dividir o conjunto em treino e teste\n",
    "- Padronizar os dados\n",
    "- Treinar o modelo\n",
    "- Fazer uma predição\n",
    "- Calcular\n",
    "    - Accuracy Score\n",
    "    - Precision Score\n",
    "    - Recall Score\n",
    "    - F1 Score\n",
    "    - mse\n",
    "    - rmse\n",
    "- Curva ROC"
   ]
  },
  {
   "cell_type": "code",
   "execution_count": null,
   "metadata": {},
   "outputs": [],
   "source": []
  }
 ],
 "metadata": {
  "kernelspec": {
   "display_name": "Python 3",
   "language": "python",
   "name": "python3"
  },
  "language_info": {
   "codemirror_mode": {
    "name": "ipython",
    "version": 3
   },
   "file_extension": ".py",
   "mimetype": "text/x-python",
   "name": "python",
   "nbconvert_exporter": "python",
   "pygments_lexer": "ipython3",
   "version": "3.7.3"
  }
 },
 "nbformat": 4,
 "nbformat_minor": 2
}
