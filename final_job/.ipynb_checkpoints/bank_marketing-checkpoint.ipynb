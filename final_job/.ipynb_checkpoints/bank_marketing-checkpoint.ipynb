{
 "cells": [
  {
   "cell_type": "markdown",
   "metadata": {},
   "source": [
    "# Pedro Alves Gonçalves Júnior\n",
    "\n",
    "https://archive.ics.uci.edu/ml/datasets/bank+marketing\n",
    "\n",
    "### Informações do Conjunto de Dados\n",
    "- Os dados estão relacionados com campanhas de marketing direto de uma instituição bancária portuguesa. As campanhas de marketing foram baseadas em chamadas telefônicas. Muitas vezes, era necessário mais de um contato para o mesmo cliente, a fim de acessar se o produto (depósito a prazo bancário) seria ('sim') ou não ('não') subscrito. \n",
    "\n",
    "### Objetivo\n",
    "- O objetivo da **classificação** é prever se o cliente irá assinar (sim / não) um depósito a prazo (variável y).\n",
    "\n",
    "### Informações dos Atributos\n",
    "- Variáveis de entrada: \n",
    "    - ##### banco dados do cliente: \n",
    "    - 1 - **age:** (numérica)\n",
    "    - 2 - **job:** tipo de trabalho (categórico: 'admin.', 'blue-collar', 'entrepreneur', 'housemaid', 'management', 'retired', 'self-employed', 'services', 'student', 'technician', 'unemployed', 'unknown') \n",
    "    - 3 - **marital:** estado civil (categórico: 'divorced', 'married', 'single', 'unknown'. Nota: 'divorced' significa divorced ou widowed) \n",
    "    - 4 - **education:** (categórica: 'basic.4y', 'basic.6y', 'basic.9y', 'high.school', 'illiterate', 'professional.course', ' university.degree', 'unknown') \n",
    "    - 5 - **default:** possui crédito em default? (categórico: 'no', 'yes', 'unknown')\n",
    "    - 6 - **housing:** tem empréstimo à habitação? (categórico: 'no', 'yes', 'unknown') \n",
    "    - 7 - **loan:** tem empréstimo pessoal? (categórico: 'no', 'yes', 'unknown')\n",
    "    \n",
    "    - #### relacionado com o último contato da campanha atual: \n",
    "    - 8 - **contact:** tipo de comunicação de contato (categórico: 'cellular', 'telephone') \n",
    "    - 9 - **month:** mês do último contato do ano (categórico: 'jan', 'feb', 'mar', ..., 'nov', 'dec') \n",
    "    - 10 - **day_of_week:** último dia de contato da semana (categórico:'mon', 'tue', 'wed', 'thu', 'fri') \n",
    "    - 11 - **duration:** duração do último contato, em segundos (numérico). Nota importante: este atributo afeta altamente a meta de saída (por exemplo, se a duração for = 0, então y = 'não'). No entanto, a duração não é conhecida antes de uma chamada ser realizada. Além disso, após o término da chamada, é obviamente conhecido. Portanto, essa entrada deve ser incluída apenas para fins de benchmark e deve ser descartada se a intenção for ter um modelo preditivo realista. \n",
    "    \n",
    "    - #### outros atributos:\n",
    "    - 12 - **campaign:** número de contatos realizados durante esta campanha e para este cliente (numérico, inclui o último contato) \n",
    "    - 13 - **pdays:** número de dias que passaram depois que o cliente foi contatado pela última vez de uma campanha anterior (numérico; 999 significa cliente não previamente contactado) \n",
    "    - 14 - **previous:** número de contactos realizados antes desta campanha e para este cliente (numérico) \n",
    "    - 15 - **poutcome:** resultado da campanha anterior de marketing (categórico: 'failure', 'noexistent', 'success') \n",
    "    \n",
    "    - #### social e econômico atributos de contexto \n",
    "    - 16 - **emp.var.rate:** taxa de variação de emprego - indicador trimestral (numérico) \n",
    "    - 17 - **cons.price.idx:** índice de preços ao consumidor - indicador mensal (numérico) \n",
    "    - 18 - **cons.conf.idx:** índice de confiança do consumidor - indicador mensal (numérico) \n",
    "    - 19 - **euribor3m:** euribor 3 meses - indicador diário (numérico) \n",
    "    - 20 - **nr.employed:** número de empregados - indicador trimestral (numérico) \n",
    "\n",
    "    - #### Variável de saída (desejado target): \n",
    "    - 21 - **y** - o cliente assinou um depósito a prazo? (binário: 'yes', 'no')"
   ]
  },
  {
   "cell_type": "code",
   "execution_count": 1,
   "metadata": {},
   "outputs": [],
   "source": [
    "import numpy as np\n",
    "import pandas as pd\n",
    "from sklearn.impute import SimpleImputer"
   ]
  },
  {
   "cell_type": "code",
   "execution_count": 134,
   "metadata": {},
   "outputs": [],
   "source": [
    "data = pd.read_csv('bank-additional-full.csv', sep=';', na_values=['nonexistent', 'unknown', 999])"
   ]
  },
  {
   "cell_type": "code",
   "execution_count": 135,
   "metadata": {},
   "outputs": [
    {
     "data": {
      "text/html": [
       "<div>\n",
       "<style scoped>\n",
       "    .dataframe tbody tr th:only-of-type {\n",
       "        vertical-align: middle;\n",
       "    }\n",
       "\n",
       "    .dataframe tbody tr th {\n",
       "        vertical-align: top;\n",
       "    }\n",
       "\n",
       "    .dataframe thead th {\n",
       "        text-align: right;\n",
       "    }\n",
       "</style>\n",
       "<table border=\"1\" class=\"dataframe\">\n",
       "  <thead>\n",
       "    <tr style=\"text-align: right;\">\n",
       "      <th></th>\n",
       "      <th>age</th>\n",
       "      <th>job</th>\n",
       "      <th>marital</th>\n",
       "      <th>education</th>\n",
       "      <th>default</th>\n",
       "      <th>housing</th>\n",
       "      <th>loan</th>\n",
       "      <th>contact</th>\n",
       "      <th>month</th>\n",
       "      <th>day_of_week</th>\n",
       "      <th>...</th>\n",
       "      <th>campaign</th>\n",
       "      <th>pdays</th>\n",
       "      <th>previous</th>\n",
       "      <th>poutcome</th>\n",
       "      <th>emp.var.rate</th>\n",
       "      <th>cons.price.idx</th>\n",
       "      <th>cons.conf.idx</th>\n",
       "      <th>euribor3m</th>\n",
       "      <th>nr.employed</th>\n",
       "      <th>y</th>\n",
       "    </tr>\n",
       "  </thead>\n",
       "  <tbody>\n",
       "    <tr>\n",
       "      <th>0</th>\n",
       "      <td>56</td>\n",
       "      <td>housemaid</td>\n",
       "      <td>married</td>\n",
       "      <td>basic.4y</td>\n",
       "      <td>no</td>\n",
       "      <td>no</td>\n",
       "      <td>no</td>\n",
       "      <td>telephone</td>\n",
       "      <td>may</td>\n",
       "      <td>mon</td>\n",
       "      <td>...</td>\n",
       "      <td>1</td>\n",
       "      <td>NaN</td>\n",
       "      <td>0</td>\n",
       "      <td>NaN</td>\n",
       "      <td>1.1</td>\n",
       "      <td>93.994</td>\n",
       "      <td>-36.4</td>\n",
       "      <td>4.857</td>\n",
       "      <td>5191.0</td>\n",
       "      <td>no</td>\n",
       "    </tr>\n",
       "    <tr>\n",
       "      <th>1</th>\n",
       "      <td>57</td>\n",
       "      <td>services</td>\n",
       "      <td>married</td>\n",
       "      <td>high.school</td>\n",
       "      <td>NaN</td>\n",
       "      <td>no</td>\n",
       "      <td>no</td>\n",
       "      <td>telephone</td>\n",
       "      <td>may</td>\n",
       "      <td>mon</td>\n",
       "      <td>...</td>\n",
       "      <td>1</td>\n",
       "      <td>NaN</td>\n",
       "      <td>0</td>\n",
       "      <td>NaN</td>\n",
       "      <td>1.1</td>\n",
       "      <td>93.994</td>\n",
       "      <td>-36.4</td>\n",
       "      <td>4.857</td>\n",
       "      <td>5191.0</td>\n",
       "      <td>no</td>\n",
       "    </tr>\n",
       "    <tr>\n",
       "      <th>2</th>\n",
       "      <td>37</td>\n",
       "      <td>services</td>\n",
       "      <td>married</td>\n",
       "      <td>high.school</td>\n",
       "      <td>no</td>\n",
       "      <td>yes</td>\n",
       "      <td>no</td>\n",
       "      <td>telephone</td>\n",
       "      <td>may</td>\n",
       "      <td>mon</td>\n",
       "      <td>...</td>\n",
       "      <td>1</td>\n",
       "      <td>NaN</td>\n",
       "      <td>0</td>\n",
       "      <td>NaN</td>\n",
       "      <td>1.1</td>\n",
       "      <td>93.994</td>\n",
       "      <td>-36.4</td>\n",
       "      <td>4.857</td>\n",
       "      <td>5191.0</td>\n",
       "      <td>no</td>\n",
       "    </tr>\n",
       "    <tr>\n",
       "      <th>3</th>\n",
       "      <td>40</td>\n",
       "      <td>admin.</td>\n",
       "      <td>married</td>\n",
       "      <td>basic.6y</td>\n",
       "      <td>no</td>\n",
       "      <td>no</td>\n",
       "      <td>no</td>\n",
       "      <td>telephone</td>\n",
       "      <td>may</td>\n",
       "      <td>mon</td>\n",
       "      <td>...</td>\n",
       "      <td>1</td>\n",
       "      <td>NaN</td>\n",
       "      <td>0</td>\n",
       "      <td>NaN</td>\n",
       "      <td>1.1</td>\n",
       "      <td>93.994</td>\n",
       "      <td>-36.4</td>\n",
       "      <td>4.857</td>\n",
       "      <td>5191.0</td>\n",
       "      <td>no</td>\n",
       "    </tr>\n",
       "    <tr>\n",
       "      <th>4</th>\n",
       "      <td>56</td>\n",
       "      <td>services</td>\n",
       "      <td>married</td>\n",
       "      <td>high.school</td>\n",
       "      <td>no</td>\n",
       "      <td>no</td>\n",
       "      <td>yes</td>\n",
       "      <td>telephone</td>\n",
       "      <td>may</td>\n",
       "      <td>mon</td>\n",
       "      <td>...</td>\n",
       "      <td>1</td>\n",
       "      <td>NaN</td>\n",
       "      <td>0</td>\n",
       "      <td>NaN</td>\n",
       "      <td>1.1</td>\n",
       "      <td>93.994</td>\n",
       "      <td>-36.4</td>\n",
       "      <td>4.857</td>\n",
       "      <td>5191.0</td>\n",
       "      <td>no</td>\n",
       "    </tr>\n",
       "  </tbody>\n",
       "</table>\n",
       "<p>5 rows × 21 columns</p>\n",
       "</div>"
      ],
      "text/plain": [
       "   age        job  marital    education default housing loan    contact month  \\\n",
       "0   56  housemaid  married     basic.4y      no      no   no  telephone   may   \n",
       "1   57   services  married  high.school     NaN      no   no  telephone   may   \n",
       "2   37   services  married  high.school      no     yes   no  telephone   may   \n",
       "3   40     admin.  married     basic.6y      no      no   no  telephone   may   \n",
       "4   56   services  married  high.school      no      no  yes  telephone   may   \n",
       "\n",
       "  day_of_week  ...  campaign  pdays  previous  poutcome emp.var.rate  \\\n",
       "0         mon  ...         1    NaN         0       NaN          1.1   \n",
       "1         mon  ...         1    NaN         0       NaN          1.1   \n",
       "2         mon  ...         1    NaN         0       NaN          1.1   \n",
       "3         mon  ...         1    NaN         0       NaN          1.1   \n",
       "4         mon  ...         1    NaN         0       NaN          1.1   \n",
       "\n",
       "   cons.price.idx  cons.conf.idx  euribor3m  nr.employed   y  \n",
       "0          93.994          -36.4      4.857       5191.0  no  \n",
       "1          93.994          -36.4      4.857       5191.0  no  \n",
       "2          93.994          -36.4      4.857       5191.0  no  \n",
       "3          93.994          -36.4      4.857       5191.0  no  \n",
       "4          93.994          -36.4      4.857       5191.0  no  \n",
       "\n",
       "[5 rows x 21 columns]"
      ]
     },
     "execution_count": 135,
     "metadata": {},
     "output_type": "execute_result"
    }
   ],
   "source": [
    "data.head()"
   ]
  },
  {
   "cell_type": "code",
   "execution_count": 136,
   "metadata": {},
   "outputs": [
    {
     "data": {
      "text/plain": [
       "(41188, 21)"
      ]
     },
     "execution_count": 136,
     "metadata": {},
     "output_type": "execute_result"
    }
   ],
   "source": [
    "data.shape"
   ]
  },
  {
   "cell_type": "code",
   "execution_count": 137,
   "metadata": {},
   "outputs": [
    {
     "name": "stdout",
     "output_type": "stream",
     "text": [
      "<class 'pandas.core.frame.DataFrame'>\n",
      "RangeIndex: 41188 entries, 0 to 41187\n",
      "Data columns (total 21 columns):\n",
      "age               41188 non-null int64\n",
      "job               40858 non-null object\n",
      "marital           41108 non-null object\n",
      "education         39457 non-null object\n",
      "default           32591 non-null object\n",
      "housing           40198 non-null object\n",
      "loan              40198 non-null object\n",
      "contact           41188 non-null object\n",
      "month             41188 non-null object\n",
      "day_of_week       41188 non-null object\n",
      "duration          41186 non-null float64\n",
      "campaign          41188 non-null int64\n",
      "pdays             1515 non-null float64\n",
      "previous          41188 non-null int64\n",
      "poutcome          5625 non-null object\n",
      "emp.var.rate      41188 non-null float64\n",
      "cons.price.idx    41188 non-null float64\n",
      "cons.conf.idx     41188 non-null float64\n",
      "euribor3m         41188 non-null float64\n",
      "nr.employed       41188 non-null float64\n",
      "y                 41188 non-null object\n",
      "dtypes: float64(7), int64(3), object(11)\n",
      "memory usage: 6.6+ MB\n"
     ]
    }
   ],
   "source": [
    "data.info()"
   ]
  },
  {
   "cell_type": "code",
   "execution_count": 138,
   "metadata": {},
   "outputs": [
    {
     "data": {
      "text/html": [
       "<div>\n",
       "<style scoped>\n",
       "    .dataframe tbody tr th:only-of-type {\n",
       "        vertical-align: middle;\n",
       "    }\n",
       "\n",
       "    .dataframe tbody tr th {\n",
       "        vertical-align: top;\n",
       "    }\n",
       "\n",
       "    .dataframe thead th {\n",
       "        text-align: right;\n",
       "    }\n",
       "</style>\n",
       "<table border=\"1\" class=\"dataframe\">\n",
       "  <thead>\n",
       "    <tr style=\"text-align: right;\">\n",
       "      <th></th>\n",
       "      <th>age</th>\n",
       "      <th>duration</th>\n",
       "      <th>campaign</th>\n",
       "      <th>pdays</th>\n",
       "      <th>previous</th>\n",
       "      <th>emp.var.rate</th>\n",
       "      <th>cons.price.idx</th>\n",
       "      <th>cons.conf.idx</th>\n",
       "      <th>euribor3m</th>\n",
       "      <th>nr.employed</th>\n",
       "    </tr>\n",
       "  </thead>\n",
       "  <tbody>\n",
       "    <tr>\n",
       "      <th>count</th>\n",
       "      <td>41188.00000</td>\n",
       "      <td>41186.000000</td>\n",
       "      <td>41188.000000</td>\n",
       "      <td>1515.000000</td>\n",
       "      <td>41188.000000</td>\n",
       "      <td>41188.000000</td>\n",
       "      <td>41188.000000</td>\n",
       "      <td>41188.000000</td>\n",
       "      <td>41188.000000</td>\n",
       "      <td>41188.000000</td>\n",
       "    </tr>\n",
       "    <tr>\n",
       "      <th>mean</th>\n",
       "      <td>40.02406</td>\n",
       "      <td>258.249041</td>\n",
       "      <td>2.567593</td>\n",
       "      <td>6.014521</td>\n",
       "      <td>0.172963</td>\n",
       "      <td>0.081886</td>\n",
       "      <td>93.575664</td>\n",
       "      <td>-40.502600</td>\n",
       "      <td>3.621291</td>\n",
       "      <td>5167.035911</td>\n",
       "    </tr>\n",
       "    <tr>\n",
       "      <th>std</th>\n",
       "      <td>10.42125</td>\n",
       "      <td>259.234158</td>\n",
       "      <td>2.770014</td>\n",
       "      <td>3.824906</td>\n",
       "      <td>0.494901</td>\n",
       "      <td>1.570960</td>\n",
       "      <td>0.578840</td>\n",
       "      <td>4.628198</td>\n",
       "      <td>1.734447</td>\n",
       "      <td>72.251528</td>\n",
       "    </tr>\n",
       "    <tr>\n",
       "      <th>min</th>\n",
       "      <td>17.00000</td>\n",
       "      <td>0.000000</td>\n",
       "      <td>1.000000</td>\n",
       "      <td>0.000000</td>\n",
       "      <td>0.000000</td>\n",
       "      <td>-3.400000</td>\n",
       "      <td>92.201000</td>\n",
       "      <td>-50.800000</td>\n",
       "      <td>0.634000</td>\n",
       "      <td>4963.600000</td>\n",
       "    </tr>\n",
       "    <tr>\n",
       "      <th>25%</th>\n",
       "      <td>32.00000</td>\n",
       "      <td>102.000000</td>\n",
       "      <td>1.000000</td>\n",
       "      <td>3.000000</td>\n",
       "      <td>0.000000</td>\n",
       "      <td>-1.800000</td>\n",
       "      <td>93.075000</td>\n",
       "      <td>-42.700000</td>\n",
       "      <td>1.344000</td>\n",
       "      <td>5099.100000</td>\n",
       "    </tr>\n",
       "    <tr>\n",
       "      <th>50%</th>\n",
       "      <td>38.00000</td>\n",
       "      <td>180.000000</td>\n",
       "      <td>2.000000</td>\n",
       "      <td>6.000000</td>\n",
       "      <td>0.000000</td>\n",
       "      <td>1.100000</td>\n",
       "      <td>93.749000</td>\n",
       "      <td>-41.800000</td>\n",
       "      <td>4.857000</td>\n",
       "      <td>5191.000000</td>\n",
       "    </tr>\n",
       "    <tr>\n",
       "      <th>75%</th>\n",
       "      <td>47.00000</td>\n",
       "      <td>319.000000</td>\n",
       "      <td>3.000000</td>\n",
       "      <td>7.000000</td>\n",
       "      <td>0.000000</td>\n",
       "      <td>1.400000</td>\n",
       "      <td>93.994000</td>\n",
       "      <td>-36.400000</td>\n",
       "      <td>4.961000</td>\n",
       "      <td>5228.100000</td>\n",
       "    </tr>\n",
       "    <tr>\n",
       "      <th>max</th>\n",
       "      <td>98.00000</td>\n",
       "      <td>4918.000000</td>\n",
       "      <td>56.000000</td>\n",
       "      <td>27.000000</td>\n",
       "      <td>7.000000</td>\n",
       "      <td>1.400000</td>\n",
       "      <td>94.767000</td>\n",
       "      <td>-26.900000</td>\n",
       "      <td>5.045000</td>\n",
       "      <td>5228.100000</td>\n",
       "    </tr>\n",
       "  </tbody>\n",
       "</table>\n",
       "</div>"
      ],
      "text/plain": [
       "               age      duration      campaign        pdays      previous  \\\n",
       "count  41188.00000  41186.000000  41188.000000  1515.000000  41188.000000   \n",
       "mean      40.02406    258.249041      2.567593     6.014521      0.172963   \n",
       "std       10.42125    259.234158      2.770014     3.824906      0.494901   \n",
       "min       17.00000      0.000000      1.000000     0.000000      0.000000   \n",
       "25%       32.00000    102.000000      1.000000     3.000000      0.000000   \n",
       "50%       38.00000    180.000000      2.000000     6.000000      0.000000   \n",
       "75%       47.00000    319.000000      3.000000     7.000000      0.000000   \n",
       "max       98.00000   4918.000000     56.000000    27.000000      7.000000   \n",
       "\n",
       "       emp.var.rate  cons.price.idx  cons.conf.idx     euribor3m   nr.employed  \n",
       "count  41188.000000    41188.000000   41188.000000  41188.000000  41188.000000  \n",
       "mean       0.081886       93.575664     -40.502600      3.621291   5167.035911  \n",
       "std        1.570960        0.578840       4.628198      1.734447     72.251528  \n",
       "min       -3.400000       92.201000     -50.800000      0.634000   4963.600000  \n",
       "25%       -1.800000       93.075000     -42.700000      1.344000   5099.100000  \n",
       "50%        1.100000       93.749000     -41.800000      4.857000   5191.000000  \n",
       "75%        1.400000       93.994000     -36.400000      4.961000   5228.100000  \n",
       "max        1.400000       94.767000     -26.900000      5.045000   5228.100000  "
      ]
     },
     "execution_count": 138,
     "metadata": {},
     "output_type": "execute_result"
    }
   ],
   "source": [
    "data.describe()"
   ]
  },
  {
   "cell_type": "markdown",
   "metadata": {},
   "source": [
    "# Idades"
   ]
  },
  {
   "cell_type": "code",
   "execution_count": 139,
   "metadata": {},
   "outputs": [
    {
     "data": {
      "text/plain": [
       "array([56, 57, 37, 40, 45, 59, 41, 24, 25, 29, 35, 54, 46, 50, 39, 30, 55,\n",
       "       49, 34, 52, 58, 32, 38, 44, 42, 60, 53, 47, 51, 48, 33, 31, 43, 36,\n",
       "       28, 27, 26, 22, 23, 20, 21, 61, 19, 18, 70, 66, 76, 67, 73, 88, 95,\n",
       "       77, 68, 75, 63, 80, 62, 65, 72, 82, 64, 71, 69, 78, 85, 79, 83, 81,\n",
       "       74, 17, 87, 91, 86, 98, 94, 84, 92, 89])"
      ]
     },
     "execution_count": 139,
     "metadata": {},
     "output_type": "execute_result"
    }
   ],
   "source": [
    "data['age'].unique()"
   ]
  },
  {
   "cell_type": "markdown",
   "metadata": {},
   "source": [
    "- Verificando valores faltantes"
   ]
  },
  {
   "cell_type": "code",
   "execution_count": 140,
   "metadata": {},
   "outputs": [
    {
     "data": {
      "text/plain": [
       "0"
      ]
     },
     "execution_count": 140,
     "metadata": {},
     "output_type": "execute_result"
    }
   ],
   "source": [
    "data['age'].isna().sum()"
   ]
  },
  {
   "cell_type": "markdown",
   "metadata": {},
   "source": [
    "# Cargo de Trabalho"
   ]
  },
  {
   "cell_type": "code",
   "execution_count": 141,
   "metadata": {},
   "outputs": [
    {
     "data": {
      "text/plain": [
       "array(['housemaid', 'services', 'admin.', 'blue-collar', 'technician',\n",
       "       'retired', 'management', 'unemployed', 'self-employed', nan,\n",
       "       'entrepreneur', 'student'], dtype=object)"
      ]
     },
     "execution_count": 141,
     "metadata": {},
     "output_type": "execute_result"
    }
   ],
   "source": [
    "data['job'].unique()"
   ]
  },
  {
   "cell_type": "markdown",
   "metadata": {},
   "source": [
    "- Qtd de cada instância"
   ]
  },
  {
   "cell_type": "code",
   "execution_count": 142,
   "metadata": {},
   "outputs": [
    {
     "data": {
      "text/plain": [
       "admin.           10422\n",
       "blue-collar       9254\n",
       "technician        6743\n",
       "services          3969\n",
       "management        2924\n",
       "retired           1720\n",
       "entrepreneur      1456\n",
       "self-employed     1421\n",
       "housemaid         1060\n",
       "unemployed        1014\n",
       "student            875\n",
       "Name: job, dtype: int64"
      ]
     },
     "execution_count": 142,
     "metadata": {},
     "output_type": "execute_result"
    }
   ],
   "source": [
    "data['job'].value_counts()"
   ]
  },
  {
   "cell_type": "markdown",
   "metadata": {},
   "source": [
    "- Verificando valores nulos"
   ]
  },
  {
   "cell_type": "code",
   "execution_count": 143,
   "metadata": {},
   "outputs": [
    {
     "data": {
      "text/plain": [
       "330"
      ]
     },
     "execution_count": 143,
     "metadata": {},
     "output_type": "execute_result"
    }
   ],
   "source": [
    "data['job'].isna().sum()"
   ]
  },
  {
   "cell_type": "code",
   "execution_count": 144,
   "metadata": {},
   "outputs": [],
   "source": [
    "job_map = {'student':1, 'unemployed':2, 'housemaid':3, 'self-employed':4, 'entrepreneur':5, \n",
    "           'retired':6, 'management':7, 'services':8, 'technician':9, 'blue-collar':10, 'admin.':11}"
   ]
  },
  {
   "cell_type": "code",
   "execution_count": 145,
   "metadata": {},
   "outputs": [],
   "source": [
    "data['job'] = data['job'].map(job_map)"
   ]
  },
  {
   "cell_type": "code",
   "execution_count": 146,
   "metadata": {},
   "outputs": [
    {
     "data": {
      "text/html": [
       "<div>\n",
       "<style scoped>\n",
       "    .dataframe tbody tr th:only-of-type {\n",
       "        vertical-align: middle;\n",
       "    }\n",
       "\n",
       "    .dataframe tbody tr th {\n",
       "        vertical-align: top;\n",
       "    }\n",
       "\n",
       "    .dataframe thead th {\n",
       "        text-align: right;\n",
       "    }\n",
       "</style>\n",
       "<table border=\"1\" class=\"dataframe\">\n",
       "  <thead>\n",
       "    <tr style=\"text-align: right;\">\n",
       "      <th></th>\n",
       "      <th>age</th>\n",
       "      <th>job</th>\n",
       "      <th>marital</th>\n",
       "      <th>education</th>\n",
       "      <th>default</th>\n",
       "      <th>housing</th>\n",
       "      <th>loan</th>\n",
       "      <th>contact</th>\n",
       "      <th>month</th>\n",
       "      <th>day_of_week</th>\n",
       "      <th>...</th>\n",
       "      <th>campaign</th>\n",
       "      <th>pdays</th>\n",
       "      <th>previous</th>\n",
       "      <th>poutcome</th>\n",
       "      <th>emp.var.rate</th>\n",
       "      <th>cons.price.idx</th>\n",
       "      <th>cons.conf.idx</th>\n",
       "      <th>euribor3m</th>\n",
       "      <th>nr.employed</th>\n",
       "      <th>y</th>\n",
       "    </tr>\n",
       "  </thead>\n",
       "  <tbody>\n",
       "    <tr>\n",
       "      <th>0</th>\n",
       "      <td>56</td>\n",
       "      <td>3.0</td>\n",
       "      <td>married</td>\n",
       "      <td>basic.4y</td>\n",
       "      <td>no</td>\n",
       "      <td>no</td>\n",
       "      <td>no</td>\n",
       "      <td>telephone</td>\n",
       "      <td>may</td>\n",
       "      <td>mon</td>\n",
       "      <td>...</td>\n",
       "      <td>1</td>\n",
       "      <td>NaN</td>\n",
       "      <td>0</td>\n",
       "      <td>NaN</td>\n",
       "      <td>1.1</td>\n",
       "      <td>93.994</td>\n",
       "      <td>-36.4</td>\n",
       "      <td>4.857</td>\n",
       "      <td>5191.0</td>\n",
       "      <td>no</td>\n",
       "    </tr>\n",
       "    <tr>\n",
       "      <th>1</th>\n",
       "      <td>57</td>\n",
       "      <td>8.0</td>\n",
       "      <td>married</td>\n",
       "      <td>high.school</td>\n",
       "      <td>NaN</td>\n",
       "      <td>no</td>\n",
       "      <td>no</td>\n",
       "      <td>telephone</td>\n",
       "      <td>may</td>\n",
       "      <td>mon</td>\n",
       "      <td>...</td>\n",
       "      <td>1</td>\n",
       "      <td>NaN</td>\n",
       "      <td>0</td>\n",
       "      <td>NaN</td>\n",
       "      <td>1.1</td>\n",
       "      <td>93.994</td>\n",
       "      <td>-36.4</td>\n",
       "      <td>4.857</td>\n",
       "      <td>5191.0</td>\n",
       "      <td>no</td>\n",
       "    </tr>\n",
       "    <tr>\n",
       "      <th>2</th>\n",
       "      <td>37</td>\n",
       "      <td>8.0</td>\n",
       "      <td>married</td>\n",
       "      <td>high.school</td>\n",
       "      <td>no</td>\n",
       "      <td>yes</td>\n",
       "      <td>no</td>\n",
       "      <td>telephone</td>\n",
       "      <td>may</td>\n",
       "      <td>mon</td>\n",
       "      <td>...</td>\n",
       "      <td>1</td>\n",
       "      <td>NaN</td>\n",
       "      <td>0</td>\n",
       "      <td>NaN</td>\n",
       "      <td>1.1</td>\n",
       "      <td>93.994</td>\n",
       "      <td>-36.4</td>\n",
       "      <td>4.857</td>\n",
       "      <td>5191.0</td>\n",
       "      <td>no</td>\n",
       "    </tr>\n",
       "    <tr>\n",
       "      <th>3</th>\n",
       "      <td>40</td>\n",
       "      <td>11.0</td>\n",
       "      <td>married</td>\n",
       "      <td>basic.6y</td>\n",
       "      <td>no</td>\n",
       "      <td>no</td>\n",
       "      <td>no</td>\n",
       "      <td>telephone</td>\n",
       "      <td>may</td>\n",
       "      <td>mon</td>\n",
       "      <td>...</td>\n",
       "      <td>1</td>\n",
       "      <td>NaN</td>\n",
       "      <td>0</td>\n",
       "      <td>NaN</td>\n",
       "      <td>1.1</td>\n",
       "      <td>93.994</td>\n",
       "      <td>-36.4</td>\n",
       "      <td>4.857</td>\n",
       "      <td>5191.0</td>\n",
       "      <td>no</td>\n",
       "    </tr>\n",
       "    <tr>\n",
       "      <th>4</th>\n",
       "      <td>56</td>\n",
       "      <td>8.0</td>\n",
       "      <td>married</td>\n",
       "      <td>high.school</td>\n",
       "      <td>no</td>\n",
       "      <td>no</td>\n",
       "      <td>yes</td>\n",
       "      <td>telephone</td>\n",
       "      <td>may</td>\n",
       "      <td>mon</td>\n",
       "      <td>...</td>\n",
       "      <td>1</td>\n",
       "      <td>NaN</td>\n",
       "      <td>0</td>\n",
       "      <td>NaN</td>\n",
       "      <td>1.1</td>\n",
       "      <td>93.994</td>\n",
       "      <td>-36.4</td>\n",
       "      <td>4.857</td>\n",
       "      <td>5191.0</td>\n",
       "      <td>no</td>\n",
       "    </tr>\n",
       "  </tbody>\n",
       "</table>\n",
       "<p>5 rows × 21 columns</p>\n",
       "</div>"
      ],
      "text/plain": [
       "   age   job  marital    education default housing loan    contact month  \\\n",
       "0   56   3.0  married     basic.4y      no      no   no  telephone   may   \n",
       "1   57   8.0  married  high.school     NaN      no   no  telephone   may   \n",
       "2   37   8.0  married  high.school      no     yes   no  telephone   may   \n",
       "3   40  11.0  married     basic.6y      no      no   no  telephone   may   \n",
       "4   56   8.0  married  high.school      no      no  yes  telephone   may   \n",
       "\n",
       "  day_of_week  ...  campaign  pdays  previous  poutcome emp.var.rate  \\\n",
       "0         mon  ...         1    NaN         0       NaN          1.1   \n",
       "1         mon  ...         1    NaN         0       NaN          1.1   \n",
       "2         mon  ...         1    NaN         0       NaN          1.1   \n",
       "3         mon  ...         1    NaN         0       NaN          1.1   \n",
       "4         mon  ...         1    NaN         0       NaN          1.1   \n",
       "\n",
       "   cons.price.idx  cons.conf.idx  euribor3m  nr.employed   y  \n",
       "0          93.994          -36.4      4.857       5191.0  no  \n",
       "1          93.994          -36.4      4.857       5191.0  no  \n",
       "2          93.994          -36.4      4.857       5191.0  no  \n",
       "3          93.994          -36.4      4.857       5191.0  no  \n",
       "4          93.994          -36.4      4.857       5191.0  no  \n",
       "\n",
       "[5 rows x 21 columns]"
      ]
     },
     "execution_count": 146,
     "metadata": {},
     "output_type": "execute_result"
    }
   ],
   "source": [
    "data.head()"
   ]
  },
  {
   "cell_type": "code",
   "execution_count": 147,
   "metadata": {},
   "outputs": [
    {
     "data": {
      "text/plain": [
       "330"
      ]
     },
     "execution_count": 147,
     "metadata": {},
     "output_type": "execute_result"
    }
   ],
   "source": [
    "data['job'].isna().sum()"
   ]
  },
  {
   "cell_type": "markdown",
   "metadata": {},
   "source": [
    "# Estado Civil"
   ]
  },
  {
   "cell_type": "code",
   "execution_count": 148,
   "metadata": {},
   "outputs": [
    {
     "data": {
      "text/plain": [
       "array(['married', 'single', 'divorced', nan], dtype=object)"
      ]
     },
     "execution_count": 148,
     "metadata": {},
     "output_type": "execute_result"
    }
   ],
   "source": [
    "data['marital'].unique()"
   ]
  },
  {
   "cell_type": "markdown",
   "metadata": {},
   "source": [
    "- Qtd de cada instância"
   ]
  },
  {
   "cell_type": "code",
   "execution_count": 149,
   "metadata": {},
   "outputs": [
    {
     "data": {
      "text/plain": [
       "married     24928\n",
       "single      11568\n",
       "divorced     4612\n",
       "Name: marital, dtype: int64"
      ]
     },
     "execution_count": 149,
     "metadata": {},
     "output_type": "execute_result"
    }
   ],
   "source": [
    "data['marital'].value_counts()"
   ]
  },
  {
   "cell_type": "markdown",
   "metadata": {},
   "source": [
    "- Verificando valores nulos"
   ]
  },
  {
   "cell_type": "code",
   "execution_count": 150,
   "metadata": {},
   "outputs": [
    {
     "data": {
      "text/plain": [
       "80"
      ]
     },
     "execution_count": 150,
     "metadata": {},
     "output_type": "execute_result"
    }
   ],
   "source": [
    "data['marital'].isna().sum()"
   ]
  },
  {
   "cell_type": "code",
   "execution_count": 151,
   "metadata": {},
   "outputs": [],
   "source": [
    "marital_map = {'married':3, 'single':2, 'divorced':1}"
   ]
  },
  {
   "cell_type": "code",
   "execution_count": 152,
   "metadata": {},
   "outputs": [],
   "source": [
    "data['marital'] = data['marital'].map(marital_map)"
   ]
  },
  {
   "cell_type": "code",
   "execution_count": 153,
   "metadata": {},
   "outputs": [
    {
     "data": {
      "text/html": [
       "<div>\n",
       "<style scoped>\n",
       "    .dataframe tbody tr th:only-of-type {\n",
       "        vertical-align: middle;\n",
       "    }\n",
       "\n",
       "    .dataframe tbody tr th {\n",
       "        vertical-align: top;\n",
       "    }\n",
       "\n",
       "    .dataframe thead th {\n",
       "        text-align: right;\n",
       "    }\n",
       "</style>\n",
       "<table border=\"1\" class=\"dataframe\">\n",
       "  <thead>\n",
       "    <tr style=\"text-align: right;\">\n",
       "      <th></th>\n",
       "      <th>age</th>\n",
       "      <th>job</th>\n",
       "      <th>marital</th>\n",
       "      <th>education</th>\n",
       "      <th>default</th>\n",
       "      <th>housing</th>\n",
       "      <th>loan</th>\n",
       "      <th>contact</th>\n",
       "      <th>month</th>\n",
       "      <th>day_of_week</th>\n",
       "      <th>...</th>\n",
       "      <th>campaign</th>\n",
       "      <th>pdays</th>\n",
       "      <th>previous</th>\n",
       "      <th>poutcome</th>\n",
       "      <th>emp.var.rate</th>\n",
       "      <th>cons.price.idx</th>\n",
       "      <th>cons.conf.idx</th>\n",
       "      <th>euribor3m</th>\n",
       "      <th>nr.employed</th>\n",
       "      <th>y</th>\n",
       "    </tr>\n",
       "  </thead>\n",
       "  <tbody>\n",
       "    <tr>\n",
       "      <th>0</th>\n",
       "      <td>56</td>\n",
       "      <td>3.0</td>\n",
       "      <td>3.0</td>\n",
       "      <td>basic.4y</td>\n",
       "      <td>no</td>\n",
       "      <td>no</td>\n",
       "      <td>no</td>\n",
       "      <td>telephone</td>\n",
       "      <td>may</td>\n",
       "      <td>mon</td>\n",
       "      <td>...</td>\n",
       "      <td>1</td>\n",
       "      <td>NaN</td>\n",
       "      <td>0</td>\n",
       "      <td>NaN</td>\n",
       "      <td>1.1</td>\n",
       "      <td>93.994</td>\n",
       "      <td>-36.4</td>\n",
       "      <td>4.857</td>\n",
       "      <td>5191.0</td>\n",
       "      <td>no</td>\n",
       "    </tr>\n",
       "    <tr>\n",
       "      <th>1</th>\n",
       "      <td>57</td>\n",
       "      <td>8.0</td>\n",
       "      <td>3.0</td>\n",
       "      <td>high.school</td>\n",
       "      <td>NaN</td>\n",
       "      <td>no</td>\n",
       "      <td>no</td>\n",
       "      <td>telephone</td>\n",
       "      <td>may</td>\n",
       "      <td>mon</td>\n",
       "      <td>...</td>\n",
       "      <td>1</td>\n",
       "      <td>NaN</td>\n",
       "      <td>0</td>\n",
       "      <td>NaN</td>\n",
       "      <td>1.1</td>\n",
       "      <td>93.994</td>\n",
       "      <td>-36.4</td>\n",
       "      <td>4.857</td>\n",
       "      <td>5191.0</td>\n",
       "      <td>no</td>\n",
       "    </tr>\n",
       "    <tr>\n",
       "      <th>2</th>\n",
       "      <td>37</td>\n",
       "      <td>8.0</td>\n",
       "      <td>3.0</td>\n",
       "      <td>high.school</td>\n",
       "      <td>no</td>\n",
       "      <td>yes</td>\n",
       "      <td>no</td>\n",
       "      <td>telephone</td>\n",
       "      <td>may</td>\n",
       "      <td>mon</td>\n",
       "      <td>...</td>\n",
       "      <td>1</td>\n",
       "      <td>NaN</td>\n",
       "      <td>0</td>\n",
       "      <td>NaN</td>\n",
       "      <td>1.1</td>\n",
       "      <td>93.994</td>\n",
       "      <td>-36.4</td>\n",
       "      <td>4.857</td>\n",
       "      <td>5191.0</td>\n",
       "      <td>no</td>\n",
       "    </tr>\n",
       "    <tr>\n",
       "      <th>3</th>\n",
       "      <td>40</td>\n",
       "      <td>11.0</td>\n",
       "      <td>3.0</td>\n",
       "      <td>basic.6y</td>\n",
       "      <td>no</td>\n",
       "      <td>no</td>\n",
       "      <td>no</td>\n",
       "      <td>telephone</td>\n",
       "      <td>may</td>\n",
       "      <td>mon</td>\n",
       "      <td>...</td>\n",
       "      <td>1</td>\n",
       "      <td>NaN</td>\n",
       "      <td>0</td>\n",
       "      <td>NaN</td>\n",
       "      <td>1.1</td>\n",
       "      <td>93.994</td>\n",
       "      <td>-36.4</td>\n",
       "      <td>4.857</td>\n",
       "      <td>5191.0</td>\n",
       "      <td>no</td>\n",
       "    </tr>\n",
       "    <tr>\n",
       "      <th>4</th>\n",
       "      <td>56</td>\n",
       "      <td>8.0</td>\n",
       "      <td>3.0</td>\n",
       "      <td>high.school</td>\n",
       "      <td>no</td>\n",
       "      <td>no</td>\n",
       "      <td>yes</td>\n",
       "      <td>telephone</td>\n",
       "      <td>may</td>\n",
       "      <td>mon</td>\n",
       "      <td>...</td>\n",
       "      <td>1</td>\n",
       "      <td>NaN</td>\n",
       "      <td>0</td>\n",
       "      <td>NaN</td>\n",
       "      <td>1.1</td>\n",
       "      <td>93.994</td>\n",
       "      <td>-36.4</td>\n",
       "      <td>4.857</td>\n",
       "      <td>5191.0</td>\n",
       "      <td>no</td>\n",
       "    </tr>\n",
       "  </tbody>\n",
       "</table>\n",
       "<p>5 rows × 21 columns</p>\n",
       "</div>"
      ],
      "text/plain": [
       "   age   job  marital    education default housing loan    contact month  \\\n",
       "0   56   3.0      3.0     basic.4y      no      no   no  telephone   may   \n",
       "1   57   8.0      3.0  high.school     NaN      no   no  telephone   may   \n",
       "2   37   8.0      3.0  high.school      no     yes   no  telephone   may   \n",
       "3   40  11.0      3.0     basic.6y      no      no   no  telephone   may   \n",
       "4   56   8.0      3.0  high.school      no      no  yes  telephone   may   \n",
       "\n",
       "  day_of_week  ...  campaign  pdays  previous  poutcome emp.var.rate  \\\n",
       "0         mon  ...         1    NaN         0       NaN          1.1   \n",
       "1         mon  ...         1    NaN         0       NaN          1.1   \n",
       "2         mon  ...         1    NaN         0       NaN          1.1   \n",
       "3         mon  ...         1    NaN         0       NaN          1.1   \n",
       "4         mon  ...         1    NaN         0       NaN          1.1   \n",
       "\n",
       "   cons.price.idx  cons.conf.idx  euribor3m  nr.employed   y  \n",
       "0          93.994          -36.4      4.857       5191.0  no  \n",
       "1          93.994          -36.4      4.857       5191.0  no  \n",
       "2          93.994          -36.4      4.857       5191.0  no  \n",
       "3          93.994          -36.4      4.857       5191.0  no  \n",
       "4          93.994          -36.4      4.857       5191.0  no  \n",
       "\n",
       "[5 rows x 21 columns]"
      ]
     },
     "execution_count": 153,
     "metadata": {},
     "output_type": "execute_result"
    }
   ],
   "source": [
    "data.head()"
   ]
  },
  {
   "cell_type": "code",
   "execution_count": 154,
   "metadata": {},
   "outputs": [
    {
     "data": {
      "text/plain": [
       "80"
      ]
     },
     "execution_count": 154,
     "metadata": {},
     "output_type": "execute_result"
    }
   ],
   "source": [
    "data['marital'].isna().sum()"
   ]
  },
  {
   "cell_type": "markdown",
   "metadata": {},
   "source": [
    "# Escolaridade"
   ]
  },
  {
   "cell_type": "code",
   "execution_count": 155,
   "metadata": {},
   "outputs": [
    {
     "data": {
      "text/plain": [
       "array(['basic.4y', 'high.school', 'basic.6y', 'basic.9y',\n",
       "       'professional.course', nan, 'university.degree', 'illiterate'],\n",
       "      dtype=object)"
      ]
     },
     "execution_count": 155,
     "metadata": {},
     "output_type": "execute_result"
    }
   ],
   "source": [
    "data['education'].unique()"
   ]
  },
  {
   "cell_type": "markdown",
   "metadata": {},
   "source": [
    "- Qtd de cada instâcia"
   ]
  },
  {
   "cell_type": "code",
   "execution_count": 156,
   "metadata": {},
   "outputs": [
    {
     "data": {
      "text/plain": [
       "university.degree      12168\n",
       "high.school             9515\n",
       "basic.9y                6045\n",
       "professional.course     5243\n",
       "basic.4y                4176\n",
       "basic.6y                2292\n",
       "illiterate                18\n",
       "Name: education, dtype: int64"
      ]
     },
     "execution_count": 156,
     "metadata": {},
     "output_type": "execute_result"
    }
   ],
   "source": [
    "data['education'].value_counts()"
   ]
  },
  {
   "cell_type": "markdown",
   "metadata": {},
   "source": [
    "- Verificando valores nulos"
   ]
  },
  {
   "cell_type": "code",
   "execution_count": 157,
   "metadata": {},
   "outputs": [
    {
     "data": {
      "text/plain": [
       "1731"
      ]
     },
     "execution_count": 157,
     "metadata": {},
     "output_type": "execute_result"
    }
   ],
   "source": [
    "data['education'].isna().sum()"
   ]
  },
  {
   "cell_type": "markdown",
   "metadata": {},
   "source": [
    "- Transformando os valores de analfabeto em graduado"
   ]
  },
  {
   "cell_type": "code",
   "execution_count": 158,
   "metadata": {},
   "outputs": [
    {
     "data": {
      "text/plain": [
       "university.degree      12186\n",
       "high.school             9515\n",
       "basic.9y                6045\n",
       "professional.course     5243\n",
       "basic.4y                4176\n",
       "basic.6y                2292\n",
       "Name: education, dtype: int64"
      ]
     },
     "execution_count": 158,
     "metadata": {},
     "output_type": "execute_result"
    }
   ],
   "source": [
    "data['education'].replace('illiterate', 'university.degree', inplace=True)\n",
    "data['education'].value_counts()"
   ]
  },
  {
   "cell_type": "code",
   "execution_count": 159,
   "metadata": {},
   "outputs": [],
   "source": [
    "education_map = {'basic.4y':1, 'basic.6y':2, 'basic.9y':3, 'high.school':4, \n",
    "                 'professional.course':5, 'university.degree':6}"
   ]
  },
  {
   "cell_type": "code",
   "execution_count": 160,
   "metadata": {},
   "outputs": [],
   "source": [
    "data['education'] = data['education'].map(education_map)"
   ]
  },
  {
   "cell_type": "code",
   "execution_count": 161,
   "metadata": {},
   "outputs": [
    {
     "data": {
      "text/html": [
       "<div>\n",
       "<style scoped>\n",
       "    .dataframe tbody tr th:only-of-type {\n",
       "        vertical-align: middle;\n",
       "    }\n",
       "\n",
       "    .dataframe tbody tr th {\n",
       "        vertical-align: top;\n",
       "    }\n",
       "\n",
       "    .dataframe thead th {\n",
       "        text-align: right;\n",
       "    }\n",
       "</style>\n",
       "<table border=\"1\" class=\"dataframe\">\n",
       "  <thead>\n",
       "    <tr style=\"text-align: right;\">\n",
       "      <th></th>\n",
       "      <th>age</th>\n",
       "      <th>job</th>\n",
       "      <th>marital</th>\n",
       "      <th>education</th>\n",
       "      <th>default</th>\n",
       "      <th>housing</th>\n",
       "      <th>loan</th>\n",
       "      <th>contact</th>\n",
       "      <th>month</th>\n",
       "      <th>day_of_week</th>\n",
       "      <th>...</th>\n",
       "      <th>campaign</th>\n",
       "      <th>pdays</th>\n",
       "      <th>previous</th>\n",
       "      <th>poutcome</th>\n",
       "      <th>emp.var.rate</th>\n",
       "      <th>cons.price.idx</th>\n",
       "      <th>cons.conf.idx</th>\n",
       "      <th>euribor3m</th>\n",
       "      <th>nr.employed</th>\n",
       "      <th>y</th>\n",
       "    </tr>\n",
       "  </thead>\n",
       "  <tbody>\n",
       "    <tr>\n",
       "      <th>0</th>\n",
       "      <td>56</td>\n",
       "      <td>3.0</td>\n",
       "      <td>3.0</td>\n",
       "      <td>1.0</td>\n",
       "      <td>no</td>\n",
       "      <td>no</td>\n",
       "      <td>no</td>\n",
       "      <td>telephone</td>\n",
       "      <td>may</td>\n",
       "      <td>mon</td>\n",
       "      <td>...</td>\n",
       "      <td>1</td>\n",
       "      <td>NaN</td>\n",
       "      <td>0</td>\n",
       "      <td>NaN</td>\n",
       "      <td>1.1</td>\n",
       "      <td>93.994</td>\n",
       "      <td>-36.4</td>\n",
       "      <td>4.857</td>\n",
       "      <td>5191.0</td>\n",
       "      <td>no</td>\n",
       "    </tr>\n",
       "    <tr>\n",
       "      <th>1</th>\n",
       "      <td>57</td>\n",
       "      <td>8.0</td>\n",
       "      <td>3.0</td>\n",
       "      <td>4.0</td>\n",
       "      <td>NaN</td>\n",
       "      <td>no</td>\n",
       "      <td>no</td>\n",
       "      <td>telephone</td>\n",
       "      <td>may</td>\n",
       "      <td>mon</td>\n",
       "      <td>...</td>\n",
       "      <td>1</td>\n",
       "      <td>NaN</td>\n",
       "      <td>0</td>\n",
       "      <td>NaN</td>\n",
       "      <td>1.1</td>\n",
       "      <td>93.994</td>\n",
       "      <td>-36.4</td>\n",
       "      <td>4.857</td>\n",
       "      <td>5191.0</td>\n",
       "      <td>no</td>\n",
       "    </tr>\n",
       "    <tr>\n",
       "      <th>2</th>\n",
       "      <td>37</td>\n",
       "      <td>8.0</td>\n",
       "      <td>3.0</td>\n",
       "      <td>4.0</td>\n",
       "      <td>no</td>\n",
       "      <td>yes</td>\n",
       "      <td>no</td>\n",
       "      <td>telephone</td>\n",
       "      <td>may</td>\n",
       "      <td>mon</td>\n",
       "      <td>...</td>\n",
       "      <td>1</td>\n",
       "      <td>NaN</td>\n",
       "      <td>0</td>\n",
       "      <td>NaN</td>\n",
       "      <td>1.1</td>\n",
       "      <td>93.994</td>\n",
       "      <td>-36.4</td>\n",
       "      <td>4.857</td>\n",
       "      <td>5191.0</td>\n",
       "      <td>no</td>\n",
       "    </tr>\n",
       "    <tr>\n",
       "      <th>3</th>\n",
       "      <td>40</td>\n",
       "      <td>11.0</td>\n",
       "      <td>3.0</td>\n",
       "      <td>2.0</td>\n",
       "      <td>no</td>\n",
       "      <td>no</td>\n",
       "      <td>no</td>\n",
       "      <td>telephone</td>\n",
       "      <td>may</td>\n",
       "      <td>mon</td>\n",
       "      <td>...</td>\n",
       "      <td>1</td>\n",
       "      <td>NaN</td>\n",
       "      <td>0</td>\n",
       "      <td>NaN</td>\n",
       "      <td>1.1</td>\n",
       "      <td>93.994</td>\n",
       "      <td>-36.4</td>\n",
       "      <td>4.857</td>\n",
       "      <td>5191.0</td>\n",
       "      <td>no</td>\n",
       "    </tr>\n",
       "    <tr>\n",
       "      <th>4</th>\n",
       "      <td>56</td>\n",
       "      <td>8.0</td>\n",
       "      <td>3.0</td>\n",
       "      <td>4.0</td>\n",
       "      <td>no</td>\n",
       "      <td>no</td>\n",
       "      <td>yes</td>\n",
       "      <td>telephone</td>\n",
       "      <td>may</td>\n",
       "      <td>mon</td>\n",
       "      <td>...</td>\n",
       "      <td>1</td>\n",
       "      <td>NaN</td>\n",
       "      <td>0</td>\n",
       "      <td>NaN</td>\n",
       "      <td>1.1</td>\n",
       "      <td>93.994</td>\n",
       "      <td>-36.4</td>\n",
       "      <td>4.857</td>\n",
       "      <td>5191.0</td>\n",
       "      <td>no</td>\n",
       "    </tr>\n",
       "  </tbody>\n",
       "</table>\n",
       "<p>5 rows × 21 columns</p>\n",
       "</div>"
      ],
      "text/plain": [
       "   age   job  marital  education default housing loan    contact month  \\\n",
       "0   56   3.0      3.0        1.0      no      no   no  telephone   may   \n",
       "1   57   8.0      3.0        4.0     NaN      no   no  telephone   may   \n",
       "2   37   8.0      3.0        4.0      no     yes   no  telephone   may   \n",
       "3   40  11.0      3.0        2.0      no      no   no  telephone   may   \n",
       "4   56   8.0      3.0        4.0      no      no  yes  telephone   may   \n",
       "\n",
       "  day_of_week  ...  campaign  pdays  previous  poutcome emp.var.rate  \\\n",
       "0         mon  ...         1    NaN         0       NaN          1.1   \n",
       "1         mon  ...         1    NaN         0       NaN          1.1   \n",
       "2         mon  ...         1    NaN         0       NaN          1.1   \n",
       "3         mon  ...         1    NaN         0       NaN          1.1   \n",
       "4         mon  ...         1    NaN         0       NaN          1.1   \n",
       "\n",
       "   cons.price.idx  cons.conf.idx  euribor3m  nr.employed   y  \n",
       "0          93.994          -36.4      4.857       5191.0  no  \n",
       "1          93.994          -36.4      4.857       5191.0  no  \n",
       "2          93.994          -36.4      4.857       5191.0  no  \n",
       "3          93.994          -36.4      4.857       5191.0  no  \n",
       "4          93.994          -36.4      4.857       5191.0  no  \n",
       "\n",
       "[5 rows x 21 columns]"
      ]
     },
     "execution_count": 161,
     "metadata": {},
     "output_type": "execute_result"
    }
   ],
   "source": [
    "data.head()"
   ]
  },
  {
   "cell_type": "code",
   "execution_count": 162,
   "metadata": {},
   "outputs": [
    {
     "data": {
      "text/plain": [
       "1731"
      ]
     },
     "execution_count": 162,
     "metadata": {},
     "output_type": "execute_result"
    }
   ],
   "source": [
    "data['education'].isna().sum()"
   ]
  },
  {
   "cell_type": "markdown",
   "metadata": {},
   "source": [
    "# Default"
   ]
  },
  {
   "cell_type": "code",
   "execution_count": 163,
   "metadata": {},
   "outputs": [
    {
     "data": {
      "text/plain": [
       "array(['no', nan, 'yes'], dtype=object)"
      ]
     },
     "execution_count": 163,
     "metadata": {},
     "output_type": "execute_result"
    }
   ],
   "source": [
    "data['default'].unique()"
   ]
  },
  {
   "cell_type": "markdown",
   "metadata": {},
   "source": [
    "- Qtd de cada instância"
   ]
  },
  {
   "cell_type": "code",
   "execution_count": 164,
   "metadata": {},
   "outputs": [
    {
     "data": {
      "text/plain": [
       "no     32588\n",
       "yes        3\n",
       "Name: default, dtype: int64"
      ]
     },
     "execution_count": 164,
     "metadata": {},
     "output_type": "execute_result"
    }
   ],
   "source": [
    "data['default'].value_counts()"
   ]
  },
  {
   "cell_type": "markdown",
   "metadata": {},
   "source": [
    "- Verificando valores faltantes"
   ]
  },
  {
   "cell_type": "code",
   "execution_count": 165,
   "metadata": {},
   "outputs": [
    {
     "data": {
      "text/plain": [
       "8597"
      ]
     },
     "execution_count": 165,
     "metadata": {},
     "output_type": "execute_result"
    }
   ],
   "source": [
    "data['default'].isna().sum()"
   ]
  },
  {
   "cell_type": "code",
   "execution_count": 166,
   "metadata": {},
   "outputs": [],
   "source": [
    "data.drop('default', axis=1, inplace=True)"
   ]
  },
  {
   "cell_type": "code",
   "execution_count": 167,
   "metadata": {},
   "outputs": [
    {
     "data": {
      "text/html": [
       "<div>\n",
       "<style scoped>\n",
       "    .dataframe tbody tr th:only-of-type {\n",
       "        vertical-align: middle;\n",
       "    }\n",
       "\n",
       "    .dataframe tbody tr th {\n",
       "        vertical-align: top;\n",
       "    }\n",
       "\n",
       "    .dataframe thead th {\n",
       "        text-align: right;\n",
       "    }\n",
       "</style>\n",
       "<table border=\"1\" class=\"dataframe\">\n",
       "  <thead>\n",
       "    <tr style=\"text-align: right;\">\n",
       "      <th></th>\n",
       "      <th>age</th>\n",
       "      <th>job</th>\n",
       "      <th>marital</th>\n",
       "      <th>education</th>\n",
       "      <th>housing</th>\n",
       "      <th>loan</th>\n",
       "      <th>contact</th>\n",
       "      <th>month</th>\n",
       "      <th>day_of_week</th>\n",
       "      <th>duration</th>\n",
       "      <th>campaign</th>\n",
       "      <th>pdays</th>\n",
       "      <th>previous</th>\n",
       "      <th>poutcome</th>\n",
       "      <th>emp.var.rate</th>\n",
       "      <th>cons.price.idx</th>\n",
       "      <th>cons.conf.idx</th>\n",
       "      <th>euribor3m</th>\n",
       "      <th>nr.employed</th>\n",
       "      <th>y</th>\n",
       "    </tr>\n",
       "  </thead>\n",
       "  <tbody>\n",
       "    <tr>\n",
       "      <th>0</th>\n",
       "      <td>56</td>\n",
       "      <td>3.0</td>\n",
       "      <td>3.0</td>\n",
       "      <td>1.0</td>\n",
       "      <td>no</td>\n",
       "      <td>no</td>\n",
       "      <td>telephone</td>\n",
       "      <td>may</td>\n",
       "      <td>mon</td>\n",
       "      <td>261.0</td>\n",
       "      <td>1</td>\n",
       "      <td>NaN</td>\n",
       "      <td>0</td>\n",
       "      <td>NaN</td>\n",
       "      <td>1.1</td>\n",
       "      <td>93.994</td>\n",
       "      <td>-36.4</td>\n",
       "      <td>4.857</td>\n",
       "      <td>5191.0</td>\n",
       "      <td>no</td>\n",
       "    </tr>\n",
       "    <tr>\n",
       "      <th>1</th>\n",
       "      <td>57</td>\n",
       "      <td>8.0</td>\n",
       "      <td>3.0</td>\n",
       "      <td>4.0</td>\n",
       "      <td>no</td>\n",
       "      <td>no</td>\n",
       "      <td>telephone</td>\n",
       "      <td>may</td>\n",
       "      <td>mon</td>\n",
       "      <td>149.0</td>\n",
       "      <td>1</td>\n",
       "      <td>NaN</td>\n",
       "      <td>0</td>\n",
       "      <td>NaN</td>\n",
       "      <td>1.1</td>\n",
       "      <td>93.994</td>\n",
       "      <td>-36.4</td>\n",
       "      <td>4.857</td>\n",
       "      <td>5191.0</td>\n",
       "      <td>no</td>\n",
       "    </tr>\n",
       "    <tr>\n",
       "      <th>2</th>\n",
       "      <td>37</td>\n",
       "      <td>8.0</td>\n",
       "      <td>3.0</td>\n",
       "      <td>4.0</td>\n",
       "      <td>yes</td>\n",
       "      <td>no</td>\n",
       "      <td>telephone</td>\n",
       "      <td>may</td>\n",
       "      <td>mon</td>\n",
       "      <td>226.0</td>\n",
       "      <td>1</td>\n",
       "      <td>NaN</td>\n",
       "      <td>0</td>\n",
       "      <td>NaN</td>\n",
       "      <td>1.1</td>\n",
       "      <td>93.994</td>\n",
       "      <td>-36.4</td>\n",
       "      <td>4.857</td>\n",
       "      <td>5191.0</td>\n",
       "      <td>no</td>\n",
       "    </tr>\n",
       "    <tr>\n",
       "      <th>3</th>\n",
       "      <td>40</td>\n",
       "      <td>11.0</td>\n",
       "      <td>3.0</td>\n",
       "      <td>2.0</td>\n",
       "      <td>no</td>\n",
       "      <td>no</td>\n",
       "      <td>telephone</td>\n",
       "      <td>may</td>\n",
       "      <td>mon</td>\n",
       "      <td>151.0</td>\n",
       "      <td>1</td>\n",
       "      <td>NaN</td>\n",
       "      <td>0</td>\n",
       "      <td>NaN</td>\n",
       "      <td>1.1</td>\n",
       "      <td>93.994</td>\n",
       "      <td>-36.4</td>\n",
       "      <td>4.857</td>\n",
       "      <td>5191.0</td>\n",
       "      <td>no</td>\n",
       "    </tr>\n",
       "    <tr>\n",
       "      <th>4</th>\n",
       "      <td>56</td>\n",
       "      <td>8.0</td>\n",
       "      <td>3.0</td>\n",
       "      <td>4.0</td>\n",
       "      <td>no</td>\n",
       "      <td>yes</td>\n",
       "      <td>telephone</td>\n",
       "      <td>may</td>\n",
       "      <td>mon</td>\n",
       "      <td>307.0</td>\n",
       "      <td>1</td>\n",
       "      <td>NaN</td>\n",
       "      <td>0</td>\n",
       "      <td>NaN</td>\n",
       "      <td>1.1</td>\n",
       "      <td>93.994</td>\n",
       "      <td>-36.4</td>\n",
       "      <td>4.857</td>\n",
       "      <td>5191.0</td>\n",
       "      <td>no</td>\n",
       "    </tr>\n",
       "  </tbody>\n",
       "</table>\n",
       "</div>"
      ],
      "text/plain": [
       "   age   job  marital  education housing loan    contact month day_of_week  \\\n",
       "0   56   3.0      3.0        1.0      no   no  telephone   may         mon   \n",
       "1   57   8.0      3.0        4.0      no   no  telephone   may         mon   \n",
       "2   37   8.0      3.0        4.0     yes   no  telephone   may         mon   \n",
       "3   40  11.0      3.0        2.0      no   no  telephone   may         mon   \n",
       "4   56   8.0      3.0        4.0      no  yes  telephone   may         mon   \n",
       "\n",
       "   duration  campaign  pdays  previous poutcome  emp.var.rate  cons.price.idx  \\\n",
       "0     261.0         1    NaN         0      NaN           1.1          93.994   \n",
       "1     149.0         1    NaN         0      NaN           1.1          93.994   \n",
       "2     226.0         1    NaN         0      NaN           1.1          93.994   \n",
       "3     151.0         1    NaN         0      NaN           1.1          93.994   \n",
       "4     307.0         1    NaN         0      NaN           1.1          93.994   \n",
       "\n",
       "   cons.conf.idx  euribor3m  nr.employed   y  \n",
       "0          -36.4      4.857       5191.0  no  \n",
       "1          -36.4      4.857       5191.0  no  \n",
       "2          -36.4      4.857       5191.0  no  \n",
       "3          -36.4      4.857       5191.0  no  \n",
       "4          -36.4      4.857       5191.0  no  "
      ]
     },
     "execution_count": 167,
     "metadata": {},
     "output_type": "execute_result"
    }
   ],
   "source": [
    "data.head()"
   ]
  },
  {
   "cell_type": "code",
   "execution_count": 168,
   "metadata": {},
   "outputs": [
    {
     "data": {
      "text/plain": [
       "(41188, 20)"
      ]
     },
     "execution_count": 168,
     "metadata": {},
     "output_type": "execute_result"
    }
   ],
   "source": [
    "data.shape"
   ]
  },
  {
   "cell_type": "markdown",
   "metadata": {},
   "source": [
    "# Tem empréstimo à habitação?"
   ]
  },
  {
   "cell_type": "code",
   "execution_count": 169,
   "metadata": {},
   "outputs": [
    {
     "data": {
      "text/plain": [
       "array(['no', 'yes', nan], dtype=object)"
      ]
     },
     "execution_count": 169,
     "metadata": {},
     "output_type": "execute_result"
    }
   ],
   "source": [
    "data['housing'].unique()"
   ]
  },
  {
   "cell_type": "markdown",
   "metadata": {},
   "source": [
    "- Qtd de cada instância"
   ]
  },
  {
   "cell_type": "code",
   "execution_count": 170,
   "metadata": {},
   "outputs": [
    {
     "data": {
      "text/plain": [
       "yes    21576\n",
       "no     18622\n",
       "Name: housing, dtype: int64"
      ]
     },
     "execution_count": 170,
     "metadata": {},
     "output_type": "execute_result"
    }
   ],
   "source": [
    "data['housing'].value_counts()"
   ]
  },
  {
   "cell_type": "markdown",
   "metadata": {},
   "source": [
    "- Verificando valores faltantes"
   ]
  },
  {
   "cell_type": "code",
   "execution_count": 171,
   "metadata": {},
   "outputs": [
    {
     "data": {
      "text/plain": [
       "990"
      ]
     },
     "execution_count": 171,
     "metadata": {},
     "output_type": "execute_result"
    }
   ],
   "source": [
    "data['housing'].isna().sum()"
   ]
  },
  {
   "cell_type": "code",
   "execution_count": 172,
   "metadata": {},
   "outputs": [],
   "source": [
    "housing_map = {'yes':1, 'no':0}"
   ]
  },
  {
   "cell_type": "code",
   "execution_count": 173,
   "metadata": {},
   "outputs": [],
   "source": [
    "data['housing'] = data['housing'].map(housing_map)"
   ]
  },
  {
   "cell_type": "code",
   "execution_count": 174,
   "metadata": {},
   "outputs": [
    {
     "data": {
      "text/html": [
       "<div>\n",
       "<style scoped>\n",
       "    .dataframe tbody tr th:only-of-type {\n",
       "        vertical-align: middle;\n",
       "    }\n",
       "\n",
       "    .dataframe tbody tr th {\n",
       "        vertical-align: top;\n",
       "    }\n",
       "\n",
       "    .dataframe thead th {\n",
       "        text-align: right;\n",
       "    }\n",
       "</style>\n",
       "<table border=\"1\" class=\"dataframe\">\n",
       "  <thead>\n",
       "    <tr style=\"text-align: right;\">\n",
       "      <th></th>\n",
       "      <th>age</th>\n",
       "      <th>job</th>\n",
       "      <th>marital</th>\n",
       "      <th>education</th>\n",
       "      <th>housing</th>\n",
       "      <th>loan</th>\n",
       "      <th>contact</th>\n",
       "      <th>month</th>\n",
       "      <th>day_of_week</th>\n",
       "      <th>duration</th>\n",
       "      <th>campaign</th>\n",
       "      <th>pdays</th>\n",
       "      <th>previous</th>\n",
       "      <th>poutcome</th>\n",
       "      <th>emp.var.rate</th>\n",
       "      <th>cons.price.idx</th>\n",
       "      <th>cons.conf.idx</th>\n",
       "      <th>euribor3m</th>\n",
       "      <th>nr.employed</th>\n",
       "      <th>y</th>\n",
       "    </tr>\n",
       "  </thead>\n",
       "  <tbody>\n",
       "    <tr>\n",
       "      <th>0</th>\n",
       "      <td>56</td>\n",
       "      <td>3.0</td>\n",
       "      <td>3.0</td>\n",
       "      <td>1.0</td>\n",
       "      <td>0.0</td>\n",
       "      <td>no</td>\n",
       "      <td>telephone</td>\n",
       "      <td>may</td>\n",
       "      <td>mon</td>\n",
       "      <td>261.0</td>\n",
       "      <td>1</td>\n",
       "      <td>NaN</td>\n",
       "      <td>0</td>\n",
       "      <td>NaN</td>\n",
       "      <td>1.1</td>\n",
       "      <td>93.994</td>\n",
       "      <td>-36.4</td>\n",
       "      <td>4.857</td>\n",
       "      <td>5191.0</td>\n",
       "      <td>no</td>\n",
       "    </tr>\n",
       "    <tr>\n",
       "      <th>1</th>\n",
       "      <td>57</td>\n",
       "      <td>8.0</td>\n",
       "      <td>3.0</td>\n",
       "      <td>4.0</td>\n",
       "      <td>0.0</td>\n",
       "      <td>no</td>\n",
       "      <td>telephone</td>\n",
       "      <td>may</td>\n",
       "      <td>mon</td>\n",
       "      <td>149.0</td>\n",
       "      <td>1</td>\n",
       "      <td>NaN</td>\n",
       "      <td>0</td>\n",
       "      <td>NaN</td>\n",
       "      <td>1.1</td>\n",
       "      <td>93.994</td>\n",
       "      <td>-36.4</td>\n",
       "      <td>4.857</td>\n",
       "      <td>5191.0</td>\n",
       "      <td>no</td>\n",
       "    </tr>\n",
       "    <tr>\n",
       "      <th>2</th>\n",
       "      <td>37</td>\n",
       "      <td>8.0</td>\n",
       "      <td>3.0</td>\n",
       "      <td>4.0</td>\n",
       "      <td>1.0</td>\n",
       "      <td>no</td>\n",
       "      <td>telephone</td>\n",
       "      <td>may</td>\n",
       "      <td>mon</td>\n",
       "      <td>226.0</td>\n",
       "      <td>1</td>\n",
       "      <td>NaN</td>\n",
       "      <td>0</td>\n",
       "      <td>NaN</td>\n",
       "      <td>1.1</td>\n",
       "      <td>93.994</td>\n",
       "      <td>-36.4</td>\n",
       "      <td>4.857</td>\n",
       "      <td>5191.0</td>\n",
       "      <td>no</td>\n",
       "    </tr>\n",
       "    <tr>\n",
       "      <th>3</th>\n",
       "      <td>40</td>\n",
       "      <td>11.0</td>\n",
       "      <td>3.0</td>\n",
       "      <td>2.0</td>\n",
       "      <td>0.0</td>\n",
       "      <td>no</td>\n",
       "      <td>telephone</td>\n",
       "      <td>may</td>\n",
       "      <td>mon</td>\n",
       "      <td>151.0</td>\n",
       "      <td>1</td>\n",
       "      <td>NaN</td>\n",
       "      <td>0</td>\n",
       "      <td>NaN</td>\n",
       "      <td>1.1</td>\n",
       "      <td>93.994</td>\n",
       "      <td>-36.4</td>\n",
       "      <td>4.857</td>\n",
       "      <td>5191.0</td>\n",
       "      <td>no</td>\n",
       "    </tr>\n",
       "    <tr>\n",
       "      <th>4</th>\n",
       "      <td>56</td>\n",
       "      <td>8.0</td>\n",
       "      <td>3.0</td>\n",
       "      <td>4.0</td>\n",
       "      <td>0.0</td>\n",
       "      <td>yes</td>\n",
       "      <td>telephone</td>\n",
       "      <td>may</td>\n",
       "      <td>mon</td>\n",
       "      <td>307.0</td>\n",
       "      <td>1</td>\n",
       "      <td>NaN</td>\n",
       "      <td>0</td>\n",
       "      <td>NaN</td>\n",
       "      <td>1.1</td>\n",
       "      <td>93.994</td>\n",
       "      <td>-36.4</td>\n",
       "      <td>4.857</td>\n",
       "      <td>5191.0</td>\n",
       "      <td>no</td>\n",
       "    </tr>\n",
       "  </tbody>\n",
       "</table>\n",
       "</div>"
      ],
      "text/plain": [
       "   age   job  marital  education  housing loan    contact month day_of_week  \\\n",
       "0   56   3.0      3.0        1.0      0.0   no  telephone   may         mon   \n",
       "1   57   8.0      3.0        4.0      0.0   no  telephone   may         mon   \n",
       "2   37   8.0      3.0        4.0      1.0   no  telephone   may         mon   \n",
       "3   40  11.0      3.0        2.0      0.0   no  telephone   may         mon   \n",
       "4   56   8.0      3.0        4.0      0.0  yes  telephone   may         mon   \n",
       "\n",
       "   duration  campaign  pdays  previous poutcome  emp.var.rate  cons.price.idx  \\\n",
       "0     261.0         1    NaN         0      NaN           1.1          93.994   \n",
       "1     149.0         1    NaN         0      NaN           1.1          93.994   \n",
       "2     226.0         1    NaN         0      NaN           1.1          93.994   \n",
       "3     151.0         1    NaN         0      NaN           1.1          93.994   \n",
       "4     307.0         1    NaN         0      NaN           1.1          93.994   \n",
       "\n",
       "   cons.conf.idx  euribor3m  nr.employed   y  \n",
       "0          -36.4      4.857       5191.0  no  \n",
       "1          -36.4      4.857       5191.0  no  \n",
       "2          -36.4      4.857       5191.0  no  \n",
       "3          -36.4      4.857       5191.0  no  \n",
       "4          -36.4      4.857       5191.0  no  "
      ]
     },
     "execution_count": 174,
     "metadata": {},
     "output_type": "execute_result"
    }
   ],
   "source": [
    "data.head()"
   ]
  },
  {
   "cell_type": "code",
   "execution_count": 175,
   "metadata": {},
   "outputs": [
    {
     "data": {
      "text/plain": [
       "990"
      ]
     },
     "execution_count": 175,
     "metadata": {},
     "output_type": "execute_result"
    }
   ],
   "source": [
    "data['housing'].isna().sum()"
   ]
  },
  {
   "cell_type": "markdown",
   "metadata": {},
   "source": [
    "# Tem empréstimo pessoal?"
   ]
  },
  {
   "cell_type": "code",
   "execution_count": 176,
   "metadata": {},
   "outputs": [
    {
     "data": {
      "text/plain": [
       "array(['no', 'yes', nan], dtype=object)"
      ]
     },
     "execution_count": 176,
     "metadata": {},
     "output_type": "execute_result"
    }
   ],
   "source": [
    "data['loan'].unique()"
   ]
  },
  {
   "cell_type": "markdown",
   "metadata": {},
   "source": [
    "- Qtd de cada instância"
   ]
  },
  {
   "cell_type": "code",
   "execution_count": 177,
   "metadata": {},
   "outputs": [
    {
     "data": {
      "text/plain": [
       "no     33950\n",
       "yes     6248\n",
       "Name: loan, dtype: int64"
      ]
     },
     "execution_count": 177,
     "metadata": {},
     "output_type": "execute_result"
    }
   ],
   "source": [
    "data['loan'].value_counts()"
   ]
  },
  {
   "cell_type": "markdown",
   "metadata": {},
   "source": [
    "- Verificando valores faltantes"
   ]
  },
  {
   "cell_type": "code",
   "execution_count": 178,
   "metadata": {},
   "outputs": [
    {
     "data": {
      "text/plain": [
       "990"
      ]
     },
     "execution_count": 178,
     "metadata": {},
     "output_type": "execute_result"
    }
   ],
   "source": [
    "data['loan'].isna().sum()"
   ]
  },
  {
   "cell_type": "code",
   "execution_count": 179,
   "metadata": {},
   "outputs": [],
   "source": [
    "loan_map = {'yes':1, 'no':0}"
   ]
  },
  {
   "cell_type": "code",
   "execution_count": 180,
   "metadata": {},
   "outputs": [],
   "source": [
    "data['loan'] = data['loan'].map(loan_map)"
   ]
  },
  {
   "cell_type": "code",
   "execution_count": 181,
   "metadata": {},
   "outputs": [
    {
     "data": {
      "text/html": [
       "<div>\n",
       "<style scoped>\n",
       "    .dataframe tbody tr th:only-of-type {\n",
       "        vertical-align: middle;\n",
       "    }\n",
       "\n",
       "    .dataframe tbody tr th {\n",
       "        vertical-align: top;\n",
       "    }\n",
       "\n",
       "    .dataframe thead th {\n",
       "        text-align: right;\n",
       "    }\n",
       "</style>\n",
       "<table border=\"1\" class=\"dataframe\">\n",
       "  <thead>\n",
       "    <tr style=\"text-align: right;\">\n",
       "      <th></th>\n",
       "      <th>age</th>\n",
       "      <th>job</th>\n",
       "      <th>marital</th>\n",
       "      <th>education</th>\n",
       "      <th>housing</th>\n",
       "      <th>loan</th>\n",
       "      <th>contact</th>\n",
       "      <th>month</th>\n",
       "      <th>day_of_week</th>\n",
       "      <th>duration</th>\n",
       "      <th>campaign</th>\n",
       "      <th>pdays</th>\n",
       "      <th>previous</th>\n",
       "      <th>poutcome</th>\n",
       "      <th>emp.var.rate</th>\n",
       "      <th>cons.price.idx</th>\n",
       "      <th>cons.conf.idx</th>\n",
       "      <th>euribor3m</th>\n",
       "      <th>nr.employed</th>\n",
       "      <th>y</th>\n",
       "    </tr>\n",
       "  </thead>\n",
       "  <tbody>\n",
       "    <tr>\n",
       "      <th>0</th>\n",
       "      <td>56</td>\n",
       "      <td>3.0</td>\n",
       "      <td>3.0</td>\n",
       "      <td>1.0</td>\n",
       "      <td>0.0</td>\n",
       "      <td>0.0</td>\n",
       "      <td>telephone</td>\n",
       "      <td>may</td>\n",
       "      <td>mon</td>\n",
       "      <td>261.0</td>\n",
       "      <td>1</td>\n",
       "      <td>NaN</td>\n",
       "      <td>0</td>\n",
       "      <td>NaN</td>\n",
       "      <td>1.1</td>\n",
       "      <td>93.994</td>\n",
       "      <td>-36.4</td>\n",
       "      <td>4.857</td>\n",
       "      <td>5191.0</td>\n",
       "      <td>no</td>\n",
       "    </tr>\n",
       "    <tr>\n",
       "      <th>1</th>\n",
       "      <td>57</td>\n",
       "      <td>8.0</td>\n",
       "      <td>3.0</td>\n",
       "      <td>4.0</td>\n",
       "      <td>0.0</td>\n",
       "      <td>0.0</td>\n",
       "      <td>telephone</td>\n",
       "      <td>may</td>\n",
       "      <td>mon</td>\n",
       "      <td>149.0</td>\n",
       "      <td>1</td>\n",
       "      <td>NaN</td>\n",
       "      <td>0</td>\n",
       "      <td>NaN</td>\n",
       "      <td>1.1</td>\n",
       "      <td>93.994</td>\n",
       "      <td>-36.4</td>\n",
       "      <td>4.857</td>\n",
       "      <td>5191.0</td>\n",
       "      <td>no</td>\n",
       "    </tr>\n",
       "    <tr>\n",
       "      <th>2</th>\n",
       "      <td>37</td>\n",
       "      <td>8.0</td>\n",
       "      <td>3.0</td>\n",
       "      <td>4.0</td>\n",
       "      <td>1.0</td>\n",
       "      <td>0.0</td>\n",
       "      <td>telephone</td>\n",
       "      <td>may</td>\n",
       "      <td>mon</td>\n",
       "      <td>226.0</td>\n",
       "      <td>1</td>\n",
       "      <td>NaN</td>\n",
       "      <td>0</td>\n",
       "      <td>NaN</td>\n",
       "      <td>1.1</td>\n",
       "      <td>93.994</td>\n",
       "      <td>-36.4</td>\n",
       "      <td>4.857</td>\n",
       "      <td>5191.0</td>\n",
       "      <td>no</td>\n",
       "    </tr>\n",
       "    <tr>\n",
       "      <th>3</th>\n",
       "      <td>40</td>\n",
       "      <td>11.0</td>\n",
       "      <td>3.0</td>\n",
       "      <td>2.0</td>\n",
       "      <td>0.0</td>\n",
       "      <td>0.0</td>\n",
       "      <td>telephone</td>\n",
       "      <td>may</td>\n",
       "      <td>mon</td>\n",
       "      <td>151.0</td>\n",
       "      <td>1</td>\n",
       "      <td>NaN</td>\n",
       "      <td>0</td>\n",
       "      <td>NaN</td>\n",
       "      <td>1.1</td>\n",
       "      <td>93.994</td>\n",
       "      <td>-36.4</td>\n",
       "      <td>4.857</td>\n",
       "      <td>5191.0</td>\n",
       "      <td>no</td>\n",
       "    </tr>\n",
       "    <tr>\n",
       "      <th>4</th>\n",
       "      <td>56</td>\n",
       "      <td>8.0</td>\n",
       "      <td>3.0</td>\n",
       "      <td>4.0</td>\n",
       "      <td>0.0</td>\n",
       "      <td>1.0</td>\n",
       "      <td>telephone</td>\n",
       "      <td>may</td>\n",
       "      <td>mon</td>\n",
       "      <td>307.0</td>\n",
       "      <td>1</td>\n",
       "      <td>NaN</td>\n",
       "      <td>0</td>\n",
       "      <td>NaN</td>\n",
       "      <td>1.1</td>\n",
       "      <td>93.994</td>\n",
       "      <td>-36.4</td>\n",
       "      <td>4.857</td>\n",
       "      <td>5191.0</td>\n",
       "      <td>no</td>\n",
       "    </tr>\n",
       "  </tbody>\n",
       "</table>\n",
       "</div>"
      ],
      "text/plain": [
       "   age   job  marital  education  housing  loan    contact month day_of_week  \\\n",
       "0   56   3.0      3.0        1.0      0.0   0.0  telephone   may         mon   \n",
       "1   57   8.0      3.0        4.0      0.0   0.0  telephone   may         mon   \n",
       "2   37   8.0      3.0        4.0      1.0   0.0  telephone   may         mon   \n",
       "3   40  11.0      3.0        2.0      0.0   0.0  telephone   may         mon   \n",
       "4   56   8.0      3.0        4.0      0.0   1.0  telephone   may         mon   \n",
       "\n",
       "   duration  campaign  pdays  previous poutcome  emp.var.rate  cons.price.idx  \\\n",
       "0     261.0         1    NaN         0      NaN           1.1          93.994   \n",
       "1     149.0         1    NaN         0      NaN           1.1          93.994   \n",
       "2     226.0         1    NaN         0      NaN           1.1          93.994   \n",
       "3     151.0         1    NaN         0      NaN           1.1          93.994   \n",
       "4     307.0         1    NaN         0      NaN           1.1          93.994   \n",
       "\n",
       "   cons.conf.idx  euribor3m  nr.employed   y  \n",
       "0          -36.4      4.857       5191.0  no  \n",
       "1          -36.4      4.857       5191.0  no  \n",
       "2          -36.4      4.857       5191.0  no  \n",
       "3          -36.4      4.857       5191.0  no  \n",
       "4          -36.4      4.857       5191.0  no  "
      ]
     },
     "execution_count": 181,
     "metadata": {},
     "output_type": "execute_result"
    }
   ],
   "source": [
    "data.head()"
   ]
  },
  {
   "cell_type": "code",
   "execution_count": 182,
   "metadata": {},
   "outputs": [
    {
     "data": {
      "text/plain": [
       "990"
      ]
     },
     "execution_count": 182,
     "metadata": {},
     "output_type": "execute_result"
    }
   ],
   "source": [
    "data['loan'].isna().sum()"
   ]
  },
  {
   "cell_type": "markdown",
   "metadata": {},
   "source": [
    "# Forma de contato"
   ]
  },
  {
   "cell_type": "code",
   "execution_count": 183,
   "metadata": {},
   "outputs": [
    {
     "data": {
      "text/plain": [
       "array(['telephone', 'cellular'], dtype=object)"
      ]
     },
     "execution_count": 183,
     "metadata": {},
     "output_type": "execute_result"
    }
   ],
   "source": [
    "data['contact'].unique()"
   ]
  },
  {
   "cell_type": "markdown",
   "metadata": {},
   "source": [
    "- Qtd de cada instância"
   ]
  },
  {
   "cell_type": "code",
   "execution_count": 184,
   "metadata": {},
   "outputs": [
    {
     "data": {
      "text/plain": [
       "cellular     26144\n",
       "telephone    15044\n",
       "Name: contact, dtype: int64"
      ]
     },
     "execution_count": 184,
     "metadata": {},
     "output_type": "execute_result"
    }
   ],
   "source": [
    "data['contact'].value_counts()"
   ]
  },
  {
   "cell_type": "markdown",
   "metadata": {},
   "source": [
    "- Verificando valores faltantes"
   ]
  },
  {
   "cell_type": "code",
   "execution_count": 185,
   "metadata": {},
   "outputs": [
    {
     "data": {
      "text/plain": [
       "0"
      ]
     },
     "execution_count": 185,
     "metadata": {},
     "output_type": "execute_result"
    }
   ],
   "source": [
    "data['contact'].isna().sum()"
   ]
  },
  {
   "cell_type": "code",
   "execution_count": 186,
   "metadata": {},
   "outputs": [],
   "source": [
    "contact_map = {'telephone':1, 'cellular':2}"
   ]
  },
  {
   "cell_type": "code",
   "execution_count": 187,
   "metadata": {},
   "outputs": [],
   "source": [
    "data['contact'] = data['contact'].map(contact_map)"
   ]
  },
  {
   "cell_type": "code",
   "execution_count": 188,
   "metadata": {},
   "outputs": [
    {
     "data": {
      "text/html": [
       "<div>\n",
       "<style scoped>\n",
       "    .dataframe tbody tr th:only-of-type {\n",
       "        vertical-align: middle;\n",
       "    }\n",
       "\n",
       "    .dataframe tbody tr th {\n",
       "        vertical-align: top;\n",
       "    }\n",
       "\n",
       "    .dataframe thead th {\n",
       "        text-align: right;\n",
       "    }\n",
       "</style>\n",
       "<table border=\"1\" class=\"dataframe\">\n",
       "  <thead>\n",
       "    <tr style=\"text-align: right;\">\n",
       "      <th></th>\n",
       "      <th>age</th>\n",
       "      <th>job</th>\n",
       "      <th>marital</th>\n",
       "      <th>education</th>\n",
       "      <th>housing</th>\n",
       "      <th>loan</th>\n",
       "      <th>contact</th>\n",
       "      <th>month</th>\n",
       "      <th>day_of_week</th>\n",
       "      <th>duration</th>\n",
       "      <th>campaign</th>\n",
       "      <th>pdays</th>\n",
       "      <th>previous</th>\n",
       "      <th>poutcome</th>\n",
       "      <th>emp.var.rate</th>\n",
       "      <th>cons.price.idx</th>\n",
       "      <th>cons.conf.idx</th>\n",
       "      <th>euribor3m</th>\n",
       "      <th>nr.employed</th>\n",
       "      <th>y</th>\n",
       "    </tr>\n",
       "  </thead>\n",
       "  <tbody>\n",
       "    <tr>\n",
       "      <th>0</th>\n",
       "      <td>56</td>\n",
       "      <td>3.0</td>\n",
       "      <td>3.0</td>\n",
       "      <td>1.0</td>\n",
       "      <td>0.0</td>\n",
       "      <td>0.0</td>\n",
       "      <td>1</td>\n",
       "      <td>may</td>\n",
       "      <td>mon</td>\n",
       "      <td>261.0</td>\n",
       "      <td>1</td>\n",
       "      <td>NaN</td>\n",
       "      <td>0</td>\n",
       "      <td>NaN</td>\n",
       "      <td>1.1</td>\n",
       "      <td>93.994</td>\n",
       "      <td>-36.4</td>\n",
       "      <td>4.857</td>\n",
       "      <td>5191.0</td>\n",
       "      <td>no</td>\n",
       "    </tr>\n",
       "    <tr>\n",
       "      <th>1</th>\n",
       "      <td>57</td>\n",
       "      <td>8.0</td>\n",
       "      <td>3.0</td>\n",
       "      <td>4.0</td>\n",
       "      <td>0.0</td>\n",
       "      <td>0.0</td>\n",
       "      <td>1</td>\n",
       "      <td>may</td>\n",
       "      <td>mon</td>\n",
       "      <td>149.0</td>\n",
       "      <td>1</td>\n",
       "      <td>NaN</td>\n",
       "      <td>0</td>\n",
       "      <td>NaN</td>\n",
       "      <td>1.1</td>\n",
       "      <td>93.994</td>\n",
       "      <td>-36.4</td>\n",
       "      <td>4.857</td>\n",
       "      <td>5191.0</td>\n",
       "      <td>no</td>\n",
       "    </tr>\n",
       "    <tr>\n",
       "      <th>2</th>\n",
       "      <td>37</td>\n",
       "      <td>8.0</td>\n",
       "      <td>3.0</td>\n",
       "      <td>4.0</td>\n",
       "      <td>1.0</td>\n",
       "      <td>0.0</td>\n",
       "      <td>1</td>\n",
       "      <td>may</td>\n",
       "      <td>mon</td>\n",
       "      <td>226.0</td>\n",
       "      <td>1</td>\n",
       "      <td>NaN</td>\n",
       "      <td>0</td>\n",
       "      <td>NaN</td>\n",
       "      <td>1.1</td>\n",
       "      <td>93.994</td>\n",
       "      <td>-36.4</td>\n",
       "      <td>4.857</td>\n",
       "      <td>5191.0</td>\n",
       "      <td>no</td>\n",
       "    </tr>\n",
       "    <tr>\n",
       "      <th>3</th>\n",
       "      <td>40</td>\n",
       "      <td>11.0</td>\n",
       "      <td>3.0</td>\n",
       "      <td>2.0</td>\n",
       "      <td>0.0</td>\n",
       "      <td>0.0</td>\n",
       "      <td>1</td>\n",
       "      <td>may</td>\n",
       "      <td>mon</td>\n",
       "      <td>151.0</td>\n",
       "      <td>1</td>\n",
       "      <td>NaN</td>\n",
       "      <td>0</td>\n",
       "      <td>NaN</td>\n",
       "      <td>1.1</td>\n",
       "      <td>93.994</td>\n",
       "      <td>-36.4</td>\n",
       "      <td>4.857</td>\n",
       "      <td>5191.0</td>\n",
       "      <td>no</td>\n",
       "    </tr>\n",
       "    <tr>\n",
       "      <th>4</th>\n",
       "      <td>56</td>\n",
       "      <td>8.0</td>\n",
       "      <td>3.0</td>\n",
       "      <td>4.0</td>\n",
       "      <td>0.0</td>\n",
       "      <td>1.0</td>\n",
       "      <td>1</td>\n",
       "      <td>may</td>\n",
       "      <td>mon</td>\n",
       "      <td>307.0</td>\n",
       "      <td>1</td>\n",
       "      <td>NaN</td>\n",
       "      <td>0</td>\n",
       "      <td>NaN</td>\n",
       "      <td>1.1</td>\n",
       "      <td>93.994</td>\n",
       "      <td>-36.4</td>\n",
       "      <td>4.857</td>\n",
       "      <td>5191.0</td>\n",
       "      <td>no</td>\n",
       "    </tr>\n",
       "  </tbody>\n",
       "</table>\n",
       "</div>"
      ],
      "text/plain": [
       "   age   job  marital  education  housing  loan  contact month day_of_week  \\\n",
       "0   56   3.0      3.0        1.0      0.0   0.0        1   may         mon   \n",
       "1   57   8.0      3.0        4.0      0.0   0.0        1   may         mon   \n",
       "2   37   8.0      3.0        4.0      1.0   0.0        1   may         mon   \n",
       "3   40  11.0      3.0        2.0      0.0   0.0        1   may         mon   \n",
       "4   56   8.0      3.0        4.0      0.0   1.0        1   may         mon   \n",
       "\n",
       "   duration  campaign  pdays  previous poutcome  emp.var.rate  cons.price.idx  \\\n",
       "0     261.0         1    NaN         0      NaN           1.1          93.994   \n",
       "1     149.0         1    NaN         0      NaN           1.1          93.994   \n",
       "2     226.0         1    NaN         0      NaN           1.1          93.994   \n",
       "3     151.0         1    NaN         0      NaN           1.1          93.994   \n",
       "4     307.0         1    NaN         0      NaN           1.1          93.994   \n",
       "\n",
       "   cons.conf.idx  euribor3m  nr.employed   y  \n",
       "0          -36.4      4.857       5191.0  no  \n",
       "1          -36.4      4.857       5191.0  no  \n",
       "2          -36.4      4.857       5191.0  no  \n",
       "3          -36.4      4.857       5191.0  no  \n",
       "4          -36.4      4.857       5191.0  no  "
      ]
     },
     "execution_count": 188,
     "metadata": {},
     "output_type": "execute_result"
    }
   ],
   "source": [
    "data.head()"
   ]
  },
  {
   "cell_type": "code",
   "execution_count": 189,
   "metadata": {},
   "outputs": [
    {
     "data": {
      "text/plain": [
       "0"
      ]
     },
     "execution_count": 189,
     "metadata": {},
     "output_type": "execute_result"
    }
   ],
   "source": [
    "data['contact'].isna().sum()"
   ]
  },
  {
   "cell_type": "markdown",
   "metadata": {},
   "source": [
    "# Último contato do ano"
   ]
  },
  {
   "cell_type": "code",
   "execution_count": 190,
   "metadata": {},
   "outputs": [
    {
     "data": {
      "text/plain": [
       "array(['may', 'jun', 'jul', 'aug', 'oct', 'nov', 'dec', 'mar', 'apr',\n",
       "       'sep'], dtype=object)"
      ]
     },
     "execution_count": 190,
     "metadata": {},
     "output_type": "execute_result"
    }
   ],
   "source": [
    "data['month'].unique()"
   ]
  },
  {
   "cell_type": "markdown",
   "metadata": {},
   "source": [
    "- Qtd de cada instância"
   ]
  },
  {
   "cell_type": "code",
   "execution_count": 191,
   "metadata": {},
   "outputs": [
    {
     "data": {
      "text/plain": [
       "may    13769\n",
       "jul     7174\n",
       "aug     6178\n",
       "jun     5318\n",
       "nov     4101\n",
       "apr     2632\n",
       "oct      718\n",
       "sep      570\n",
       "mar      546\n",
       "dec      182\n",
       "Name: month, dtype: int64"
      ]
     },
     "execution_count": 191,
     "metadata": {},
     "output_type": "execute_result"
    }
   ],
   "source": [
    "data['month'].value_counts()"
   ]
  },
  {
   "cell_type": "markdown",
   "metadata": {},
   "source": [
    "- Verificando valores faltantes"
   ]
  },
  {
   "cell_type": "code",
   "execution_count": 192,
   "metadata": {},
   "outputs": [
    {
     "data": {
      "text/plain": [
       "0"
      ]
     },
     "execution_count": 192,
     "metadata": {},
     "output_type": "execute_result"
    }
   ],
   "source": [
    "data['month'].isna().sum()"
   ]
  },
  {
   "cell_type": "code",
   "execution_count": 193,
   "metadata": {},
   "outputs": [],
   "source": [
    "month_map = {'mar':3, 'apr':4, 'may':5, 'jun':6, 'jul':7, 'aug':8, 'sep':9, 'oct':10, 'nov':11, 'dec':12}"
   ]
  },
  {
   "cell_type": "code",
   "execution_count": 194,
   "metadata": {},
   "outputs": [],
   "source": [
    "data['month'] = data['month'].map(month_map)"
   ]
  },
  {
   "cell_type": "code",
   "execution_count": 195,
   "metadata": {},
   "outputs": [
    {
     "data": {
      "text/html": [
       "<div>\n",
       "<style scoped>\n",
       "    .dataframe tbody tr th:only-of-type {\n",
       "        vertical-align: middle;\n",
       "    }\n",
       "\n",
       "    .dataframe tbody tr th {\n",
       "        vertical-align: top;\n",
       "    }\n",
       "\n",
       "    .dataframe thead th {\n",
       "        text-align: right;\n",
       "    }\n",
       "</style>\n",
       "<table border=\"1\" class=\"dataframe\">\n",
       "  <thead>\n",
       "    <tr style=\"text-align: right;\">\n",
       "      <th></th>\n",
       "      <th>age</th>\n",
       "      <th>job</th>\n",
       "      <th>marital</th>\n",
       "      <th>education</th>\n",
       "      <th>housing</th>\n",
       "      <th>loan</th>\n",
       "      <th>contact</th>\n",
       "      <th>month</th>\n",
       "      <th>day_of_week</th>\n",
       "      <th>duration</th>\n",
       "      <th>campaign</th>\n",
       "      <th>pdays</th>\n",
       "      <th>previous</th>\n",
       "      <th>poutcome</th>\n",
       "      <th>emp.var.rate</th>\n",
       "      <th>cons.price.idx</th>\n",
       "      <th>cons.conf.idx</th>\n",
       "      <th>euribor3m</th>\n",
       "      <th>nr.employed</th>\n",
       "      <th>y</th>\n",
       "    </tr>\n",
       "  </thead>\n",
       "  <tbody>\n",
       "    <tr>\n",
       "      <th>0</th>\n",
       "      <td>56</td>\n",
       "      <td>3.0</td>\n",
       "      <td>3.0</td>\n",
       "      <td>1.0</td>\n",
       "      <td>0.0</td>\n",
       "      <td>0.0</td>\n",
       "      <td>1</td>\n",
       "      <td>5</td>\n",
       "      <td>mon</td>\n",
       "      <td>261.0</td>\n",
       "      <td>1</td>\n",
       "      <td>NaN</td>\n",
       "      <td>0</td>\n",
       "      <td>NaN</td>\n",
       "      <td>1.1</td>\n",
       "      <td>93.994</td>\n",
       "      <td>-36.4</td>\n",
       "      <td>4.857</td>\n",
       "      <td>5191.0</td>\n",
       "      <td>no</td>\n",
       "    </tr>\n",
       "    <tr>\n",
       "      <th>1</th>\n",
       "      <td>57</td>\n",
       "      <td>8.0</td>\n",
       "      <td>3.0</td>\n",
       "      <td>4.0</td>\n",
       "      <td>0.0</td>\n",
       "      <td>0.0</td>\n",
       "      <td>1</td>\n",
       "      <td>5</td>\n",
       "      <td>mon</td>\n",
       "      <td>149.0</td>\n",
       "      <td>1</td>\n",
       "      <td>NaN</td>\n",
       "      <td>0</td>\n",
       "      <td>NaN</td>\n",
       "      <td>1.1</td>\n",
       "      <td>93.994</td>\n",
       "      <td>-36.4</td>\n",
       "      <td>4.857</td>\n",
       "      <td>5191.0</td>\n",
       "      <td>no</td>\n",
       "    </tr>\n",
       "    <tr>\n",
       "      <th>2</th>\n",
       "      <td>37</td>\n",
       "      <td>8.0</td>\n",
       "      <td>3.0</td>\n",
       "      <td>4.0</td>\n",
       "      <td>1.0</td>\n",
       "      <td>0.0</td>\n",
       "      <td>1</td>\n",
       "      <td>5</td>\n",
       "      <td>mon</td>\n",
       "      <td>226.0</td>\n",
       "      <td>1</td>\n",
       "      <td>NaN</td>\n",
       "      <td>0</td>\n",
       "      <td>NaN</td>\n",
       "      <td>1.1</td>\n",
       "      <td>93.994</td>\n",
       "      <td>-36.4</td>\n",
       "      <td>4.857</td>\n",
       "      <td>5191.0</td>\n",
       "      <td>no</td>\n",
       "    </tr>\n",
       "    <tr>\n",
       "      <th>3</th>\n",
       "      <td>40</td>\n",
       "      <td>11.0</td>\n",
       "      <td>3.0</td>\n",
       "      <td>2.0</td>\n",
       "      <td>0.0</td>\n",
       "      <td>0.0</td>\n",
       "      <td>1</td>\n",
       "      <td>5</td>\n",
       "      <td>mon</td>\n",
       "      <td>151.0</td>\n",
       "      <td>1</td>\n",
       "      <td>NaN</td>\n",
       "      <td>0</td>\n",
       "      <td>NaN</td>\n",
       "      <td>1.1</td>\n",
       "      <td>93.994</td>\n",
       "      <td>-36.4</td>\n",
       "      <td>4.857</td>\n",
       "      <td>5191.0</td>\n",
       "      <td>no</td>\n",
       "    </tr>\n",
       "    <tr>\n",
       "      <th>4</th>\n",
       "      <td>56</td>\n",
       "      <td>8.0</td>\n",
       "      <td>3.0</td>\n",
       "      <td>4.0</td>\n",
       "      <td>0.0</td>\n",
       "      <td>1.0</td>\n",
       "      <td>1</td>\n",
       "      <td>5</td>\n",
       "      <td>mon</td>\n",
       "      <td>307.0</td>\n",
       "      <td>1</td>\n",
       "      <td>NaN</td>\n",
       "      <td>0</td>\n",
       "      <td>NaN</td>\n",
       "      <td>1.1</td>\n",
       "      <td>93.994</td>\n",
       "      <td>-36.4</td>\n",
       "      <td>4.857</td>\n",
       "      <td>5191.0</td>\n",
       "      <td>no</td>\n",
       "    </tr>\n",
       "  </tbody>\n",
       "</table>\n",
       "</div>"
      ],
      "text/plain": [
       "   age   job  marital  education  housing  loan  contact  month day_of_week  \\\n",
       "0   56   3.0      3.0        1.0      0.0   0.0        1      5         mon   \n",
       "1   57   8.0      3.0        4.0      0.0   0.0        1      5         mon   \n",
       "2   37   8.0      3.0        4.0      1.0   0.0        1      5         mon   \n",
       "3   40  11.0      3.0        2.0      0.0   0.0        1      5         mon   \n",
       "4   56   8.0      3.0        4.0      0.0   1.0        1      5         mon   \n",
       "\n",
       "   duration  campaign  pdays  previous poutcome  emp.var.rate  cons.price.idx  \\\n",
       "0     261.0         1    NaN         0      NaN           1.1          93.994   \n",
       "1     149.0         1    NaN         0      NaN           1.1          93.994   \n",
       "2     226.0         1    NaN         0      NaN           1.1          93.994   \n",
       "3     151.0         1    NaN         0      NaN           1.1          93.994   \n",
       "4     307.0         1    NaN         0      NaN           1.1          93.994   \n",
       "\n",
       "   cons.conf.idx  euribor3m  nr.employed   y  \n",
       "0          -36.4      4.857       5191.0  no  \n",
       "1          -36.4      4.857       5191.0  no  \n",
       "2          -36.4      4.857       5191.0  no  \n",
       "3          -36.4      4.857       5191.0  no  \n",
       "4          -36.4      4.857       5191.0  no  "
      ]
     },
     "execution_count": 195,
     "metadata": {},
     "output_type": "execute_result"
    }
   ],
   "source": [
    "data.head()"
   ]
  },
  {
   "cell_type": "code",
   "execution_count": 196,
   "metadata": {},
   "outputs": [
    {
     "data": {
      "text/plain": [
       "0"
      ]
     },
     "execution_count": 196,
     "metadata": {},
     "output_type": "execute_result"
    }
   ],
   "source": [
    "data['month'].isna().sum()"
   ]
  },
  {
   "cell_type": "markdown",
   "metadata": {},
   "source": [
    "# Último contato da semana"
   ]
  },
  {
   "cell_type": "code",
   "execution_count": 197,
   "metadata": {},
   "outputs": [
    {
     "data": {
      "text/plain": [
       "array(['mon', 'tue', 'wed', 'thu', 'fri'], dtype=object)"
      ]
     },
     "execution_count": 197,
     "metadata": {},
     "output_type": "execute_result"
    }
   ],
   "source": [
    "data['day_of_week'].unique()"
   ]
  },
  {
   "cell_type": "markdown",
   "metadata": {},
   "source": [
    "- Qtd de cada instância"
   ]
  },
  {
   "cell_type": "code",
   "execution_count": 198,
   "metadata": {},
   "outputs": [
    {
     "data": {
      "text/plain": [
       "thu    8623\n",
       "mon    8514\n",
       "wed    8134\n",
       "tue    8090\n",
       "fri    7827\n",
       "Name: day_of_week, dtype: int64"
      ]
     },
     "execution_count": 198,
     "metadata": {},
     "output_type": "execute_result"
    }
   ],
   "source": [
    "data['day_of_week'].value_counts()"
   ]
  },
  {
   "cell_type": "markdown",
   "metadata": {},
   "source": [
    "- Verificando valores faltantes"
   ]
  },
  {
   "cell_type": "code",
   "execution_count": 199,
   "metadata": {},
   "outputs": [
    {
     "data": {
      "text/plain": [
       "0"
      ]
     },
     "execution_count": 199,
     "metadata": {},
     "output_type": "execute_result"
    }
   ],
   "source": [
    "data['day_of_week'].isna().sum()"
   ]
  },
  {
   "cell_type": "code",
   "execution_count": 200,
   "metadata": {},
   "outputs": [],
   "source": [
    "day_of_week_map = {'mon':2, 'tue':3, 'wed':4, 'thu':5, 'fri':6}"
   ]
  },
  {
   "cell_type": "code",
   "execution_count": 201,
   "metadata": {},
   "outputs": [],
   "source": [
    "data['day_of_week'] = data['day_of_week'].map(day_of_week_map)"
   ]
  },
  {
   "cell_type": "code",
   "execution_count": 202,
   "metadata": {},
   "outputs": [
    {
     "data": {
      "text/html": [
       "<div>\n",
       "<style scoped>\n",
       "    .dataframe tbody tr th:only-of-type {\n",
       "        vertical-align: middle;\n",
       "    }\n",
       "\n",
       "    .dataframe tbody tr th {\n",
       "        vertical-align: top;\n",
       "    }\n",
       "\n",
       "    .dataframe thead th {\n",
       "        text-align: right;\n",
       "    }\n",
       "</style>\n",
       "<table border=\"1\" class=\"dataframe\">\n",
       "  <thead>\n",
       "    <tr style=\"text-align: right;\">\n",
       "      <th></th>\n",
       "      <th>age</th>\n",
       "      <th>job</th>\n",
       "      <th>marital</th>\n",
       "      <th>education</th>\n",
       "      <th>housing</th>\n",
       "      <th>loan</th>\n",
       "      <th>contact</th>\n",
       "      <th>month</th>\n",
       "      <th>day_of_week</th>\n",
       "      <th>duration</th>\n",
       "      <th>campaign</th>\n",
       "      <th>pdays</th>\n",
       "      <th>previous</th>\n",
       "      <th>poutcome</th>\n",
       "      <th>emp.var.rate</th>\n",
       "      <th>cons.price.idx</th>\n",
       "      <th>cons.conf.idx</th>\n",
       "      <th>euribor3m</th>\n",
       "      <th>nr.employed</th>\n",
       "      <th>y</th>\n",
       "    </tr>\n",
       "  </thead>\n",
       "  <tbody>\n",
       "    <tr>\n",
       "      <th>0</th>\n",
       "      <td>56</td>\n",
       "      <td>3.0</td>\n",
       "      <td>3.0</td>\n",
       "      <td>1.0</td>\n",
       "      <td>0.0</td>\n",
       "      <td>0.0</td>\n",
       "      <td>1</td>\n",
       "      <td>5</td>\n",
       "      <td>2</td>\n",
       "      <td>261.0</td>\n",
       "      <td>1</td>\n",
       "      <td>NaN</td>\n",
       "      <td>0</td>\n",
       "      <td>NaN</td>\n",
       "      <td>1.1</td>\n",
       "      <td>93.994</td>\n",
       "      <td>-36.4</td>\n",
       "      <td>4.857</td>\n",
       "      <td>5191.0</td>\n",
       "      <td>no</td>\n",
       "    </tr>\n",
       "    <tr>\n",
       "      <th>1</th>\n",
       "      <td>57</td>\n",
       "      <td>8.0</td>\n",
       "      <td>3.0</td>\n",
       "      <td>4.0</td>\n",
       "      <td>0.0</td>\n",
       "      <td>0.0</td>\n",
       "      <td>1</td>\n",
       "      <td>5</td>\n",
       "      <td>2</td>\n",
       "      <td>149.0</td>\n",
       "      <td>1</td>\n",
       "      <td>NaN</td>\n",
       "      <td>0</td>\n",
       "      <td>NaN</td>\n",
       "      <td>1.1</td>\n",
       "      <td>93.994</td>\n",
       "      <td>-36.4</td>\n",
       "      <td>4.857</td>\n",
       "      <td>5191.0</td>\n",
       "      <td>no</td>\n",
       "    </tr>\n",
       "    <tr>\n",
       "      <th>2</th>\n",
       "      <td>37</td>\n",
       "      <td>8.0</td>\n",
       "      <td>3.0</td>\n",
       "      <td>4.0</td>\n",
       "      <td>1.0</td>\n",
       "      <td>0.0</td>\n",
       "      <td>1</td>\n",
       "      <td>5</td>\n",
       "      <td>2</td>\n",
       "      <td>226.0</td>\n",
       "      <td>1</td>\n",
       "      <td>NaN</td>\n",
       "      <td>0</td>\n",
       "      <td>NaN</td>\n",
       "      <td>1.1</td>\n",
       "      <td>93.994</td>\n",
       "      <td>-36.4</td>\n",
       "      <td>4.857</td>\n",
       "      <td>5191.0</td>\n",
       "      <td>no</td>\n",
       "    </tr>\n",
       "    <tr>\n",
       "      <th>3</th>\n",
       "      <td>40</td>\n",
       "      <td>11.0</td>\n",
       "      <td>3.0</td>\n",
       "      <td>2.0</td>\n",
       "      <td>0.0</td>\n",
       "      <td>0.0</td>\n",
       "      <td>1</td>\n",
       "      <td>5</td>\n",
       "      <td>2</td>\n",
       "      <td>151.0</td>\n",
       "      <td>1</td>\n",
       "      <td>NaN</td>\n",
       "      <td>0</td>\n",
       "      <td>NaN</td>\n",
       "      <td>1.1</td>\n",
       "      <td>93.994</td>\n",
       "      <td>-36.4</td>\n",
       "      <td>4.857</td>\n",
       "      <td>5191.0</td>\n",
       "      <td>no</td>\n",
       "    </tr>\n",
       "    <tr>\n",
       "      <th>4</th>\n",
       "      <td>56</td>\n",
       "      <td>8.0</td>\n",
       "      <td>3.0</td>\n",
       "      <td>4.0</td>\n",
       "      <td>0.0</td>\n",
       "      <td>1.0</td>\n",
       "      <td>1</td>\n",
       "      <td>5</td>\n",
       "      <td>2</td>\n",
       "      <td>307.0</td>\n",
       "      <td>1</td>\n",
       "      <td>NaN</td>\n",
       "      <td>0</td>\n",
       "      <td>NaN</td>\n",
       "      <td>1.1</td>\n",
       "      <td>93.994</td>\n",
       "      <td>-36.4</td>\n",
       "      <td>4.857</td>\n",
       "      <td>5191.0</td>\n",
       "      <td>no</td>\n",
       "    </tr>\n",
       "  </tbody>\n",
       "</table>\n",
       "</div>"
      ],
      "text/plain": [
       "   age   job  marital  education  housing  loan  contact  month  day_of_week  \\\n",
       "0   56   3.0      3.0        1.0      0.0   0.0        1      5            2   \n",
       "1   57   8.0      3.0        4.0      0.0   0.0        1      5            2   \n",
       "2   37   8.0      3.0        4.0      1.0   0.0        1      5            2   \n",
       "3   40  11.0      3.0        2.0      0.0   0.0        1      5            2   \n",
       "4   56   8.0      3.0        4.0      0.0   1.0        1      5            2   \n",
       "\n",
       "   duration  campaign  pdays  previous poutcome  emp.var.rate  cons.price.idx  \\\n",
       "0     261.0         1    NaN         0      NaN           1.1          93.994   \n",
       "1     149.0         1    NaN         0      NaN           1.1          93.994   \n",
       "2     226.0         1    NaN         0      NaN           1.1          93.994   \n",
       "3     151.0         1    NaN         0      NaN           1.1          93.994   \n",
       "4     307.0         1    NaN         0      NaN           1.1          93.994   \n",
       "\n",
       "   cons.conf.idx  euribor3m  nr.employed   y  \n",
       "0          -36.4      4.857       5191.0  no  \n",
       "1          -36.4      4.857       5191.0  no  \n",
       "2          -36.4      4.857       5191.0  no  \n",
       "3          -36.4      4.857       5191.0  no  \n",
       "4          -36.4      4.857       5191.0  no  "
      ]
     },
     "execution_count": 202,
     "metadata": {},
     "output_type": "execute_result"
    }
   ],
   "source": [
    "data.head()"
   ]
  },
  {
   "cell_type": "code",
   "execution_count": 203,
   "metadata": {},
   "outputs": [
    {
     "data": {
      "text/plain": [
       "0"
      ]
     },
     "execution_count": 203,
     "metadata": {},
     "output_type": "execute_result"
    }
   ],
   "source": [
    "data['day_of_week'].isna().sum()"
   ]
  },
  {
   "cell_type": "markdown",
   "metadata": {},
   "source": [
    "# Tempo do último contato"
   ]
  },
  {
   "cell_type": "code",
   "execution_count": 204,
   "metadata": {},
   "outputs": [
    {
     "data": {
      "text/plain": [
       "array([ 261.,  149.,  226., ..., 1246., 1556., 1868.])"
      ]
     },
     "execution_count": 204,
     "metadata": {},
     "output_type": "execute_result"
    }
   ],
   "source": [
    "data['duration'].unique()"
   ]
  },
  {
   "cell_type": "markdown",
   "metadata": {},
   "source": [
    "- Verificando valores faltantes"
   ]
  },
  {
   "cell_type": "code",
   "execution_count": 205,
   "metadata": {},
   "outputs": [
    {
     "data": {
      "text/plain": [
       "2"
      ]
     },
     "execution_count": 205,
     "metadata": {},
     "output_type": "execute_result"
    }
   ],
   "source": [
    "data['duration'].isna().sum()"
   ]
  },
  {
   "cell_type": "code",
   "execution_count": 206,
   "metadata": {},
   "outputs": [],
   "source": [
    "data.drop('duration', axis=1, inplace=True)"
   ]
  },
  {
   "cell_type": "code",
   "execution_count": 207,
   "metadata": {},
   "outputs": [
    {
     "data": {
      "text/html": [
       "<div>\n",
       "<style scoped>\n",
       "    .dataframe tbody tr th:only-of-type {\n",
       "        vertical-align: middle;\n",
       "    }\n",
       "\n",
       "    .dataframe tbody tr th {\n",
       "        vertical-align: top;\n",
       "    }\n",
       "\n",
       "    .dataframe thead th {\n",
       "        text-align: right;\n",
       "    }\n",
       "</style>\n",
       "<table border=\"1\" class=\"dataframe\">\n",
       "  <thead>\n",
       "    <tr style=\"text-align: right;\">\n",
       "      <th></th>\n",
       "      <th>age</th>\n",
       "      <th>job</th>\n",
       "      <th>marital</th>\n",
       "      <th>education</th>\n",
       "      <th>housing</th>\n",
       "      <th>loan</th>\n",
       "      <th>contact</th>\n",
       "      <th>month</th>\n",
       "      <th>day_of_week</th>\n",
       "      <th>campaign</th>\n",
       "      <th>pdays</th>\n",
       "      <th>previous</th>\n",
       "      <th>poutcome</th>\n",
       "      <th>emp.var.rate</th>\n",
       "      <th>cons.price.idx</th>\n",
       "      <th>cons.conf.idx</th>\n",
       "      <th>euribor3m</th>\n",
       "      <th>nr.employed</th>\n",
       "      <th>y</th>\n",
       "    </tr>\n",
       "  </thead>\n",
       "  <tbody>\n",
       "    <tr>\n",
       "      <th>0</th>\n",
       "      <td>56</td>\n",
       "      <td>3.0</td>\n",
       "      <td>3.0</td>\n",
       "      <td>1.0</td>\n",
       "      <td>0.0</td>\n",
       "      <td>0.0</td>\n",
       "      <td>1</td>\n",
       "      <td>5</td>\n",
       "      <td>2</td>\n",
       "      <td>1</td>\n",
       "      <td>NaN</td>\n",
       "      <td>0</td>\n",
       "      <td>NaN</td>\n",
       "      <td>1.1</td>\n",
       "      <td>93.994</td>\n",
       "      <td>-36.4</td>\n",
       "      <td>4.857</td>\n",
       "      <td>5191.0</td>\n",
       "      <td>no</td>\n",
       "    </tr>\n",
       "    <tr>\n",
       "      <th>1</th>\n",
       "      <td>57</td>\n",
       "      <td>8.0</td>\n",
       "      <td>3.0</td>\n",
       "      <td>4.0</td>\n",
       "      <td>0.0</td>\n",
       "      <td>0.0</td>\n",
       "      <td>1</td>\n",
       "      <td>5</td>\n",
       "      <td>2</td>\n",
       "      <td>1</td>\n",
       "      <td>NaN</td>\n",
       "      <td>0</td>\n",
       "      <td>NaN</td>\n",
       "      <td>1.1</td>\n",
       "      <td>93.994</td>\n",
       "      <td>-36.4</td>\n",
       "      <td>4.857</td>\n",
       "      <td>5191.0</td>\n",
       "      <td>no</td>\n",
       "    </tr>\n",
       "    <tr>\n",
       "      <th>2</th>\n",
       "      <td>37</td>\n",
       "      <td>8.0</td>\n",
       "      <td>3.0</td>\n",
       "      <td>4.0</td>\n",
       "      <td>1.0</td>\n",
       "      <td>0.0</td>\n",
       "      <td>1</td>\n",
       "      <td>5</td>\n",
       "      <td>2</td>\n",
       "      <td>1</td>\n",
       "      <td>NaN</td>\n",
       "      <td>0</td>\n",
       "      <td>NaN</td>\n",
       "      <td>1.1</td>\n",
       "      <td>93.994</td>\n",
       "      <td>-36.4</td>\n",
       "      <td>4.857</td>\n",
       "      <td>5191.0</td>\n",
       "      <td>no</td>\n",
       "    </tr>\n",
       "    <tr>\n",
       "      <th>3</th>\n",
       "      <td>40</td>\n",
       "      <td>11.0</td>\n",
       "      <td>3.0</td>\n",
       "      <td>2.0</td>\n",
       "      <td>0.0</td>\n",
       "      <td>0.0</td>\n",
       "      <td>1</td>\n",
       "      <td>5</td>\n",
       "      <td>2</td>\n",
       "      <td>1</td>\n",
       "      <td>NaN</td>\n",
       "      <td>0</td>\n",
       "      <td>NaN</td>\n",
       "      <td>1.1</td>\n",
       "      <td>93.994</td>\n",
       "      <td>-36.4</td>\n",
       "      <td>4.857</td>\n",
       "      <td>5191.0</td>\n",
       "      <td>no</td>\n",
       "    </tr>\n",
       "    <tr>\n",
       "      <th>4</th>\n",
       "      <td>56</td>\n",
       "      <td>8.0</td>\n",
       "      <td>3.0</td>\n",
       "      <td>4.0</td>\n",
       "      <td>0.0</td>\n",
       "      <td>1.0</td>\n",
       "      <td>1</td>\n",
       "      <td>5</td>\n",
       "      <td>2</td>\n",
       "      <td>1</td>\n",
       "      <td>NaN</td>\n",
       "      <td>0</td>\n",
       "      <td>NaN</td>\n",
       "      <td>1.1</td>\n",
       "      <td>93.994</td>\n",
       "      <td>-36.4</td>\n",
       "      <td>4.857</td>\n",
       "      <td>5191.0</td>\n",
       "      <td>no</td>\n",
       "    </tr>\n",
       "  </tbody>\n",
       "</table>\n",
       "</div>"
      ],
      "text/plain": [
       "   age   job  marital  education  housing  loan  contact  month  day_of_week  \\\n",
       "0   56   3.0      3.0        1.0      0.0   0.0        1      5            2   \n",
       "1   57   8.0      3.0        4.0      0.0   0.0        1      5            2   \n",
       "2   37   8.0      3.0        4.0      1.0   0.0        1      5            2   \n",
       "3   40  11.0      3.0        2.0      0.0   0.0        1      5            2   \n",
       "4   56   8.0      3.0        4.0      0.0   1.0        1      5            2   \n",
       "\n",
       "   campaign  pdays  previous poutcome  emp.var.rate  cons.price.idx  \\\n",
       "0         1    NaN         0      NaN           1.1          93.994   \n",
       "1         1    NaN         0      NaN           1.1          93.994   \n",
       "2         1    NaN         0      NaN           1.1          93.994   \n",
       "3         1    NaN         0      NaN           1.1          93.994   \n",
       "4         1    NaN         0      NaN           1.1          93.994   \n",
       "\n",
       "   cons.conf.idx  euribor3m  nr.employed   y  \n",
       "0          -36.4      4.857       5191.0  no  \n",
       "1          -36.4      4.857       5191.0  no  \n",
       "2          -36.4      4.857       5191.0  no  \n",
       "3          -36.4      4.857       5191.0  no  \n",
       "4          -36.4      4.857       5191.0  no  "
      ]
     },
     "execution_count": 207,
     "metadata": {},
     "output_type": "execute_result"
    }
   ],
   "source": [
    "data.head()"
   ]
  },
  {
   "cell_type": "markdown",
   "metadata": {},
   "source": [
    "# Num. de contatos realizados por cliente"
   ]
  },
  {
   "cell_type": "code",
   "execution_count": 208,
   "metadata": {},
   "outputs": [
    {
     "data": {
      "text/plain": [
       "array([ 1,  2,  3,  4,  5,  6,  7,  8,  9, 10, 11, 12, 13, 19, 18, 23, 14,\n",
       "       22, 25, 16, 17, 15, 20, 56, 39, 35, 42, 28, 26, 27, 32, 21, 24, 29,\n",
       "       31, 30, 41, 37, 40, 33, 34, 43])"
      ]
     },
     "execution_count": 208,
     "metadata": {},
     "output_type": "execute_result"
    }
   ],
   "source": [
    "data['campaign'].unique()"
   ]
  },
  {
   "cell_type": "markdown",
   "metadata": {},
   "source": [
    "- Verificando valores faltantes"
   ]
  },
  {
   "cell_type": "code",
   "execution_count": 209,
   "metadata": {},
   "outputs": [
    {
     "data": {
      "text/plain": [
       "0"
      ]
     },
     "execution_count": 209,
     "metadata": {},
     "output_type": "execute_result"
    }
   ],
   "source": [
    "data['campaign'].isna().sum()"
   ]
  },
  {
   "cell_type": "markdown",
   "metadata": {},
   "source": [
    "# Qtd de dias antes do último contato da campanha anterior"
   ]
  },
  {
   "cell_type": "code",
   "execution_count": 210,
   "metadata": {},
   "outputs": [
    {
     "data": {
      "text/plain": [
       "array([nan,  6.,  4.,  3.,  5.,  1.,  0., 10.,  7.,  8.,  9., 11.,  2.,\n",
       "       12., 13., 14., 15., 16., 21., 17., 18., 22., 25., 26., 19., 27.,\n",
       "       20.])"
      ]
     },
     "execution_count": 210,
     "metadata": {},
     "output_type": "execute_result"
    }
   ],
   "source": [
    "data['pdays'].unique()"
   ]
  },
  {
   "cell_type": "markdown",
   "metadata": {},
   "source": [
    "- Qtd de cada instância"
   ]
  },
  {
   "cell_type": "code",
   "execution_count": 211,
   "metadata": {},
   "outputs": [
    {
     "data": {
      "text/plain": [
       "3.0     439\n",
       "6.0     412\n",
       "4.0     118\n",
       "9.0      64\n",
       "2.0      61\n",
       "7.0      60\n",
       "12.0     58\n",
       "10.0     52\n",
       "5.0      46\n",
       "13.0     36\n",
       "11.0     28\n",
       "1.0      26\n",
       "15.0     24\n",
       "14.0     20\n",
       "8.0      18\n",
       "0.0      15\n",
       "16.0     11\n",
       "17.0      8\n",
       "18.0      7\n",
       "19.0      3\n",
       "22.0      3\n",
       "21.0      2\n",
       "27.0      1\n",
       "25.0      1\n",
       "20.0      1\n",
       "26.0      1\n",
       "Name: pdays, dtype: int64"
      ]
     },
     "execution_count": 211,
     "metadata": {},
     "output_type": "execute_result"
    }
   ],
   "source": [
    "data['pdays'].value_counts()"
   ]
  },
  {
   "cell_type": "markdown",
   "metadata": {},
   "source": [
    "- Verificando valores faltantes"
   ]
  },
  {
   "cell_type": "code",
   "execution_count": 212,
   "metadata": {},
   "outputs": [
    {
     "data": {
      "text/plain": [
       "39673"
      ]
     },
     "execution_count": 212,
     "metadata": {},
     "output_type": "execute_result"
    }
   ],
   "source": [
    "data['pdays'].isna().sum()"
   ]
  },
  {
   "cell_type": "code",
   "execution_count": 213,
   "metadata": {},
   "outputs": [],
   "source": [
    "data.drop('pdays', axis=1, inplace=True)"
   ]
  },
  {
   "cell_type": "code",
   "execution_count": 214,
   "metadata": {},
   "outputs": [
    {
     "data": {
      "text/html": [
       "<div>\n",
       "<style scoped>\n",
       "    .dataframe tbody tr th:only-of-type {\n",
       "        vertical-align: middle;\n",
       "    }\n",
       "\n",
       "    .dataframe tbody tr th {\n",
       "        vertical-align: top;\n",
       "    }\n",
       "\n",
       "    .dataframe thead th {\n",
       "        text-align: right;\n",
       "    }\n",
       "</style>\n",
       "<table border=\"1\" class=\"dataframe\">\n",
       "  <thead>\n",
       "    <tr style=\"text-align: right;\">\n",
       "      <th></th>\n",
       "      <th>age</th>\n",
       "      <th>job</th>\n",
       "      <th>marital</th>\n",
       "      <th>education</th>\n",
       "      <th>housing</th>\n",
       "      <th>loan</th>\n",
       "      <th>contact</th>\n",
       "      <th>month</th>\n",
       "      <th>day_of_week</th>\n",
       "      <th>campaign</th>\n",
       "      <th>previous</th>\n",
       "      <th>poutcome</th>\n",
       "      <th>emp.var.rate</th>\n",
       "      <th>cons.price.idx</th>\n",
       "      <th>cons.conf.idx</th>\n",
       "      <th>euribor3m</th>\n",
       "      <th>nr.employed</th>\n",
       "      <th>y</th>\n",
       "    </tr>\n",
       "  </thead>\n",
       "  <tbody>\n",
       "    <tr>\n",
       "      <th>0</th>\n",
       "      <td>56</td>\n",
       "      <td>3.0</td>\n",
       "      <td>3.0</td>\n",
       "      <td>1.0</td>\n",
       "      <td>0.0</td>\n",
       "      <td>0.0</td>\n",
       "      <td>1</td>\n",
       "      <td>5</td>\n",
       "      <td>2</td>\n",
       "      <td>1</td>\n",
       "      <td>0</td>\n",
       "      <td>NaN</td>\n",
       "      <td>1.1</td>\n",
       "      <td>93.994</td>\n",
       "      <td>-36.4</td>\n",
       "      <td>4.857</td>\n",
       "      <td>5191.0</td>\n",
       "      <td>no</td>\n",
       "    </tr>\n",
       "    <tr>\n",
       "      <th>1</th>\n",
       "      <td>57</td>\n",
       "      <td>8.0</td>\n",
       "      <td>3.0</td>\n",
       "      <td>4.0</td>\n",
       "      <td>0.0</td>\n",
       "      <td>0.0</td>\n",
       "      <td>1</td>\n",
       "      <td>5</td>\n",
       "      <td>2</td>\n",
       "      <td>1</td>\n",
       "      <td>0</td>\n",
       "      <td>NaN</td>\n",
       "      <td>1.1</td>\n",
       "      <td>93.994</td>\n",
       "      <td>-36.4</td>\n",
       "      <td>4.857</td>\n",
       "      <td>5191.0</td>\n",
       "      <td>no</td>\n",
       "    </tr>\n",
       "    <tr>\n",
       "      <th>2</th>\n",
       "      <td>37</td>\n",
       "      <td>8.0</td>\n",
       "      <td>3.0</td>\n",
       "      <td>4.0</td>\n",
       "      <td>1.0</td>\n",
       "      <td>0.0</td>\n",
       "      <td>1</td>\n",
       "      <td>5</td>\n",
       "      <td>2</td>\n",
       "      <td>1</td>\n",
       "      <td>0</td>\n",
       "      <td>NaN</td>\n",
       "      <td>1.1</td>\n",
       "      <td>93.994</td>\n",
       "      <td>-36.4</td>\n",
       "      <td>4.857</td>\n",
       "      <td>5191.0</td>\n",
       "      <td>no</td>\n",
       "    </tr>\n",
       "    <tr>\n",
       "      <th>3</th>\n",
       "      <td>40</td>\n",
       "      <td>11.0</td>\n",
       "      <td>3.0</td>\n",
       "      <td>2.0</td>\n",
       "      <td>0.0</td>\n",
       "      <td>0.0</td>\n",
       "      <td>1</td>\n",
       "      <td>5</td>\n",
       "      <td>2</td>\n",
       "      <td>1</td>\n",
       "      <td>0</td>\n",
       "      <td>NaN</td>\n",
       "      <td>1.1</td>\n",
       "      <td>93.994</td>\n",
       "      <td>-36.4</td>\n",
       "      <td>4.857</td>\n",
       "      <td>5191.0</td>\n",
       "      <td>no</td>\n",
       "    </tr>\n",
       "    <tr>\n",
       "      <th>4</th>\n",
       "      <td>56</td>\n",
       "      <td>8.0</td>\n",
       "      <td>3.0</td>\n",
       "      <td>4.0</td>\n",
       "      <td>0.0</td>\n",
       "      <td>1.0</td>\n",
       "      <td>1</td>\n",
       "      <td>5</td>\n",
       "      <td>2</td>\n",
       "      <td>1</td>\n",
       "      <td>0</td>\n",
       "      <td>NaN</td>\n",
       "      <td>1.1</td>\n",
       "      <td>93.994</td>\n",
       "      <td>-36.4</td>\n",
       "      <td>4.857</td>\n",
       "      <td>5191.0</td>\n",
       "      <td>no</td>\n",
       "    </tr>\n",
       "  </tbody>\n",
       "</table>\n",
       "</div>"
      ],
      "text/plain": [
       "   age   job  marital  education  housing  loan  contact  month  day_of_week  \\\n",
       "0   56   3.0      3.0        1.0      0.0   0.0        1      5            2   \n",
       "1   57   8.0      3.0        4.0      0.0   0.0        1      5            2   \n",
       "2   37   8.0      3.0        4.0      1.0   0.0        1      5            2   \n",
       "3   40  11.0      3.0        2.0      0.0   0.0        1      5            2   \n",
       "4   56   8.0      3.0        4.0      0.0   1.0        1      5            2   \n",
       "\n",
       "   campaign  previous poutcome  emp.var.rate  cons.price.idx  cons.conf.idx  \\\n",
       "0         1         0      NaN           1.1          93.994          -36.4   \n",
       "1         1         0      NaN           1.1          93.994          -36.4   \n",
       "2         1         0      NaN           1.1          93.994          -36.4   \n",
       "3         1         0      NaN           1.1          93.994          -36.4   \n",
       "4         1         0      NaN           1.1          93.994          -36.4   \n",
       "\n",
       "   euribor3m  nr.employed   y  \n",
       "0      4.857       5191.0  no  \n",
       "1      4.857       5191.0  no  \n",
       "2      4.857       5191.0  no  \n",
       "3      4.857       5191.0  no  \n",
       "4      4.857       5191.0  no  "
      ]
     },
     "execution_count": 214,
     "metadata": {},
     "output_type": "execute_result"
    }
   ],
   "source": [
    "data.head()"
   ]
  },
  {
   "cell_type": "markdown",
   "metadata": {},
   "source": [
    "# Num. de contatos realizados antes dessa campanha"
   ]
  },
  {
   "cell_type": "code",
   "execution_count": 215,
   "metadata": {},
   "outputs": [
    {
     "data": {
      "text/plain": [
       "array([0, 1, 2, 3, 4, 5, 6, 7])"
      ]
     },
     "execution_count": 215,
     "metadata": {},
     "output_type": "execute_result"
    }
   ],
   "source": [
    "data['previous'].unique()"
   ]
  },
  {
   "cell_type": "markdown",
   "metadata": {},
   "source": [
    "- Qtd de cada instância"
   ]
  },
  {
   "cell_type": "code",
   "execution_count": 216,
   "metadata": {},
   "outputs": [
    {
     "data": {
      "text/plain": [
       "0    35563\n",
       "1     4561\n",
       "2      754\n",
       "3      216\n",
       "4       70\n",
       "5       18\n",
       "6        5\n",
       "7        1\n",
       "Name: previous, dtype: int64"
      ]
     },
     "execution_count": 216,
     "metadata": {},
     "output_type": "execute_result"
    }
   ],
   "source": [
    "data['previous'].value_counts()"
   ]
  },
  {
   "cell_type": "markdown",
   "metadata": {},
   "source": [
    "- Verificando valores faltantes"
   ]
  },
  {
   "cell_type": "code",
   "execution_count": 217,
   "metadata": {},
   "outputs": [
    {
     "data": {
      "text/plain": [
       "0"
      ]
     },
     "execution_count": 217,
     "metadata": {},
     "output_type": "execute_result"
    }
   ],
   "source": [
    "data['previous'].isna().sum()"
   ]
  },
  {
   "cell_type": "code",
   "execution_count": 218,
   "metadata": {},
   "outputs": [],
   "source": [
    "data['previous'].replace([6, 7], 0, inplace=True)"
   ]
  },
  {
   "cell_type": "code",
   "execution_count": 219,
   "metadata": {},
   "outputs": [
    {
     "data": {
      "text/plain": [
       "0    35569\n",
       "1     4561\n",
       "2      754\n",
       "3      216\n",
       "4       70\n",
       "5       18\n",
       "Name: previous, dtype: int64"
      ]
     },
     "execution_count": 219,
     "metadata": {},
     "output_type": "execute_result"
    }
   ],
   "source": [
    "data['previous'].value_counts()"
   ]
  },
  {
   "cell_type": "markdown",
   "metadata": {},
   "source": [
    "# Resultado da campanha anterior de marketing"
   ]
  },
  {
   "cell_type": "code",
   "execution_count": 220,
   "metadata": {},
   "outputs": [
    {
     "data": {
      "text/plain": [
       "array([nan, 'failure', 'success'], dtype=object)"
      ]
     },
     "execution_count": 220,
     "metadata": {},
     "output_type": "execute_result"
    }
   ],
   "source": [
    "data['poutcome'].unique()"
   ]
  },
  {
   "cell_type": "markdown",
   "metadata": {},
   "source": [
    "- Qtd de cada instância"
   ]
  },
  {
   "cell_type": "code",
   "execution_count": 221,
   "metadata": {},
   "outputs": [
    {
     "data": {
      "text/plain": [
       "failure    4252\n",
       "success    1373\n",
       "Name: poutcome, dtype: int64"
      ]
     },
     "execution_count": 221,
     "metadata": {},
     "output_type": "execute_result"
    }
   ],
   "source": [
    "data['poutcome'].value_counts()"
   ]
  },
  {
   "cell_type": "markdown",
   "metadata": {},
   "source": [
    "- Verificando valores faltantes"
   ]
  },
  {
   "cell_type": "code",
   "execution_count": 222,
   "metadata": {},
   "outputs": [
    {
     "data": {
      "text/plain": [
       "35563"
      ]
     },
     "execution_count": 222,
     "metadata": {},
     "output_type": "execute_result"
    }
   ],
   "source": [
    "data['poutcome'].isna().sum()"
   ]
  },
  {
   "cell_type": "markdown",
   "metadata": {},
   "source": [
    "- Removendo coluna com muitos atributos nulos"
   ]
  },
  {
   "cell_type": "code",
   "execution_count": 223,
   "metadata": {},
   "outputs": [],
   "source": [
    "data.drop('poutcome', axis=1, inplace=True)"
   ]
  },
  {
   "cell_type": "code",
   "execution_count": 224,
   "metadata": {},
   "outputs": [
    {
     "data": {
      "text/html": [
       "<div>\n",
       "<style scoped>\n",
       "    .dataframe tbody tr th:only-of-type {\n",
       "        vertical-align: middle;\n",
       "    }\n",
       "\n",
       "    .dataframe tbody tr th {\n",
       "        vertical-align: top;\n",
       "    }\n",
       "\n",
       "    .dataframe thead th {\n",
       "        text-align: right;\n",
       "    }\n",
       "</style>\n",
       "<table border=\"1\" class=\"dataframe\">\n",
       "  <thead>\n",
       "    <tr style=\"text-align: right;\">\n",
       "      <th></th>\n",
       "      <th>age</th>\n",
       "      <th>job</th>\n",
       "      <th>marital</th>\n",
       "      <th>education</th>\n",
       "      <th>housing</th>\n",
       "      <th>loan</th>\n",
       "      <th>contact</th>\n",
       "      <th>month</th>\n",
       "      <th>day_of_week</th>\n",
       "      <th>campaign</th>\n",
       "      <th>previous</th>\n",
       "      <th>emp.var.rate</th>\n",
       "      <th>cons.price.idx</th>\n",
       "      <th>cons.conf.idx</th>\n",
       "      <th>euribor3m</th>\n",
       "      <th>nr.employed</th>\n",
       "      <th>y</th>\n",
       "    </tr>\n",
       "  </thead>\n",
       "  <tbody>\n",
       "    <tr>\n",
       "      <th>0</th>\n",
       "      <td>56</td>\n",
       "      <td>3.0</td>\n",
       "      <td>3.0</td>\n",
       "      <td>1.0</td>\n",
       "      <td>0.0</td>\n",
       "      <td>0.0</td>\n",
       "      <td>1</td>\n",
       "      <td>5</td>\n",
       "      <td>2</td>\n",
       "      <td>1</td>\n",
       "      <td>0</td>\n",
       "      <td>1.1</td>\n",
       "      <td>93.994</td>\n",
       "      <td>-36.4</td>\n",
       "      <td>4.857</td>\n",
       "      <td>5191.0</td>\n",
       "      <td>no</td>\n",
       "    </tr>\n",
       "    <tr>\n",
       "      <th>1</th>\n",
       "      <td>57</td>\n",
       "      <td>8.0</td>\n",
       "      <td>3.0</td>\n",
       "      <td>4.0</td>\n",
       "      <td>0.0</td>\n",
       "      <td>0.0</td>\n",
       "      <td>1</td>\n",
       "      <td>5</td>\n",
       "      <td>2</td>\n",
       "      <td>1</td>\n",
       "      <td>0</td>\n",
       "      <td>1.1</td>\n",
       "      <td>93.994</td>\n",
       "      <td>-36.4</td>\n",
       "      <td>4.857</td>\n",
       "      <td>5191.0</td>\n",
       "      <td>no</td>\n",
       "    </tr>\n",
       "    <tr>\n",
       "      <th>2</th>\n",
       "      <td>37</td>\n",
       "      <td>8.0</td>\n",
       "      <td>3.0</td>\n",
       "      <td>4.0</td>\n",
       "      <td>1.0</td>\n",
       "      <td>0.0</td>\n",
       "      <td>1</td>\n",
       "      <td>5</td>\n",
       "      <td>2</td>\n",
       "      <td>1</td>\n",
       "      <td>0</td>\n",
       "      <td>1.1</td>\n",
       "      <td>93.994</td>\n",
       "      <td>-36.4</td>\n",
       "      <td>4.857</td>\n",
       "      <td>5191.0</td>\n",
       "      <td>no</td>\n",
       "    </tr>\n",
       "    <tr>\n",
       "      <th>3</th>\n",
       "      <td>40</td>\n",
       "      <td>11.0</td>\n",
       "      <td>3.0</td>\n",
       "      <td>2.0</td>\n",
       "      <td>0.0</td>\n",
       "      <td>0.0</td>\n",
       "      <td>1</td>\n",
       "      <td>5</td>\n",
       "      <td>2</td>\n",
       "      <td>1</td>\n",
       "      <td>0</td>\n",
       "      <td>1.1</td>\n",
       "      <td>93.994</td>\n",
       "      <td>-36.4</td>\n",
       "      <td>4.857</td>\n",
       "      <td>5191.0</td>\n",
       "      <td>no</td>\n",
       "    </tr>\n",
       "    <tr>\n",
       "      <th>4</th>\n",
       "      <td>56</td>\n",
       "      <td>8.0</td>\n",
       "      <td>3.0</td>\n",
       "      <td>4.0</td>\n",
       "      <td>0.0</td>\n",
       "      <td>1.0</td>\n",
       "      <td>1</td>\n",
       "      <td>5</td>\n",
       "      <td>2</td>\n",
       "      <td>1</td>\n",
       "      <td>0</td>\n",
       "      <td>1.1</td>\n",
       "      <td>93.994</td>\n",
       "      <td>-36.4</td>\n",
       "      <td>4.857</td>\n",
       "      <td>5191.0</td>\n",
       "      <td>no</td>\n",
       "    </tr>\n",
       "  </tbody>\n",
       "</table>\n",
       "</div>"
      ],
      "text/plain": [
       "   age   job  marital  education  housing  loan  contact  month  day_of_week  \\\n",
       "0   56   3.0      3.0        1.0      0.0   0.0        1      5            2   \n",
       "1   57   8.0      3.0        4.0      0.0   0.0        1      5            2   \n",
       "2   37   8.0      3.0        4.0      1.0   0.0        1      5            2   \n",
       "3   40  11.0      3.0        2.0      0.0   0.0        1      5            2   \n",
       "4   56   8.0      3.0        4.0      0.0   1.0        1      5            2   \n",
       "\n",
       "   campaign  previous  emp.var.rate  cons.price.idx  cons.conf.idx  euribor3m  \\\n",
       "0         1         0           1.1          93.994          -36.4      4.857   \n",
       "1         1         0           1.1          93.994          -36.4      4.857   \n",
       "2         1         0           1.1          93.994          -36.4      4.857   \n",
       "3         1         0           1.1          93.994          -36.4      4.857   \n",
       "4         1         0           1.1          93.994          -36.4      4.857   \n",
       "\n",
       "   nr.employed   y  \n",
       "0       5191.0  no  \n",
       "1       5191.0  no  \n",
       "2       5191.0  no  \n",
       "3       5191.0  no  \n",
       "4       5191.0  no  "
      ]
     },
     "execution_count": 224,
     "metadata": {},
     "output_type": "execute_result"
    }
   ],
   "source": [
    "data.head()"
   ]
  },
  {
   "cell_type": "code",
   "execution_count": 225,
   "metadata": {},
   "outputs": [
    {
     "data": {
      "text/plain": [
       "(41188, 17)"
      ]
     },
     "execution_count": 225,
     "metadata": {},
     "output_type": "execute_result"
    }
   ],
   "source": [
    "data.shape"
   ]
  },
  {
   "cell_type": "markdown",
   "metadata": {},
   "source": [
    "# Taxa de variação de emprego - Indicador trimestral"
   ]
  },
  {
   "cell_type": "code",
   "execution_count": 226,
   "metadata": {},
   "outputs": [
    {
     "data": {
      "text/plain": [
       "array([ 1.1,  1.4, -0.1, -0.2, -1.8, -2.9, -3.4, -3. , -1.7, -1.1])"
      ]
     },
     "execution_count": 226,
     "metadata": {},
     "output_type": "execute_result"
    }
   ],
   "source": [
    "data['emp.var.rate'].unique()"
   ]
  },
  {
   "cell_type": "markdown",
   "metadata": {},
   "source": [
    "- Qtd de cada instância"
   ]
  },
  {
   "cell_type": "code",
   "execution_count": 227,
   "metadata": {},
   "outputs": [
    {
     "data": {
      "text/plain": [
       " 1.4    16234\n",
       "-1.8     9184\n",
       " 1.1     7763\n",
       "-0.1     3683\n",
       "-2.9     1663\n",
       "-3.4     1071\n",
       "-1.7      773\n",
       "-1.1      635\n",
       "-3.0      172\n",
       "-0.2       10\n",
       "Name: emp.var.rate, dtype: int64"
      ]
     },
     "execution_count": 227,
     "metadata": {},
     "output_type": "execute_result"
    }
   ],
   "source": [
    "data['emp.var.rate'].value_counts()"
   ]
  },
  {
   "cell_type": "markdown",
   "metadata": {},
   "source": [
    "- Verificando valores faltantes"
   ]
  },
  {
   "cell_type": "code",
   "execution_count": 228,
   "metadata": {},
   "outputs": [
    {
     "data": {
      "text/plain": [
       "0"
      ]
     },
     "execution_count": 228,
     "metadata": {},
     "output_type": "execute_result"
    }
   ],
   "source": [
    "data['emp.var.rate'].isna().sum()"
   ]
  },
  {
   "cell_type": "code",
   "execution_count": 229,
   "metadata": {},
   "outputs": [],
   "source": [
    "data['emp.var.rate'].replace(-0.2, 1.4, inplace=True)"
   ]
  },
  {
   "cell_type": "code",
   "execution_count": 230,
   "metadata": {},
   "outputs": [
    {
     "data": {
      "text/plain": [
       " 1.4    16244\n",
       "-1.8     9184\n",
       " 1.1     7763\n",
       "-0.1     3683\n",
       "-2.9     1663\n",
       "-3.4     1071\n",
       "-1.7      773\n",
       "-1.1      635\n",
       "-3.0      172\n",
       "Name: emp.var.rate, dtype: int64"
      ]
     },
     "execution_count": 230,
     "metadata": {},
     "output_type": "execute_result"
    }
   ],
   "source": [
    "data['emp.var.rate'].value_counts()"
   ]
  },
  {
   "cell_type": "markdown",
   "metadata": {},
   "source": [
    "# Indice de preços ao consumidor - Indicador mensal"
   ]
  },
  {
   "cell_type": "code",
   "execution_count": 231,
   "metadata": {},
   "outputs": [
    {
     "data": {
      "text/plain": [
       "array([93.994, 94.465, 93.918, 93.444, 93.798, 93.2  , 92.756, 92.843,\n",
       "       93.075, 92.893, 92.963, 92.469, 92.201, 92.379, 92.431, 92.649,\n",
       "       92.713, 93.369, 93.749, 93.876, 94.055, 94.215, 94.027, 94.199,\n",
       "       94.601, 94.767])"
      ]
     },
     "execution_count": 231,
     "metadata": {},
     "output_type": "execute_result"
    }
   ],
   "source": [
    "data['cons.price.idx'].unique()"
   ]
  },
  {
   "cell_type": "markdown",
   "metadata": {},
   "source": [
    "- Qtd de cada instância"
   ]
  },
  {
   "cell_type": "code",
   "execution_count": 232,
   "metadata": {},
   "outputs": [
    {
     "data": {
      "text/plain": [
       "93.994    7763\n",
       "93.918    6685\n",
       "92.893    5794\n",
       "93.444    5175\n",
       "94.465    4374\n",
       "93.200    3616\n",
       "93.075    2458\n",
       "92.201     770\n",
       "92.963     715\n",
       "92.431     447\n",
       "92.649     357\n",
       "94.215     311\n",
       "94.199     303\n",
       "92.843     282\n",
       "92.379     267\n",
       "93.369     264\n",
       "94.027     233\n",
       "94.055     229\n",
       "93.876     212\n",
       "94.601     204\n",
       "92.469     178\n",
       "93.749     174\n",
       "92.713     172\n",
       "94.767     128\n",
       "93.798      67\n",
       "92.756      10\n",
       "Name: cons.price.idx, dtype: int64"
      ]
     },
     "execution_count": 232,
     "metadata": {},
     "output_type": "execute_result"
    }
   ],
   "source": [
    "data['cons.price.idx'].value_counts()"
   ]
  },
  {
   "cell_type": "markdown",
   "metadata": {},
   "source": [
    "- Verificando valores faltantes"
   ]
  },
  {
   "cell_type": "code",
   "execution_count": 233,
   "metadata": {},
   "outputs": [
    {
     "data": {
      "text/plain": [
       "0"
      ]
     },
     "execution_count": 233,
     "metadata": {},
     "output_type": "execute_result"
    }
   ],
   "source": [
    "data['cons.price.idx'].isna().sum()"
   ]
  },
  {
   "cell_type": "code",
   "execution_count": 234,
   "metadata": {},
   "outputs": [],
   "source": [
    "data['cons.price.idx'].replace(92.756, 93.994, inplace=True)"
   ]
  },
  {
   "cell_type": "code",
   "execution_count": 235,
   "metadata": {},
   "outputs": [
    {
     "data": {
      "text/plain": [
       "93.994    7773\n",
       "93.918    6685\n",
       "92.893    5794\n",
       "93.444    5175\n",
       "94.465    4374\n",
       "93.200    3616\n",
       "93.075    2458\n",
       "92.201     770\n",
       "92.963     715\n",
       "92.431     447\n",
       "92.649     357\n",
       "94.215     311\n",
       "94.199     303\n",
       "92.843     282\n",
       "92.379     267\n",
       "93.369     264\n",
       "94.027     233\n",
       "94.055     229\n",
       "93.876     212\n",
       "94.601     204\n",
       "92.469     178\n",
       "93.749     174\n",
       "92.713     172\n",
       "94.767     128\n",
       "93.798      67\n",
       "Name: cons.price.idx, dtype: int64"
      ]
     },
     "execution_count": 235,
     "metadata": {},
     "output_type": "execute_result"
    }
   ],
   "source": [
    "data['cons.price.idx'].value_counts()"
   ]
  },
  {
   "cell_type": "markdown",
   "metadata": {},
   "source": [
    "# Indice de confiança do consumidor - Indicador mensal"
   ]
  },
  {
   "cell_type": "code",
   "execution_count": 236,
   "metadata": {},
   "outputs": [
    {
     "data": {
      "text/plain": [
       "array([-36.4, -41.8, -42.7, -36.1, -40.4, -42. , -45.9, -50. , -47.1,\n",
       "       -46.2, -40.8, -33.6, -31.4, -29.8, -26.9, -30.1, -33. , -34.8,\n",
       "       -34.6, -40. , -39.8, -40.3, -38.3, -37.5, -49.5, -50.8])"
      ]
     },
     "execution_count": 236,
     "metadata": {},
     "output_type": "execute_result"
    }
   ],
   "source": [
    "data['cons.conf.idx'].unique()"
   ]
  },
  {
   "cell_type": "markdown",
   "metadata": {},
   "source": [
    "- Qtd de cada instância"
   ]
  },
  {
   "cell_type": "code",
   "execution_count": 237,
   "metadata": {},
   "outputs": [
    {
     "data": {
      "text/plain": [
       "-36.4    7763\n",
       "-42.7    6685\n",
       "-46.2    5794\n",
       "-36.1    5175\n",
       "-41.8    4374\n",
       "-42.0    3616\n",
       "-47.1    2458\n",
       "-31.4     770\n",
       "-40.8     715\n",
       "-26.9     447\n",
       "-30.1     357\n",
       "-40.3     311\n",
       "-37.5     303\n",
       "-50.0     282\n",
       "-29.8     267\n",
       "-34.8     264\n",
       "-38.3     233\n",
       "-39.8     229\n",
       "-40.0     212\n",
       "-49.5     204\n",
       "-33.6     178\n",
       "-34.6     174\n",
       "-33.0     172\n",
       "-50.8     128\n",
       "-40.4      67\n",
       "-45.9      10\n",
       "Name: cons.conf.idx, dtype: int64"
      ]
     },
     "execution_count": 237,
     "metadata": {},
     "output_type": "execute_result"
    }
   ],
   "source": [
    "data['cons.conf.idx'].value_counts()"
   ]
  },
  {
   "cell_type": "markdown",
   "metadata": {},
   "source": [
    "- Verificando valores faltantes"
   ]
  },
  {
   "cell_type": "code",
   "execution_count": 238,
   "metadata": {},
   "outputs": [
    {
     "data": {
      "text/plain": [
       "0"
      ]
     },
     "execution_count": 238,
     "metadata": {},
     "output_type": "execute_result"
    }
   ],
   "source": [
    "data['cons.conf.idx'].isna().sum()"
   ]
  },
  {
   "cell_type": "code",
   "execution_count": 239,
   "metadata": {},
   "outputs": [],
   "source": [
    "data['cons.conf.idx'].replace(-45.9, -36.4, inplace=True)"
   ]
  },
  {
   "cell_type": "code",
   "execution_count": 240,
   "metadata": {},
   "outputs": [
    {
     "data": {
      "text/plain": [
       "-36.4    7773\n",
       "-42.7    6685\n",
       "-46.2    5794\n",
       "-36.1    5175\n",
       "-41.8    4374\n",
       "-42.0    3616\n",
       "-47.1    2458\n",
       "-31.4     770\n",
       "-40.8     715\n",
       "-26.9     447\n",
       "-30.1     357\n",
       "-40.3     311\n",
       "-37.5     303\n",
       "-50.0     282\n",
       "-29.8     267\n",
       "-34.8     264\n",
       "-38.3     233\n",
       "-39.8     229\n",
       "-40.0     212\n",
       "-49.5     204\n",
       "-33.6     178\n",
       "-34.6     174\n",
       "-33.0     172\n",
       "-50.8     128\n",
       "-40.4      67\n",
       "Name: cons.conf.idx, dtype: int64"
      ]
     },
     "execution_count": 240,
     "metadata": {},
     "output_type": "execute_result"
    }
   ],
   "source": [
    "data['cons.conf.idx'].value_counts()"
   ]
  },
  {
   "cell_type": "markdown",
   "metadata": {},
   "source": [
    "# Euribor 3 meses\n",
    "- Euribor é a junção das palavras Euro Interbank Offered Rate. As taxas Euribor baseiam-se na média das taxas de juros praticadas em empréstimos interbancários em euros por cerca 25/40 bancos proeminentes europeus (o painel de Bancos). Para a determinação das taxas Euribor são excluídos 15 por cento tanto das percentagens mais altas como das percentagens mais baixas relatadas. Todos os dias úteis, às 11:00 horas Hora Central Europeia, as taxas de juro Euribor são divulgadas e transmitidas a todas as partes participantes e imprensa."
   ]
  },
  {
   "cell_type": "code",
   "execution_count": 241,
   "metadata": {},
   "outputs": [
    {
     "data": {
      "text/plain": [
       "array([4.857, 4.856, 4.855, 4.859, 4.86 , 4.858, 4.864, 4.865, 4.866,\n",
       "       4.967, 4.961, 4.959, 4.958, 4.96 , 4.962, 4.955, 4.947, 4.956,\n",
       "       4.966, 4.963, 4.957, 4.968, 4.97 , 4.965, 4.964, 5.045, 5.   ,\n",
       "       4.936, 4.921, 4.918, 4.912, 4.827, 4.794, 4.76 , 4.733, 4.7  ,\n",
       "       4.663, 4.592, 4.474, 4.406, 4.343, 4.286, 4.245, 4.223, 4.191,\n",
       "       4.153, 4.12 , 4.076, 4.021, 3.901, 3.879, 3.853, 3.816, 3.743,\n",
       "       3.669, 3.563, 3.488, 3.428, 3.329, 3.282, 3.053, 1.811, 1.799,\n",
       "       1.778, 1.757, 1.726, 1.703, 1.687, 1.663, 1.65 , 1.64 , 1.629,\n",
       "       1.614, 1.602, 1.584, 1.574, 1.56 , 1.556, 1.548, 1.538, 1.531,\n",
       "       1.52 , 1.51 , 1.498, 1.483, 1.479, 1.466, 1.453, 1.445, 1.435,\n",
       "       1.423, 1.415, 1.41 , 1.405, 1.406, 1.4  , 1.392, 1.384, 1.372,\n",
       "       1.365, 1.354, 1.344, 1.334, 1.327, 1.313, 1.299, 1.291, 1.281,\n",
       "       1.266, 1.25 , 1.244, 1.259, 1.264, 1.27 , 1.262, 1.26 , 1.268,\n",
       "       1.286, 1.252, 1.235, 1.224, 1.215, 1.206, 1.099, 1.085, 1.072,\n",
       "       1.059, 1.048, 1.044, 1.029, 1.018, 1.007, 0.996, 0.979, 0.969,\n",
       "       0.944, 0.937, 0.933, 0.927, 0.921, 0.914, 0.908, 0.903, 0.899,\n",
       "       0.884, 0.883, 0.881, 0.879, 0.873, 0.869, 0.861, 0.859, 0.854,\n",
       "       0.851, 0.849, 0.843, 0.838, 0.834, 0.829, 0.825, 0.821, 0.819,\n",
       "       0.813, 0.809, 0.803, 0.797, 0.788, 0.781, 0.778, 0.773, 0.771,\n",
       "       0.77 , 0.768, 0.766, 0.762, 0.755, 0.749, 0.743, 0.741, 0.739,\n",
       "       0.75 , 0.753, 0.754, 0.752, 0.744, 0.74 , 0.742, 0.737, 0.735,\n",
       "       0.733, 0.73 , 0.731, 0.728, 0.724, 0.722, 0.72 , 0.719, 0.716,\n",
       "       0.715, 0.714, 0.718, 0.721, 0.717, 0.712, 0.71 , 0.709, 0.708,\n",
       "       0.706, 0.707, 0.7  , 0.655, 0.654, 0.653, 0.652, 0.651, 0.65 ,\n",
       "       0.649, 0.646, 0.644, 0.643, 0.639, 0.637, 0.635, 0.636, 0.634,\n",
       "       0.638, 0.64 , 0.642, 0.645, 0.659, 0.663, 0.668, 0.672, 0.677,\n",
       "       0.682, 0.683, 0.684, 0.685, 0.688, 0.69 , 0.692, 0.695, 0.697,\n",
       "       0.699, 0.701, 0.702, 0.704, 0.711, 0.713, 0.723, 0.727, 0.729,\n",
       "       0.732, 0.748, 0.761, 0.767, 0.782, 0.79 , 0.793, 0.802, 0.81 ,\n",
       "       0.822, 0.827, 0.835, 0.84 , 0.846, 0.87 , 0.876, 0.885, 0.889,\n",
       "       0.893, 0.896, 0.898, 0.9  , 0.904, 0.905, 0.895, 0.894, 0.891,\n",
       "       0.89 , 0.888, 0.886, 0.882, 0.88 , 0.878, 0.877, 0.942, 0.953,\n",
       "       0.956, 0.959, 0.965, 0.972, 0.977, 0.982, 0.985, 0.987, 0.993,\n",
       "       1.   , 1.008, 1.016, 1.025, 1.032, 1.037, 1.043, 1.045, 1.047,\n",
       "       1.05 , 1.049, 1.046, 1.041, 1.04 , 1.039, 1.035, 1.03 , 1.031,\n",
       "       1.028])"
      ]
     },
     "execution_count": 241,
     "metadata": {},
     "output_type": "execute_result"
    }
   ],
   "source": [
    "data['euribor3m'].unique()"
   ]
  },
  {
   "cell_type": "markdown",
   "metadata": {},
   "source": [
    "- Verificando valores faltantes"
   ]
  },
  {
   "cell_type": "code",
   "execution_count": 243,
   "metadata": {},
   "outputs": [
    {
     "data": {
      "text/plain": [
       "0"
      ]
     },
     "execution_count": 243,
     "metadata": {},
     "output_type": "execute_result"
    }
   ],
   "source": [
    "data['euribor3m'].isna().sum()"
   ]
  },
  {
   "cell_type": "markdown",
   "metadata": {},
   "source": [
    "# Num. de empregados - Indicador trimestral"
   ]
  },
  {
   "cell_type": "code",
   "execution_count": 244,
   "metadata": {},
   "outputs": [
    {
     "data": {
      "text/plain": [
       "array([5191. , 5228.1, 5195.8, 5176.3, 5099.1, 5076.2, 5017.5, 5023.5,\n",
       "       5008.7, 4991.6, 4963.6])"
      ]
     },
     "execution_count": 244,
     "metadata": {},
     "output_type": "execute_result"
    }
   ],
   "source": [
    "data['nr.employed'].unique()"
   ]
  },
  {
   "cell_type": "markdown",
   "metadata": {},
   "source": [
    "- Qtd de cada instância"
   ]
  },
  {
   "cell_type": "code",
   "execution_count": 245,
   "metadata": {},
   "outputs": [
    {
     "data": {
      "text/plain": [
       "5228.1    16234\n",
       "5099.1     8534\n",
       "5191.0     7763\n",
       "5195.8     3683\n",
       "5076.2     1663\n",
       "5017.5     1071\n",
       "4991.6      773\n",
       "5008.7      650\n",
       "4963.6      635\n",
       "5023.5      172\n",
       "5176.3       10\n",
       "Name: nr.employed, dtype: int64"
      ]
     },
     "execution_count": 245,
     "metadata": {},
     "output_type": "execute_result"
    }
   ],
   "source": [
    "data['nr.employed'].value_counts()"
   ]
  },
  {
   "cell_type": "markdown",
   "metadata": {},
   "source": [
    "- Verificando valores faltantes"
   ]
  },
  {
   "cell_type": "code",
   "execution_count": 246,
   "metadata": {},
   "outputs": [
    {
     "data": {
      "text/plain": [
       "0"
      ]
     },
     "execution_count": 246,
     "metadata": {},
     "output_type": "execute_result"
    }
   ],
   "source": [
    "data['nr.employed'].isna().sum()"
   ]
  },
  {
   "cell_type": "code",
   "execution_count": 247,
   "metadata": {},
   "outputs": [],
   "source": [
    "data['nr.employed'].replace(5176.3, 5228.1, inplace=True)"
   ]
  },
  {
   "cell_type": "code",
   "execution_count": 248,
   "metadata": {},
   "outputs": [
    {
     "data": {
      "text/plain": [
       "5228.1    16244\n",
       "5099.1     8534\n",
       "5191.0     7763\n",
       "5195.8     3683\n",
       "5076.2     1663\n",
       "5017.5     1071\n",
       "4991.6      773\n",
       "5008.7      650\n",
       "4963.6      635\n",
       "5023.5      172\n",
       "Name: nr.employed, dtype: int64"
      ]
     },
     "execution_count": 248,
     "metadata": {},
     "output_type": "execute_result"
    }
   ],
   "source": [
    "data['nr.employed'].value_counts()"
   ]
  },
  {
   "cell_type": "markdown",
   "metadata": {},
   "source": [
    "# O cliente assinou depósito à prazo?"
   ]
  },
  {
   "cell_type": "code",
   "execution_count": 249,
   "metadata": {},
   "outputs": [
    {
     "data": {
      "text/plain": [
       "array(['no', 'yes'], dtype=object)"
      ]
     },
     "execution_count": 249,
     "metadata": {},
     "output_type": "execute_result"
    }
   ],
   "source": [
    "data['y'].unique()"
   ]
  },
  {
   "cell_type": "markdown",
   "metadata": {},
   "source": [
    "- Qtd de cada instância"
   ]
  },
  {
   "cell_type": "code",
   "execution_count": 250,
   "metadata": {},
   "outputs": [
    {
     "data": {
      "text/plain": [
       "no     36548\n",
       "yes     4640\n",
       "Name: y, dtype: int64"
      ]
     },
     "execution_count": 250,
     "metadata": {},
     "output_type": "execute_result"
    }
   ],
   "source": [
    "data['y'].value_counts()"
   ]
  },
  {
   "cell_type": "markdown",
   "metadata": {},
   "source": [
    "- Verificando valores faltantes"
   ]
  },
  {
   "cell_type": "code",
   "execution_count": 251,
   "metadata": {},
   "outputs": [
    {
     "data": {
      "text/plain": [
       "0"
      ]
     },
     "execution_count": 251,
     "metadata": {},
     "output_type": "execute_result"
    }
   ],
   "source": [
    "data['y'].isna().sum()"
   ]
  },
  {
   "cell_type": "code",
   "execution_count": 252,
   "metadata": {},
   "outputs": [],
   "source": [
    "y_map = {'yes':1, 'no':0}"
   ]
  },
  {
   "cell_type": "code",
   "execution_count": 253,
   "metadata": {},
   "outputs": [],
   "source": [
    "data['y'] = data['y'].map(y_map)"
   ]
  },
  {
   "cell_type": "code",
   "execution_count": 254,
   "metadata": {},
   "outputs": [
    {
     "data": {
      "text/html": [
       "<div>\n",
       "<style scoped>\n",
       "    .dataframe tbody tr th:only-of-type {\n",
       "        vertical-align: middle;\n",
       "    }\n",
       "\n",
       "    .dataframe tbody tr th {\n",
       "        vertical-align: top;\n",
       "    }\n",
       "\n",
       "    .dataframe thead th {\n",
       "        text-align: right;\n",
       "    }\n",
       "</style>\n",
       "<table border=\"1\" class=\"dataframe\">\n",
       "  <thead>\n",
       "    <tr style=\"text-align: right;\">\n",
       "      <th></th>\n",
       "      <th>age</th>\n",
       "      <th>job</th>\n",
       "      <th>marital</th>\n",
       "      <th>education</th>\n",
       "      <th>housing</th>\n",
       "      <th>loan</th>\n",
       "      <th>contact</th>\n",
       "      <th>month</th>\n",
       "      <th>day_of_week</th>\n",
       "      <th>campaign</th>\n",
       "      <th>previous</th>\n",
       "      <th>emp.var.rate</th>\n",
       "      <th>cons.price.idx</th>\n",
       "      <th>cons.conf.idx</th>\n",
       "      <th>euribor3m</th>\n",
       "      <th>nr.employed</th>\n",
       "      <th>y</th>\n",
       "    </tr>\n",
       "  </thead>\n",
       "  <tbody>\n",
       "    <tr>\n",
       "      <th>0</th>\n",
       "      <td>56</td>\n",
       "      <td>3.0</td>\n",
       "      <td>3.0</td>\n",
       "      <td>1.0</td>\n",
       "      <td>0.0</td>\n",
       "      <td>0.0</td>\n",
       "      <td>1</td>\n",
       "      <td>5</td>\n",
       "      <td>2</td>\n",
       "      <td>1</td>\n",
       "      <td>0</td>\n",
       "      <td>1.1</td>\n",
       "      <td>93.994</td>\n",
       "      <td>-36.4</td>\n",
       "      <td>4.857</td>\n",
       "      <td>5191.0</td>\n",
       "      <td>0</td>\n",
       "    </tr>\n",
       "    <tr>\n",
       "      <th>1</th>\n",
       "      <td>57</td>\n",
       "      <td>8.0</td>\n",
       "      <td>3.0</td>\n",
       "      <td>4.0</td>\n",
       "      <td>0.0</td>\n",
       "      <td>0.0</td>\n",
       "      <td>1</td>\n",
       "      <td>5</td>\n",
       "      <td>2</td>\n",
       "      <td>1</td>\n",
       "      <td>0</td>\n",
       "      <td>1.1</td>\n",
       "      <td>93.994</td>\n",
       "      <td>-36.4</td>\n",
       "      <td>4.857</td>\n",
       "      <td>5191.0</td>\n",
       "      <td>0</td>\n",
       "    </tr>\n",
       "    <tr>\n",
       "      <th>2</th>\n",
       "      <td>37</td>\n",
       "      <td>8.0</td>\n",
       "      <td>3.0</td>\n",
       "      <td>4.0</td>\n",
       "      <td>1.0</td>\n",
       "      <td>0.0</td>\n",
       "      <td>1</td>\n",
       "      <td>5</td>\n",
       "      <td>2</td>\n",
       "      <td>1</td>\n",
       "      <td>0</td>\n",
       "      <td>1.1</td>\n",
       "      <td>93.994</td>\n",
       "      <td>-36.4</td>\n",
       "      <td>4.857</td>\n",
       "      <td>5191.0</td>\n",
       "      <td>0</td>\n",
       "    </tr>\n",
       "    <tr>\n",
       "      <th>3</th>\n",
       "      <td>40</td>\n",
       "      <td>11.0</td>\n",
       "      <td>3.0</td>\n",
       "      <td>2.0</td>\n",
       "      <td>0.0</td>\n",
       "      <td>0.0</td>\n",
       "      <td>1</td>\n",
       "      <td>5</td>\n",
       "      <td>2</td>\n",
       "      <td>1</td>\n",
       "      <td>0</td>\n",
       "      <td>1.1</td>\n",
       "      <td>93.994</td>\n",
       "      <td>-36.4</td>\n",
       "      <td>4.857</td>\n",
       "      <td>5191.0</td>\n",
       "      <td>0</td>\n",
       "    </tr>\n",
       "    <tr>\n",
       "      <th>4</th>\n",
       "      <td>56</td>\n",
       "      <td>8.0</td>\n",
       "      <td>3.0</td>\n",
       "      <td>4.0</td>\n",
       "      <td>0.0</td>\n",
       "      <td>1.0</td>\n",
       "      <td>1</td>\n",
       "      <td>5</td>\n",
       "      <td>2</td>\n",
       "      <td>1</td>\n",
       "      <td>0</td>\n",
       "      <td>1.1</td>\n",
       "      <td>93.994</td>\n",
       "      <td>-36.4</td>\n",
       "      <td>4.857</td>\n",
       "      <td>5191.0</td>\n",
       "      <td>0</td>\n",
       "    </tr>\n",
       "  </tbody>\n",
       "</table>\n",
       "</div>"
      ],
      "text/plain": [
       "   age   job  marital  education  housing  loan  contact  month  day_of_week  \\\n",
       "0   56   3.0      3.0        1.0      0.0   0.0        1      5            2   \n",
       "1   57   8.0      3.0        4.0      0.0   0.0        1      5            2   \n",
       "2   37   8.0      3.0        4.0      1.0   0.0        1      5            2   \n",
       "3   40  11.0      3.0        2.0      0.0   0.0        1      5            2   \n",
       "4   56   8.0      3.0        4.0      0.0   1.0        1      5            2   \n",
       "\n",
       "   campaign  previous  emp.var.rate  cons.price.idx  cons.conf.idx  euribor3m  \\\n",
       "0         1         0           1.1          93.994          -36.4      4.857   \n",
       "1         1         0           1.1          93.994          -36.4      4.857   \n",
       "2         1         0           1.1          93.994          -36.4      4.857   \n",
       "3         1         0           1.1          93.994          -36.4      4.857   \n",
       "4         1         0           1.1          93.994          -36.4      4.857   \n",
       "\n",
       "   nr.employed  y  \n",
       "0       5191.0  0  \n",
       "1       5191.0  0  \n",
       "2       5191.0  0  \n",
       "3       5191.0  0  \n",
       "4       5191.0  0  "
      ]
     },
     "execution_count": 254,
     "metadata": {},
     "output_type": "execute_result"
    }
   ],
   "source": [
    "data.head()"
   ]
  },
  {
   "cell_type": "markdown",
   "metadata": {},
   "source": [
    "# Tratando os dados categóricos"
   ]
  },
  {
   "cell_type": "code",
   "execution_count": 255,
   "metadata": {},
   "outputs": [],
   "source": [
    "from sklearn.impute import SimpleImputer"
   ]
  },
  {
   "cell_type": "code",
   "execution_count": 256,
   "metadata": {},
   "outputs": [],
   "source": [
    "imputer = SimpleImputer(missing_values=np.nan, strategy='most_frequent')\n",
    "df = imputer.fit_transform(data)"
   ]
  },
  {
   "cell_type": "code",
   "execution_count": 257,
   "metadata": {},
   "outputs": [],
   "source": [
    "data_ = pd.DataFrame(df, columns=data.columns)"
   ]
  },
  {
   "cell_type": "code",
   "execution_count": 258,
   "metadata": {},
   "outputs": [
    {
     "data": {
      "text/html": [
       "<div>\n",
       "<style scoped>\n",
       "    .dataframe tbody tr th:only-of-type {\n",
       "        vertical-align: middle;\n",
       "    }\n",
       "\n",
       "    .dataframe tbody tr th {\n",
       "        vertical-align: top;\n",
       "    }\n",
       "\n",
       "    .dataframe thead th {\n",
       "        text-align: right;\n",
       "    }\n",
       "</style>\n",
       "<table border=\"1\" class=\"dataframe\">\n",
       "  <thead>\n",
       "    <tr style=\"text-align: right;\">\n",
       "      <th></th>\n",
       "      <th>age</th>\n",
       "      <th>job</th>\n",
       "      <th>marital</th>\n",
       "      <th>education</th>\n",
       "      <th>housing</th>\n",
       "      <th>loan</th>\n",
       "      <th>contact</th>\n",
       "      <th>month</th>\n",
       "      <th>day_of_week</th>\n",
       "      <th>campaign</th>\n",
       "      <th>previous</th>\n",
       "      <th>emp.var.rate</th>\n",
       "      <th>cons.price.idx</th>\n",
       "      <th>cons.conf.idx</th>\n",
       "      <th>euribor3m</th>\n",
       "      <th>nr.employed</th>\n",
       "      <th>y</th>\n",
       "    </tr>\n",
       "  </thead>\n",
       "  <tbody>\n",
       "    <tr>\n",
       "      <th>0</th>\n",
       "      <td>56.0</td>\n",
       "      <td>3.0</td>\n",
       "      <td>3.0</td>\n",
       "      <td>1.0</td>\n",
       "      <td>0.0</td>\n",
       "      <td>0.0</td>\n",
       "      <td>1.0</td>\n",
       "      <td>5.0</td>\n",
       "      <td>2.0</td>\n",
       "      <td>1.0</td>\n",
       "      <td>0.0</td>\n",
       "      <td>1.1</td>\n",
       "      <td>93.994</td>\n",
       "      <td>-36.4</td>\n",
       "      <td>4.857</td>\n",
       "      <td>5191.0</td>\n",
       "      <td>0.0</td>\n",
       "    </tr>\n",
       "    <tr>\n",
       "      <th>1</th>\n",
       "      <td>57.0</td>\n",
       "      <td>8.0</td>\n",
       "      <td>3.0</td>\n",
       "      <td>4.0</td>\n",
       "      <td>0.0</td>\n",
       "      <td>0.0</td>\n",
       "      <td>1.0</td>\n",
       "      <td>5.0</td>\n",
       "      <td>2.0</td>\n",
       "      <td>1.0</td>\n",
       "      <td>0.0</td>\n",
       "      <td>1.1</td>\n",
       "      <td>93.994</td>\n",
       "      <td>-36.4</td>\n",
       "      <td>4.857</td>\n",
       "      <td>5191.0</td>\n",
       "      <td>0.0</td>\n",
       "    </tr>\n",
       "    <tr>\n",
       "      <th>2</th>\n",
       "      <td>37.0</td>\n",
       "      <td>8.0</td>\n",
       "      <td>3.0</td>\n",
       "      <td>4.0</td>\n",
       "      <td>1.0</td>\n",
       "      <td>0.0</td>\n",
       "      <td>1.0</td>\n",
       "      <td>5.0</td>\n",
       "      <td>2.0</td>\n",
       "      <td>1.0</td>\n",
       "      <td>0.0</td>\n",
       "      <td>1.1</td>\n",
       "      <td>93.994</td>\n",
       "      <td>-36.4</td>\n",
       "      <td>4.857</td>\n",
       "      <td>5191.0</td>\n",
       "      <td>0.0</td>\n",
       "    </tr>\n",
       "    <tr>\n",
       "      <th>3</th>\n",
       "      <td>40.0</td>\n",
       "      <td>11.0</td>\n",
       "      <td>3.0</td>\n",
       "      <td>2.0</td>\n",
       "      <td>0.0</td>\n",
       "      <td>0.0</td>\n",
       "      <td>1.0</td>\n",
       "      <td>5.0</td>\n",
       "      <td>2.0</td>\n",
       "      <td>1.0</td>\n",
       "      <td>0.0</td>\n",
       "      <td>1.1</td>\n",
       "      <td>93.994</td>\n",
       "      <td>-36.4</td>\n",
       "      <td>4.857</td>\n",
       "      <td>5191.0</td>\n",
       "      <td>0.0</td>\n",
       "    </tr>\n",
       "    <tr>\n",
       "      <th>4</th>\n",
       "      <td>56.0</td>\n",
       "      <td>8.0</td>\n",
       "      <td>3.0</td>\n",
       "      <td>4.0</td>\n",
       "      <td>0.0</td>\n",
       "      <td>1.0</td>\n",
       "      <td>1.0</td>\n",
       "      <td>5.0</td>\n",
       "      <td>2.0</td>\n",
       "      <td>1.0</td>\n",
       "      <td>0.0</td>\n",
       "      <td>1.1</td>\n",
       "      <td>93.994</td>\n",
       "      <td>-36.4</td>\n",
       "      <td>4.857</td>\n",
       "      <td>5191.0</td>\n",
       "      <td>0.0</td>\n",
       "    </tr>\n",
       "  </tbody>\n",
       "</table>\n",
       "</div>"
      ],
      "text/plain": [
       "    age   job  marital  education  housing  loan  contact  month  day_of_week  \\\n",
       "0  56.0   3.0      3.0        1.0      0.0   0.0      1.0    5.0          2.0   \n",
       "1  57.0   8.0      3.0        4.0      0.0   0.0      1.0    5.0          2.0   \n",
       "2  37.0   8.0      3.0        4.0      1.0   0.0      1.0    5.0          2.0   \n",
       "3  40.0  11.0      3.0        2.0      0.0   0.0      1.0    5.0          2.0   \n",
       "4  56.0   8.0      3.0        4.0      0.0   1.0      1.0    5.0          2.0   \n",
       "\n",
       "   campaign  previous  emp.var.rate  cons.price.idx  cons.conf.idx  euribor3m  \\\n",
       "0       1.0       0.0           1.1          93.994          -36.4      4.857   \n",
       "1       1.0       0.0           1.1          93.994          -36.4      4.857   \n",
       "2       1.0       0.0           1.1          93.994          -36.4      4.857   \n",
       "3       1.0       0.0           1.1          93.994          -36.4      4.857   \n",
       "4       1.0       0.0           1.1          93.994          -36.4      4.857   \n",
       "\n",
       "   nr.employed    y  \n",
       "0       5191.0  0.0  \n",
       "1       5191.0  0.0  \n",
       "2       5191.0  0.0  \n",
       "3       5191.0  0.0  \n",
       "4       5191.0  0.0  "
      ]
     },
     "execution_count": 258,
     "metadata": {},
     "output_type": "execute_result"
    }
   ],
   "source": [
    "data_.head()"
   ]
  },
  {
   "cell_type": "markdown",
   "metadata": {},
   "source": [
    "# Mostrando gráficos"
   ]
  },
  {
   "cell_type": "code",
   "execution_count": 259,
   "metadata": {},
   "outputs": [],
   "source": [
    "import matplotlib.pyplot as plt\n",
    "import seaborn as sbn"
   ]
  },
  {
   "cell_type": "code",
   "execution_count": 260,
   "metadata": {},
   "outputs": [
    {
     "data": {
      "image/png": "[encoded data removed]",
      "text/plain": [
       "<Figure size 1440x1440 with 20 Axes>"
      ]
     },
     "metadata": {
      "needs_background": "light"
     },
     "output_type": "display_data"
    }
   ],
   "source": [
    "data_.hist(bins=50, figsize=(20,20));"
   ]
  },
  {
   "cell_type": "code",
   "execution_count": 261,
   "metadata": {},
   "outputs": [
    {
     "data": {
      "text/html": [
       "<style  type=\"text/css\" >\n",
       "    #T_b622dae4_75bb_11e9_af5d_b953fc5a2e1erow0_col0 {\n",
       "            background-color:  #023858;\n",
       "            color:  #f1f1f1;\n",
       "        }    #T_b622dae4_75bb_11e9_af5d_b953fc5a2e1erow0_col1 {\n",
       "            background-color:  #fff7fb;\n",
       "            color:  #000000;\n",
       "        }    #T_b622dae4_75bb_11e9_af5d_b953fc5a2e1erow0_col2 {\n",
       "            background-color:  #d9d8ea;\n",
       "            color:  #000000;\n",
       "        }    #T_b622dae4_75bb_11e9_af5d_b953fc5a2e1erow0_col3 {\n",
       "            background-color:  #fff7fb;\n",
       "            color:  #000000;\n",
       "        }    #T_b622dae4_75bb_11e9_af5d_b953fc5a2e1erow0_col4 {\n",
       "            background-color:  #f5eef6;\n",
       "            color:  #000000;\n",
       "        }    #T_b622dae4_75bb_11e9_af5d_b953fc5a2e1erow0_col5 {\n",
       "            background-color:  #fef6fb;\n",
       "            color:  #000000;\n",
       "        }    #T_b622dae4_75bb_11e9_af5d_b953fc5a2e1erow0_col6 {\n",
       "            background-color:  #a8bedc;\n",
       "            color:  #000000;\n",
       "        }    #T_b622dae4_75bb_11e9_af5d_b953fc5a2e1erow0_col7 {\n",
       "            background-color:  #dcdaeb;\n",
       "            color:  #000000;\n",
       "        }    #T_b622dae4_75bb_11e9_af5d_b953fc5a2e1erow0_col8 {\n",
       "            background-color:  #fff7fb;\n",
       "            color:  #000000;\n",
       "        }    #T_b622dae4_75bb_11e9_af5d_b953fc5a2e1erow0_col9 {\n",
       "            background-color:  #f4edf6;\n",
       "            color:  #000000;\n",
       "        }    #T_b622dae4_75bb_11e9_af5d_b953fc5a2e1erow0_col10 {\n",
       "            background-color:  #afc1dd;\n",
       "            color:  #000000;\n",
       "        }    #T_b622dae4_75bb_11e9_af5d_b953fc5a2e1erow0_col11 {\n",
       "            background-color:  #c0c9e2;\n",
       "            color:  #000000;\n",
       "        }    #T_b622dae4_75bb_11e9_af5d_b953fc5a2e1erow0_col12 {\n",
       "            background-color:  #a7bddb;\n",
       "            color:  #000000;\n",
       "        }    #T_b622dae4_75bb_11e9_af5d_b953fc5a2e1erow0_col13 {\n",
       "            background-color:  #bdc8e1;\n",
       "            color:  #000000;\n",
       "        }    #T_b622dae4_75bb_11e9_af5d_b953fc5a2e1erow0_col14 {\n",
       "            background-color:  #b8c6e0;\n",
       "            color:  #000000;\n",
       "        }    #T_b622dae4_75bb_11e9_af5d_b953fc5a2e1erow0_col15 {\n",
       "            background-color:  #b8c6e0;\n",
       "            color:  #000000;\n",
       "        }    #T_b622dae4_75bb_11e9_af5d_b953fc5a2e1erow0_col16 {\n",
       "            background-color:  #c5cce3;\n",
       "            color:  #000000;\n",
       "        }    #T_b622dae4_75bb_11e9_af5d_b953fc5a2e1erow1_col0 {\n",
       "            background-color:  #f7f0f7;\n",
       "            color:  #000000;\n",
       "        }    #T_b622dae4_75bb_11e9_af5d_b953fc5a2e1erow1_col1 {\n",
       "            background-color:  #023858;\n",
       "            color:  #f1f1f1;\n",
       "        }    #T_b622dae4_75bb_11e9_af5d_b953fc5a2e1erow1_col2 {\n",
       "            background-color:  #f0eaf4;\n",
       "            color:  #000000;\n",
       "        }    #T_b622dae4_75bb_11e9_af5d_b953fc5a2e1erow1_col3 {\n",
       "            background-color:  #e6e2ef;\n",
       "            color:  #000000;\n",
       "        }    #T_b622dae4_75bb_11e9_af5d_b953fc5a2e1erow1_col4 {\n",
       "            background-color:  #f5eef6;\n",
       "            color:  #000000;\n",
       "        }    #T_b622dae4_75bb_11e9_af5d_b953fc5a2e1erow1_col5 {\n",
       "            background-color:  #fbf4f9;\n",
       "            color:  #000000;\n",
       "        }    #T_b622dae4_75bb_11e9_af5d_b953fc5a2e1erow1_col6 {\n",
       "            background-color:  #a9bfdc;\n",
       "            color:  #000000;\n",
       "        }    #T_b622dae4_75bb_11e9_af5d_b953fc5a2e1erow1_col7 {\n",
       "            background-color:  #f2ecf5;\n",
       "            color:  #000000;\n",
       "        }    #T_b622dae4_75bb_11e9_af5d_b953fc5a2e1erow1_col8 {\n",
       "            background-color:  #fbf4f9;\n",
       "            color:  #000000;\n",
       "        }    #T_b622dae4_75bb_11e9_af5d_b953fc5a2e1erow1_col9 {\n",
       "            background-color:  #f2ecf5;\n",
       "            color:  #000000;\n",
       "        }    #T_b622dae4_75bb_11e9_af5d_b953fc5a2e1erow1_col10 {\n",
       "            background-color:  #c1cae2;\n",
       "            color:  #000000;\n",
       "        }    #T_b622dae4_75bb_11e9_af5d_b953fc5a2e1erow1_col11 {\n",
       "            background-color:  #adc1dd;\n",
       "            color:  #000000;\n",
       "        }    #T_b622dae4_75bb_11e9_af5d_b953fc5a2e1erow1_col12 {\n",
       "            background-color:  #9fbad9;\n",
       "            color:  #000000;\n",
       "        }    #T_b622dae4_75bb_11e9_af5d_b953fc5a2e1erow1_col13 {\n",
       "            background-color:  #e1dfed;\n",
       "            color:  #000000;\n",
       "        }    #T_b622dae4_75bb_11e9_af5d_b953fc5a2e1erow1_col14 {\n",
       "            background-color:  #a9bfdc;\n",
       "            color:  #000000;\n",
       "        }    #T_b622dae4_75bb_11e9_af5d_b953fc5a2e1erow1_col15 {\n",
       "            background-color:  #9ebad9;\n",
       "            color:  #000000;\n",
       "        }    #T_b622dae4_75bb_11e9_af5d_b953fc5a2e1erow1_col16 {\n",
       "            background-color:  #d7d6e9;\n",
       "            color:  #000000;\n",
       "        }    #T_b622dae4_75bb_11e9_af5d_b953fc5a2e1erow2_col0 {\n",
       "            background-color:  #d4d4e8;\n",
       "            color:  #000000;\n",
       "        }    #T_b622dae4_75bb_11e9_af5d_b953fc5a2e1erow2_col1 {\n",
       "            background-color:  #f2ecf5;\n",
       "            color:  #000000;\n",
       "        }    #T_b622dae4_75bb_11e9_af5d_b953fc5a2e1erow2_col2 {\n",
       "            background-color:  #023858;\n",
       "            color:  #f1f1f1;\n",
       "        }    #T_b622dae4_75bb_11e9_af5d_b953fc5a2e1erow2_col3 {\n",
       "            background-color:  #fbf3f9;\n",
       "            color:  #000000;\n",
       "        }    #T_b622dae4_75bb_11e9_af5d_b953fc5a2e1erow2_col4 {\n",
       "            background-color:  #f5eff6;\n",
       "            color:  #000000;\n",
       "        }    #T_b622dae4_75bb_11e9_af5d_b953fc5a2e1erow2_col5 {\n",
       "            background-color:  #fdf5fa;\n",
       "            color:  #000000;\n",
       "        }    #T_b622dae4_75bb_11e9_af5d_b953fc5a2e1erow2_col6 {\n",
       "            background-color:  #b0c2de;\n",
       "            color:  #000000;\n",
       "        }    #T_b622dae4_75bb_11e9_af5d_b953fc5a2e1erow2_col7 {\n",
       "            background-color:  #ebe6f2;\n",
       "            color:  #000000;\n",
       "        }    #T_b622dae4_75bb_11e9_af5d_b953fc5a2e1erow2_col8 {\n",
       "            background-color:  #fcf4fa;\n",
       "            color:  #000000;\n",
       "        }    #T_b622dae4_75bb_11e9_af5d_b953fc5a2e1erow2_col9 {\n",
       "            background-color:  #f4eef6;\n",
       "            color:  #000000;\n",
       "        }    #T_b622dae4_75bb_11e9_af5d_b953fc5a2e1erow2_col10 {\n",
       "            background-color:  #bbc7e0;\n",
       "            color:  #000000;\n",
       "        }    #T_b622dae4_75bb_11e9_af5d_b953fc5a2e1erow2_col11 {\n",
       "            background-color:  #b5c4df;\n",
       "            color:  #000000;\n",
       "        }    #T_b622dae4_75bb_11e9_af5d_b953fc5a2e1erow2_col12 {\n",
       "            background-color:  #a1bbda;\n",
       "            color:  #000000;\n",
       "        }    #T_b622dae4_75bb_11e9_af5d_b953fc5a2e1erow2_col13 {\n",
       "            background-color:  #d2d3e7;\n",
       "            color:  #000000;\n",
       "        }    #T_b622dae4_75bb_11e9_af5d_b953fc5a2e1erow2_col14 {\n",
       "            background-color:  #afc1dd;\n",
       "            color:  #000000;\n",
       "        }    #T_b622dae4_75bb_11e9_af5d_b953fc5a2e1erow2_col15 {\n",
       "            background-color:  #a9bfdc;\n",
       "            color:  #000000;\n",
       "        }    #T_b622dae4_75bb_11e9_af5d_b953fc5a2e1erow2_col16 {\n",
       "            background-color:  #d2d2e7;\n",
       "            color:  #000000;\n",
       "        }    #T_b622dae4_75bb_11e9_af5d_b953fc5a2e1erow3_col0 {\n",
       "            background-color:  #fff7fb;\n",
       "            color:  #000000;\n",
       "        }    #T_b622dae4_75bb_11e9_af5d_b953fc5a2e1erow3_col1 {\n",
       "            background-color:  #efe9f3;\n",
       "            color:  #000000;\n",
       "        }    #T_b622dae4_75bb_11e9_af5d_b953fc5a2e1erow3_col2 {\n",
       "            background-color:  #fff7fb;\n",
       "            color:  #000000;\n",
       "        }    #T_b622dae4_75bb_11e9_af5d_b953fc5a2e1erow3_col3 {\n",
       "            background-color:  #023858;\n",
       "            color:  #f1f1f1;\n",
       "        }    #T_b622dae4_75bb_11e9_af5d_b953fc5a2e1erow3_col4 {\n",
       "            background-color:  #f2ecf5;\n",
       "            color:  #000000;\n",
       "        }    #T_b622dae4_75bb_11e9_af5d_b953fc5a2e1erow3_col5 {\n",
       "            background-color:  #fcf4fa;\n",
       "            color:  #000000;\n",
       "        }    #T_b622dae4_75bb_11e9_af5d_b953fc5a2e1erow3_col6 {\n",
       "            background-color:  #8cb3d5;\n",
       "            color:  #000000;\n",
       "        }    #T_b622dae4_75bb_11e9_af5d_b953fc5a2e1erow3_col7 {\n",
       "            background-color:  #d3d4e7;\n",
       "            color:  #000000;\n",
       "        }    #T_b622dae4_75bb_11e9_af5d_b953fc5a2e1erow3_col8 {\n",
       "            background-color:  #fbf4f9;\n",
       "            color:  #000000;\n",
       "        }    #T_b622dae4_75bb_11e9_af5d_b953fc5a2e1erow3_col9 {\n",
       "            background-color:  #f4eef6;\n",
       "            color:  #000000;\n",
       "        }    #T_b622dae4_75bb_11e9_af5d_b953fc5a2e1erow3_col10 {\n",
       "            background-color:  #abbfdc;\n",
       "            color:  #000000;\n",
       "        }    #T_b622dae4_75bb_11e9_af5d_b953fc5a2e1erow3_col11 {\n",
       "            background-color:  #cccfe5;\n",
       "            color:  #000000;\n",
       "        }    #T_b622dae4_75bb_11e9_af5d_b953fc5a2e1erow3_col12 {\n",
       "            background-color:  #b9c6e0;\n",
       "            color:  #000000;\n",
       "        }    #T_b622dae4_75bb_11e9_af5d_b953fc5a2e1erow3_col13 {\n",
       "            background-color:  #ced0e6;\n",
       "            color:  #000000;\n",
       "        }    #T_b622dae4_75bb_11e9_af5d_b953fc5a2e1erow3_col14 {\n",
       "            background-color:  #c4cbe3;\n",
       "            color:  #000000;\n",
       "        }    #T_b622dae4_75bb_11e9_af5d_b953fc5a2e1erow3_col15 {\n",
       "            background-color:  #bdc8e1;\n",
       "            color:  #000000;\n",
       "        }    #T_b622dae4_75bb_11e9_af5d_b953fc5a2e1erow3_col16 {\n",
       "            background-color:  #bfc9e1;\n",
       "            color:  #000000;\n",
       "        }    #T_b622dae4_75bb_11e9_af5d_b953fc5a2e1erow4_col0 {\n",
       "            background-color:  #ebe6f2;\n",
       "            color:  #000000;\n",
       "        }    #T_b622dae4_75bb_11e9_af5d_b953fc5a2e1erow4_col1 {\n",
       "            background-color:  #f3edf5;\n",
       "            color:  #000000;\n",
       "        }    #T_b622dae4_75bb_11e9_af5d_b953fc5a2e1erow4_col2 {\n",
       "            background-color:  #f1ebf4;\n",
       "            color:  #000000;\n",
       "        }    #T_b622dae4_75bb_11e9_af5d_b953fc5a2e1erow4_col3 {\n",
       "            background-color:  #e7e3f0;\n",
       "            color:  #000000;\n",
       "        }    #T_b622dae4_75bb_11e9_af5d_b953fc5a2e1erow4_col4 {\n",
       "            background-color:  #023858;\n",
       "            color:  #f1f1f1;\n",
       "        }    #T_b622dae4_75bb_11e9_af5d_b953fc5a2e1erow4_col5 {\n",
       "            background-color:  #f8f1f8;\n",
       "            color:  #000000;\n",
       "        }    #T_b622dae4_75bb_11e9_af5d_b953fc5a2e1erow4_col6 {\n",
       "            background-color:  #94b6d7;\n",
       "            color:  #000000;\n",
       "        }    #T_b622dae4_75bb_11e9_af5d_b953fc5a2e1erow4_col7 {\n",
       "            background-color:  #e6e2ef;\n",
       "            color:  #000000;\n",
       "        }    #T_b622dae4_75bb_11e9_af5d_b953fc5a2e1erow4_col8 {\n",
       "            background-color:  #fef6fa;\n",
       "            color:  #000000;\n",
       "        }    #T_b622dae4_75bb_11e9_af5d_b953fc5a2e1erow4_col9 {\n",
       "            background-color:  #f5eff6;\n",
       "            color:  #000000;\n",
       "        }    #T_b622dae4_75bb_11e9_af5d_b953fc5a2e1erow4_col10 {\n",
       "            background-color:  #afc1dd;\n",
       "            color:  #000000;\n",
       "        }    #T_b622dae4_75bb_11e9_af5d_b953fc5a2e1erow4_col11 {\n",
       "            background-color:  #ced0e6;\n",
       "            color:  #000000;\n",
       "        }    #T_b622dae4_75bb_11e9_af5d_b953fc5a2e1erow4_col12 {\n",
       "            background-color:  #b8c6e0;\n",
       "            color:  #000000;\n",
       "        }    #T_b622dae4_75bb_11e9_af5d_b953fc5a2e1erow4_col13 {\n",
       "            background-color:  #e1dfed;\n",
       "            color:  #000000;\n",
       "        }    #T_b622dae4_75bb_11e9_af5d_b953fc5a2e1erow4_col14 {\n",
       "            background-color:  #c8cde4;\n",
       "            color:  #000000;\n",
       "        }    #T_b622dae4_75bb_11e9_af5d_b953fc5a2e1erow4_col15 {\n",
       "            background-color:  #bfc9e1;\n",
       "            color:  #000000;\n",
       "        }    #T_b622dae4_75bb_11e9_af5d_b953fc5a2e1erow4_col16 {\n",
       "            background-color:  #c9cee4;\n",
       "            color:  #000000;\n",
       "        }    #T_b622dae4_75bb_11e9_af5d_b953fc5a2e1erow5_col0 {\n",
       "            background-color:  #ede7f2;\n",
       "            color:  #000000;\n",
       "        }    #T_b622dae4_75bb_11e9_af5d_b953fc5a2e1erow5_col1 {\n",
       "            background-color:  #f1ebf4;\n",
       "            color:  #000000;\n",
       "        }    #T_b622dae4_75bb_11e9_af5d_b953fc5a2e1erow5_col2 {\n",
       "            background-color:  #efe9f3;\n",
       "            color:  #000000;\n",
       "        }    #T_b622dae4_75bb_11e9_af5d_b953fc5a2e1erow5_col3 {\n",
       "            background-color:  #e9e5f1;\n",
       "            color:  #000000;\n",
       "        }    #T_b622dae4_75bb_11e9_af5d_b953fc5a2e1erow5_col4 {\n",
       "            background-color:  #f0eaf4;\n",
       "            color:  #000000;\n",
       "        }    #T_b622dae4_75bb_11e9_af5d_b953fc5a2e1erow5_col5 {\n",
       "            background-color:  #023858;\n",
       "            color:  #f1f1f1;\n",
       "        }    #T_b622dae4_75bb_11e9_af5d_b953fc5a2e1erow5_col6 {\n",
       "            background-color:  #a4bcda;\n",
       "            color:  #000000;\n",
       "        }    #T_b622dae4_75bb_11e9_af5d_b953fc5a2e1erow5_col7 {\n",
       "            background-color:  #ece7f2;\n",
       "            color:  #000000;\n",
       "        }    #T_b622dae4_75bb_11e9_af5d_b953fc5a2e1erow5_col8 {\n",
       "            background-color:  #fcf4fa;\n",
       "            color:  #000000;\n",
       "        }    #T_b622dae4_75bb_11e9_af5d_b953fc5a2e1erow5_col9 {\n",
       "            background-color:  #f3edf5;\n",
       "            color:  #000000;\n",
       "        }    #T_b622dae4_75bb_11e9_af5d_b953fc5a2e1erow5_col10 {\n",
       "            background-color:  #b4c4df;\n",
       "            color:  #000000;\n",
       "        }    #T_b622dae4_75bb_11e9_af5d_b953fc5a2e1erow5_col11 {\n",
       "            background-color:  #c0c9e2;\n",
       "            color:  #000000;\n",
       "        }    #T_b622dae4_75bb_11e9_af5d_b953fc5a2e1erow5_col12 {\n",
       "            background-color:  #a8bedc;\n",
       "            color:  #000000;\n",
       "        }    #T_b622dae4_75bb_11e9_af5d_b953fc5a2e1erow5_col13 {\n",
       "            background-color:  #dedcec;\n",
       "            color:  #000000;\n",
       "        }    #T_b622dae4_75bb_11e9_af5d_b953fc5a2e1erow5_col14 {\n",
       "            background-color:  #bbc7e0;\n",
       "            color:  #000000;\n",
       "        }    #T_b622dae4_75bb_11e9_af5d_b953fc5a2e1erow5_col15 {\n",
       "            background-color:  #b3c3de;\n",
       "            color:  #000000;\n",
       "        }    #T_b622dae4_75bb_11e9_af5d_b953fc5a2e1erow5_col16 {\n",
       "            background-color:  #cdd0e5;\n",
       "            color:  #000000;\n",
       "        }    #T_b622dae4_75bb_11e9_af5d_b953fc5a2e1erow6_col0 {\n",
       "            background-color:  #ede7f2;\n",
       "            color:  #000000;\n",
       "        }    #T_b622dae4_75bb_11e9_af5d_b953fc5a2e1erow6_col1 {\n",
       "            background-color:  #f4edf6;\n",
       "            color:  #000000;\n",
       "        }    #T_b622dae4_75bb_11e9_af5d_b953fc5a2e1erow6_col2 {\n",
       "            background-color:  #f5eff6;\n",
       "            color:  #000000;\n",
       "        }    #T_b622dae4_75bb_11e9_af5d_b953fc5a2e1erow6_col3 {\n",
       "            background-color:  #d6d6e9;\n",
       "            color:  #000000;\n",
       "        }    #T_b622dae4_75bb_11e9_af5d_b953fc5a2e1erow6_col4 {\n",
       "            background-color:  #e8e4f0;\n",
       "            color:  #000000;\n",
       "        }    #T_b622dae4_75bb_11e9_af5d_b953fc5a2e1erow6_col5 {\n",
       "            background-color:  #fbf4f9;\n",
       "            color:  #000000;\n",
       "        }    #T_b622dae4_75bb_11e9_af5d_b953fc5a2e1erow6_col6 {\n",
       "            background-color:  #023858;\n",
       "            color:  #f1f1f1;\n",
       "        }    #T_b622dae4_75bb_11e9_af5d_b953fc5a2e1erow6_col7 {\n",
       "            background-color:  #97b7d7;\n",
       "            color:  #000000;\n",
       "        }    #T_b622dae4_75bb_11e9_af5d_b953fc5a2e1erow6_col8 {\n",
       "            background-color:  #fff7fb;\n",
       "            color:  #000000;\n",
       "        }    #T_b622dae4_75bb_11e9_af5d_b953fc5a2e1erow6_col9 {\n",
       "            background-color:  #fff7fb;\n",
       "            color:  #000000;\n",
       "        }    #T_b622dae4_75bb_11e9_af5d_b953fc5a2e1erow6_col10 {\n",
       "            background-color:  #7eadd1;\n",
       "            color:  #000000;\n",
       "        }    #T_b622dae4_75bb_11e9_af5d_b953fc5a2e1erow6_col11 {\n",
       "            background-color:  #fcf4fa;\n",
       "            color:  #000000;\n",
       "        }    #T_b622dae4_75bb_11e9_af5d_b953fc5a2e1erow6_col12 {\n",
       "            background-color:  #fff7fb;\n",
       "            color:  #000000;\n",
       "        }    #T_b622dae4_75bb_11e9_af5d_b953fc5a2e1erow6_col13 {\n",
       "            background-color:  #fff7fb;\n",
       "            color:  #000000;\n",
       "        }    #T_b622dae4_75bb_11e9_af5d_b953fc5a2e1erow6_col14 {\n",
       "            background-color:  #faf2f8;\n",
       "            color:  #000000;\n",
       "        }    #T_b622dae4_75bb_11e9_af5d_b953fc5a2e1erow6_col15 {\n",
       "            background-color:  #e6e2ef;\n",
       "            color:  #000000;\n",
       "        }    #T_b622dae4_75bb_11e9_af5d_b953fc5a2e1erow6_col16 {\n",
       "            background-color:  #a8bedc;\n",
       "            color:  #000000;\n",
       "        }    #T_b622dae4_75bb_11e9_af5d_b953fc5a2e1erow7_col0 {\n",
       "            background-color:  #dcdaeb;\n",
       "            color:  #000000;\n",
       "        }    #T_b622dae4_75bb_11e9_af5d_b953fc5a2e1erow7_col1 {\n",
       "            background-color:  #faf2f8;\n",
       "            color:  #000000;\n",
       "        }    #T_b622dae4_75bb_11e9_af5d_b953fc5a2e1erow7_col2 {\n",
       "            background-color:  #efe9f3;\n",
       "            color:  #000000;\n",
       "        }    #T_b622dae4_75bb_11e9_af5d_b953fc5a2e1erow7_col3 {\n",
       "            background-color:  #d2d3e7;\n",
       "            color:  #000000;\n",
       "        }    #T_b622dae4_75bb_11e9_af5d_b953fc5a2e1erow7_col4 {\n",
       "            background-color:  #f0eaf4;\n",
       "            color:  #000000;\n",
       "        }    #T_b622dae4_75bb_11e9_af5d_b953fc5a2e1erow7_col5 {\n",
       "            background-color:  #fef6fa;\n",
       "            color:  #000000;\n",
       "        }    #T_b622dae4_75bb_11e9_af5d_b953fc5a2e1erow7_col6 {\n",
       "            background-color:  #4e9ac6;\n",
       "            color:  #000000;\n",
       "        }    #T_b622dae4_75bb_11e9_af5d_b953fc5a2e1erow7_col7 {\n",
       "            background-color:  #023858;\n",
       "            color:  #f1f1f1;\n",
       "        }    #T_b622dae4_75bb_11e9_af5d_b953fc5a2e1erow7_col8 {\n",
       "            background-color:  #fdf5fa;\n",
       "            color:  #000000;\n",
       "        }    #T_b622dae4_75bb_11e9_af5d_b953fc5a2e1erow7_col9 {\n",
       "            background-color:  #f8f1f8;\n",
       "            color:  #000000;\n",
       "        }    #T_b622dae4_75bb_11e9_af5d_b953fc5a2e1erow7_col10 {\n",
       "            background-color:  #a5bddb;\n",
       "            color:  #000000;\n",
       "        }    #T_b622dae4_75bb_11e9_af5d_b953fc5a2e1erow7_col11 {\n",
       "            background-color:  #b3c3de;\n",
       "            color:  #000000;\n",
       "        }    #T_b622dae4_75bb_11e9_af5d_b953fc5a2e1erow7_col12 {\n",
       "            background-color:  #c6cce3;\n",
       "            color:  #000000;\n",
       "        }    #T_b622dae4_75bb_11e9_af5d_b953fc5a2e1erow7_col13 {\n",
       "            background-color:  #97b7d7;\n",
       "            color:  #000000;\n",
       "        }    #T_b622dae4_75bb_11e9_af5d_b953fc5a2e1erow7_col14 {\n",
       "            background-color:  #93b5d6;\n",
       "            color:  #000000;\n",
       "        }    #T_b622dae4_75bb_11e9_af5d_b953fc5a2e1erow7_col15 {\n",
       "            background-color:  #93b5d6;\n",
       "            color:  #000000;\n",
       "        }    #T_b622dae4_75bb_11e9_af5d_b953fc5a2e1erow7_col16 {\n",
       "            background-color:  #c2cbe2;\n",
       "            color:  #000000;\n",
       "        }    #T_b622dae4_75bb_11e9_af5d_b953fc5a2e1erow8_col0 {\n",
       "            background-color:  #eee8f3;\n",
       "            color:  #000000;\n",
       "        }    #T_b622dae4_75bb_11e9_af5d_b953fc5a2e1erow8_col1 {\n",
       "            background-color:  #f2ecf5;\n",
       "            color:  #000000;\n",
       "        }    #T_b622dae4_75bb_11e9_af5d_b953fc5a2e1erow8_col2 {\n",
       "            background-color:  #efe9f3;\n",
       "            color:  #000000;\n",
       "        }    #T_b622dae4_75bb_11e9_af5d_b953fc5a2e1erow8_col3 {\n",
       "            background-color:  #eae6f1;\n",
       "            color:  #000000;\n",
       "        }    #T_b622dae4_75bb_11e9_af5d_b953fc5a2e1erow8_col4 {\n",
       "            background-color:  #f5eff6;\n",
       "            color:  #000000;\n",
       "        }    #T_b622dae4_75bb_11e9_af5d_b953fc5a2e1erow8_col5 {\n",
       "            background-color:  #fdf5fa;\n",
       "            color:  #000000;\n",
       "        }    #T_b622dae4_75bb_11e9_af5d_b953fc5a2e1erow8_col6 {\n",
       "            background-color:  #abbfdc;\n",
       "            color:  #000000;\n",
       "        }    #T_b622dae4_75bb_11e9_af5d_b953fc5a2e1erow8_col7 {\n",
       "            background-color:  #ede7f2;\n",
       "            color:  #000000;\n",
       "        }    #T_b622dae4_75bb_11e9_af5d_b953fc5a2e1erow8_col8 {\n",
       "            background-color:  #023858;\n",
       "            color:  #f1f1f1;\n",
       "        }    #T_b622dae4_75bb_11e9_af5d_b953fc5a2e1erow8_col9 {\n",
       "            background-color:  #f2ecf5;\n",
       "            color:  #000000;\n",
       "        }    #T_b622dae4_75bb_11e9_af5d_b953fc5a2e1erow8_col10 {\n",
       "            background-color:  #b3c3de;\n",
       "            color:  #000000;\n",
       "        }    #T_b622dae4_75bb_11e9_af5d_b953fc5a2e1erow8_col11 {\n",
       "            background-color:  #c1cae2;\n",
       "            color:  #000000;\n",
       "        }    #T_b622dae4_75bb_11e9_af5d_b953fc5a2e1erow8_col12 {\n",
       "            background-color:  #a8bedc;\n",
       "            color:  #000000;\n",
       "        }    #T_b622dae4_75bb_11e9_af5d_b953fc5a2e1erow8_col13 {\n",
       "            background-color:  #dbdaeb;\n",
       "            color:  #000000;\n",
       "        }    #T_b622dae4_75bb_11e9_af5d_b953fc5a2e1erow8_col14 {\n",
       "            background-color:  #bcc7e1;\n",
       "            color:  #000000;\n",
       "        }    #T_b622dae4_75bb_11e9_af5d_b953fc5a2e1erow8_col15 {\n",
       "            background-color:  #b4c4df;\n",
       "            color:  #000000;\n",
       "        }    #T_b622dae4_75bb_11e9_af5d_b953fc5a2e1erow8_col16 {\n",
       "            background-color:  #cacee5;\n",
       "            color:  #000000;\n",
       "        }    #T_b622dae4_75bb_11e9_af5d_b953fc5a2e1erow9_col0 {\n",
       "            background-color:  #eae6f1;\n",
       "            color:  #000000;\n",
       "        }    #T_b622dae4_75bb_11e9_af5d_b953fc5a2e1erow9_col1 {\n",
       "            background-color:  #f1ebf4;\n",
       "            color:  #000000;\n",
       "        }    #T_b622dae4_75bb_11e9_af5d_b953fc5a2e1erow9_col2 {\n",
       "            background-color:  #f0eaf4;\n",
       "            color:  #000000;\n",
       "        }    #T_b622dae4_75bb_11e9_af5d_b953fc5a2e1erow9_col3 {\n",
       "            background-color:  #ebe6f2;\n",
       "            color:  #000000;\n",
       "        }    #T_b622dae4_75bb_11e9_af5d_b953fc5a2e1erow9_col4 {\n",
       "            background-color:  #f6eff7;\n",
       "            color:  #000000;\n",
       "        }    #T_b622dae4_75bb_11e9_af5d_b953fc5a2e1erow9_col5 {\n",
       "            background-color:  #fdf5fa;\n",
       "            color:  #000000;\n",
       "        }    #T_b622dae4_75bb_11e9_af5d_b953fc5a2e1erow9_col6 {\n",
       "            background-color:  #b8c6e0;\n",
       "            color:  #000000;\n",
       "        }    #T_b622dae4_75bb_11e9_af5d_b953fc5a2e1erow9_col7 {\n",
       "            background-color:  #f0eaf4;\n",
       "            color:  #000000;\n",
       "        }    #T_b622dae4_75bb_11e9_af5d_b953fc5a2e1erow9_col8 {\n",
       "            background-color:  #faf3f9;\n",
       "            color:  #000000;\n",
       "        }    #T_b622dae4_75bb_11e9_af5d_b953fc5a2e1erow9_col9 {\n",
       "            background-color:  #023858;\n",
       "            color:  #f1f1f1;\n",
       "        }    #T_b622dae4_75bb_11e9_af5d_b953fc5a2e1erow9_col10 {\n",
       "            background-color:  #c5cce3;\n",
       "            color:  #000000;\n",
       "        }    #T_b622dae4_75bb_11e9_af5d_b953fc5a2e1erow9_col11 {\n",
       "            background-color:  #9ab8d8;\n",
       "            color:  #000000;\n",
       "        }    #T_b622dae4_75bb_11e9_af5d_b953fc5a2e1erow9_col12 {\n",
       "            background-color:  #88b1d4;\n",
       "            color:  #000000;\n",
       "        }    #T_b622dae4_75bb_11e9_af5d_b953fc5a2e1erow9_col13 {\n",
       "            background-color:  #dedcec;\n",
       "            color:  #000000;\n",
       "        }    #T_b622dae4_75bb_11e9_af5d_b953fc5a2e1erow9_col14 {\n",
       "            background-color:  #99b8d8;\n",
       "            color:  #000000;\n",
       "        }    #T_b622dae4_75bb_11e9_af5d_b953fc5a2e1erow9_col15 {\n",
       "            background-color:  #8fb4d6;\n",
       "            color:  #000000;\n",
       "        }    #T_b622dae4_75bb_11e9_af5d_b953fc5a2e1erow9_col16 {\n",
       "            background-color:  #d9d8ea;\n",
       "            color:  #000000;\n",
       "        }    #T_b622dae4_75bb_11e9_af5d_b953fc5a2e1erow10_col0 {\n",
       "            background-color:  #e7e3f0;\n",
       "            color:  #000000;\n",
       "        }    #T_b622dae4_75bb_11e9_af5d_b953fc5a2e1erow10_col1 {\n",
       "            background-color:  #fbf3f9;\n",
       "            color:  #000000;\n",
       "        }    #T_b622dae4_75bb_11e9_af5d_b953fc5a2e1erow10_col2 {\n",
       "            background-color:  #f3edf5;\n",
       "            color:  #000000;\n",
       "        }    #T_b622dae4_75bb_11e9_af5d_b953fc5a2e1erow10_col3 {\n",
       "            background-color:  #e3e0ee;\n",
       "            color:  #000000;\n",
       "        }    #T_b622dae4_75bb_11e9_af5d_b953fc5a2e1erow10_col4 {\n",
       "            background-color:  #f1ebf5;\n",
       "            color:  #000000;\n",
       "        }    #T_b622dae4_75bb_11e9_af5d_b953fc5a2e1erow10_col5 {\n",
       "            background-color:  #fef6fa;\n",
       "            color:  #000000;\n",
       "        }    #T_b622dae4_75bb_11e9_af5d_b953fc5a2e1erow10_col6 {\n",
       "            background-color:  #71a8ce;\n",
       "            color:  #000000;\n",
       "        }    #T_b622dae4_75bb_11e9_af5d_b953fc5a2e1erow10_col7 {\n",
       "            background-color:  #e0dded;\n",
       "            color:  #000000;\n",
       "        }    #T_b622dae4_75bb_11e9_af5d_b953fc5a2e1erow10_col8 {\n",
       "            background-color:  #fcf4fa;\n",
       "            color:  #000000;\n",
       "        }    #T_b622dae4_75bb_11e9_af5d_b953fc5a2e1erow10_col9 {\n",
       "            background-color:  #fff7fb;\n",
       "            color:  #000000;\n",
       "        }    #T_b622dae4_75bb_11e9_af5d_b953fc5a2e1erow10_col10 {\n",
       "            background-color:  #023858;\n",
       "            color:  #f1f1f1;\n",
       "        }    #T_b622dae4_75bb_11e9_af5d_b953fc5a2e1erow10_col11 {\n",
       "            background-color:  #fff7fb;\n",
       "            color:  #000000;\n",
       "        }    #T_b622dae4_75bb_11e9_af5d_b953fc5a2e1erow10_col12 {\n",
       "            background-color:  #d2d3e7;\n",
       "            color:  #000000;\n",
       "        }    #T_b622dae4_75bb_11e9_af5d_b953fc5a2e1erow10_col13 {\n",
       "            background-color:  #e4e1ef;\n",
       "            color:  #000000;\n",
       "        }    #T_b622dae4_75bb_11e9_af5d_b953fc5a2e1erow10_col14 {\n",
       "            background-color:  #fff7fb;\n",
       "            color:  #000000;\n",
       "        }    #T_b622dae4_75bb_11e9_af5d_b953fc5a2e1erow10_col15 {\n",
       "            background-color:  #fff7fb;\n",
       "            color:  #000000;\n",
       "        }    #T_b622dae4_75bb_11e9_af5d_b953fc5a2e1erow10_col16 {\n",
       "            background-color:  #8fb4d6;\n",
       "            color:  #000000;\n",
       "        }    #T_b622dae4_75bb_11e9_af5d_b953fc5a2e1erow11_col0 {\n",
       "            background-color:  #ebe6f2;\n",
       "            color:  #000000;\n",
       "        }    #T_b622dae4_75bb_11e9_af5d_b953fc5a2e1erow11_col1 {\n",
       "            background-color:  #e5e1ef;\n",
       "            color:  #000000;\n",
       "        }    #T_b622dae4_75bb_11e9_af5d_b953fc5a2e1erow11_col2 {\n",
       "            background-color:  #e7e3f0;\n",
       "            color:  #000000;\n",
       "        }    #T_b622dae4_75bb_11e9_af5d_b953fc5a2e1erow11_col3 {\n",
       "            background-color:  #f2ecf5;\n",
       "            color:  #000000;\n",
       "        }    #T_b622dae4_75bb_11e9_af5d_b953fc5a2e1erow11_col4 {\n",
       "            background-color:  #fdf5fa;\n",
       "            color:  #000000;\n",
       "        }    #T_b622dae4_75bb_11e9_af5d_b953fc5a2e1erow11_col5 {\n",
       "            background-color:  #fdf5fa;\n",
       "            color:  #000000;\n",
       "        }    #T_b622dae4_75bb_11e9_af5d_b953fc5a2e1erow11_col6 {\n",
       "            background-color:  #ede7f2;\n",
       "            color:  #000000;\n",
       "        }    #T_b622dae4_75bb_11e9_af5d_b953fc5a2e1erow11_col7 {\n",
       "            background-color:  #e0dded;\n",
       "            color:  #000000;\n",
       "        }    #T_b622dae4_75bb_11e9_af5d_b953fc5a2e1erow11_col8 {\n",
       "            background-color:  #fdf5fa;\n",
       "            color:  #000000;\n",
       "        }    #T_b622dae4_75bb_11e9_af5d_b953fc5a2e1erow11_col9 {\n",
       "            background-color:  #d9d8ea;\n",
       "            color:  #000000;\n",
       "        }    #T_b622dae4_75bb_11e9_af5d_b953fc5a2e1erow11_col10 {\n",
       "            background-color:  #f7f0f7;\n",
       "            color:  #000000;\n",
       "        }    #T_b622dae4_75bb_11e9_af5d_b953fc5a2e1erow11_col11 {\n",
       "            background-color:  #023858;\n",
       "            color:  #f1f1f1;\n",
       "        }    #T_b622dae4_75bb_11e9_af5d_b953fc5a2e1erow11_col12 {\n",
       "            background-color:  #045d92;\n",
       "            color:  #f1f1f1;\n",
       "        }    #T_b622dae4_75bb_11e9_af5d_b953fc5a2e1erow11_col13 {\n",
       "            background-color:  #acc0dd;\n",
       "            color:  #000000;\n",
       "        }    #T_b622dae4_75bb_11e9_af5d_b953fc5a2e1erow11_col14 {\n",
       "            background-color:  #023c5f;\n",
       "            color:  #f1f1f1;\n",
       "        }    #T_b622dae4_75bb_11e9_af5d_b953fc5a2e1erow11_col15 {\n",
       "            background-color:  #034871;\n",
       "            color:  #f1f1f1;\n",
       "        }    #T_b622dae4_75bb_11e9_af5d_b953fc5a2e1erow11_col16 {\n",
       "            background-color:  #f9f2f8;\n",
       "            color:  #000000;\n",
       "        }    #T_b622dae4_75bb_11e9_af5d_b953fc5a2e1erow12_col0 {\n",
       "            background-color:  #ebe6f2;\n",
       "            color:  #000000;\n",
       "        }    #T_b622dae4_75bb_11e9_af5d_b953fc5a2e1erow12_col1 {\n",
       "            background-color:  #eee9f3;\n",
       "            color:  #000000;\n",
       "        }    #T_b622dae4_75bb_11e9_af5d_b953fc5a2e1erow12_col2 {\n",
       "            background-color:  #ece7f2;\n",
       "            color:  #000000;\n",
       "        }    #T_b622dae4_75bb_11e9_af5d_b953fc5a2e1erow12_col3 {\n",
       "            background-color:  #f7f0f7;\n",
       "            color:  #000000;\n",
       "        }    #T_b622dae4_75bb_11e9_af5d_b953fc5a2e1erow12_col4 {\n",
       "            background-color:  #fff7fb;\n",
       "            color:  #000000;\n",
       "        }    #T_b622dae4_75bb_11e9_af5d_b953fc5a2e1erow12_col5 {\n",
       "            background-color:  #fef6fb;\n",
       "            color:  #000000;\n",
       "        }    #T_b622dae4_75bb_11e9_af5d_b953fc5a2e1erow12_col6 {\n",
       "            background-color:  #fff7fb;\n",
       "            color:  #000000;\n",
       "        }    #T_b622dae4_75bb_11e9_af5d_b953fc5a2e1erow12_col7 {\n",
       "            background-color:  #fff7fb;\n",
       "            color:  #000000;\n",
       "        }    #T_b622dae4_75bb_11e9_af5d_b953fc5a2e1erow12_col8 {\n",
       "            background-color:  #fdf5fa;\n",
       "            color:  #000000;\n",
       "        }    #T_b622dae4_75bb_11e9_af5d_b953fc5a2e1erow12_col9 {\n",
       "            background-color:  #dddbec;\n",
       "            color:  #000000;\n",
       "        }    #T_b622dae4_75bb_11e9_af5d_b953fc5a2e1erow12_col10 {\n",
       "            background-color:  #dcdaeb;\n",
       "            color:  #000000;\n",
       "        }    #T_b622dae4_75bb_11e9_af5d_b953fc5a2e1erow12_col11 {\n",
       "            background-color:  #046096;\n",
       "            color:  #f1f1f1;\n",
       "        }    #T_b622dae4_75bb_11e9_af5d_b953fc5a2e1erow12_col12 {\n",
       "            background-color:  #023858;\n",
       "            color:  #f1f1f1;\n",
       "        }    #T_b622dae4_75bb_11e9_af5d_b953fc5a2e1erow12_col13 {\n",
       "            background-color:  #d1d2e6;\n",
       "            color:  #000000;\n",
       "        }    #T_b622dae4_75bb_11e9_af5d_b953fc5a2e1erow12_col14 {\n",
       "            background-color:  #0569a5;\n",
       "            color:  #f1f1f1;\n",
       "        }    #T_b622dae4_75bb_11e9_af5d_b953fc5a2e1erow12_col15 {\n",
       "            background-color:  #2081b9;\n",
       "            color:  #000000;\n",
       "        }    #T_b622dae4_75bb_11e9_af5d_b953fc5a2e1erow12_col16 {\n",
       "            background-color:  #e4e1ef;\n",
       "            color:  #000000;\n",
       "        }    #T_b622dae4_75bb_11e9_af5d_b953fc5a2e1erow13_col0 {\n",
       "            background-color:  #d2d2e7;\n",
       "            color:  #000000;\n",
       "        }    #T_b622dae4_75bb_11e9_af5d_b953fc5a2e1erow13_col1 {\n",
       "            background-color:  #f7f0f7;\n",
       "            color:  #000000;\n",
       "        }    #T_b622dae4_75bb_11e9_af5d_b953fc5a2e1erow13_col2 {\n",
       "            background-color:  #e7e3f0;\n",
       "            color:  #000000;\n",
       "        }    #T_b622dae4_75bb_11e9_af5d_b953fc5a2e1erow13_col3 {\n",
       "            background-color:  #dedcec;\n",
       "            color:  #000000;\n",
       "        }    #T_b622dae4_75bb_11e9_af5d_b953fc5a2e1erow13_col4 {\n",
       "            background-color:  #f9f2f8;\n",
       "            color:  #000000;\n",
       "        }    #T_b622dae4_75bb_11e9_af5d_b953fc5a2e1erow13_col5 {\n",
       "            background-color:  #fff7fb;\n",
       "            color:  #000000;\n",
       "        }    #T_b622dae4_75bb_11e9_af5d_b953fc5a2e1erow13_col6 {\n",
       "            background-color:  #d9d8ea;\n",
       "            color:  #000000;\n",
       "        }    #T_b622dae4_75bb_11e9_af5d_b953fc5a2e1erow13_col7 {\n",
       "            background-color:  #abbfdc;\n",
       "            color:  #000000;\n",
       "        }    #T_b622dae4_75bb_11e9_af5d_b953fc5a2e1erow13_col8 {\n",
       "            background-color:  #fdf5fa;\n",
       "            color:  #000000;\n",
       "        }    #T_b622dae4_75bb_11e9_af5d_b953fc5a2e1erow13_col9 {\n",
       "            background-color:  #f6eff7;\n",
       "            color:  #000000;\n",
       "        }    #T_b622dae4_75bb_11e9_af5d_b953fc5a2e1erow13_col10 {\n",
       "            background-color:  #bfc9e1;\n",
       "            color:  #000000;\n",
       "        }    #T_b622dae4_75bb_11e9_af5d_b953fc5a2e1erow13_col11 {\n",
       "            background-color:  #8eb3d5;\n",
       "            color:  #000000;\n",
       "        }    #T_b622dae4_75bb_11e9_af5d_b953fc5a2e1erow13_col12 {\n",
       "            background-color:  #99b8d8;\n",
       "            color:  #000000;\n",
       "        }    #T_b622dae4_75bb_11e9_af5d_b953fc5a2e1erow13_col13 {\n",
       "            background-color:  #023858;\n",
       "            color:  #f1f1f1;\n",
       "        }    #T_b622dae4_75bb_11e9_af5d_b953fc5a2e1erow13_col14 {\n",
       "            background-color:  #71a8ce;\n",
       "            color:  #000000;\n",
       "        }    #T_b622dae4_75bb_11e9_af5d_b953fc5a2e1erow13_col15 {\n",
       "            background-color:  #9cb9d9;\n",
       "            color:  #000000;\n",
       "        }    #T_b622dae4_75bb_11e9_af5d_b953fc5a2e1erow13_col16 {\n",
       "            background-color:  #bfc9e1;\n",
       "            color:  #000000;\n",
       "        }    #T_b622dae4_75bb_11e9_af5d_b953fc5a2e1erow14_col0 {\n",
       "            background-color:  #e9e5f1;\n",
       "            color:  #000000;\n",
       "        }    #T_b622dae4_75bb_11e9_af5d_b953fc5a2e1erow14_col1 {\n",
       "            background-color:  #e7e3f0;\n",
       "            color:  #000000;\n",
       "        }    #T_b622dae4_75bb_11e9_af5d_b953fc5a2e1erow14_col2 {\n",
       "            background-color:  #e6e2ef;\n",
       "            color:  #000000;\n",
       "        }    #T_b622dae4_75bb_11e9_af5d_b953fc5a2e1erow14_col3 {\n",
       "            background-color:  #f1ebf4;\n",
       "            color:  #000000;\n",
       "        }    #T_b622dae4_75bb_11e9_af5d_b953fc5a2e1erow14_col4 {\n",
       "            background-color:  #fdf5fa;\n",
       "            color:  #000000;\n",
       "        }    #T_b622dae4_75bb_11e9_af5d_b953fc5a2e1erow14_col5 {\n",
       "            background-color:  #fdf5fa;\n",
       "            color:  #000000;\n",
       "        }    #T_b622dae4_75bb_11e9_af5d_b953fc5a2e1erow14_col6 {\n",
       "            background-color:  #ede8f3;\n",
       "            color:  #000000;\n",
       "        }    #T_b622dae4_75bb_11e9_af5d_b953fc5a2e1erow14_col7 {\n",
       "            background-color:  #c9cee4;\n",
       "            color:  #000000;\n",
       "        }    #T_b622dae4_75bb_11e9_af5d_b953fc5a2e1erow14_col8 {\n",
       "            background-color:  #fdf5fa;\n",
       "            color:  #000000;\n",
       "        }    #T_b622dae4_75bb_11e9_af5d_b953fc5a2e1erow14_col9 {\n",
       "            background-color:  #dcdaeb;\n",
       "            color:  #000000;\n",
       "        }    #T_b622dae4_75bb_11e9_af5d_b953fc5a2e1erow14_col10 {\n",
       "            background-color:  #fbf3f9;\n",
       "            color:  #000000;\n",
       "        }    #T_b622dae4_75bb_11e9_af5d_b953fc5a2e1erow14_col11 {\n",
       "            background-color:  #023d60;\n",
       "            color:  #f1f1f1;\n",
       "        }    #T_b622dae4_75bb_11e9_af5d_b953fc5a2e1erow14_col12 {\n",
       "            background-color:  #0567a1;\n",
       "            color:  #f1f1f1;\n",
       "        }    #T_b622dae4_75bb_11e9_af5d_b953fc5a2e1erow14_col13 {\n",
       "            background-color:  #93b5d6;\n",
       "            color:  #000000;\n",
       "        }    #T_b622dae4_75bb_11e9_af5d_b953fc5a2e1erow14_col14 {\n",
       "            background-color:  #023858;\n",
       "            color:  #f1f1f1;\n",
       "        }    #T_b622dae4_75bb_11e9_af5d_b953fc5a2e1erow14_col15 {\n",
       "            background-color:  #034267;\n",
       "            color:  #f1f1f1;\n",
       "        }    #T_b622dae4_75bb_11e9_af5d_b953fc5a2e1erow14_col16 {\n",
       "            background-color:  #faf3f9;\n",
       "            color:  #000000;\n",
       "        }    #T_b622dae4_75bb_11e9_af5d_b953fc5a2e1erow15_col0 {\n",
       "            background-color:  #eee8f3;\n",
       "            color:  #000000;\n",
       "        }    #T_b622dae4_75bb_11e9_af5d_b953fc5a2e1erow15_col1 {\n",
       "            background-color:  #e3e0ee;\n",
       "            color:  #000000;\n",
       "        }    #T_b622dae4_75bb_11e9_af5d_b953fc5a2e1erow15_col2 {\n",
       "            background-color:  #e7e3f0;\n",
       "            color:  #000000;\n",
       "        }    #T_b622dae4_75bb_11e9_af5d_b953fc5a2e1erow15_col3 {\n",
       "            background-color:  #f1ebf4;\n",
       "            color:  #000000;\n",
       "        }    #T_b622dae4_75bb_11e9_af5d_b953fc5a2e1erow15_col4 {\n",
       "            background-color:  #fbf3f9;\n",
       "            color:  #000000;\n",
       "        }    #T_b622dae4_75bb_11e9_af5d_b953fc5a2e1erow15_col5 {\n",
       "            background-color:  #fdf5fa;\n",
       "            color:  #000000;\n",
       "        }    #T_b622dae4_75bb_11e9_af5d_b953fc5a2e1erow15_col6 {\n",
       "            background-color:  #dbdaeb;\n",
       "            color:  #000000;\n",
       "        }    #T_b622dae4_75bb_11e9_af5d_b953fc5a2e1erow15_col7 {\n",
       "            background-color:  #d2d2e7;\n",
       "            color:  #000000;\n",
       "        }    #T_b622dae4_75bb_11e9_af5d_b953fc5a2e1erow15_col8 {\n",
       "            background-color:  #fdf5fa;\n",
       "            color:  #000000;\n",
       "        }    #T_b622dae4_75bb_11e9_af5d_b953fc5a2e1erow15_col9 {\n",
       "            background-color:  #dad9ea;\n",
       "            color:  #000000;\n",
       "        }    #T_b622dae4_75bb_11e9_af5d_b953fc5a2e1erow15_col10 {\n",
       "            background-color:  #fff7fb;\n",
       "            color:  #000000;\n",
       "        }    #T_b622dae4_75bb_11e9_af5d_b953fc5a2e1erow15_col11 {\n",
       "            background-color:  #034973;\n",
       "            color:  #f1f1f1;\n",
       "        }    #T_b622dae4_75bb_11e9_af5d_b953fc5a2e1erow15_col12 {\n",
       "            background-color:  #187cb6;\n",
       "            color:  #000000;\n",
       "        }    #T_b622dae4_75bb_11e9_af5d_b953fc5a2e1erow15_col13 {\n",
       "            background-color:  #c5cce3;\n",
       "            color:  #000000;\n",
       "        }    #T_b622dae4_75bb_11e9_af5d_b953fc5a2e1erow15_col14 {\n",
       "            background-color:  #034267;\n",
       "            color:  #f1f1f1;\n",
       "        }    #T_b622dae4_75bb_11e9_af5d_b953fc5a2e1erow15_col15 {\n",
       "            background-color:  #023858;\n",
       "            color:  #f1f1f1;\n",
       "        }    #T_b622dae4_75bb_11e9_af5d_b953fc5a2e1erow15_col16 {\n",
       "            background-color:  #fff7fb;\n",
       "            color:  #000000;\n",
       "        }    #T_b622dae4_75bb_11e9_af5d_b953fc5a2e1erow16_col0 {\n",
       "            background-color:  #e5e1ef;\n",
       "            color:  #000000;\n",
       "        }    #T_b622dae4_75bb_11e9_af5d_b953fc5a2e1erow16_col1 {\n",
       "            background-color:  #fbf3f9;\n",
       "            color:  #000000;\n",
       "        }    #T_b622dae4_75bb_11e9_af5d_b953fc5a2e1erow16_col2 {\n",
       "            background-color:  #f2ecf5;\n",
       "            color:  #000000;\n",
       "        }    #T_b622dae4_75bb_11e9_af5d_b953fc5a2e1erow16_col3 {\n",
       "            background-color:  #e0deed;\n",
       "            color:  #000000;\n",
       "        }    #T_b622dae4_75bb_11e9_af5d_b953fc5a2e1erow16_col4 {\n",
       "            background-color:  #f3edf5;\n",
       "            color:  #000000;\n",
       "        }    #T_b622dae4_75bb_11e9_af5d_b953fc5a2e1erow16_col5 {\n",
       "            background-color:  #fef6fa;\n",
       "            color:  #000000;\n",
       "        }    #T_b622dae4_75bb_11e9_af5d_b953fc5a2e1erow16_col6 {\n",
       "            background-color:  #83afd3;\n",
       "            color:  #000000;\n",
       "        }    #T_b622dae4_75bb_11e9_af5d_b953fc5a2e1erow16_col7 {\n",
       "            background-color:  #e4e1ef;\n",
       "            color:  #000000;\n",
       "        }    #T_b622dae4_75bb_11e9_af5d_b953fc5a2e1erow16_col8 {\n",
       "            background-color:  #fbf3f9;\n",
       "            color:  #000000;\n",
       "        }    #T_b622dae4_75bb_11e9_af5d_b953fc5a2e1erow16_col9 {\n",
       "            background-color:  #fdf5fa;\n",
       "            color:  #000000;\n",
       "        }    #T_b622dae4_75bb_11e9_af5d_b953fc5a2e1erow16_col10 {\n",
       "            background-color:  #79abd0;\n",
       "            color:  #000000;\n",
       "        }    #T_b622dae4_75bb_11e9_af5d_b953fc5a2e1erow16_col11 {\n",
       "            background-color:  #f2ecf5;\n",
       "            color:  #000000;\n",
       "        }    #T_b622dae4_75bb_11e9_af5d_b953fc5a2e1erow16_col12 {\n",
       "            background-color:  #c4cbe3;\n",
       "            color:  #000000;\n",
       "        }    #T_b622dae4_75bb_11e9_af5d_b953fc5a2e1erow16_col13 {\n",
       "            background-color:  #d2d2e7;\n",
       "            color:  #000000;\n",
       "        }    #T_b622dae4_75bb_11e9_af5d_b953fc5a2e1erow16_col14 {\n",
       "            background-color:  #f0eaf4;\n",
       "            color:  #000000;\n",
       "        }    #T_b622dae4_75bb_11e9_af5d_b953fc5a2e1erow16_col15 {\n",
       "            background-color:  #f0eaf4;\n",
       "            color:  #000000;\n",
       "        }    #T_b622dae4_75bb_11e9_af5d_b953fc5a2e1erow16_col16 {\n",
       "            background-color:  #023858;\n",
       "            color:  #f1f1f1;\n",
       "        }</style><table id=\"T_b622dae4_75bb_11e9_af5d_b953fc5a2e1e\" ><thead>    <tr>        <th class=\"blank level0\" ></th>        <th class=\"col_heading level0 col0\" >age</th>        <th class=\"col_heading level0 col1\" >job</th>        <th class=\"col_heading level0 col2\" >marital</th>        <th class=\"col_heading level0 col3\" >education</th>        <th class=\"col_heading level0 col4\" >housing</th>        <th class=\"col_heading level0 col5\" >loan</th>        <th class=\"col_heading level0 col6\" >contact</th>        <th class=\"col_heading level0 col7\" >month</th>        <th class=\"col_heading level0 col8\" >day_of_week</th>        <th class=\"col_heading level0 col9\" >campaign</th>        <th class=\"col_heading level0 col10\" >previous</th>        <th class=\"col_heading level0 col11\" >emp.var.rate</th>        <th class=\"col_heading level0 col12\" >cons.price.idx</th>        <th class=\"col_heading level0 col13\" >cons.conf.idx</th>        <th class=\"col_heading level0 col14\" >euribor3m</th>        <th class=\"col_heading level0 col15\" >nr.employed</th>        <th class=\"col_heading level0 col16\" >y</th>    </tr></thead><tbody>\n",
       "                <tr>\n",
       "                        <th id=\"T_b622dae4_75bb_11e9_af5d_b953fc5a2e1elevel0_row0\" class=\"row_heading level0 row0\" >age</th>\n",
       "                        <td id=\"T_b622dae4_75bb_11e9_af5d_b953fc5a2e1erow0_col0\" class=\"data row0 col0\" >1</td>\n",
       "                        <td id=\"T_b622dae4_75bb_11e9_af5d_b953fc5a2e1erow0_col1\" class=\"data row0 col1\" >-0.091</td>\n",
       "                        <td id=\"T_b622dae4_75bb_11e9_af5d_b953fc5a2e1erow0_col2\" class=\"data row0 col2\" >0.12</td>\n",
       "                        <td id=\"T_b622dae4_75bb_11e9_af5d_b953fc5a2e1erow0_col3\" class=\"data row0 col3\" >-0.15</td>\n",
       "                        <td id=\"T_b622dae4_75bb_11e9_af5d_b953fc5a2e1erow0_col4\" class=\"data row0 col4\" >-0.0018</td>\n",
       "                        <td id=\"T_b622dae4_75bb_11e9_af5d_b953fc5a2e1erow0_col5\" class=\"data row0 col5\" >-0.0072</td>\n",
       "                        <td id=\"T_b622dae4_75bb_11e9_af5d_b953fc5a2e1erow0_col6\" class=\"data row0 col6\" >-0.007</td>\n",
       "                        <td id=\"T_b622dae4_75bb_11e9_af5d_b953fc5a2e1erow0_col7\" class=\"data row0 col7\" >0.077</td>\n",
       "                        <td id=\"T_b622dae4_75bb_11e9_af5d_b953fc5a2e1erow0_col8\" class=\"data row0 col8\" >-0.018</td>\n",
       "                        <td id=\"T_b622dae4_75bb_11e9_af5d_b953fc5a2e1erow0_col9\" class=\"data row0 col9\" >0.0046</td>\n",
       "                        <td id=\"T_b622dae4_75bb_11e9_af5d_b953fc5a2e1erow0_col10\" class=\"data row0 col10\" >0.022</td>\n",
       "                        <td id=\"T_b622dae4_75bb_11e9_af5d_b953fc5a2e1erow0_col11\" class=\"data row0 col11\" >-0.00032</td>\n",
       "                        <td id=\"T_b622dae4_75bb_11e9_af5d_b953fc5a2e1erow0_col12\" class=\"data row0 col12\" >0.00096</td>\n",
       "                        <td id=\"T_b622dae4_75bb_11e9_af5d_b953fc5a2e1erow0_col13\" class=\"data row0 col13\" >0.13</td>\n",
       "                        <td id=\"T_b622dae4_75bb_11e9_af5d_b953fc5a2e1erow0_col14\" class=\"data row0 col14\" >0.011</td>\n",
       "                        <td id=\"T_b622dae4_75bb_11e9_af5d_b953fc5a2e1erow0_col15\" class=\"data row0 col15\" >-0.018</td>\n",
       "                        <td id=\"T_b622dae4_75bb_11e9_af5d_b953fc5a2e1erow0_col16\" class=\"data row0 col16\" >0.03</td>\n",
       "            </tr>\n",
       "            <tr>\n",
       "                        <th id=\"T_b622dae4_75bb_11e9_af5d_b953fc5a2e1elevel0_row1\" class=\"row_heading level0 row1\" >job</th>\n",
       "                        <td id=\"T_b622dae4_75bb_11e9_af5d_b953fc5a2e1erow1_col0\" class=\"data row1 col0\" >-0.091</td>\n",
       "                        <td id=\"T_b622dae4_75bb_11e9_af5d_b953fc5a2e1erow1_col1\" class=\"data row1 col1\" >1</td>\n",
       "                        <td id=\"T_b622dae4_75bb_11e9_af5d_b953fc5a2e1erow1_col2\" class=\"data row1 col2\" >-8.6e-06</td>\n",
       "                        <td id=\"T_b622dae4_75bb_11e9_af5d_b953fc5a2e1erow1_col3\" class=\"data row1 col3\" >0.028</td>\n",
       "                        <td id=\"T_b622dae4_75bb_11e9_af5d_b953fc5a2e1erow1_col4\" class=\"data row1 col4\" >-0.0032</td>\n",
       "                        <td id=\"T_b622dae4_75bb_11e9_af5d_b953fc5a2e1erow1_col5\" class=\"data row1 col5\" >0.012</td>\n",
       "                        <td id=\"T_b622dae4_75bb_11e9_af5d_b953fc5a2e1erow1_col6\" class=\"data row1 col6\" >-0.0075</td>\n",
       "                        <td id=\"T_b622dae4_75bb_11e9_af5d_b953fc5a2e1erow1_col7\" class=\"data row1 col7\" >-0.049</td>\n",
       "                        <td id=\"T_b622dae4_75bb_11e9_af5d_b953fc5a2e1erow1_col8\" class=\"data row1 col8\" >0.0052</td>\n",
       "                        <td id=\"T_b622dae4_75bb_11e9_af5d_b953fc5a2e1erow1_col9\" class=\"data row1 col9\" >0.015</td>\n",
       "                        <td id=\"T_b622dae4_75bb_11e9_af5d_b953fc5a2e1erow1_col10\" class=\"data row1 col10\" >-0.057</td>\n",
       "                        <td id=\"T_b622dae4_75bb_11e9_af5d_b953fc5a2e1erow1_col11\" class=\"data row1 col11\" >0.081</td>\n",
       "                        <td id=\"T_b622dae4_75bb_11e9_af5d_b953fc5a2e1erow1_col12\" class=\"data row1 col12\" >0.03</td>\n",
       "                        <td id=\"T_b622dae4_75bb_11e9_af5d_b953fc5a2e1erow1_col13\" class=\"data row1 col13\" >-0.033</td>\n",
       "                        <td id=\"T_b622dae4_75bb_11e9_af5d_b953fc5a2e1erow1_col14\" class=\"data row1 col14\" >0.073</td>\n",
       "                        <td id=\"T_b622dae4_75bb_11e9_af5d_b953fc5a2e1erow1_col15\" class=\"data row1 col15\" >0.093</td>\n",
       "                        <td id=\"T_b622dae4_75bb_11e9_af5d_b953fc5a2e1erow1_col16\" class=\"data row1 col16\" >-0.058</td>\n",
       "            </tr>\n",
       "            <tr>\n",
       "                        <th id=\"T_b622dae4_75bb_11e9_af5d_b953fc5a2e1elevel0_row2\" class=\"row_heading level0 row2\" >marital</th>\n",
       "                        <td id=\"T_b622dae4_75bb_11e9_af5d_b953fc5a2e1erow2_col0\" class=\"data row2 col0\" >0.12</td>\n",
       "                        <td id=\"T_b622dae4_75bb_11e9_af5d_b953fc5a2e1erow2_col1\" class=\"data row2 col1\" >-8.6e-06</td>\n",
       "                        <td id=\"T_b622dae4_75bb_11e9_af5d_b953fc5a2e1erow2_col2\" class=\"data row2 col2\" >1</td>\n",
       "                        <td id=\"T_b622dae4_75bb_11e9_af5d_b953fc5a2e1erow2_col3\" class=\"data row2 col3\" >-0.12</td>\n",
       "                        <td id=\"T_b622dae4_75bb_11e9_af5d_b953fc5a2e1erow2_col4\" class=\"data row2 col4\" >-0.0085</td>\n",
       "                        <td id=\"T_b622dae4_75bb_11e9_af5d_b953fc5a2e1erow2_col5\" class=\"data row2 col5\" >0.0016</td>\n",
       "                        <td id=\"T_b622dae4_75bb_11e9_af5d_b953fc5a2e1erow2_col6\" class=\"data row2 col6\" >-0.044</td>\n",
       "                        <td id=\"T_b622dae4_75bb_11e9_af5d_b953fc5a2e1erow2_col7\" class=\"data row2 col7\" >0.0025</td>\n",
       "                        <td id=\"T_b622dae4_75bb_11e9_af5d_b953fc5a2e1erow2_col8\" class=\"data row2 col8\" >0.0043</td>\n",
       "                        <td id=\"T_b622dae4_75bb_11e9_af5d_b953fc5a2e1erow2_col9\" class=\"data row2 col9\" >-0.0004</td>\n",
       "                        <td id=\"T_b622dae4_75bb_11e9_af5d_b953fc5a2e1erow2_col10\" class=\"data row2 col10\" >-0.028</td>\n",
       "                        <td id=\"T_b622dae4_75bb_11e9_af5d_b953fc5a2e1erow2_col11\" class=\"data row2 col11\" >0.048</td>\n",
       "                        <td id=\"T_b622dae4_75bb_11e9_af5d_b953fc5a2e1erow2_col12\" class=\"data row2 col12\" >0.024</td>\n",
       "                        <td id=\"T_b622dae4_75bb_11e9_af5d_b953fc5a2e1erow2_col13\" class=\"data row2 col13\" >0.051</td>\n",
       "                        <td id=\"T_b622dae4_75bb_11e9_af5d_b953fc5a2e1erow2_col14\" class=\"data row2 col14\" >0.054</td>\n",
       "                        <td id=\"T_b622dae4_75bb_11e9_af5d_b953fc5a2e1erow2_col15\" class=\"data row2 col15\" >0.05</td>\n",
       "                        <td id=\"T_b622dae4_75bb_11e9_af5d_b953fc5a2e1erow2_col16\" class=\"data row2 col16\" >-0.026</td>\n",
       "            </tr>\n",
       "            <tr>\n",
       "                        <th id=\"T_b622dae4_75bb_11e9_af5d_b953fc5a2e1elevel0_row3\" class=\"row_heading level0 row3\" >education</th>\n",
       "                        <td id=\"T_b622dae4_75bb_11e9_af5d_b953fc5a2e1erow3_col0\" class=\"data row3 col0\" >-0.15</td>\n",
       "                        <td id=\"T_b622dae4_75bb_11e9_af5d_b953fc5a2e1erow3_col1\" class=\"data row3 col1\" >0.028</td>\n",
       "                        <td id=\"T_b622dae4_75bb_11e9_af5d_b953fc5a2e1erow3_col2\" class=\"data row3 col2\" >-0.12</td>\n",
       "                        <td id=\"T_b622dae4_75bb_11e9_af5d_b953fc5a2e1erow3_col3\" class=\"data row3 col3\" >1</td>\n",
       "                        <td id=\"T_b622dae4_75bb_11e9_af5d_b953fc5a2e1erow3_col4\" class=\"data row3 col4\" >0.016</td>\n",
       "                        <td id=\"T_b622dae4_75bb_11e9_af5d_b953fc5a2e1erow3_col5\" class=\"data row3 col5\" >0.0092</td>\n",
       "                        <td id=\"T_b622dae4_75bb_11e9_af5d_b953fc5a2e1erow3_col6\" class=\"data row3 col6\" >0.11</td>\n",
       "                        <td id=\"T_b622dae4_75bb_11e9_af5d_b953fc5a2e1erow3_col7\" class=\"data row3 col7\" >0.12</td>\n",
       "                        <td id=\"T_b622dae4_75bb_11e9_af5d_b953fc5a2e1erow3_col8\" class=\"data row3 col8\" >0.005</td>\n",
       "                        <td id=\"T_b622dae4_75bb_11e9_af5d_b953fc5a2e1erow3_col9\" class=\"data row3 col9\" >-0.00033</td>\n",
       "                        <td id=\"T_b622dae4_75bb_11e9_af5d_b953fc5a2e1erow3_col10\" class=\"data row3 col10\" >0.038</td>\n",
       "                        <td id=\"T_b622dae4_75bb_11e9_af5d_b953fc5a2e1erow3_col11\" class=\"data row3 col11\" >-0.048</td>\n",
       "                        <td id=\"T_b622dae4_75bb_11e9_af5d_b953fc5a2e1erow3_col12\" class=\"data row3 col12\" >-0.087</td>\n",
       "                        <td id=\"T_b622dae4_75bb_11e9_af5d_b953fc5a2e1erow3_col13\" class=\"data row3 col13\" >0.068</td>\n",
       "                        <td id=\"T_b622dae4_75bb_11e9_af5d_b953fc5a2e1erow3_col14\" class=\"data row3 col14\" >-0.04</td>\n",
       "                        <td id=\"T_b622dae4_75bb_11e9_af5d_b953fc5a2e1erow3_col15\" class=\"data row3 col15\" >-0.043</td>\n",
       "                        <td id=\"T_b622dae4_75bb_11e9_af5d_b953fc5a2e1erow3_col16\" class=\"data row3 col16\" >0.056</td>\n",
       "            </tr>\n",
       "            <tr>\n",
       "                        <th id=\"T_b622dae4_75bb_11e9_af5d_b953fc5a2e1elevel0_row4\" class=\"row_heading level0 row4\" >housing</th>\n",
       "                        <td id=\"T_b622dae4_75bb_11e9_af5d_b953fc5a2e1erow4_col0\" class=\"data row4 col0\" >-0.0018</td>\n",
       "                        <td id=\"T_b622dae4_75bb_11e9_af5d_b953fc5a2e1erow4_col1\" class=\"data row4 col1\" >-0.0032</td>\n",
       "                        <td id=\"T_b622dae4_75bb_11e9_af5d_b953fc5a2e1erow4_col2\" class=\"data row4 col2\" >-0.0085</td>\n",
       "                        <td id=\"T_b622dae4_75bb_11e9_af5d_b953fc5a2e1erow4_col3\" class=\"data row4 col3\" >0.016</td>\n",
       "                        <td id=\"T_b622dae4_75bb_11e9_af5d_b953fc5a2e1erow4_col4\" class=\"data row4 col4\" >1</td>\n",
       "                        <td id=\"T_b622dae4_75bb_11e9_af5d_b953fc5a2e1erow4_col5\" class=\"data row4 col5\" >0.036</td>\n",
       "                        <td id=\"T_b622dae4_75bb_11e9_af5d_b953fc5a2e1erow4_col6\" class=\"data row4 col6\" >0.078</td>\n",
       "                        <td id=\"T_b622dae4_75bb_11e9_af5d_b953fc5a2e1erow4_col7\" class=\"data row4 col7\" >0.03</td>\n",
       "                        <td id=\"T_b622dae4_75bb_11e9_af5d_b953fc5a2e1erow4_col8\" class=\"data row4 col8\" >-0.0085</td>\n",
       "                        <td id=\"T_b622dae4_75bb_11e9_af5d_b953fc5a2e1erow4_col9\" class=\"data row4 col9\" >-0.011</td>\n",
       "                        <td id=\"T_b622dae4_75bb_11e9_af5d_b953fc5a2e1erow4_col10\" class=\"data row4 col10\" >0.021</td>\n",
       "                        <td id=\"T_b622dae4_75bb_11e9_af5d_b953fc5a2e1erow4_col11\" class=\"data row4 col11\" >-0.059</td>\n",
       "                        <td id=\"T_b622dae4_75bb_11e9_af5d_b953fc5a2e1erow4_col12\" class=\"data row4 col12\" >-0.077</td>\n",
       "                        <td id=\"T_b622dae4_75bb_11e9_af5d_b953fc5a2e1erow4_col13\" class=\"data row4 col13\" >-0.032</td>\n",
       "                        <td id=\"T_b622dae4_75bb_11e9_af5d_b953fc5a2e1erow4_col14\" class=\"data row4 col14\" >-0.058</td>\n",
       "                        <td id=\"T_b622dae4_75bb_11e9_af5d_b953fc5a2e1erow4_col15\" class=\"data row4 col15\" >-0.045</td>\n",
       "                        <td id=\"T_b622dae4_75bb_11e9_af5d_b953fc5a2e1erow4_col16\" class=\"data row4 col16\" >0.011</td>\n",
       "            </tr>\n",
       "            <tr>\n",
       "                        <th id=\"T_b622dae4_75bb_11e9_af5d_b953fc5a2e1elevel0_row5\" class=\"row_heading level0 row5\" >loan</th>\n",
       "                        <td id=\"T_b622dae4_75bb_11e9_af5d_b953fc5a2e1erow5_col0\" class=\"data row5 col0\" >-0.0072</td>\n",
       "                        <td id=\"T_b622dae4_75bb_11e9_af5d_b953fc5a2e1erow5_col1\" class=\"data row5 col1\" >0.012</td>\n",
       "                        <td id=\"T_b622dae4_75bb_11e9_af5d_b953fc5a2e1erow5_col2\" class=\"data row5 col2\" >0.0016</td>\n",
       "                        <td id=\"T_b622dae4_75bb_11e9_af5d_b953fc5a2e1erow5_col3\" class=\"data row5 col3\" >0.0092</td>\n",
       "                        <td id=\"T_b622dae4_75bb_11e9_af5d_b953fc5a2e1erow5_col4\" class=\"data row5 col4\" >0.036</td>\n",
       "                        <td id=\"T_b622dae4_75bb_11e9_af5d_b953fc5a2e1erow5_col5\" class=\"data row5 col5\" >1</td>\n",
       "                        <td id=\"T_b622dae4_75bb_11e9_af5d_b953fc5a2e1erow5_col6\" class=\"data row5 col6\" >0.013</td>\n",
       "                        <td id=\"T_b622dae4_75bb_11e9_af5d_b953fc5a2e1erow5_col7\" class=\"data row5 col7\" >-0.0017</td>\n",
       "                        <td id=\"T_b622dae4_75bb_11e9_af5d_b953fc5a2e1erow5_col8\" class=\"data row5 col8\" >0.0018</td>\n",
       "                        <td id=\"T_b622dae4_75bb_11e9_af5d_b953fc5a2e1erow5_col9\" class=\"data row5 col9\" >0.0053</td>\n",
       "                        <td id=\"T_b622dae4_75bb_11e9_af5d_b953fc5a2e1erow5_col10\" class=\"data row5 col10\" >-0.0022</td>\n",
       "                        <td id=\"T_b622dae4_75bb_11e9_af5d_b953fc5a2e1erow5_col11\" class=\"data row5 col11\" >0.0014</td>\n",
       "                        <td id=\"T_b622dae4_75bb_11e9_af5d_b953fc5a2e1erow5_col12\" class=\"data row5 col12\" >-0.0056</td>\n",
       "                        <td id=\"T_b622dae4_75bb_11e9_af5d_b953fc5a2e1erow5_col13\" class=\"data row5 col13\" >-0.013</td>\n",
       "                        <td id=\"T_b622dae4_75bb_11e9_af5d_b953fc5a2e1erow5_col14\" class=\"data row5 col14\" >-0.00049</td>\n",
       "                        <td id=\"T_b622dae4_75bb_11e9_af5d_b953fc5a2e1erow5_col15\" class=\"data row5 col15\" >0.0043</td>\n",
       "                        <td id=\"T_b622dae4_75bb_11e9_af5d_b953fc5a2e1erow5_col16\" class=\"data row5 col16\" >-0.0045</td>\n",
       "            </tr>\n",
       "            <tr>\n",
       "                        <th id=\"T_b622dae4_75bb_11e9_af5d_b953fc5a2e1elevel0_row6\" class=\"row_heading level0 row6\" >contact</th>\n",
       "                        <td id=\"T_b622dae4_75bb_11e9_af5d_b953fc5a2e1erow6_col0\" class=\"data row6 col0\" >-0.007</td>\n",
       "                        <td id=\"T_b622dae4_75bb_11e9_af5d_b953fc5a2e1erow6_col1\" class=\"data row6 col1\" >-0.0075</td>\n",
       "                        <td id=\"T_b622dae4_75bb_11e9_af5d_b953fc5a2e1erow6_col2\" class=\"data row6 col2\" >-0.044</td>\n",
       "                        <td id=\"T_b622dae4_75bb_11e9_af5d_b953fc5a2e1erow6_col3\" class=\"data row6 col3\" >0.11</td>\n",
       "                        <td id=\"T_b622dae4_75bb_11e9_af5d_b953fc5a2e1erow6_col4\" class=\"data row6 col4\" >0.078</td>\n",
       "                        <td id=\"T_b622dae4_75bb_11e9_af5d_b953fc5a2e1erow6_col5\" class=\"data row6 col5\" >0.013</td>\n",
       "                        <td id=\"T_b622dae4_75bb_11e9_af5d_b953fc5a2e1erow6_col6\" class=\"data row6 col6\" >1</td>\n",
       "                        <td id=\"T_b622dae4_75bb_11e9_af5d_b953fc5a2e1erow6_col7\" class=\"data row6 col7\" >0.32</td>\n",
       "                        <td id=\"T_b622dae4_75bb_11e9_af5d_b953fc5a2e1erow6_col8\" class=\"data row6 col8\" >-0.02</td>\n",
       "                        <td id=\"T_b622dae4_75bb_11e9_af5d_b953fc5a2e1erow6_col9\" class=\"data row6 col9\" >-0.077</td>\n",
       "                        <td id=\"T_b622dae4_75bb_11e9_af5d_b953fc5a2e1erow6_col10\" class=\"data row6 col10\" >0.21</td>\n",
       "                        <td id=\"T_b622dae4_75bb_11e9_af5d_b953fc5a2e1erow6_col11\" class=\"data row6 col11\" >-0.39</td>\n",
       "                        <td id=\"T_b622dae4_75bb_11e9_af5d_b953fc5a2e1erow6_col12\" class=\"data row6 col12\" >-0.59</td>\n",
       "                        <td id=\"T_b622dae4_75bb_11e9_af5d_b953fc5a2e1erow6_col13\" class=\"data row6 col13\" >-0.25</td>\n",
       "                        <td id=\"T_b622dae4_75bb_11e9_af5d_b953fc5a2e1erow6_col14\" class=\"data row6 col14\" >-0.4</td>\n",
       "                        <td id=\"T_b622dae4_75bb_11e9_af5d_b953fc5a2e1erow6_col15\" class=\"data row6 col15\" >-0.27</td>\n",
       "                        <td id=\"T_b622dae4_75bb_11e9_af5d_b953fc5a2e1erow6_col16\" class=\"data row6 col16\" >0.14</td>\n",
       "            </tr>\n",
       "            <tr>\n",
       "                        <th id=\"T_b622dae4_75bb_11e9_af5d_b953fc5a2e1elevel0_row7\" class=\"row_heading level0 row7\" >month</th>\n",
       "                        <td id=\"T_b622dae4_75bb_11e9_af5d_b953fc5a2e1erow7_col0\" class=\"data row7 col0\" >0.077</td>\n",
       "                        <td id=\"T_b622dae4_75bb_11e9_af5d_b953fc5a2e1erow7_col1\" class=\"data row7 col1\" >-0.049</td>\n",
       "                        <td id=\"T_b622dae4_75bb_11e9_af5d_b953fc5a2e1erow7_col2\" class=\"data row7 col2\" >0.0025</td>\n",
       "                        <td id=\"T_b622dae4_75bb_11e9_af5d_b953fc5a2e1erow7_col3\" class=\"data row7 col3\" >0.12</td>\n",
       "                        <td id=\"T_b622dae4_75bb_11e9_af5d_b953fc5a2e1erow7_col4\" class=\"data row7 col4\" >0.03</td>\n",
       "                        <td id=\"T_b622dae4_75bb_11e9_af5d_b953fc5a2e1erow7_col5\" class=\"data row7 col5\" >-0.0017</td>\n",
       "                        <td id=\"T_b622dae4_75bb_11e9_af5d_b953fc5a2e1erow7_col6\" class=\"data row7 col6\" >0.32</td>\n",
       "                        <td id=\"T_b622dae4_75bb_11e9_af5d_b953fc5a2e1erow7_col7\" class=\"data row7 col7\" >1</td>\n",
       "                        <td id=\"T_b622dae4_75bb_11e9_af5d_b953fc5a2e1erow7_col8\" class=\"data row7 col8\" >-0.007</td>\n",
       "                        <td id=\"T_b622dae4_75bb_11e9_af5d_b953fc5a2e1erow7_col9\" class=\"data row7 col9\" >-0.031</td>\n",
       "                        <td id=\"T_b622dae4_75bb_11e9_af5d_b953fc5a2e1erow7_col10\" class=\"data row7 col10\" >0.062</td>\n",
       "                        <td id=\"T_b622dae4_75bb_11e9_af5d_b953fc5a2e1erow7_col11\" class=\"data row7 col11\" >0.06</td>\n",
       "                        <td id=\"T_b622dae4_75bb_11e9_af5d_b953fc5a2e1erow7_col12\" class=\"data row7 col12\" >-0.15</td>\n",
       "                        <td id=\"T_b622dae4_75bb_11e9_af5d_b953fc5a2e1erow7_col13\" class=\"data row7 col13\" >0.27</td>\n",
       "                        <td id=\"T_b622dae4_75bb_11e9_af5d_b953fc5a2e1erow7_col14\" class=\"data row7 col14\" >0.16</td>\n",
       "                        <td id=\"T_b622dae4_75bb_11e9_af5d_b953fc5a2e1erow7_col15\" class=\"data row7 col15\" >0.13</td>\n",
       "                        <td id=\"T_b622dae4_75bb_11e9_af5d_b953fc5a2e1erow7_col16\" class=\"data row7 col16\" >0.037</td>\n",
       "            </tr>\n",
       "            <tr>\n",
       "                        <th id=\"T_b622dae4_75bb_11e9_af5d_b953fc5a2e1elevel0_row8\" class=\"row_heading level0 row8\" >day_of_week</th>\n",
       "                        <td id=\"T_b622dae4_75bb_11e9_af5d_b953fc5a2e1erow8_col0\" class=\"data row8 col0\" >-0.018</td>\n",
       "                        <td id=\"T_b622dae4_75bb_11e9_af5d_b953fc5a2e1erow8_col1\" class=\"data row8 col1\" >0.0052</td>\n",
       "                        <td id=\"T_b622dae4_75bb_11e9_af5d_b953fc5a2e1erow8_col2\" class=\"data row8 col2\" >0.0043</td>\n",
       "                        <td id=\"T_b622dae4_75bb_11e9_af5d_b953fc5a2e1erow8_col3\" class=\"data row8 col3\" >0.005</td>\n",
       "                        <td id=\"T_b622dae4_75bb_11e9_af5d_b953fc5a2e1erow8_col4\" class=\"data row8 col4\" >-0.0085</td>\n",
       "                        <td id=\"T_b622dae4_75bb_11e9_af5d_b953fc5a2e1erow8_col5\" class=\"data row8 col5\" >0.0018</td>\n",
       "                        <td id=\"T_b622dae4_75bb_11e9_af5d_b953fc5a2e1erow8_col6\" class=\"data row8 col6\" >-0.02</td>\n",
       "                        <td id=\"T_b622dae4_75bb_11e9_af5d_b953fc5a2e1erow8_col7\" class=\"data row8 col7\" >-0.007</td>\n",
       "                        <td id=\"T_b622dae4_75bb_11e9_af5d_b953fc5a2e1erow8_col8\" class=\"data row8 col8\" >1</td>\n",
       "                        <td id=\"T_b622dae4_75bb_11e9_af5d_b953fc5a2e1erow8_col9\" class=\"data row8 col9\" >0.015</td>\n",
       "                        <td id=\"T_b622dae4_75bb_11e9_af5d_b953fc5a2e1erow8_col10\" class=\"data row8 col10\" >0.0039</td>\n",
       "                        <td id=\"T_b622dae4_75bb_11e9_af5d_b953fc5a2e1erow8_col11\" class=\"data row8 col11\" >-0.0044</td>\n",
       "                        <td id=\"T_b622dae4_75bb_11e9_af5d_b953fc5a2e1erow8_col12\" class=\"data row8 col12\" >-0.0045</td>\n",
       "                        <td id=\"T_b622dae4_75bb_11e9_af5d_b953fc5a2e1erow8_col13\" class=\"data row8 col13\" >-5.7e-05</td>\n",
       "                        <td id=\"T_b622dae4_75bb_11e9_af5d_b953fc5a2e1erow8_col14\" class=\"data row8 col14\" >-0.0056</td>\n",
       "                        <td id=\"T_b622dae4_75bb_11e9_af5d_b953fc5a2e1erow8_col15\" class=\"data row8 col15\" >-0.00072</td>\n",
       "                        <td id=\"T_b622dae4_75bb_11e9_af5d_b953fc5a2e1erow8_col16\" class=\"data row8 col16\" >0.01</td>\n",
       "            </tr>\n",
       "            <tr>\n",
       "                        <th id=\"T_b622dae4_75bb_11e9_af5d_b953fc5a2e1elevel0_row9\" class=\"row_heading level0 row9\" >campaign</th>\n",
       "                        <td id=\"T_b622dae4_75bb_11e9_af5d_b953fc5a2e1erow9_col0\" class=\"data row9 col0\" >0.0046</td>\n",
       "                        <td id=\"T_b622dae4_75bb_11e9_af5d_b953fc5a2e1erow9_col1\" class=\"data row9 col1\" >0.015</td>\n",
       "                        <td id=\"T_b622dae4_75bb_11e9_af5d_b953fc5a2e1erow9_col2\" class=\"data row9 col2\" >-0.0004</td>\n",
       "                        <td id=\"T_b622dae4_75bb_11e9_af5d_b953fc5a2e1erow9_col3\" class=\"data row9 col3\" >-0.00033</td>\n",
       "                        <td id=\"T_b622dae4_75bb_11e9_af5d_b953fc5a2e1erow9_col4\" class=\"data row9 col4\" >-0.011</td>\n",
       "                        <td id=\"T_b622dae4_75bb_11e9_af5d_b953fc5a2e1erow9_col5\" class=\"data row9 col5\" >0.0053</td>\n",
       "                        <td id=\"T_b622dae4_75bb_11e9_af5d_b953fc5a2e1erow9_col6\" class=\"data row9 col6\" >-0.077</td>\n",
       "                        <td id=\"T_b622dae4_75bb_11e9_af5d_b953fc5a2e1erow9_col7\" class=\"data row9 col7\" >-0.031</td>\n",
       "                        <td id=\"T_b622dae4_75bb_11e9_af5d_b953fc5a2e1erow9_col8\" class=\"data row9 col8\" >0.015</td>\n",
       "                        <td id=\"T_b622dae4_75bb_11e9_af5d_b953fc5a2e1erow9_col9\" class=\"data row9 col9\" >1</td>\n",
       "                        <td id=\"T_b622dae4_75bb_11e9_af5d_b953fc5a2e1erow9_col10\" class=\"data row9 col10\" >-0.079</td>\n",
       "                        <td id=\"T_b622dae4_75bb_11e9_af5d_b953fc5a2e1erow9_col11\" class=\"data row9 col11\" >0.15</td>\n",
       "                        <td id=\"T_b622dae4_75bb_11e9_af5d_b953fc5a2e1erow9_col12\" class=\"data row9 col12\" >0.13</td>\n",
       "                        <td id=\"T_b622dae4_75bb_11e9_af5d_b953fc5a2e1erow9_col13\" class=\"data row9 col13\" >-0.014</td>\n",
       "                        <td id=\"T_b622dae4_75bb_11e9_af5d_b953fc5a2e1erow9_col14\" class=\"data row9 col14\" >0.14</td>\n",
       "                        <td id=\"T_b622dae4_75bb_11e9_af5d_b953fc5a2e1erow9_col15\" class=\"data row9 col15\" >0.14</td>\n",
       "                        <td id=\"T_b622dae4_75bb_11e9_af5d_b953fc5a2e1erow9_col16\" class=\"data row9 col16\" >-0.066</td>\n",
       "            </tr>\n",
       "            <tr>\n",
       "                        <th id=\"T_b622dae4_75bb_11e9_af5d_b953fc5a2e1elevel0_row10\" class=\"row_heading level0 row10\" >previous</th>\n",
       "                        <td id=\"T_b622dae4_75bb_11e9_af5d_b953fc5a2e1erow10_col0\" class=\"data row10 col0\" >0.022</td>\n",
       "                        <td id=\"T_b622dae4_75bb_11e9_af5d_b953fc5a2e1erow10_col1\" class=\"data row10 col1\" >-0.057</td>\n",
       "                        <td id=\"T_b622dae4_75bb_11e9_af5d_b953fc5a2e1erow10_col2\" class=\"data row10 col2\" >-0.028</td>\n",
       "                        <td id=\"T_b622dae4_75bb_11e9_af5d_b953fc5a2e1erow10_col3\" class=\"data row10 col3\" >0.038</td>\n",
       "                        <td id=\"T_b622dae4_75bb_11e9_af5d_b953fc5a2e1erow10_col4\" class=\"data row10 col4\" >0.021</td>\n",
       "                        <td id=\"T_b622dae4_75bb_11e9_af5d_b953fc5a2e1erow10_col5\" class=\"data row10 col5\" >-0.0022</td>\n",
       "                        <td id=\"T_b622dae4_75bb_11e9_af5d_b953fc5a2e1erow10_col6\" class=\"data row10 col6\" >0.21</td>\n",
       "                        <td id=\"T_b622dae4_75bb_11e9_af5d_b953fc5a2e1erow10_col7\" class=\"data row10 col7\" >0.062</td>\n",
       "                        <td id=\"T_b622dae4_75bb_11e9_af5d_b953fc5a2e1erow10_col8\" class=\"data row10 col8\" >0.0039</td>\n",
       "                        <td id=\"T_b622dae4_75bb_11e9_af5d_b953fc5a2e1erow10_col9\" class=\"data row10 col9\" >-0.079</td>\n",
       "                        <td id=\"T_b622dae4_75bb_11e9_af5d_b953fc5a2e1erow10_col10\" class=\"data row10 col10\" >1</td>\n",
       "                        <td id=\"T_b622dae4_75bb_11e9_af5d_b953fc5a2e1erow10_col11\" class=\"data row10 col11\" >-0.42</td>\n",
       "                        <td id=\"T_b622dae4_75bb_11e9_af5d_b953fc5a2e1erow10_col12\" class=\"data row10 col12\" >-0.21</td>\n",
       "                        <td id=\"T_b622dae4_75bb_11e9_af5d_b953fc5a2e1erow10_col13\" class=\"data row10 col13\" >-0.05</td>\n",
       "                        <td id=\"T_b622dae4_75bb_11e9_af5d_b953fc5a2e1erow10_col14\" class=\"data row10 col14\" >-0.46</td>\n",
       "                        <td id=\"T_b622dae4_75bb_11e9_af5d_b953fc5a2e1erow10_col15\" class=\"data row10 col15\" >-0.5</td>\n",
       "                        <td id=\"T_b622dae4_75bb_11e9_af5d_b953fc5a2e1erow10_col16\" class=\"data row10 col16\" >0.23</td>\n",
       "            </tr>\n",
       "            <tr>\n",
       "                        <th id=\"T_b622dae4_75bb_11e9_af5d_b953fc5a2e1elevel0_row11\" class=\"row_heading level0 row11\" >emp.var.rate</th>\n",
       "                        <td id=\"T_b622dae4_75bb_11e9_af5d_b953fc5a2e1erow11_col0\" class=\"data row11 col0\" >-0.00032</td>\n",
       "                        <td id=\"T_b622dae4_75bb_11e9_af5d_b953fc5a2e1erow11_col1\" class=\"data row11 col1\" >0.081</td>\n",
       "                        <td id=\"T_b622dae4_75bb_11e9_af5d_b953fc5a2e1erow11_col2\" class=\"data row11 col2\" >0.048</td>\n",
       "                        <td id=\"T_b622dae4_75bb_11e9_af5d_b953fc5a2e1erow11_col3\" class=\"data row11 col3\" >-0.048</td>\n",
       "                        <td id=\"T_b622dae4_75bb_11e9_af5d_b953fc5a2e1erow11_col4\" class=\"data row11 col4\" >-0.059</td>\n",
       "                        <td id=\"T_b622dae4_75bb_11e9_af5d_b953fc5a2e1erow11_col5\" class=\"data row11 col5\" >0.0014</td>\n",
       "                        <td id=\"T_b622dae4_75bb_11e9_af5d_b953fc5a2e1erow11_col6\" class=\"data row11 col6\" >-0.39</td>\n",
       "                        <td id=\"T_b622dae4_75bb_11e9_af5d_b953fc5a2e1erow11_col7\" class=\"data row11 col7\" >0.06</td>\n",
       "                        <td id=\"T_b622dae4_75bb_11e9_af5d_b953fc5a2e1erow11_col8\" class=\"data row11 col8\" >-0.0044</td>\n",
       "                        <td id=\"T_b622dae4_75bb_11e9_af5d_b953fc5a2e1erow11_col9\" class=\"data row11 col9\" >0.15</td>\n",
       "                        <td id=\"T_b622dae4_75bb_11e9_af5d_b953fc5a2e1erow11_col10\" class=\"data row11 col10\" >-0.42</td>\n",
       "                        <td id=\"T_b622dae4_75bb_11e9_af5d_b953fc5a2e1erow11_col11\" class=\"data row11 col11\" >1</td>\n",
       "                        <td id=\"T_b622dae4_75bb_11e9_af5d_b953fc5a2e1erow11_col12\" class=\"data row11 col12\" >0.78</td>\n",
       "                        <td id=\"T_b622dae4_75bb_11e9_af5d_b953fc5a2e1erow11_col13\" class=\"data row11 col13\" >0.2</td>\n",
       "                        <td id=\"T_b622dae4_75bb_11e9_af5d_b953fc5a2e1erow11_col14\" class=\"data row11 col14\" >0.97</td>\n",
       "                        <td id=\"T_b622dae4_75bb_11e9_af5d_b953fc5a2e1erow11_col15\" class=\"data row11 col15\" >0.91</td>\n",
       "                        <td id=\"T_b622dae4_75bb_11e9_af5d_b953fc5a2e1erow11_col16\" class=\"data row11 col16\" >-0.3</td>\n",
       "            </tr>\n",
       "            <tr>\n",
       "                        <th id=\"T_b622dae4_75bb_11e9_af5d_b953fc5a2e1elevel0_row12\" class=\"row_heading level0 row12\" >cons.price.idx</th>\n",
       "                        <td id=\"T_b622dae4_75bb_11e9_af5d_b953fc5a2e1erow12_col0\" class=\"data row12 col0\" >0.00096</td>\n",
       "                        <td id=\"T_b622dae4_75bb_11e9_af5d_b953fc5a2e1erow12_col1\" class=\"data row12 col1\" >0.03</td>\n",
       "                        <td id=\"T_b622dae4_75bb_11e9_af5d_b953fc5a2e1erow12_col2\" class=\"data row12 col2\" >0.024</td>\n",
       "                        <td id=\"T_b622dae4_75bb_11e9_af5d_b953fc5a2e1erow12_col3\" class=\"data row12 col3\" >-0.087</td>\n",
       "                        <td id=\"T_b622dae4_75bb_11e9_af5d_b953fc5a2e1erow12_col4\" class=\"data row12 col4\" >-0.077</td>\n",
       "                        <td id=\"T_b622dae4_75bb_11e9_af5d_b953fc5a2e1erow12_col5\" class=\"data row12 col5\" >-0.0056</td>\n",
       "                        <td id=\"T_b622dae4_75bb_11e9_af5d_b953fc5a2e1erow12_col6\" class=\"data row12 col6\" >-0.59</td>\n",
       "                        <td id=\"T_b622dae4_75bb_11e9_af5d_b953fc5a2e1erow12_col7\" class=\"data row12 col7\" >-0.15</td>\n",
       "                        <td id=\"T_b622dae4_75bb_11e9_af5d_b953fc5a2e1erow12_col8\" class=\"data row12 col8\" >-0.0045</td>\n",
       "                        <td id=\"T_b622dae4_75bb_11e9_af5d_b953fc5a2e1erow12_col9\" class=\"data row12 col9\" >0.13</td>\n",
       "                        <td id=\"T_b622dae4_75bb_11e9_af5d_b953fc5a2e1erow12_col10\" class=\"data row12 col10\" >-0.21</td>\n",
       "                        <td id=\"T_b622dae4_75bb_11e9_af5d_b953fc5a2e1erow12_col11\" class=\"data row12 col11\" >0.78</td>\n",
       "                        <td id=\"T_b622dae4_75bb_11e9_af5d_b953fc5a2e1erow12_col12\" class=\"data row12 col12\" >1</td>\n",
       "                        <td id=\"T_b622dae4_75bb_11e9_af5d_b953fc5a2e1erow12_col13\" class=\"data row12 col13\" >0.059</td>\n",
       "                        <td id=\"T_b622dae4_75bb_11e9_af5d_b953fc5a2e1erow12_col14\" class=\"data row12 col14\" >0.69</td>\n",
       "                        <td id=\"T_b622dae4_75bb_11e9_af5d_b953fc5a2e1erow12_col15\" class=\"data row12 col15\" >0.52</td>\n",
       "                        <td id=\"T_b622dae4_75bb_11e9_af5d_b953fc5a2e1erow12_col16\" class=\"data row12 col16\" >-0.14</td>\n",
       "            </tr>\n",
       "            <tr>\n",
       "                        <th id=\"T_b622dae4_75bb_11e9_af5d_b953fc5a2e1elevel0_row13\" class=\"row_heading level0 row13\" >cons.conf.idx</th>\n",
       "                        <td id=\"T_b622dae4_75bb_11e9_af5d_b953fc5a2e1erow13_col0\" class=\"data row13 col0\" >0.13</td>\n",
       "                        <td id=\"T_b622dae4_75bb_11e9_af5d_b953fc5a2e1erow13_col1\" class=\"data row13 col1\" >-0.033</td>\n",
       "                        <td id=\"T_b622dae4_75bb_11e9_af5d_b953fc5a2e1erow13_col2\" class=\"data row13 col2\" >0.051</td>\n",
       "                        <td id=\"T_b622dae4_75bb_11e9_af5d_b953fc5a2e1erow13_col3\" class=\"data row13 col3\" >0.068</td>\n",
       "                        <td id=\"T_b622dae4_75bb_11e9_af5d_b953fc5a2e1erow13_col4\" class=\"data row13 col4\" >-0.032</td>\n",
       "                        <td id=\"T_b622dae4_75bb_11e9_af5d_b953fc5a2e1erow13_col5\" class=\"data row13 col5\" >-0.013</td>\n",
       "                        <td id=\"T_b622dae4_75bb_11e9_af5d_b953fc5a2e1erow13_col6\" class=\"data row13 col6\" >-0.25</td>\n",
       "                        <td id=\"T_b622dae4_75bb_11e9_af5d_b953fc5a2e1erow13_col7\" class=\"data row13 col7\" >0.27</td>\n",
       "                        <td id=\"T_b622dae4_75bb_11e9_af5d_b953fc5a2e1erow13_col8\" class=\"data row13 col8\" >-5.7e-05</td>\n",
       "                        <td id=\"T_b622dae4_75bb_11e9_af5d_b953fc5a2e1erow13_col9\" class=\"data row13 col9\" >-0.014</td>\n",
       "                        <td id=\"T_b622dae4_75bb_11e9_af5d_b953fc5a2e1erow13_col10\" class=\"data row13 col10\" >-0.05</td>\n",
       "                        <td id=\"T_b622dae4_75bb_11e9_af5d_b953fc5a2e1erow13_col11\" class=\"data row13 col11\" >0.2</td>\n",
       "                        <td id=\"T_b622dae4_75bb_11e9_af5d_b953fc5a2e1erow13_col12\" class=\"data row13 col12\" >0.059</td>\n",
       "                        <td id=\"T_b622dae4_75bb_11e9_af5d_b953fc5a2e1erow13_col13\" class=\"data row13 col13\" >1</td>\n",
       "                        <td id=\"T_b622dae4_75bb_11e9_af5d_b953fc5a2e1erow13_col14\" class=\"data row13 col14\" >0.28</td>\n",
       "                        <td id=\"T_b622dae4_75bb_11e9_af5d_b953fc5a2e1erow13_col15\" class=\"data row13 col15\" >0.1</td>\n",
       "                        <td id=\"T_b622dae4_75bb_11e9_af5d_b953fc5a2e1erow13_col16\" class=\"data row13 col16\" >0.055</td>\n",
       "            </tr>\n",
       "            <tr>\n",
       "                        <th id=\"T_b622dae4_75bb_11e9_af5d_b953fc5a2e1elevel0_row14\" class=\"row_heading level0 row14\" >euribor3m</th>\n",
       "                        <td id=\"T_b622dae4_75bb_11e9_af5d_b953fc5a2e1erow14_col0\" class=\"data row14 col0\" >0.011</td>\n",
       "                        <td id=\"T_b622dae4_75bb_11e9_af5d_b953fc5a2e1erow14_col1\" class=\"data row14 col1\" >0.073</td>\n",
       "                        <td id=\"T_b622dae4_75bb_11e9_af5d_b953fc5a2e1erow14_col2\" class=\"data row14 col2\" >0.054</td>\n",
       "                        <td id=\"T_b622dae4_75bb_11e9_af5d_b953fc5a2e1erow14_col3\" class=\"data row14 col3\" >-0.04</td>\n",
       "                        <td id=\"T_b622dae4_75bb_11e9_af5d_b953fc5a2e1erow14_col4\" class=\"data row14 col4\" >-0.058</td>\n",
       "                        <td id=\"T_b622dae4_75bb_11e9_af5d_b953fc5a2e1erow14_col5\" class=\"data row14 col5\" >-0.00049</td>\n",
       "                        <td id=\"T_b622dae4_75bb_11e9_af5d_b953fc5a2e1erow14_col6\" class=\"data row14 col6\" >-0.4</td>\n",
       "                        <td id=\"T_b622dae4_75bb_11e9_af5d_b953fc5a2e1erow14_col7\" class=\"data row14 col7\" >0.16</td>\n",
       "                        <td id=\"T_b622dae4_75bb_11e9_af5d_b953fc5a2e1erow14_col8\" class=\"data row14 col8\" >-0.0056</td>\n",
       "                        <td id=\"T_b622dae4_75bb_11e9_af5d_b953fc5a2e1erow14_col9\" class=\"data row14 col9\" >0.14</td>\n",
       "                        <td id=\"T_b622dae4_75bb_11e9_af5d_b953fc5a2e1erow14_col10\" class=\"data row14 col10\" >-0.46</td>\n",
       "                        <td id=\"T_b622dae4_75bb_11e9_af5d_b953fc5a2e1erow14_col11\" class=\"data row14 col11\" >0.97</td>\n",
       "                        <td id=\"T_b622dae4_75bb_11e9_af5d_b953fc5a2e1erow14_col12\" class=\"data row14 col12\" >0.69</td>\n",
       "                        <td id=\"T_b622dae4_75bb_11e9_af5d_b953fc5a2e1erow14_col13\" class=\"data row14 col13\" >0.28</td>\n",
       "                        <td id=\"T_b622dae4_75bb_11e9_af5d_b953fc5a2e1erow14_col14\" class=\"data row14 col14\" >1</td>\n",
       "                        <td id=\"T_b622dae4_75bb_11e9_af5d_b953fc5a2e1erow14_col15\" class=\"data row14 col15\" >0.95</td>\n",
       "                        <td id=\"T_b622dae4_75bb_11e9_af5d_b953fc5a2e1erow14_col16\" class=\"data row14 col16\" >-0.31</td>\n",
       "            </tr>\n",
       "            <tr>\n",
       "                        <th id=\"T_b622dae4_75bb_11e9_af5d_b953fc5a2e1elevel0_row15\" class=\"row_heading level0 row15\" >nr.employed</th>\n",
       "                        <td id=\"T_b622dae4_75bb_11e9_af5d_b953fc5a2e1erow15_col0\" class=\"data row15 col0\" >-0.018</td>\n",
       "                        <td id=\"T_b622dae4_75bb_11e9_af5d_b953fc5a2e1erow15_col1\" class=\"data row15 col1\" >0.093</td>\n",
       "                        <td id=\"T_b622dae4_75bb_11e9_af5d_b953fc5a2e1erow15_col2\" class=\"data row15 col2\" >0.05</td>\n",
       "                        <td id=\"T_b622dae4_75bb_11e9_af5d_b953fc5a2e1erow15_col3\" class=\"data row15 col3\" >-0.043</td>\n",
       "                        <td id=\"T_b622dae4_75bb_11e9_af5d_b953fc5a2e1erow15_col4\" class=\"data row15 col4\" >-0.045</td>\n",
       "                        <td id=\"T_b622dae4_75bb_11e9_af5d_b953fc5a2e1erow15_col5\" class=\"data row15 col5\" >0.0043</td>\n",
       "                        <td id=\"T_b622dae4_75bb_11e9_af5d_b953fc5a2e1erow15_col6\" class=\"data row15 col6\" >-0.27</td>\n",
       "                        <td id=\"T_b622dae4_75bb_11e9_af5d_b953fc5a2e1erow15_col7\" class=\"data row15 col7\" >0.13</td>\n",
       "                        <td id=\"T_b622dae4_75bb_11e9_af5d_b953fc5a2e1erow15_col8\" class=\"data row15 col8\" >-0.00072</td>\n",
       "                        <td id=\"T_b622dae4_75bb_11e9_af5d_b953fc5a2e1erow15_col9\" class=\"data row15 col9\" >0.14</td>\n",
       "                        <td id=\"T_b622dae4_75bb_11e9_af5d_b953fc5a2e1erow15_col10\" class=\"data row15 col10\" >-0.5</td>\n",
       "                        <td id=\"T_b622dae4_75bb_11e9_af5d_b953fc5a2e1erow15_col11\" class=\"data row15 col11\" >0.91</td>\n",
       "                        <td id=\"T_b622dae4_75bb_11e9_af5d_b953fc5a2e1erow15_col12\" class=\"data row15 col12\" >0.52</td>\n",
       "                        <td id=\"T_b622dae4_75bb_11e9_af5d_b953fc5a2e1erow15_col13\" class=\"data row15 col13\" >0.1</td>\n",
       "                        <td id=\"T_b622dae4_75bb_11e9_af5d_b953fc5a2e1erow15_col14\" class=\"data row15 col14\" >0.95</td>\n",
       "                        <td id=\"T_b622dae4_75bb_11e9_af5d_b953fc5a2e1erow15_col15\" class=\"data row15 col15\" >1</td>\n",
       "                        <td id=\"T_b622dae4_75bb_11e9_af5d_b953fc5a2e1erow15_col16\" class=\"data row15 col16\" >-0.35</td>\n",
       "            </tr>\n",
       "            <tr>\n",
       "                        <th id=\"T_b622dae4_75bb_11e9_af5d_b953fc5a2e1elevel0_row16\" class=\"row_heading level0 row16\" >y</th>\n",
       "                        <td id=\"T_b622dae4_75bb_11e9_af5d_b953fc5a2e1erow16_col0\" class=\"data row16 col0\" >0.03</td>\n",
       "                        <td id=\"T_b622dae4_75bb_11e9_af5d_b953fc5a2e1erow16_col1\" class=\"data row16 col1\" >-0.058</td>\n",
       "                        <td id=\"T_b622dae4_75bb_11e9_af5d_b953fc5a2e1erow16_col2\" class=\"data row16 col2\" >-0.026</td>\n",
       "                        <td id=\"T_b622dae4_75bb_11e9_af5d_b953fc5a2e1erow16_col3\" class=\"data row16 col3\" >0.056</td>\n",
       "                        <td id=\"T_b622dae4_75bb_11e9_af5d_b953fc5a2e1erow16_col4\" class=\"data row16 col4\" >0.011</td>\n",
       "                        <td id=\"T_b622dae4_75bb_11e9_af5d_b953fc5a2e1erow16_col5\" class=\"data row16 col5\" >-0.0045</td>\n",
       "                        <td id=\"T_b622dae4_75bb_11e9_af5d_b953fc5a2e1erow16_col6\" class=\"data row16 col6\" >0.14</td>\n",
       "                        <td id=\"T_b622dae4_75bb_11e9_af5d_b953fc5a2e1erow16_col7\" class=\"data row16 col7\" >0.037</td>\n",
       "                        <td id=\"T_b622dae4_75bb_11e9_af5d_b953fc5a2e1erow16_col8\" class=\"data row16 col8\" >0.01</td>\n",
       "                        <td id=\"T_b622dae4_75bb_11e9_af5d_b953fc5a2e1erow16_col9\" class=\"data row16 col9\" >-0.066</td>\n",
       "                        <td id=\"T_b622dae4_75bb_11e9_af5d_b953fc5a2e1erow16_col10\" class=\"data row16 col10\" >0.23</td>\n",
       "                        <td id=\"T_b622dae4_75bb_11e9_af5d_b953fc5a2e1erow16_col11\" class=\"data row16 col11\" >-0.3</td>\n",
       "                        <td id=\"T_b622dae4_75bb_11e9_af5d_b953fc5a2e1erow16_col12\" class=\"data row16 col12\" >-0.14</td>\n",
       "                        <td id=\"T_b622dae4_75bb_11e9_af5d_b953fc5a2e1erow16_col13\" class=\"data row16 col13\" >0.055</td>\n",
       "                        <td id=\"T_b622dae4_75bb_11e9_af5d_b953fc5a2e1erow16_col14\" class=\"data row16 col14\" >-0.31</td>\n",
       "                        <td id=\"T_b622dae4_75bb_11e9_af5d_b953fc5a2e1erow16_col15\" class=\"data row16 col15\" >-0.35</td>\n",
       "                        <td id=\"T_b622dae4_75bb_11e9_af5d_b953fc5a2e1erow16_col16\" class=\"data row16 col16\" >1</td>\n",
       "            </tr>\n",
       "    </tbody></table>"
      ],
      "text/plain": [
       "<pandas.io.formats.style.Styler at 0x7fddb74af320>"
      ]
     },
     "execution_count": 261,
     "metadata": {},
     "output_type": "execute_result"
    }
   ],
   "source": [
    "data_.corr().style.background_gradient(cmap='PuBu').set_precision(2)"
   ]
  },
  {
   "cell_type": "code",
   "execution_count": null,
   "metadata": {},
   "outputs": [],
   "source": []
  },
  {
   "cell_type": "markdown",
   "metadata": {},
   "source": [
    "# O que falta?\n",
    "- Dividir o conjunto em treino e teste\n",
    "- Padronizar os dados\n",
    "- Treinar o modelo\n",
    "- Fazer uma predição\n",
    "- Calcular\n",
    "    - Accuracy Score\n",
    "    - Precision Score\n",
    "    - Recall Score\n",
    "    - F1 Score\n",
    "    - mse\n",
    "    - rmse\n",
    "- Curva ROC"
   ]
  },
  {
   "cell_type": "code",
   "execution_count": null,
   "metadata": {},
   "outputs": [],
   "source": []
  }
 ],
 "metadata": {
  "kernelspec": {
   "display_name": "Python 3",
   "language": "python",
   "name": "python3"
  },
  "language_info": {
   "codemirror_mode": {
    "name": "ipython",
    "version": 3
   },
   "file_extension": ".py",
   "mimetype": "text/x-python",
   "name": "python",
   "nbconvert_exporter": "python",
   "pygments_lexer": "ipython3",
   "version": "3.7.3"
  }
 },
 "nbformat": 4,
 "nbformat_minor": 2
}
